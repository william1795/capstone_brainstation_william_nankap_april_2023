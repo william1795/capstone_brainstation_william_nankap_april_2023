{
 "cells": [
  {
   "cell_type": "markdown",
   "id": "ac33632b",
   "metadata": {},
   "source": [
    "<div id=\"container\" style=\"position:relative;\">\n",
    "<div style=\"float:left\"><h1>  Capstone Projects - William Nankap </h1></div>\n",
    "<div style=\"position:relative; float:right\"><img style=\"height:65px\" src =\"https://drive.google.com/uc?export=view&id=1EnB0x-fdqMp6I5iMoEBBEuxB_s7AmE2k\" />\n",
    "</div>\n",
    "</div>"
   ]
  },
  {
   "cell_type": "markdown",
   "id": "e9c10574",
   "metadata": {},
   "source": [
    "Bienvenue sur notre notebook. Nous allons travailler sur un ensemble de donnees contenant des messages echanges par un groupe de personne (etudiant, contributeur) sur la platforme Gitter.\n",
    "\n",
    "Le dataset a ete importe via ce lien https://www.kaggle.com/datasets/freecodecamp/all-posts-public-main-chatroom?select=freecodecamp_casual_chatroom_anon.csv.\n",
    "\n",
    "Plan de travail: https://docs.google.com/presentation/d/10xtITocBaQgZYtDw1yWe_FzQPgR7Je6EkNRv8IJVCPM/edit?usp=sharing\n",
    "\n"
   ]
  },
  {
   "cell_type": "markdown",
   "id": "4ccdfb36",
   "metadata": {},
   "source": [
    "# Summary\n",
    "\n",
    "   #### Introduction\n",
    "   #### 1. Data Loading\n",
    "   #### 2. Data cleaning\n",
    "   #### 3. Data exploring\n",
    "   #### 4. Model preparation\n",
    "   #### 5. Regression model\n",
    "   #### 6. NLP"
   ]
  },
  {
   "cell_type": "markdown",
   "id": "5da7636a",
   "metadata": {},
   "source": [
    "# Introduction"
   ]
  },
  {
   "cell_type": "markdown",
   "id": "dc4e8ba5",
   "metadata": {},
   "source": [
    "Nous allons nous fixer 2 objectifs business:\n",
    "   - Categoriser les differents mots presents dans notre dataset\n",
    "   - Creer un modele de prediction du prochain mot\n",
    "\n",
    "C'est sur ces objectifs que nous baserons notre recherche et notre exploration du dataset."
   ]
  },
  {
   "cell_type": "code",
   "execution_count": 1,
   "id": "cd01c2f8",
   "metadata": {},
   "outputs": [],
   "source": [
    "# We import all the librairies need for exploration, visualization and modeling\n",
    "\n",
    "import pandas as pd\n",
    "import numpy as np\n",
    "\n",
    "#\n",
    "# plotting\n",
    "import plotly.express as px\n",
    "from plotly.subplots import make_subplots\n",
    "import plotly.graph_objs as go\n",
    "import matplotlib.pyplot as plt\n",
    "import seaborn as sns\n",
    "\n",
    "\n",
    "from scipy import stats\n",
    "from statsmodels.stats import multicomp\n",
    "from scipy.stats import pearsonr\n",
    "import statsmodels.api as sm\n",
    "\n",
    "\n",
    "# from sklearn.linear_model import LinearRegression\n"
   ]
  },
  {
   "cell_type": "markdown",
   "id": "067697cd",
   "metadata": {},
   "source": [
    "# 1. Data Loading"
   ]
  },
  {
   "cell_type": "markdown",
   "id": "dd2f4374",
   "metadata": {},
   "source": [
    "After downloanding the .zip file from the link share above, we get 2 .csv files:\n",
    " - freecodecamp_casual_chatroom.csv\n",
    " - freecodecamp_casual_chatroom_anon.csv\n",
    "\n",
    "We will load both to see what it's inside, and try to understand and plan what to do with each file."
   ]
  },
  {
   "cell_type": "code",
   "execution_count": 2,
   "id": "3eb0b3c6",
   "metadata": {
    "scrolled": true
   },
   "outputs": [
    {
     "data": {
      "text/plain": [
       "(5057400, 26)"
      ]
     },
     "execution_count": 2,
     "metadata": {},
     "output_type": "execute_result"
    }
   ],
   "source": [
    "# Loading the file freecodecamp_casual_chatroom.csv into a dataframe\n",
    "freecodecamp_casual = pd.read_csv('archive/freecodecamp_casual_chatroom.csv', low_memory=False)\n",
    "\n",
    "#What's the shape of freecodecamp_casual\n",
    "freecodecamp_casual.shape"
   ]
  },
  {
   "cell_type": "markdown",
   "id": "8924305a",
   "metadata": {},
   "source": [
    "This file have `5057400 rows & 26 columns`."
   ]
  },
  {
   "cell_type": "code",
   "execution_count": 3,
   "id": "d40075b3",
   "metadata": {},
   "outputs": [],
   "source": [
    "# #What are the dtype for each columns\n",
    "# freecodecamp_casual.info()"
   ]
  },
  {
   "cell_type": "code",
   "execution_count": 4,
   "id": "07c8ae0d",
   "metadata": {},
   "outputs": [],
   "source": [
    "#We have 25columns and we want to see all of them clearly, so we set an option to pandas to display all columns\n",
    "pd.set_option('display.max_columns', None)\n",
    "\n",
    "#We take a look on the top 5 rows\n",
    "# freecodecamp_casual.head()"
   ]
  },
  {
   "cell_type": "markdown",
   "id": "22fb3436",
   "metadata": {},
   "source": [
    "**Important:** \n",
    "  - The column `sent` look like containing date inside but it's define as an object, we need to change that into **datetime.**\n",
    "  - The column `Unnamed: 0` look like an index, we will explore it to see if we can remove and use the initial index or not.\n",
    "  - We see some column containing `null values`, we will explore them more to decide what can be do for this null values.\n",
    "  - We see some column containing `[]`, we will explore them to decide how to deal with that. The mentions column contain array, we will investigate to see how to deal with that, maybe create dummy variable?\n",
    "  - The column `v` is not clearly define how to work with that?\n",
    "  - Some columns look like containing duplicated information:\n",
    "      - `html` vs `sent`\n",
    "      - `fromUser.url` vs `fromUser.username`\n",
    "      - `fromUser.v` vs `v`\n",
    "      - `fromUser.avatarUrlMedium` vs `fromUser.avatarUrlSmall`\n",
    "\n",
    "We will deal with all these questions/notes in part 2 of the work. But for a first observation, this dataset look like containing a lot of message coming from discussion between group of individu. The information which may be important for us could be the `text`, the `userid`, the `date`, the `status`, the `unread/read`, the `readers`.\n",
    "\n",
    "Before to go deeper into these dataset, we need to check to 2nd dataset."
   ]
  },
  {
   "cell_type": "code",
   "execution_count": 5,
   "id": "74257c6d",
   "metadata": {},
   "outputs": [],
   "source": [
    "# # Loading the file freecodecamp_casual_chatroom.csv into a dataframe\n",
    "# freecodecamp_anon = pd.read_csv('archive/freecodecamp_casual_chatroom_anon.csv', low_memory=False)\n",
    "\n",
    "# #What's the shape of freecodecamp_casual\n",
    "# freecodecamp_anon.shape"
   ]
  },
  {
   "cell_type": "markdown",
   "id": "e4777aa2",
   "metadata": {},
   "source": [
    "This file have `5057400 rows` & `19 columns.`\n",
    "It's the same number of rows as the first file but they differ only on column number."
   ]
  },
  {
   "cell_type": "code",
   "execution_count": 6,
   "id": "7e3e5ec5",
   "metadata": {
    "scrolled": false
   },
   "outputs": [],
   "source": [
    "# #What are the dtype for each columns\n",
    "# freecodecamp_anon.info()"
   ]
  },
  {
   "cell_type": "markdown",
   "id": "b8c6cb90",
   "metadata": {},
   "source": [
    "It's almost the same columns, we just notice 8 columns missing and 1 new column present.\n",
    "Missing columns:\n",
    "  - fromUser: float64\n",
    "  - fromUser.avatarUrl: object\n",
    "  - fromUser.avatarUrlMedium: object \n",
    "  - fromUser.avatarUrlSmall: object\n",
    "  - fromUser.displayName: object\n",
    "  - fromUser.url: object\n",
    "  - fromUser.username: object\n",
    "  - mentions: object \n",
    "\n",
    "New column:\n",
    "  - Index: int64\n",
    "  \n",
    "We will continue the exploration and see how to deal with that."
   ]
  },
  {
   "cell_type": "code",
   "execution_count": 7,
   "id": "33dedbc2",
   "metadata": {},
   "outputs": [],
   "source": [
    "# #We have 19columns and we want to see all of them clearly, so we set an option to pandas to display all columns\n",
    "# pd.set_option('display.max_columns', None)\n",
    "\n",
    "# #We take a look on the top 5 rows\n",
    "# freecodecamp_anon.head()"
   ]
  },
  {
   "cell_type": "code",
   "execution_count": 8,
   "id": "f5527079",
   "metadata": {},
   "outputs": [],
   "source": [
    "#We take a look on the last 5 rows from freecodecamp_casual\n",
    "# freecodecamp_casual.tail()"
   ]
  },
  {
   "cell_type": "code",
   "execution_count": 9,
   "id": "d03c2218",
   "metadata": {},
   "outputs": [],
   "source": [
    "#We take a look on the last 5 rows from freecodecamp_casual_anon\n",
    "# freecodecamp_anon.tail()"
   ]
  },
  {
   "cell_type": "markdown",
   "id": "9ca6f258",
   "metadata": {},
   "source": [
    "Look like the 5 first rows on `freecodecamp_casual_anon` file are really similary to the 5 first rows of the `freecodecamp_casual` file. Same thing with the last 5 rows for each. \n",
    "\n",
    "We will go to the assumptions that the second file is a copy of the firts but with less column.\n",
    "We will work on the first file `freecodecamp_casual.csv`."
   ]
  },
  {
   "cell_type": "markdown",
   "id": "69e597f3",
   "metadata": {},
   "source": [
    "# 2. Data Cleaning \n",
    "\n",
    "We are working on the file: **`freecodecamp_casual.csv`.** In the first overview of the file we saw:\n",
    "   - Null value inside\n",
    "   - Duplicates columns\n",
    "   - Error dtype\n",
    "\n",
    "Our `cleaning` step will consist to deal with that and everything else to have a proper dataset reading for work."
   ]
  },
  {
   "cell_type": "markdown",
   "id": "ebff69d9",
   "metadata": {},
   "source": [
    "#### Loading the file freecodecamp_casual_chatroom.csv into a dataframe\n",
    "freecodecamp_casual = pd.read_csv('archive/freecodecamp_casual_chatroom.csv', low_memory=False)"
   ]
  },
  {
   "cell_type": "code",
   "execution_count": 10,
   "id": "a36809f0",
   "metadata": {},
   "outputs": [
    {
     "data": {
      "text/html": [
       "<div>\n",
       "<style scoped>\n",
       "    .dataframe tbody tr th:only-of-type {\n",
       "        vertical-align: middle;\n",
       "    }\n",
       "\n",
       "    .dataframe tbody tr th {\n",
       "        vertical-align: top;\n",
       "    }\n",
       "\n",
       "    .dataframe thead th {\n",
       "        text-align: right;\n",
       "    }\n",
       "</style>\n",
       "<table border=\"1\" class=\"dataframe\">\n",
       "  <thead>\n",
       "    <tr style=\"text-align: right;\">\n",
       "      <th></th>\n",
       "      <th>Unnamed: 0</th>\n",
       "      <th>editedAt</th>\n",
       "      <th>fromUser</th>\n",
       "      <th>fromUser.avatarUrl</th>\n",
       "      <th>fromUser.avatarUrlMedium</th>\n",
       "      <th>fromUser.avatarUrlSmall</th>\n",
       "      <th>fromUser.displayName</th>\n",
       "      <th>fromUser.gv</th>\n",
       "      <th>fromUser.id</th>\n",
       "      <th>fromUser.removed</th>\n",
       "      <th>fromUser.staff</th>\n",
       "      <th>fromUser.url</th>\n",
       "      <th>fromUser.username</th>\n",
       "      <th>fromUser.v</th>\n",
       "      <th>html</th>\n",
       "      <th>id</th>\n",
       "      <th>issues</th>\n",
       "      <th>mentions</th>\n",
       "      <th>meta</th>\n",
       "      <th>readBy</th>\n",
       "      <th>sent</th>\n",
       "      <th>status</th>\n",
       "      <th>text</th>\n",
       "      <th>unread</th>\n",
       "      <th>urls</th>\n",
       "      <th>v</th>\n",
       "    </tr>\n",
       "  </thead>\n",
       "  <tbody>\n",
       "    <tr>\n",
       "      <th>0</th>\n",
       "      <td>0</td>\n",
       "      <td>NaN</td>\n",
       "      <td>NaN</td>\n",
       "      <td>NaN</td>\n",
       "      <td>https://avatars2.githubusercontent.com/u/21996...</td>\n",
       "      <td>https://avatars2.githubusercontent.com/u/21996...</td>\n",
       "      <td>Charles Watson</td>\n",
       "      <td>3.0</td>\n",
       "      <td>546fd99cdb8155e6700d6ec8</td>\n",
       "      <td>NaN</td>\n",
       "      <td>NaN</td>\n",
       "      <td>/sircharleswatson</td>\n",
       "      <td>sircharleswatson</td>\n",
       "      <td>1.0</td>\n",
       "      <td>no legumes either</td>\n",
       "      <td>54a4804fb2b2de4b786502bf</td>\n",
       "      <td>[]</td>\n",
       "      <td>[]</td>\n",
       "      <td>[]</td>\n",
       "      <td>22</td>\n",
       "      <td>2014-12-31T23:01:35.647Z</td>\n",
       "      <td>NaN</td>\n",
       "      <td>no legumes either</td>\n",
       "      <td>False</td>\n",
       "      <td>[]</td>\n",
       "      <td>1</td>\n",
       "    </tr>\n",
       "    <tr>\n",
       "      <th>1</th>\n",
       "      <td>1</td>\n",
       "      <td>NaN</td>\n",
       "      <td>NaN</td>\n",
       "      <td>NaN</td>\n",
       "      <td>https://avatars0.githubusercontent.com/u/10361...</td>\n",
       "      <td>https://avatars0.githubusercontent.com/u/10361...</td>\n",
       "      <td>janetwalters008</td>\n",
       "      <td>NaN</td>\n",
       "      <td>54a47e0cdb8155e6700e486e</td>\n",
       "      <td>NaN</td>\n",
       "      <td>NaN</td>\n",
       "      <td>/janetwalters008</td>\n",
       "      <td>janetwalters008</td>\n",
       "      <td>NaN</td>\n",
       "      <td>That bullet proof coffee sounds insane.</td>\n",
       "      <td>54a4809b9597baaa7dceceb0</td>\n",
       "      <td>[]</td>\n",
       "      <td>[]</td>\n",
       "      <td>[]</td>\n",
       "      <td>21</td>\n",
       "      <td>2014-12-31T23:02:51.600Z</td>\n",
       "      <td>NaN</td>\n",
       "      <td>That bullet proof coffee sounds insane.</td>\n",
       "      <td>False</td>\n",
       "      <td>[]</td>\n",
       "      <td>1</td>\n",
       "    </tr>\n",
       "    <tr>\n",
       "      <th>2</th>\n",
       "      <td>2</td>\n",
       "      <td>NaN</td>\n",
       "      <td>NaN</td>\n",
       "      <td>NaN</td>\n",
       "      <td>https://avatars0.githubusercontent.com/u/10361...</td>\n",
       "      <td>https://avatars0.githubusercontent.com/u/10361...</td>\n",
       "      <td>janetwalters008</td>\n",
       "      <td>NaN</td>\n",
       "      <td>54a47e0cdb8155e6700e486e</td>\n",
       "      <td>NaN</td>\n",
       "      <td>NaN</td>\n",
       "      <td>/janetwalters008</td>\n",
       "      <td>janetwalters008</td>\n",
       "      <td>NaN</td>\n",
       "      <td>That guy has huge eyes.</td>\n",
       "      <td>54a480b29597baaa7dceceb1</td>\n",
       "      <td>[]</td>\n",
       "      <td>[]</td>\n",
       "      <td>[]</td>\n",
       "      <td>21</td>\n",
       "      <td>2014-12-31T23:03:14.221Z</td>\n",
       "      <td>NaN</td>\n",
       "      <td>That guy has huge eyes.</td>\n",
       "      <td>False</td>\n",
       "      <td>[]</td>\n",
       "      <td>1</td>\n",
       "    </tr>\n",
       "    <tr>\n",
       "      <th>3</th>\n",
       "      <td>3</td>\n",
       "      <td>NaN</td>\n",
       "      <td>NaN</td>\n",
       "      <td>NaN</td>\n",
       "      <td>https://avatars2.githubusercontent.com/u/21996...</td>\n",
       "      <td>https://avatars2.githubusercontent.com/u/21996...</td>\n",
       "      <td>Charles Watson</td>\n",
       "      <td>3.0</td>\n",
       "      <td>546fd99cdb8155e6700d6ec8</td>\n",
       "      <td>NaN</td>\n",
       "      <td>NaN</td>\n",
       "      <td>/sircharleswatson</td>\n",
       "      <td>sircharleswatson</td>\n",
       "      <td>1.0</td>\n",
       "      <td>&lt;span data-link-type=\"mention\" data-screen-nam...</td>\n",
       "      <td>54a480b89597baaa7dceceb2</td>\n",
       "      <td>[]</td>\n",
       "      <td>[{'userIds': [], 'userId': '54a47e0cdb8155e670...</td>\n",
       "      <td>[]</td>\n",
       "      <td>22</td>\n",
       "      <td>2014-12-31T23:03:20.182Z</td>\n",
       "      <td>NaN</td>\n",
       "      <td>@janetwalters008 It is. but it works. some peo...</td>\n",
       "      <td>False</td>\n",
       "      <td>[]</td>\n",
       "      <td>1</td>\n",
       "    </tr>\n",
       "    <tr>\n",
       "      <th>4</th>\n",
       "      <td>4</td>\n",
       "      <td>NaN</td>\n",
       "      <td>NaN</td>\n",
       "      <td>NaN</td>\n",
       "      <td>https://avatars0.githubusercontent.com/u/42194...</td>\n",
       "      <td>https://avatars0.githubusercontent.com/u/42194...</td>\n",
       "      <td>Paul Gilliam</td>\n",
       "      <td>3.0</td>\n",
       "      <td>54a44bbbdb8155e6700e47de</td>\n",
       "      <td>NaN</td>\n",
       "      <td>NaN</td>\n",
       "      <td>/phgilliam</td>\n",
       "      <td>phgilliam</td>\n",
       "      <td>1.0</td>\n",
       "      <td>They guy that came up with the idea is kind of...</td>\n",
       "      <td>54a480ca9597baaa7dceceb5</td>\n",
       "      <td>[]</td>\n",
       "      <td>[]</td>\n",
       "      <td>[]</td>\n",
       "      <td>22</td>\n",
       "      <td>2014-12-31T23:03:38.388Z</td>\n",
       "      <td>NaN</td>\n",
       "      <td>They guy that came up with the idea is kind of...</td>\n",
       "      <td>False</td>\n",
       "      <td>[]</td>\n",
       "      <td>1</td>\n",
       "    </tr>\n",
       "  </tbody>\n",
       "</table>\n",
       "</div>"
      ],
      "text/plain": [
       "   Unnamed: 0 editedAt  fromUser fromUser.avatarUrl  \\\n",
       "0           0      NaN       NaN                NaN   \n",
       "1           1      NaN       NaN                NaN   \n",
       "2           2      NaN       NaN                NaN   \n",
       "3           3      NaN       NaN                NaN   \n",
       "4           4      NaN       NaN                NaN   \n",
       "\n",
       "                            fromUser.avatarUrlMedium  \\\n",
       "0  https://avatars2.githubusercontent.com/u/21996...   \n",
       "1  https://avatars0.githubusercontent.com/u/10361...   \n",
       "2  https://avatars0.githubusercontent.com/u/10361...   \n",
       "3  https://avatars2.githubusercontent.com/u/21996...   \n",
       "4  https://avatars0.githubusercontent.com/u/42194...   \n",
       "\n",
       "                             fromUser.avatarUrlSmall fromUser.displayName  \\\n",
       "0  https://avatars2.githubusercontent.com/u/21996...       Charles Watson   \n",
       "1  https://avatars0.githubusercontent.com/u/10361...      janetwalters008   \n",
       "2  https://avatars0.githubusercontent.com/u/10361...      janetwalters008   \n",
       "3  https://avatars2.githubusercontent.com/u/21996...       Charles Watson   \n",
       "4  https://avatars0.githubusercontent.com/u/42194...         Paul Gilliam   \n",
       "\n",
       "   fromUser.gv               fromUser.id fromUser.removed fromUser.staff  \\\n",
       "0          3.0  546fd99cdb8155e6700d6ec8              NaN            NaN   \n",
       "1          NaN  54a47e0cdb8155e6700e486e              NaN            NaN   \n",
       "2          NaN  54a47e0cdb8155e6700e486e              NaN            NaN   \n",
       "3          3.0  546fd99cdb8155e6700d6ec8              NaN            NaN   \n",
       "4          3.0  54a44bbbdb8155e6700e47de              NaN            NaN   \n",
       "\n",
       "        fromUser.url fromUser.username  fromUser.v  \\\n",
       "0  /sircharleswatson  sircharleswatson         1.0   \n",
       "1   /janetwalters008   janetwalters008         NaN   \n",
       "2   /janetwalters008   janetwalters008         NaN   \n",
       "3  /sircharleswatson  sircharleswatson         1.0   \n",
       "4         /phgilliam         phgilliam         1.0   \n",
       "\n",
       "                                                html  \\\n",
       "0                                  no legumes either   \n",
       "1            That bullet proof coffee sounds insane.   \n",
       "2                            That guy has huge eyes.   \n",
       "3  <span data-link-type=\"mention\" data-screen-nam...   \n",
       "4  They guy that came up with the idea is kind of...   \n",
       "\n",
       "                         id issues  \\\n",
       "0  54a4804fb2b2de4b786502bf     []   \n",
       "1  54a4809b9597baaa7dceceb0     []   \n",
       "2  54a480b29597baaa7dceceb1     []   \n",
       "3  54a480b89597baaa7dceceb2     []   \n",
       "4  54a480ca9597baaa7dceceb5     []   \n",
       "\n",
       "                                            mentions meta  readBy  \\\n",
       "0                                                 []   []      22   \n",
       "1                                                 []   []      21   \n",
       "2                                                 []   []      21   \n",
       "3  [{'userIds': [], 'userId': '54a47e0cdb8155e670...   []      22   \n",
       "4                                                 []   []      22   \n",
       "\n",
       "                       sent status  \\\n",
       "0  2014-12-31T23:01:35.647Z    NaN   \n",
       "1  2014-12-31T23:02:51.600Z    NaN   \n",
       "2  2014-12-31T23:03:14.221Z    NaN   \n",
       "3  2014-12-31T23:03:20.182Z    NaN   \n",
       "4  2014-12-31T23:03:38.388Z    NaN   \n",
       "\n",
       "                                                text  unread urls  v  \n",
       "0                                  no legumes either   False   []  1  \n",
       "1            That bullet proof coffee sounds insane.   False   []  1  \n",
       "2                            That guy has huge eyes.   False   []  1  \n",
       "3  @janetwalters008 It is. but it works. some peo...   False   []  1  \n",
       "4  They guy that came up with the idea is kind of...   False   []  1  "
      ]
     },
     "execution_count": 10,
     "metadata": {},
     "output_type": "execute_result"
    }
   ],
   "source": [
    "#An overview on our dataset\n",
    "freecodecamp_casual.head()"
   ]
  },
  {
   "cell_type": "markdown",
   "id": "d4d8de39",
   "metadata": {},
   "source": [
    "### Change dtype"
   ]
  },
  {
   "cell_type": "markdown",
   "id": "6433d84e",
   "metadata": {},
   "source": [
    "We will change the **dtype** of the `sent` column from `object` to `datetime`."
   ]
  },
  {
   "cell_type": "code",
   "execution_count": 11,
   "id": "8d626f6f",
   "metadata": {},
   "outputs": [
    {
     "data": {
      "text/plain": [
       "0         2014-12-31 23:01:35.647000+00:00\n",
       "1         2014-12-31 23:02:51.600000+00:00\n",
       "2         2014-12-31 23:03:14.221000+00:00\n",
       "3         2014-12-31 23:03:20.182000+00:00\n",
       "4         2014-12-31 23:03:38.388000+00:00\n",
       "                        ...               \n",
       "5057395   2017-12-09 11:25:08.516000+00:00\n",
       "5057396   2017-12-09 11:25:09.738000+00:00\n",
       "5057397   2017-12-09 11:25:20.024000+00:00\n",
       "5057398   2017-12-09 11:25:23.849000+00:00\n",
       "5057399   2017-12-09 11:25:51.849000+00:00\n",
       "Name: sent, Length: 5057400, dtype: datetime64[ns, UTC]"
      ]
     },
     "execution_count": 11,
     "metadata": {},
     "output_type": "execute_result"
    }
   ],
   "source": [
    "#Transform the dtype to datetime\n",
    "freecodecamp_casual['sent'] = pd.to_datetime(freecodecamp_casual['sent'])\n",
    "freecodecamp_casual['sent']"
   ]
  },
  {
   "cell_type": "code",
   "execution_count": 12,
   "id": "546e7176",
   "metadata": {},
   "outputs": [
    {
     "name": "stdout",
     "output_type": "stream",
     "text": [
      "<class 'pandas.core.frame.DataFrame'>\n",
      "RangeIndex: 5057400 entries, 0 to 5057399\n",
      "Data columns (total 26 columns):\n",
      " #   Column                    Dtype              \n",
      "---  ------                    -----              \n",
      " 0   Unnamed: 0                int64              \n",
      " 1   editedAt                  object             \n",
      " 2   fromUser                  float64            \n",
      " 3   fromUser.avatarUrl        object             \n",
      " 4   fromUser.avatarUrlMedium  object             \n",
      " 5   fromUser.avatarUrlSmall   object             \n",
      " 6   fromUser.displayName      object             \n",
      " 7   fromUser.gv               float64            \n",
      " 8   fromUser.id               object             \n",
      " 9   fromUser.removed          object             \n",
      " 10  fromUser.staff            object             \n",
      " 11  fromUser.url              object             \n",
      " 12  fromUser.username         object             \n",
      " 13  fromUser.v                float64            \n",
      " 14  html                      object             \n",
      " 15  id                        object             \n",
      " 16  issues                    object             \n",
      " 17  mentions                  object             \n",
      " 18  meta                      object             \n",
      " 19  readBy                    int64              \n",
      " 20  sent                      datetime64[ns, UTC]\n",
      " 21  status                    object             \n",
      " 22  text                      object             \n",
      " 23  unread                    bool               \n",
      " 24  urls                      object             \n",
      " 25  v                         int64              \n",
      "dtypes: bool(1), datetime64[ns, UTC](1), float64(3), int64(3), object(18)\n",
      "memory usage: 969.4+ MB\n"
     ]
    }
   ],
   "source": [
    "#sanity check\n",
    "freecodecamp_casual.info()"
   ]
  },
  {
   "cell_type": "markdown",
   "id": "aa737578",
   "metadata": {},
   "source": [
    "We confirm that the `sent` column has the correct **dtype.**\n",
    "\n",
    "It's look like the column `editedAt` refer to a date, so we'll look inside and deal with that."
   ]
  },
  {
   "cell_type": "code",
   "execution_count": 13,
   "id": "fb880867",
   "metadata": {},
   "outputs": [
    {
     "data": {
      "text/plain": [
       "count                       126394\n",
       "unique                      125175\n",
       "top       2017-03-03T00:58:58.714Z\n",
       "freq                             2\n",
       "Name: editedAt, dtype: object"
      ]
     },
     "execution_count": 13,
     "metadata": {},
     "output_type": "execute_result"
    }
   ],
   "source": [
    "#An overview on editedAt column\n",
    "freecodecamp_casual['editedAt'].describe()"
   ]
  },
  {
   "cell_type": "code",
   "execution_count": 14,
   "id": "0977a32d",
   "metadata": {},
   "outputs": [
    {
     "data": {
      "text/plain": [
       "4931006"
      ]
     },
     "execution_count": 14,
     "metadata": {},
     "output_type": "execute_result"
    }
   ],
   "source": [
    "#How many null value inside editedAt column\n",
    "freecodecamp_casual['editedAt'].isna().sum()"
   ]
  },
  {
   "cell_type": "markdown",
   "id": "0a1c70b1",
   "metadata": {},
   "source": [
    "Look like `editedAt` contain date but contain `4931006 null value ~ 97.5%` too, we will change the dtype from `object` to `datetime` and manage the null value later."
   ]
  },
  {
   "cell_type": "code",
   "execution_count": 15,
   "id": "a3730777",
   "metadata": {},
   "outputs": [
    {
     "data": {
      "text/plain": [
       "0         NaT\n",
       "1         NaT\n",
       "2         NaT\n",
       "3         NaT\n",
       "4         NaT\n",
       "           ..\n",
       "5057395   NaT\n",
       "5057396   NaT\n",
       "5057397   NaT\n",
       "5057398   NaT\n",
       "5057399   NaT\n",
       "Name: editedAt, Length: 5057400, dtype: datetime64[ns, UTC]"
      ]
     },
     "execution_count": 15,
     "metadata": {},
     "output_type": "execute_result"
    }
   ],
   "source": [
    "#Transform the dtype to datetime\n",
    "freecodecamp_casual['editedAt'] = pd.to_datetime(freecodecamp_casual['editedAt'])\n",
    "freecodecamp_casual['editedAt']"
   ]
  },
  {
   "cell_type": "code",
   "execution_count": 16,
   "id": "d3508225",
   "metadata": {
    "scrolled": false
   },
   "outputs": [
    {
     "name": "stdout",
     "output_type": "stream",
     "text": [
      "<class 'pandas.core.frame.DataFrame'>\n",
      "RangeIndex: 5057400 entries, 0 to 5057399\n",
      "Data columns (total 26 columns):\n",
      " #   Column                    Dtype              \n",
      "---  ------                    -----              \n",
      " 0   Unnamed: 0                int64              \n",
      " 1   editedAt                  datetime64[ns, UTC]\n",
      " 2   fromUser                  float64            \n",
      " 3   fromUser.avatarUrl        object             \n",
      " 4   fromUser.avatarUrlMedium  object             \n",
      " 5   fromUser.avatarUrlSmall   object             \n",
      " 6   fromUser.displayName      object             \n",
      " 7   fromUser.gv               float64            \n",
      " 8   fromUser.id               object             \n",
      " 9   fromUser.removed          object             \n",
      " 10  fromUser.staff            object             \n",
      " 11  fromUser.url              object             \n",
      " 12  fromUser.username         object             \n",
      " 13  fromUser.v                float64            \n",
      " 14  html                      object             \n",
      " 15  id                        object             \n",
      " 16  issues                    object             \n",
      " 17  mentions                  object             \n",
      " 18  meta                      object             \n",
      " 19  readBy                    int64              \n",
      " 20  sent                      datetime64[ns, UTC]\n",
      " 21  status                    object             \n",
      " 22  text                      object             \n",
      " 23  unread                    bool               \n",
      " 24  urls                      object             \n",
      " 25  v                         int64              \n",
      "dtypes: bool(1), datetime64[ns, UTC](2), float64(3), int64(3), object(17)\n",
      "memory usage: 969.4+ MB\n"
     ]
    }
   ],
   "source": [
    "#sanity check\n",
    "freecodecamp_casual.info()"
   ]
  },
  {
   "cell_type": "markdown",
   "id": "6443bcac",
   "metadata": {},
   "source": [
    "We confirm the change from `object` to `datetime` for the column `editedAt`."
   ]
  },
  {
   "cell_type": "markdown",
   "id": "d7c20963",
   "metadata": {},
   "source": [
    "We have finish to deal with **dtype** to change, then we go to the next step by treating `null value` now."
   ]
  },
  {
   "cell_type": "markdown",
   "id": "1fdb2d55",
   "metadata": {},
   "source": [
    "### Deal with Null Value"
   ]
  },
  {
   "cell_type": "markdown",
   "id": "812912ef",
   "metadata": {},
   "source": [
    "We will treat `null value` first by each column."
   ]
  },
  {
   "cell_type": "code",
   "execution_count": 17,
   "id": "4a1c7f77",
   "metadata": {},
   "outputs": [
    {
     "name": "stdout",
     "output_type": "stream",
     "text": [
      "editedAt have 4931006 null value\n",
      "fromUser have 5057400 null value\n",
      "fromUser.avatarUrl have 1828000 null value\n",
      "fromUser.avatarUrlMedium have 7 null value\n",
      "fromUser.avatarUrlSmall have 7 null value\n",
      "fromUser.displayName have 11 null value\n",
      "fromUser.gv have 31837 null value\n",
      "fromUser.id have 7 null value\n",
      "fromUser.removed have 5053990 null value\n",
      "fromUser.staff have 5057373 null value\n",
      "fromUser.url have 7 null value\n",
      "fromUser.username have 7 null value\n",
      "fromUser.v have 796555 null value\n",
      "html have 19845 null value\n",
      "status have 5041092 null value\n",
      "text have 19559 null value\n",
      "\n",
      " We have 16 columns which contains null value\n"
     ]
    }
   ],
   "source": [
    "#An overview on each column, which column contain null value?\n",
    "i = 0\n",
    "for col in freecodecamp_casual.columns:\n",
    "    sum_isna = freecodecamp_casual[col].isna().sum()\n",
    "    if sum_isna > 0:\n",
    "        i += 1\n",
    "        print(f'{col} have {sum_isna} null value')\n",
    "print(f'\\n We have {i} columns which contains null value')"
   ]
  },
  {
   "cell_type": "markdown",
   "id": "3b84e806",
   "metadata": {},
   "source": [
    "We will clean null value from these column:\n",
    "   - editedAt -  4931006 null value \n",
    "   - fromUser -  5057400 null value\n",
    "   - fromUser.avatarUrl  -  1828000 null value\n",
    "   - fromUser.avatarUrlMedium  -  7 null value\n",
    "   - fromUser.avatarUrlSmall  -  7 null value\n",
    "   - fromUser.displayName - 11 null value\n",
    "   - fromUser.gv - 31837 null value\n",
    "   - fromUser.id - 7 null value\n",
    "   - fromUser.removed - 5053990 null value\n",
    "   - fromUser.staff - 5057373 null value\n",
    "   - fromUser.url - 7 null value\n",
    "   - fromUser.username - 7 null value\n",
    "   - fromUser.v - 796555 null value\n",
    "   - html - 19845 null value\n",
    "   - status - 5041092 null value\n",
    "   - text - 19559 null value"
   ]
  },
  {
   "cell_type": "code",
   "execution_count": 18,
   "id": "dda821c4",
   "metadata": {},
   "outputs": [
    {
     "data": {
      "text/html": [
       "<div>\n",
       "<style scoped>\n",
       "    .dataframe tbody tr th:only-of-type {\n",
       "        vertical-align: middle;\n",
       "    }\n",
       "\n",
       "    .dataframe tbody tr th {\n",
       "        vertical-align: top;\n",
       "    }\n",
       "\n",
       "    .dataframe thead th {\n",
       "        text-align: right;\n",
       "    }\n",
       "</style>\n",
       "<table border=\"1\" class=\"dataframe\">\n",
       "  <thead>\n",
       "    <tr style=\"text-align: right;\">\n",
       "      <th></th>\n",
       "      <th>Unnamed: 0</th>\n",
       "      <th>editedAt</th>\n",
       "      <th>fromUser</th>\n",
       "      <th>fromUser.avatarUrl</th>\n",
       "      <th>fromUser.avatarUrlMedium</th>\n",
       "      <th>fromUser.avatarUrlSmall</th>\n",
       "      <th>fromUser.displayName</th>\n",
       "      <th>fromUser.gv</th>\n",
       "      <th>fromUser.id</th>\n",
       "      <th>fromUser.removed</th>\n",
       "      <th>fromUser.staff</th>\n",
       "      <th>fromUser.url</th>\n",
       "      <th>fromUser.username</th>\n",
       "      <th>fromUser.v</th>\n",
       "      <th>html</th>\n",
       "      <th>id</th>\n",
       "      <th>issues</th>\n",
       "      <th>mentions</th>\n",
       "      <th>meta</th>\n",
       "      <th>readBy</th>\n",
       "      <th>sent</th>\n",
       "      <th>status</th>\n",
       "      <th>text</th>\n",
       "      <th>unread</th>\n",
       "      <th>urls</th>\n",
       "      <th>v</th>\n",
       "    </tr>\n",
       "  </thead>\n",
       "  <tbody>\n",
       "    <tr>\n",
       "      <th>0</th>\n",
       "      <td>0</td>\n",
       "      <td>NaT</td>\n",
       "      <td>NaN</td>\n",
       "      <td>NaN</td>\n",
       "      <td>https://avatars2.githubusercontent.com/u/21996...</td>\n",
       "      <td>https://avatars2.githubusercontent.com/u/21996...</td>\n",
       "      <td>Charles Watson</td>\n",
       "      <td>3.0</td>\n",
       "      <td>546fd99cdb8155e6700d6ec8</td>\n",
       "      <td>NaN</td>\n",
       "      <td>NaN</td>\n",
       "      <td>/sircharleswatson</td>\n",
       "      <td>sircharleswatson</td>\n",
       "      <td>1.0</td>\n",
       "      <td>no legumes either</td>\n",
       "      <td>54a4804fb2b2de4b786502bf</td>\n",
       "      <td>[]</td>\n",
       "      <td>[]</td>\n",
       "      <td>[]</td>\n",
       "      <td>22</td>\n",
       "      <td>2014-12-31 23:01:35.647000+00:00</td>\n",
       "      <td>NaN</td>\n",
       "      <td>no legumes either</td>\n",
       "      <td>False</td>\n",
       "      <td>[]</td>\n",
       "      <td>1</td>\n",
       "    </tr>\n",
       "    <tr>\n",
       "      <th>1</th>\n",
       "      <td>1</td>\n",
       "      <td>NaT</td>\n",
       "      <td>NaN</td>\n",
       "      <td>NaN</td>\n",
       "      <td>https://avatars0.githubusercontent.com/u/10361...</td>\n",
       "      <td>https://avatars0.githubusercontent.com/u/10361...</td>\n",
       "      <td>janetwalters008</td>\n",
       "      <td>NaN</td>\n",
       "      <td>54a47e0cdb8155e6700e486e</td>\n",
       "      <td>NaN</td>\n",
       "      <td>NaN</td>\n",
       "      <td>/janetwalters008</td>\n",
       "      <td>janetwalters008</td>\n",
       "      <td>NaN</td>\n",
       "      <td>That bullet proof coffee sounds insane.</td>\n",
       "      <td>54a4809b9597baaa7dceceb0</td>\n",
       "      <td>[]</td>\n",
       "      <td>[]</td>\n",
       "      <td>[]</td>\n",
       "      <td>21</td>\n",
       "      <td>2014-12-31 23:02:51.600000+00:00</td>\n",
       "      <td>NaN</td>\n",
       "      <td>That bullet proof coffee sounds insane.</td>\n",
       "      <td>False</td>\n",
       "      <td>[]</td>\n",
       "      <td>1</td>\n",
       "    </tr>\n",
       "    <tr>\n",
       "      <th>2</th>\n",
       "      <td>2</td>\n",
       "      <td>NaT</td>\n",
       "      <td>NaN</td>\n",
       "      <td>NaN</td>\n",
       "      <td>https://avatars0.githubusercontent.com/u/10361...</td>\n",
       "      <td>https://avatars0.githubusercontent.com/u/10361...</td>\n",
       "      <td>janetwalters008</td>\n",
       "      <td>NaN</td>\n",
       "      <td>54a47e0cdb8155e6700e486e</td>\n",
       "      <td>NaN</td>\n",
       "      <td>NaN</td>\n",
       "      <td>/janetwalters008</td>\n",
       "      <td>janetwalters008</td>\n",
       "      <td>NaN</td>\n",
       "      <td>That guy has huge eyes.</td>\n",
       "      <td>54a480b29597baaa7dceceb1</td>\n",
       "      <td>[]</td>\n",
       "      <td>[]</td>\n",
       "      <td>[]</td>\n",
       "      <td>21</td>\n",
       "      <td>2014-12-31 23:03:14.221000+00:00</td>\n",
       "      <td>NaN</td>\n",
       "      <td>That guy has huge eyes.</td>\n",
       "      <td>False</td>\n",
       "      <td>[]</td>\n",
       "      <td>1</td>\n",
       "    </tr>\n",
       "    <tr>\n",
       "      <th>3</th>\n",
       "      <td>3</td>\n",
       "      <td>NaT</td>\n",
       "      <td>NaN</td>\n",
       "      <td>NaN</td>\n",
       "      <td>https://avatars2.githubusercontent.com/u/21996...</td>\n",
       "      <td>https://avatars2.githubusercontent.com/u/21996...</td>\n",
       "      <td>Charles Watson</td>\n",
       "      <td>3.0</td>\n",
       "      <td>546fd99cdb8155e6700d6ec8</td>\n",
       "      <td>NaN</td>\n",
       "      <td>NaN</td>\n",
       "      <td>/sircharleswatson</td>\n",
       "      <td>sircharleswatson</td>\n",
       "      <td>1.0</td>\n",
       "      <td>&lt;span data-link-type=\"mention\" data-screen-nam...</td>\n",
       "      <td>54a480b89597baaa7dceceb2</td>\n",
       "      <td>[]</td>\n",
       "      <td>[{'userIds': [], 'userId': '54a47e0cdb8155e670...</td>\n",
       "      <td>[]</td>\n",
       "      <td>22</td>\n",
       "      <td>2014-12-31 23:03:20.182000+00:00</td>\n",
       "      <td>NaN</td>\n",
       "      <td>@janetwalters008 It is. but it works. some peo...</td>\n",
       "      <td>False</td>\n",
       "      <td>[]</td>\n",
       "      <td>1</td>\n",
       "    </tr>\n",
       "    <tr>\n",
       "      <th>4</th>\n",
       "      <td>4</td>\n",
       "      <td>NaT</td>\n",
       "      <td>NaN</td>\n",
       "      <td>NaN</td>\n",
       "      <td>https://avatars0.githubusercontent.com/u/42194...</td>\n",
       "      <td>https://avatars0.githubusercontent.com/u/42194...</td>\n",
       "      <td>Paul Gilliam</td>\n",
       "      <td>3.0</td>\n",
       "      <td>54a44bbbdb8155e6700e47de</td>\n",
       "      <td>NaN</td>\n",
       "      <td>NaN</td>\n",
       "      <td>/phgilliam</td>\n",
       "      <td>phgilliam</td>\n",
       "      <td>1.0</td>\n",
       "      <td>They guy that came up with the idea is kind of...</td>\n",
       "      <td>54a480ca9597baaa7dceceb5</td>\n",
       "      <td>[]</td>\n",
       "      <td>[]</td>\n",
       "      <td>[]</td>\n",
       "      <td>22</td>\n",
       "      <td>2014-12-31 23:03:38.388000+00:00</td>\n",
       "      <td>NaN</td>\n",
       "      <td>They guy that came up with the idea is kind of...</td>\n",
       "      <td>False</td>\n",
       "      <td>[]</td>\n",
       "      <td>1</td>\n",
       "    </tr>\n",
       "  </tbody>\n",
       "</table>\n",
       "</div>"
      ],
      "text/plain": [
       "   Unnamed: 0 editedAt  fromUser fromUser.avatarUrl  \\\n",
       "0           0      NaT       NaN                NaN   \n",
       "1           1      NaT       NaN                NaN   \n",
       "2           2      NaT       NaN                NaN   \n",
       "3           3      NaT       NaN                NaN   \n",
       "4           4      NaT       NaN                NaN   \n",
       "\n",
       "                            fromUser.avatarUrlMedium  \\\n",
       "0  https://avatars2.githubusercontent.com/u/21996...   \n",
       "1  https://avatars0.githubusercontent.com/u/10361...   \n",
       "2  https://avatars0.githubusercontent.com/u/10361...   \n",
       "3  https://avatars2.githubusercontent.com/u/21996...   \n",
       "4  https://avatars0.githubusercontent.com/u/42194...   \n",
       "\n",
       "                             fromUser.avatarUrlSmall fromUser.displayName  \\\n",
       "0  https://avatars2.githubusercontent.com/u/21996...       Charles Watson   \n",
       "1  https://avatars0.githubusercontent.com/u/10361...      janetwalters008   \n",
       "2  https://avatars0.githubusercontent.com/u/10361...      janetwalters008   \n",
       "3  https://avatars2.githubusercontent.com/u/21996...       Charles Watson   \n",
       "4  https://avatars0.githubusercontent.com/u/42194...         Paul Gilliam   \n",
       "\n",
       "   fromUser.gv               fromUser.id fromUser.removed fromUser.staff  \\\n",
       "0          3.0  546fd99cdb8155e6700d6ec8              NaN            NaN   \n",
       "1          NaN  54a47e0cdb8155e6700e486e              NaN            NaN   \n",
       "2          NaN  54a47e0cdb8155e6700e486e              NaN            NaN   \n",
       "3          3.0  546fd99cdb8155e6700d6ec8              NaN            NaN   \n",
       "4          3.0  54a44bbbdb8155e6700e47de              NaN            NaN   \n",
       "\n",
       "        fromUser.url fromUser.username  fromUser.v  \\\n",
       "0  /sircharleswatson  sircharleswatson         1.0   \n",
       "1   /janetwalters008   janetwalters008         NaN   \n",
       "2   /janetwalters008   janetwalters008         NaN   \n",
       "3  /sircharleswatson  sircharleswatson         1.0   \n",
       "4         /phgilliam         phgilliam         1.0   \n",
       "\n",
       "                                                html  \\\n",
       "0                                  no legumes either   \n",
       "1            That bullet proof coffee sounds insane.   \n",
       "2                            That guy has huge eyes.   \n",
       "3  <span data-link-type=\"mention\" data-screen-nam...   \n",
       "4  They guy that came up with the idea is kind of...   \n",
       "\n",
       "                         id issues  \\\n",
       "0  54a4804fb2b2de4b786502bf     []   \n",
       "1  54a4809b9597baaa7dceceb0     []   \n",
       "2  54a480b29597baaa7dceceb1     []   \n",
       "3  54a480b89597baaa7dceceb2     []   \n",
       "4  54a480ca9597baaa7dceceb5     []   \n",
       "\n",
       "                                            mentions meta  readBy  \\\n",
       "0                                                 []   []      22   \n",
       "1                                                 []   []      21   \n",
       "2                                                 []   []      21   \n",
       "3  [{'userIds': [], 'userId': '54a47e0cdb8155e670...   []      22   \n",
       "4                                                 []   []      22   \n",
       "\n",
       "                              sent status  \\\n",
       "0 2014-12-31 23:01:35.647000+00:00    NaN   \n",
       "1 2014-12-31 23:02:51.600000+00:00    NaN   \n",
       "2 2014-12-31 23:03:14.221000+00:00    NaN   \n",
       "3 2014-12-31 23:03:20.182000+00:00    NaN   \n",
       "4 2014-12-31 23:03:38.388000+00:00    NaN   \n",
       "\n",
       "                                                text  unread urls  v  \n",
       "0                                  no legumes either   False   []  1  \n",
       "1            That bullet proof coffee sounds insane.   False   []  1  \n",
       "2                            That guy has huge eyes.   False   []  1  \n",
       "3  @janetwalters008 It is. but it works. some peo...   False   []  1  \n",
       "4  They guy that came up with the idea is kind of...   False   []  1  "
      ]
     },
     "execution_count": 18,
     "metadata": {},
     "output_type": "execute_result"
    }
   ],
   "source": [
    "#First we make a copy of our dataset, and we will work on it.\n",
    "clean_freecodecamp_casual = freecodecamp_casual.copy()\n",
    "\n",
    "#sanity check\n",
    "clean_freecodecamp_casual.head()"
   ]
  },
  {
   "cell_type": "markdown",
   "id": "64ec12b2",
   "metadata": {},
   "source": [
    "#### Column: fromUser - 5057400 null value\n",
    "\n",
    "It's look like there is nothing inside the `fromUser` column, because we have as much `null value` as `number of rows`."
   ]
  },
  {
   "cell_type": "code",
   "execution_count": 19,
   "id": "f7a334f4",
   "metadata": {},
   "outputs": [
    {
     "data": {
      "text/plain": [
       "Series([], Name: fromUser, dtype: int64)"
      ]
     },
     "execution_count": 19,
     "metadata": {},
     "output_type": "execute_result"
    }
   ],
   "source": [
    "#Verification of assumptions\n",
    "clean_freecodecamp_casual['fromUser'].value_counts()"
   ]
  },
  {
   "cell_type": "markdown",
   "id": "5dd1157f",
   "metadata": {},
   "source": [
    "There is nothing inside this column so we choose to delete it."
   ]
  },
  {
   "cell_type": "code",
   "execution_count": 20,
   "id": "575a3e74",
   "metadata": {
    "scrolled": false
   },
   "outputs": [
    {
     "name": "stdout",
     "output_type": "stream",
     "text": [
      "<class 'pandas.core.frame.DataFrame'>\n",
      "RangeIndex: 5057400 entries, 0 to 5057399\n",
      "Data columns (total 25 columns):\n",
      " #   Column                    Dtype              \n",
      "---  ------                    -----              \n",
      " 0   Unnamed: 0                int64              \n",
      " 1   editedAt                  datetime64[ns, UTC]\n",
      " 2   fromUser.avatarUrl        object             \n",
      " 3   fromUser.avatarUrlMedium  object             \n",
      " 4   fromUser.avatarUrlSmall   object             \n",
      " 5   fromUser.displayName      object             \n",
      " 6   fromUser.gv               float64            \n",
      " 7   fromUser.id               object             \n",
      " 8   fromUser.removed          object             \n",
      " 9   fromUser.staff            object             \n",
      " 10  fromUser.url              object             \n",
      " 11  fromUser.username         object             \n",
      " 12  fromUser.v                float64            \n",
      " 13  html                      object             \n",
      " 14  id                        object             \n",
      " 15  issues                    object             \n",
      " 16  mentions                  object             \n",
      " 17  meta                      object             \n",
      " 18  readBy                    int64              \n",
      " 19  sent                      datetime64[ns, UTC]\n",
      " 20  status                    object             \n",
      " 21  text                      object             \n",
      " 22  unread                    bool               \n",
      " 23  urls                      object             \n",
      " 24  v                         int64              \n",
      "dtypes: bool(1), datetime64[ns, UTC](2), float64(2), int64(3), object(17)\n",
      "memory usage: 930.9+ MB\n"
     ]
    }
   ],
   "source": [
    "#Delete fromUser column\n",
    "clean_freecodecamp_casual = clean_freecodecamp_casual.drop(columns=['fromUser'])\n",
    "\n",
    "#sanity check\n",
    "clean_freecodecamp_casual.info()"
   ]
  },
  {
   "cell_type": "markdown",
   "id": "2bed59dc",
   "metadata": {},
   "source": [
    "#### Column where number of null value < 100\n",
    "Those columns are:\n",
    "- fromUser.avatarUrlMedium - 7 null value\n",
    "- fromUser.avatarUrlSmall - 7 null value\n",
    "- fromUser.displayName - 11 null value\n",
    "- fromUser.id - 7 null value\n",
    "- fromUser.url - 7 null value\n",
    "- fromUser.username - 7 null value\n",
    "\n",
    "We will see what is inside, check if it's possible to put a random value oderwise delete them."
   ]
  },
  {
   "cell_type": "code",
   "execution_count": 21,
   "id": "0c405841",
   "metadata": {
    "scrolled": false
   },
   "outputs": [
    {
     "data": {
      "text/html": [
       "<div>\n",
       "<style scoped>\n",
       "    .dataframe tbody tr th:only-of-type {\n",
       "        vertical-align: middle;\n",
       "    }\n",
       "\n",
       "    .dataframe tbody tr th {\n",
       "        vertical-align: top;\n",
       "    }\n",
       "\n",
       "    .dataframe thead th {\n",
       "        text-align: right;\n",
       "    }\n",
       "</style>\n",
       "<table border=\"1\" class=\"dataframe\">\n",
       "  <thead>\n",
       "    <tr style=\"text-align: right;\">\n",
       "      <th></th>\n",
       "      <th>Unnamed: 0</th>\n",
       "      <th>editedAt</th>\n",
       "      <th>fromUser.avatarUrl</th>\n",
       "      <th>fromUser.avatarUrlMedium</th>\n",
       "      <th>fromUser.avatarUrlSmall</th>\n",
       "      <th>fromUser.displayName</th>\n",
       "      <th>fromUser.gv</th>\n",
       "      <th>fromUser.id</th>\n",
       "      <th>fromUser.removed</th>\n",
       "      <th>fromUser.staff</th>\n",
       "      <th>fromUser.url</th>\n",
       "      <th>fromUser.username</th>\n",
       "      <th>fromUser.v</th>\n",
       "      <th>html</th>\n",
       "      <th>id</th>\n",
       "      <th>issues</th>\n",
       "      <th>mentions</th>\n",
       "      <th>meta</th>\n",
       "      <th>readBy</th>\n",
       "      <th>sent</th>\n",
       "      <th>status</th>\n",
       "      <th>text</th>\n",
       "      <th>unread</th>\n",
       "      <th>urls</th>\n",
       "      <th>v</th>\n",
       "    </tr>\n",
       "  </thead>\n",
       "  <tbody>\n",
       "    <tr>\n",
       "      <th>101</th>\n",
       "      <td>101</td>\n",
       "      <td>NaT</td>\n",
       "      <td>NaN</td>\n",
       "      <td>NaN</td>\n",
       "      <td>NaN</td>\n",
       "      <td>NaN</td>\n",
       "      <td>NaN</td>\n",
       "      <td>NaN</td>\n",
       "      <td>NaN</td>\n",
       "      <td>NaN</td>\n",
       "      <td>NaN</td>\n",
       "      <td>NaN</td>\n",
       "      <td>NaN</td>\n",
       "      <td>hello world!</td>\n",
       "      <td>54a4a0de29aec36b6af1c0ef</td>\n",
       "      <td>[]</td>\n",
       "      <td>[]</td>\n",
       "      <td>[]</td>\n",
       "      <td>16</td>\n",
       "      <td>2015-01-01 01:20:30.403000+00:00</td>\n",
       "      <td>NaN</td>\n",
       "      <td>hello world!</td>\n",
       "      <td>False</td>\n",
       "      <td>[]</td>\n",
       "      <td>1</td>\n",
       "    </tr>\n",
       "    <tr>\n",
       "      <th>106</th>\n",
       "      <td>106</td>\n",
       "      <td>NaT</td>\n",
       "      <td>NaN</td>\n",
       "      <td>NaN</td>\n",
       "      <td>NaN</td>\n",
       "      <td>NaN</td>\n",
       "      <td>NaN</td>\n",
       "      <td>NaN</td>\n",
       "      <td>NaN</td>\n",
       "      <td>NaN</td>\n",
       "      <td>NaN</td>\n",
       "      <td>NaN</td>\n",
       "      <td>NaN</td>\n",
       "      <td>Thanks &lt;span data-link-type=\"mention\" data-scr...</td>\n",
       "      <td>54a4a1499597baaa7dced08d</td>\n",
       "      <td>[]</td>\n",
       "      <td>[{'userIds': [], 'userId': '546fc9f1db8155e670...</td>\n",
       "      <td>[]</td>\n",
       "      <td>17</td>\n",
       "      <td>2015-01-01 01:22:17.160000+00:00</td>\n",
       "      <td>NaN</td>\n",
       "      <td>Thanks @QuincyLarson :)</td>\n",
       "      <td>False</td>\n",
       "      <td>[]</td>\n",
       "      <td>1</td>\n",
       "    </tr>\n",
       "    <tr>\n",
       "      <th>110</th>\n",
       "      <td>110</td>\n",
       "      <td>NaT</td>\n",
       "      <td>NaN</td>\n",
       "      <td>NaN</td>\n",
       "      <td>NaN</td>\n",
       "      <td>NaN</td>\n",
       "      <td>NaN</td>\n",
       "      <td>NaN</td>\n",
       "      <td>NaN</td>\n",
       "      <td>NaN</td>\n",
       "      <td>NaN</td>\n",
       "      <td>NaN</td>\n",
       "      <td>NaN</td>\n",
       "      <td>I&amp;#39;ve found Free Code Camp in reddit and I ...</td>\n",
       "      <td>54a4a22b9597baaa7dced099</td>\n",
       "      <td>[]</td>\n",
       "      <td>[]</td>\n",
       "      <td>[]</td>\n",
       "      <td>17</td>\n",
       "      <td>2015-01-01 01:26:03.133000+00:00</td>\n",
       "      <td>NaN</td>\n",
       "      <td>I've found Free Code Camp in reddit and I alre...</td>\n",
       "      <td>False</td>\n",
       "      <td>[]</td>\n",
       "      <td>1</td>\n",
       "    </tr>\n",
       "    <tr>\n",
       "      <th>126</th>\n",
       "      <td>126</td>\n",
       "      <td>NaT</td>\n",
       "      <td>NaN</td>\n",
       "      <td>NaN</td>\n",
       "      <td>NaN</td>\n",
       "      <td>NaN</td>\n",
       "      <td>NaN</td>\n",
       "      <td>NaN</td>\n",
       "      <td>NaN</td>\n",
       "      <td>NaN</td>\n",
       "      <td>NaN</td>\n",
       "      <td>NaN</td>\n",
       "      <td>NaN</td>\n",
       "      <td>&lt;span data-link-type=\"mention\" data-screen-nam...</td>\n",
       "      <td>54a4a39229aec36b6af1c110</td>\n",
       "      <td>[]</td>\n",
       "      <td>[{'userIds': [], 'userId': '546fc9f1db8155e670...</td>\n",
       "      <td>[]</td>\n",
       "      <td>20</td>\n",
       "      <td>2015-01-01 01:32:02.517000+00:00</td>\n",
       "      <td>NaN</td>\n",
       "      <td>@QuincyLarson No problem. I work as a native m...</td>\n",
       "      <td>False</td>\n",
       "      <td>[]</td>\n",
       "      <td>1</td>\n",
       "    </tr>\n",
       "    <tr>\n",
       "      <th>22983</th>\n",
       "      <td>22983</td>\n",
       "      <td>2015-01-15 21:45:35.640000+00:00</td>\n",
       "      <td>NaN</td>\n",
       "      <td>NaN</td>\n",
       "      <td>NaN</td>\n",
       "      <td>NaN</td>\n",
       "      <td>NaN</td>\n",
       "      <td>NaN</td>\n",
       "      <td>NaN</td>\n",
       "      <td>NaN</td>\n",
       "      <td>NaN</td>\n",
       "      <td>NaN</td>\n",
       "      <td>NaN</td>\n",
       "      <td>NaN</td>\n",
       "      <td>54b834fa723506dd0c0edf6b</td>\n",
       "      <td>[]</td>\n",
       "      <td>[]</td>\n",
       "      <td>[]</td>\n",
       "      <td>21</td>\n",
       "      <td>2015-01-15 21:45:30.474000+00:00</td>\n",
       "      <td>NaN</td>\n",
       "      <td>NaN</td>\n",
       "      <td>False</td>\n",
       "      <td>[]</td>\n",
       "      <td>2</td>\n",
       "    </tr>\n",
       "    <tr>\n",
       "      <th>22988</th>\n",
       "      <td>22988</td>\n",
       "      <td>NaT</td>\n",
       "      <td>NaN</td>\n",
       "      <td>NaN</td>\n",
       "      <td>NaN</td>\n",
       "      <td>NaN</td>\n",
       "      <td>NaN</td>\n",
       "      <td>NaN</td>\n",
       "      <td>NaN</td>\n",
       "      <td>NaN</td>\n",
       "      <td>NaN</td>\n",
       "      <td>NaN</td>\n",
       "      <td>NaN</td>\n",
       "      <td>&lt;span data-link-type=\"mention\" data-screen-nam...</td>\n",
       "      <td>54b83523573df0f923453022</td>\n",
       "      <td>[]</td>\n",
       "      <td>[{'userIds': [], 'userId': '54aaf442db8155e670...</td>\n",
       "      <td>[]</td>\n",
       "      <td>19</td>\n",
       "      <td>2015-01-15 21:46:11.499000+00:00</td>\n",
       "      <td>NaN</td>\n",
       "      <td>@ESOComputing just testing how Gitter looks in...</td>\n",
       "      <td>False</td>\n",
       "      <td>[]</td>\n",
       "      <td>1</td>\n",
       "    </tr>\n",
       "    <tr>\n",
       "      <th>83004</th>\n",
       "      <td>83004</td>\n",
       "      <td>NaT</td>\n",
       "      <td>NaN</td>\n",
       "      <td>NaN</td>\n",
       "      <td>NaN</td>\n",
       "      <td>NaN</td>\n",
       "      <td>NaN</td>\n",
       "      <td>NaN</td>\n",
       "      <td>NaN</td>\n",
       "      <td>NaN</td>\n",
       "      <td>NaN</td>\n",
       "      <td>NaN</td>\n",
       "      <td>NaN</td>\n",
       "      <td>Quincy&amp;#39;s streaming on Twitch right now if ...</td>\n",
       "      <td>54e57fe0c8e106d730ca19d8</td>\n",
       "      <td>[]</td>\n",
       "      <td>[]</td>\n",
       "      <td>[]</td>\n",
       "      <td>17</td>\n",
       "      <td>2015-02-19 06:17:04.992000+00:00</td>\n",
       "      <td>NaN</td>\n",
       "      <td>Quincy's streaming on Twitch right now if you ...</td>\n",
       "      <td>False</td>\n",
       "      <td>[{'url': 'http://www.twitch.tv/freecodecamp'}]</td>\n",
       "      <td>1</td>\n",
       "    </tr>\n",
       "  </tbody>\n",
       "</table>\n",
       "</div>"
      ],
      "text/plain": [
       "       Unnamed: 0                         editedAt fromUser.avatarUrl  \\\n",
       "101           101                              NaT                NaN   \n",
       "106           106                              NaT                NaN   \n",
       "110           110                              NaT                NaN   \n",
       "126           126                              NaT                NaN   \n",
       "22983       22983 2015-01-15 21:45:35.640000+00:00                NaN   \n",
       "22988       22988                              NaT                NaN   \n",
       "83004       83004                              NaT                NaN   \n",
       "\n",
       "      fromUser.avatarUrlMedium fromUser.avatarUrlSmall fromUser.displayName  \\\n",
       "101                        NaN                     NaN                  NaN   \n",
       "106                        NaN                     NaN                  NaN   \n",
       "110                        NaN                     NaN                  NaN   \n",
       "126                        NaN                     NaN                  NaN   \n",
       "22983                      NaN                     NaN                  NaN   \n",
       "22988                      NaN                     NaN                  NaN   \n",
       "83004                      NaN                     NaN                  NaN   \n",
       "\n",
       "       fromUser.gv fromUser.id fromUser.removed fromUser.staff fromUser.url  \\\n",
       "101            NaN         NaN              NaN            NaN          NaN   \n",
       "106            NaN         NaN              NaN            NaN          NaN   \n",
       "110            NaN         NaN              NaN            NaN          NaN   \n",
       "126            NaN         NaN              NaN            NaN          NaN   \n",
       "22983          NaN         NaN              NaN            NaN          NaN   \n",
       "22988          NaN         NaN              NaN            NaN          NaN   \n",
       "83004          NaN         NaN              NaN            NaN          NaN   \n",
       "\n",
       "      fromUser.username  fromUser.v  \\\n",
       "101                 NaN         NaN   \n",
       "106                 NaN         NaN   \n",
       "110                 NaN         NaN   \n",
       "126                 NaN         NaN   \n",
       "22983               NaN         NaN   \n",
       "22988               NaN         NaN   \n",
       "83004               NaN         NaN   \n",
       "\n",
       "                                                    html  \\\n",
       "101                                         hello world!   \n",
       "106    Thanks <span data-link-type=\"mention\" data-scr...   \n",
       "110    I&#39;ve found Free Code Camp in reddit and I ...   \n",
       "126    <span data-link-type=\"mention\" data-screen-nam...   \n",
       "22983                                                NaN   \n",
       "22988  <span data-link-type=\"mention\" data-screen-nam...   \n",
       "83004  Quincy&#39;s streaming on Twitch right now if ...   \n",
       "\n",
       "                             id issues  \\\n",
       "101    54a4a0de29aec36b6af1c0ef     []   \n",
       "106    54a4a1499597baaa7dced08d     []   \n",
       "110    54a4a22b9597baaa7dced099     []   \n",
       "126    54a4a39229aec36b6af1c110     []   \n",
       "22983  54b834fa723506dd0c0edf6b     []   \n",
       "22988  54b83523573df0f923453022     []   \n",
       "83004  54e57fe0c8e106d730ca19d8     []   \n",
       "\n",
       "                                                mentions meta  readBy  \\\n",
       "101                                                   []   []      16   \n",
       "106    [{'userIds': [], 'userId': '546fc9f1db8155e670...   []      17   \n",
       "110                                                   []   []      17   \n",
       "126    [{'userIds': [], 'userId': '546fc9f1db8155e670...   []      20   \n",
       "22983                                                 []   []      21   \n",
       "22988  [{'userIds': [], 'userId': '54aaf442db8155e670...   []      19   \n",
       "83004                                                 []   []      17   \n",
       "\n",
       "                                  sent status  \\\n",
       "101   2015-01-01 01:20:30.403000+00:00    NaN   \n",
       "106   2015-01-01 01:22:17.160000+00:00    NaN   \n",
       "110   2015-01-01 01:26:03.133000+00:00    NaN   \n",
       "126   2015-01-01 01:32:02.517000+00:00    NaN   \n",
       "22983 2015-01-15 21:45:30.474000+00:00    NaN   \n",
       "22988 2015-01-15 21:46:11.499000+00:00    NaN   \n",
       "83004 2015-02-19 06:17:04.992000+00:00    NaN   \n",
       "\n",
       "                                                    text  unread  \\\n",
       "101                                         hello world!   False   \n",
       "106                              Thanks @QuincyLarson :)   False   \n",
       "110    I've found Free Code Camp in reddit and I alre...   False   \n",
       "126    @QuincyLarson No problem. I work as a native m...   False   \n",
       "22983                                                NaN   False   \n",
       "22988  @ESOComputing just testing how Gitter looks in...   False   \n",
       "83004  Quincy's streaming on Twitch right now if you ...   False   \n",
       "\n",
       "                                                 urls  v  \n",
       "101                                                []  1  \n",
       "106                                                []  1  \n",
       "110                                                []  1  \n",
       "126                                                []  1  \n",
       "22983                                              []  2  \n",
       "22988                                              []  1  \n",
       "83004  [{'url': 'http://www.twitch.tv/freecodecamp'}]  1  "
      ]
     },
     "execution_count": 21,
     "metadata": {},
     "output_type": "execute_result"
    }
   ],
   "source": [
    "#fromUser.avatarUrlMedium \n",
    "clean_freecodecamp_casual[clean_freecodecamp_casual['fromUser.avatarUrlMedium'].isna()]"
   ]
  },
  {
   "cell_type": "markdown",
   "id": "8e93a9c8",
   "metadata": {},
   "source": [
    "Look like the rows where `fromUser.avatarUrlMedium` are `null` doesn't have any interesting data inside, we can delete them to clean that."
   ]
  },
  {
   "cell_type": "code",
   "execution_count": 22,
   "id": "3a3eb63b",
   "metadata": {},
   "outputs": [
    {
     "name": "stdout",
     "output_type": "stream",
     "text": [
      "[101, 106, 110, 126, 22983, 22988, 83004]\n"
     ]
    },
    {
     "data": {
      "text/html": [
       "<div>\n",
       "<style scoped>\n",
       "    .dataframe tbody tr th:only-of-type {\n",
       "        vertical-align: middle;\n",
       "    }\n",
       "\n",
       "    .dataframe tbody tr th {\n",
       "        vertical-align: top;\n",
       "    }\n",
       "\n",
       "    .dataframe thead th {\n",
       "        text-align: right;\n",
       "    }\n",
       "</style>\n",
       "<table border=\"1\" class=\"dataframe\">\n",
       "  <thead>\n",
       "    <tr style=\"text-align: right;\">\n",
       "      <th></th>\n",
       "      <th>Unnamed: 0</th>\n",
       "      <th>editedAt</th>\n",
       "      <th>fromUser.avatarUrl</th>\n",
       "      <th>fromUser.avatarUrlMedium</th>\n",
       "      <th>fromUser.avatarUrlSmall</th>\n",
       "      <th>fromUser.displayName</th>\n",
       "      <th>fromUser.gv</th>\n",
       "      <th>fromUser.id</th>\n",
       "      <th>fromUser.removed</th>\n",
       "      <th>fromUser.staff</th>\n",
       "      <th>fromUser.url</th>\n",
       "      <th>fromUser.username</th>\n",
       "      <th>fromUser.v</th>\n",
       "      <th>html</th>\n",
       "      <th>id</th>\n",
       "      <th>issues</th>\n",
       "      <th>mentions</th>\n",
       "      <th>meta</th>\n",
       "      <th>readBy</th>\n",
       "      <th>sent</th>\n",
       "      <th>status</th>\n",
       "      <th>text</th>\n",
       "      <th>unread</th>\n",
       "      <th>urls</th>\n",
       "      <th>v</th>\n",
       "    </tr>\n",
       "  </thead>\n",
       "  <tbody>\n",
       "  </tbody>\n",
       "</table>\n",
       "</div>"
      ],
      "text/plain": [
       "Empty DataFrame\n",
       "Columns: [Unnamed: 0, editedAt, fromUser.avatarUrl, fromUser.avatarUrlMedium, fromUser.avatarUrlSmall, fromUser.displayName, fromUser.gv, fromUser.id, fromUser.removed, fromUser.staff, fromUser.url, fromUser.username, fromUser.v, html, id, issues, mentions, meta, readBy, sent, status, text, unread, urls, v]\n",
       "Index: []"
      ]
     },
     "execution_count": 22,
     "metadata": {},
     "output_type": "execute_result"
    }
   ],
   "source": [
    "#Get all rows index\n",
    "ind = clean_freecodecamp_casual[clean_freecodecamp_casual['fromUser.avatarUrlMedium'].isna()].index.values.tolist()\n",
    "print(ind)\n",
    "\n",
    "#deleting all these index in my datasaet\n",
    "# for i in ind:\n",
    "clean_freecodecamp_casual = clean_freecodecamp_casual.drop(ind)\n",
    "\n",
    "#sanity check\n",
    "clean_freecodecamp_casual[clean_freecodecamp_casual['fromUser.avatarUrlMedium'].isna()]"
   ]
  },
  {
   "cell_type": "code",
   "execution_count": 23,
   "id": "37315200",
   "metadata": {},
   "outputs": [
    {
     "data": {
      "text/plain": [
       "0"
      ]
     },
     "execution_count": 23,
     "metadata": {},
     "output_type": "execute_result"
    }
   ],
   "source": [
    "#sanity check\n",
    "clean_freecodecamp_casual['fromUser.avatarUrlMedium'].isna().sum()"
   ]
  },
  {
   "cell_type": "markdown",
   "id": "2d9061e3",
   "metadata": {},
   "source": [
    "We confirm that there no more `null value` inside the `fromUser.avatarUrlMedium` column."
   ]
  },
  {
   "cell_type": "code",
   "execution_count": 24,
   "id": "ddd1863b",
   "metadata": {
    "scrolled": true
   },
   "outputs": [
    {
     "data": {
      "text/plain": [
       "0"
      ]
     },
     "execution_count": 24,
     "metadata": {},
     "output_type": "execute_result"
    }
   ],
   "source": [
    "#fromUser.avatarUrlSmall \n",
    "clean_freecodecamp_casual['fromUser.avatarUrlSmall'].isna().sum()"
   ]
  },
  {
   "cell_type": "markdown",
   "id": "da846602",
   "metadata": {},
   "source": [
    "We confirm that there no more `null value` inside the `fromUser.avatarUrlSmall` column."
   ]
  },
  {
   "cell_type": "code",
   "execution_count": 25,
   "id": "41f97ee7",
   "metadata": {},
   "outputs": [
    {
     "data": {
      "text/plain": [
       "0"
      ]
     },
     "execution_count": 25,
     "metadata": {},
     "output_type": "execute_result"
    }
   ],
   "source": [
    "#fromUser.id \n",
    "clean_freecodecamp_casual['fromUser.id'].isna().sum()"
   ]
  },
  {
   "cell_type": "markdown",
   "id": "077af708",
   "metadata": {},
   "source": [
    "We confirm that there no more `null value` inside the `fromUser.id` column."
   ]
  },
  {
   "cell_type": "code",
   "execution_count": 26,
   "id": "4b4283f5",
   "metadata": {},
   "outputs": [
    {
     "data": {
      "text/plain": [
       "0"
      ]
     },
     "execution_count": 26,
     "metadata": {},
     "output_type": "execute_result"
    }
   ],
   "source": [
    "#fromUser.url \n",
    "clean_freecodecamp_casual['fromUser.id'].isna().sum()"
   ]
  },
  {
   "cell_type": "markdown",
   "id": "07f7bf8d",
   "metadata": {},
   "source": [
    "We confirm that there no more `null value` inside the `fromUser.url` column."
   ]
  },
  {
   "cell_type": "code",
   "execution_count": 27,
   "id": "6311f426",
   "metadata": {},
   "outputs": [
    {
     "data": {
      "text/plain": [
       "0"
      ]
     },
     "execution_count": 27,
     "metadata": {},
     "output_type": "execute_result"
    }
   ],
   "source": [
    "#fromUser.username \n",
    "clean_freecodecamp_casual['fromUser.username'].isna().sum()"
   ]
  },
  {
   "cell_type": "markdown",
   "id": "cdca37ee",
   "metadata": {},
   "source": [
    "We confirm that there no more `null value` inside the `fromUser.username` column."
   ]
  },
  {
   "cell_type": "code",
   "execution_count": 28,
   "id": "7b73f479",
   "metadata": {},
   "outputs": [
    {
     "data": {
      "text/plain": [
       "4"
      ]
     },
     "execution_count": 28,
     "metadata": {},
     "output_type": "execute_result"
    }
   ],
   "source": [
    "#fromUser.displayName \n",
    "clean_freecodecamp_casual['fromUser.displayName'].isna().sum()"
   ]
  },
  {
   "cell_type": "code",
   "execution_count": 29,
   "id": "c62126c1",
   "metadata": {
    "scrolled": true
   },
   "outputs": [
    {
     "data": {
      "text/html": [
       "<div>\n",
       "<style scoped>\n",
       "    .dataframe tbody tr th:only-of-type {\n",
       "        vertical-align: middle;\n",
       "    }\n",
       "\n",
       "    .dataframe tbody tr th {\n",
       "        vertical-align: top;\n",
       "    }\n",
       "\n",
       "    .dataframe thead th {\n",
       "        text-align: right;\n",
       "    }\n",
       "</style>\n",
       "<table border=\"1\" class=\"dataframe\">\n",
       "  <thead>\n",
       "    <tr style=\"text-align: right;\">\n",
       "      <th></th>\n",
       "      <th>Unnamed: 0</th>\n",
       "      <th>editedAt</th>\n",
       "      <th>fromUser.avatarUrl</th>\n",
       "      <th>fromUser.avatarUrlMedium</th>\n",
       "      <th>fromUser.avatarUrlSmall</th>\n",
       "      <th>fromUser.displayName</th>\n",
       "      <th>fromUser.gv</th>\n",
       "      <th>fromUser.id</th>\n",
       "      <th>fromUser.removed</th>\n",
       "      <th>fromUser.staff</th>\n",
       "      <th>fromUser.url</th>\n",
       "      <th>fromUser.username</th>\n",
       "      <th>fromUser.v</th>\n",
       "      <th>html</th>\n",
       "      <th>id</th>\n",
       "      <th>issues</th>\n",
       "      <th>mentions</th>\n",
       "      <th>meta</th>\n",
       "      <th>readBy</th>\n",
       "      <th>sent</th>\n",
       "      <th>status</th>\n",
       "      <th>text</th>\n",
       "      <th>unread</th>\n",
       "      <th>urls</th>\n",
       "      <th>v</th>\n",
       "    </tr>\n",
       "  </thead>\n",
       "  <tbody>\n",
       "    <tr>\n",
       "      <th>149462</th>\n",
       "      <td>149462</td>\n",
       "      <td>NaT</td>\n",
       "      <td>NaN</td>\n",
       "      <td>https://avatars1.githubusercontent.com/u/14760...</td>\n",
       "      <td>https://avatars1.githubusercontent.com/u/14760...</td>\n",
       "      <td>NaN</td>\n",
       "      <td>3.0</td>\n",
       "      <td>54951af4db8155e6700e15f6</td>\n",
       "      <td>NaN</td>\n",
       "      <td>NaN</td>\n",
       "      <td>/prodigeni</td>\n",
       "      <td>prodigeni</td>\n",
       "      <td>1.0</td>\n",
       "      <td>gi</td>\n",
       "      <td>558777eebb2c3e7c1586ccef</td>\n",
       "      <td>[]</td>\n",
       "      <td>[]</td>\n",
       "      <td>[]</td>\n",
       "      <td>33</td>\n",
       "      <td>2015-06-22 02:50:22.006000+00:00</td>\n",
       "      <td>NaN</td>\n",
       "      <td>gi</td>\n",
       "      <td>False</td>\n",
       "      <td>[]</td>\n",
       "      <td>1</td>\n",
       "    </tr>\n",
       "    <tr>\n",
       "      <th>149464</th>\n",
       "      <td>149464</td>\n",
       "      <td>NaT</td>\n",
       "      <td>NaN</td>\n",
       "      <td>https://avatars1.githubusercontent.com/u/14760...</td>\n",
       "      <td>https://avatars1.githubusercontent.com/u/14760...</td>\n",
       "      <td>NaN</td>\n",
       "      <td>3.0</td>\n",
       "      <td>54951af4db8155e6700e15f6</td>\n",
       "      <td>NaN</td>\n",
       "      <td>NaN</td>\n",
       "      <td>/prodigeni</td>\n",
       "      <td>prodigeni</td>\n",
       "      <td>1.0</td>\n",
       "      <td>*hi</td>\n",
       "      <td>558777f4bb2c3e7c1586ccf0</td>\n",
       "      <td>[]</td>\n",
       "      <td>[]</td>\n",
       "      <td>[]</td>\n",
       "      <td>32</td>\n",
       "      <td>2015-06-22 02:50:28.810000+00:00</td>\n",
       "      <td>NaN</td>\n",
       "      <td>*hi</td>\n",
       "      <td>False</td>\n",
       "      <td>[]</td>\n",
       "      <td>1</td>\n",
       "    </tr>\n",
       "    <tr>\n",
       "      <th>150788</th>\n",
       "      <td>150788</td>\n",
       "      <td>NaT</td>\n",
       "      <td>NaN</td>\n",
       "      <td>https://avatars1.githubusercontent.com/u/14760...</td>\n",
       "      <td>https://avatars1.githubusercontent.com/u/14760...</td>\n",
       "      <td>NaN</td>\n",
       "      <td>3.0</td>\n",
       "      <td>54951af4db8155e6700e15f6</td>\n",
       "      <td>NaN</td>\n",
       "      <td>NaN</td>\n",
       "      <td>/prodigeni</td>\n",
       "      <td>prodigeni</td>\n",
       "      <td>1.0</td>\n",
       "      <td>hi</td>\n",
       "      <td>55884eb03039387b15782e95</td>\n",
       "      <td>[]</td>\n",
       "      <td>[]</td>\n",
       "      <td>[]</td>\n",
       "      <td>48</td>\n",
       "      <td>2015-06-22 18:06:40.387000+00:00</td>\n",
       "      <td>NaN</td>\n",
       "      <td>hi</td>\n",
       "      <td>False</td>\n",
       "      <td>[]</td>\n",
       "      <td>1</td>\n",
       "    </tr>\n",
       "    <tr>\n",
       "      <th>152791</th>\n",
       "      <td>152791</td>\n",
       "      <td>NaT</td>\n",
       "      <td>NaN</td>\n",
       "      <td>https://avatars1.githubusercontent.com/u/14760...</td>\n",
       "      <td>https://avatars1.githubusercontent.com/u/14760...</td>\n",
       "      <td>NaN</td>\n",
       "      <td>3.0</td>\n",
       "      <td>54951af4db8155e6700e15f6</td>\n",
       "      <td>NaN</td>\n",
       "      <td>NaN</td>\n",
       "      <td>/prodigeni</td>\n",
       "      <td>prodigeni</td>\n",
       "      <td>1.0</td>\n",
       "      <td>could you please use a pastebin?</td>\n",
       "      <td>5588e9f7f207aa853a8c5fd4</td>\n",
       "      <td>[]</td>\n",
       "      <td>[]</td>\n",
       "      <td>[]</td>\n",
       "      <td>36</td>\n",
       "      <td>2015-06-23 05:09:11.417000+00:00</td>\n",
       "      <td>NaN</td>\n",
       "      <td>could you please use a pastebin?</td>\n",
       "      <td>False</td>\n",
       "      <td>[]</td>\n",
       "      <td>1</td>\n",
       "    </tr>\n",
       "  </tbody>\n",
       "</table>\n",
       "</div>"
      ],
      "text/plain": [
       "        Unnamed: 0 editedAt fromUser.avatarUrl  \\\n",
       "149462      149462      NaT                NaN   \n",
       "149464      149464      NaT                NaN   \n",
       "150788      150788      NaT                NaN   \n",
       "152791      152791      NaT                NaN   \n",
       "\n",
       "                                 fromUser.avatarUrlMedium  \\\n",
       "149462  https://avatars1.githubusercontent.com/u/14760...   \n",
       "149464  https://avatars1.githubusercontent.com/u/14760...   \n",
       "150788  https://avatars1.githubusercontent.com/u/14760...   \n",
       "152791  https://avatars1.githubusercontent.com/u/14760...   \n",
       "\n",
       "                                  fromUser.avatarUrlSmall  \\\n",
       "149462  https://avatars1.githubusercontent.com/u/14760...   \n",
       "149464  https://avatars1.githubusercontent.com/u/14760...   \n",
       "150788  https://avatars1.githubusercontent.com/u/14760...   \n",
       "152791  https://avatars1.githubusercontent.com/u/14760...   \n",
       "\n",
       "       fromUser.displayName  fromUser.gv               fromUser.id  \\\n",
       "149462                  NaN          3.0  54951af4db8155e6700e15f6   \n",
       "149464                  NaN          3.0  54951af4db8155e6700e15f6   \n",
       "150788                  NaN          3.0  54951af4db8155e6700e15f6   \n",
       "152791                  NaN          3.0  54951af4db8155e6700e15f6   \n",
       "\n",
       "       fromUser.removed fromUser.staff fromUser.url fromUser.username  \\\n",
       "149462              NaN            NaN   /prodigeni         prodigeni   \n",
       "149464              NaN            NaN   /prodigeni         prodigeni   \n",
       "150788              NaN            NaN   /prodigeni         prodigeni   \n",
       "152791              NaN            NaN   /prodigeni         prodigeni   \n",
       "\n",
       "        fromUser.v                              html  \\\n",
       "149462         1.0                                gi   \n",
       "149464         1.0                               *hi   \n",
       "150788         1.0                                hi   \n",
       "152791         1.0  could you please use a pastebin?   \n",
       "\n",
       "                              id issues mentions meta  readBy  \\\n",
       "149462  558777eebb2c3e7c1586ccef     []       []   []      33   \n",
       "149464  558777f4bb2c3e7c1586ccf0     []       []   []      32   \n",
       "150788  55884eb03039387b15782e95     []       []   []      48   \n",
       "152791  5588e9f7f207aa853a8c5fd4     []       []   []      36   \n",
       "\n",
       "                                   sent status  \\\n",
       "149462 2015-06-22 02:50:22.006000+00:00    NaN   \n",
       "149464 2015-06-22 02:50:28.810000+00:00    NaN   \n",
       "150788 2015-06-22 18:06:40.387000+00:00    NaN   \n",
       "152791 2015-06-23 05:09:11.417000+00:00    NaN   \n",
       "\n",
       "                                    text  unread urls  v  \n",
       "149462                                gi   False   []  1  \n",
       "149464                               *hi   False   []  1  \n",
       "150788                                hi   False   []  1  \n",
       "152791  could you please use a pastebin?   False   []  1  "
      ]
     },
     "execution_count": 29,
     "metadata": {},
     "output_type": "execute_result"
    }
   ],
   "source": [
    "#Which rows containing this null value\n",
    "clean_freecodecamp_casual[clean_freecodecamp_casual['fromUser.displayName'].isna()]"
   ]
  },
  {
   "cell_type": "markdown",
   "id": "448f9560",
   "metadata": {},
   "source": [
    "This null value on the `displayname` are relate to the same userid `54951af4db8155e6700e15f6.` \n",
    "\n",
    "We will check if we have another occurence of this id and if we can get the displayname from them."
   ]
  },
  {
   "cell_type": "code",
   "execution_count": 30,
   "id": "ac8f98f1",
   "metadata": {
    "scrolled": true
   },
   "outputs": [
    {
     "data": {
      "text/html": [
       "<div>\n",
       "<style scoped>\n",
       "    .dataframe tbody tr th:only-of-type {\n",
       "        vertical-align: middle;\n",
       "    }\n",
       "\n",
       "    .dataframe tbody tr th {\n",
       "        vertical-align: top;\n",
       "    }\n",
       "\n",
       "    .dataframe thead th {\n",
       "        text-align: right;\n",
       "    }\n",
       "</style>\n",
       "<table border=\"1\" class=\"dataframe\">\n",
       "  <thead>\n",
       "    <tr style=\"text-align: right;\">\n",
       "      <th></th>\n",
       "      <th>Unnamed: 0</th>\n",
       "      <th>editedAt</th>\n",
       "      <th>fromUser.avatarUrl</th>\n",
       "      <th>fromUser.avatarUrlMedium</th>\n",
       "      <th>fromUser.avatarUrlSmall</th>\n",
       "      <th>fromUser.displayName</th>\n",
       "      <th>fromUser.gv</th>\n",
       "      <th>fromUser.id</th>\n",
       "      <th>fromUser.removed</th>\n",
       "      <th>fromUser.staff</th>\n",
       "      <th>fromUser.url</th>\n",
       "      <th>fromUser.username</th>\n",
       "      <th>fromUser.v</th>\n",
       "      <th>html</th>\n",
       "      <th>id</th>\n",
       "      <th>issues</th>\n",
       "      <th>mentions</th>\n",
       "      <th>meta</th>\n",
       "      <th>readBy</th>\n",
       "      <th>sent</th>\n",
       "      <th>status</th>\n",
       "      <th>text</th>\n",
       "      <th>unread</th>\n",
       "      <th>urls</th>\n",
       "      <th>v</th>\n",
       "    </tr>\n",
       "  </thead>\n",
       "  <tbody>\n",
       "    <tr>\n",
       "      <th>149462</th>\n",
       "      <td>149462</td>\n",
       "      <td>NaT</td>\n",
       "      <td>NaN</td>\n",
       "      <td>https://avatars1.githubusercontent.com/u/14760...</td>\n",
       "      <td>https://avatars1.githubusercontent.com/u/14760...</td>\n",
       "      <td>NaN</td>\n",
       "      <td>3.0</td>\n",
       "      <td>54951af4db8155e6700e15f6</td>\n",
       "      <td>NaN</td>\n",
       "      <td>NaN</td>\n",
       "      <td>/prodigeni</td>\n",
       "      <td>prodigeni</td>\n",
       "      <td>1.0</td>\n",
       "      <td>gi</td>\n",
       "      <td>558777eebb2c3e7c1586ccef</td>\n",
       "      <td>[]</td>\n",
       "      <td>[]</td>\n",
       "      <td>[]</td>\n",
       "      <td>33</td>\n",
       "      <td>2015-06-22 02:50:22.006000+00:00</td>\n",
       "      <td>NaN</td>\n",
       "      <td>gi</td>\n",
       "      <td>False</td>\n",
       "      <td>[]</td>\n",
       "      <td>1</td>\n",
       "    </tr>\n",
       "    <tr>\n",
       "      <th>149464</th>\n",
       "      <td>149464</td>\n",
       "      <td>NaT</td>\n",
       "      <td>NaN</td>\n",
       "      <td>https://avatars1.githubusercontent.com/u/14760...</td>\n",
       "      <td>https://avatars1.githubusercontent.com/u/14760...</td>\n",
       "      <td>NaN</td>\n",
       "      <td>3.0</td>\n",
       "      <td>54951af4db8155e6700e15f6</td>\n",
       "      <td>NaN</td>\n",
       "      <td>NaN</td>\n",
       "      <td>/prodigeni</td>\n",
       "      <td>prodigeni</td>\n",
       "      <td>1.0</td>\n",
       "      <td>*hi</td>\n",
       "      <td>558777f4bb2c3e7c1586ccf0</td>\n",
       "      <td>[]</td>\n",
       "      <td>[]</td>\n",
       "      <td>[]</td>\n",
       "      <td>32</td>\n",
       "      <td>2015-06-22 02:50:28.810000+00:00</td>\n",
       "      <td>NaN</td>\n",
       "      <td>*hi</td>\n",
       "      <td>False</td>\n",
       "      <td>[]</td>\n",
       "      <td>1</td>\n",
       "    </tr>\n",
       "    <tr>\n",
       "      <th>150788</th>\n",
       "      <td>150788</td>\n",
       "      <td>NaT</td>\n",
       "      <td>NaN</td>\n",
       "      <td>https://avatars1.githubusercontent.com/u/14760...</td>\n",
       "      <td>https://avatars1.githubusercontent.com/u/14760...</td>\n",
       "      <td>NaN</td>\n",
       "      <td>3.0</td>\n",
       "      <td>54951af4db8155e6700e15f6</td>\n",
       "      <td>NaN</td>\n",
       "      <td>NaN</td>\n",
       "      <td>/prodigeni</td>\n",
       "      <td>prodigeni</td>\n",
       "      <td>1.0</td>\n",
       "      <td>hi</td>\n",
       "      <td>55884eb03039387b15782e95</td>\n",
       "      <td>[]</td>\n",
       "      <td>[]</td>\n",
       "      <td>[]</td>\n",
       "      <td>48</td>\n",
       "      <td>2015-06-22 18:06:40.387000+00:00</td>\n",
       "      <td>NaN</td>\n",
       "      <td>hi</td>\n",
       "      <td>False</td>\n",
       "      <td>[]</td>\n",
       "      <td>1</td>\n",
       "    </tr>\n",
       "    <tr>\n",
       "      <th>152791</th>\n",
       "      <td>152791</td>\n",
       "      <td>NaT</td>\n",
       "      <td>NaN</td>\n",
       "      <td>https://avatars1.githubusercontent.com/u/14760...</td>\n",
       "      <td>https://avatars1.githubusercontent.com/u/14760...</td>\n",
       "      <td>NaN</td>\n",
       "      <td>3.0</td>\n",
       "      <td>54951af4db8155e6700e15f6</td>\n",
       "      <td>NaN</td>\n",
       "      <td>NaN</td>\n",
       "      <td>/prodigeni</td>\n",
       "      <td>prodigeni</td>\n",
       "      <td>1.0</td>\n",
       "      <td>could you please use a pastebin?</td>\n",
       "      <td>5588e9f7f207aa853a8c5fd4</td>\n",
       "      <td>[]</td>\n",
       "      <td>[]</td>\n",
       "      <td>[]</td>\n",
       "      <td>36</td>\n",
       "      <td>2015-06-23 05:09:11.417000+00:00</td>\n",
       "      <td>NaN</td>\n",
       "      <td>could you please use a pastebin?</td>\n",
       "      <td>False</td>\n",
       "      <td>[]</td>\n",
       "      <td>1</td>\n",
       "    </tr>\n",
       "  </tbody>\n",
       "</table>\n",
       "</div>"
      ],
      "text/plain": [
       "        Unnamed: 0 editedAt fromUser.avatarUrl  \\\n",
       "149462      149462      NaT                NaN   \n",
       "149464      149464      NaT                NaN   \n",
       "150788      150788      NaT                NaN   \n",
       "152791      152791      NaT                NaN   \n",
       "\n",
       "                                 fromUser.avatarUrlMedium  \\\n",
       "149462  https://avatars1.githubusercontent.com/u/14760...   \n",
       "149464  https://avatars1.githubusercontent.com/u/14760...   \n",
       "150788  https://avatars1.githubusercontent.com/u/14760...   \n",
       "152791  https://avatars1.githubusercontent.com/u/14760...   \n",
       "\n",
       "                                  fromUser.avatarUrlSmall  \\\n",
       "149462  https://avatars1.githubusercontent.com/u/14760...   \n",
       "149464  https://avatars1.githubusercontent.com/u/14760...   \n",
       "150788  https://avatars1.githubusercontent.com/u/14760...   \n",
       "152791  https://avatars1.githubusercontent.com/u/14760...   \n",
       "\n",
       "       fromUser.displayName  fromUser.gv               fromUser.id  \\\n",
       "149462                  NaN          3.0  54951af4db8155e6700e15f6   \n",
       "149464                  NaN          3.0  54951af4db8155e6700e15f6   \n",
       "150788                  NaN          3.0  54951af4db8155e6700e15f6   \n",
       "152791                  NaN          3.0  54951af4db8155e6700e15f6   \n",
       "\n",
       "       fromUser.removed fromUser.staff fromUser.url fromUser.username  \\\n",
       "149462              NaN            NaN   /prodigeni         prodigeni   \n",
       "149464              NaN            NaN   /prodigeni         prodigeni   \n",
       "150788              NaN            NaN   /prodigeni         prodigeni   \n",
       "152791              NaN            NaN   /prodigeni         prodigeni   \n",
       "\n",
       "        fromUser.v                              html  \\\n",
       "149462         1.0                                gi   \n",
       "149464         1.0                               *hi   \n",
       "150788         1.0                                hi   \n",
       "152791         1.0  could you please use a pastebin?   \n",
       "\n",
       "                              id issues mentions meta  readBy  \\\n",
       "149462  558777eebb2c3e7c1586ccef     []       []   []      33   \n",
       "149464  558777f4bb2c3e7c1586ccf0     []       []   []      32   \n",
       "150788  55884eb03039387b15782e95     []       []   []      48   \n",
       "152791  5588e9f7f207aa853a8c5fd4     []       []   []      36   \n",
       "\n",
       "                                   sent status  \\\n",
       "149462 2015-06-22 02:50:22.006000+00:00    NaN   \n",
       "149464 2015-06-22 02:50:28.810000+00:00    NaN   \n",
       "150788 2015-06-22 18:06:40.387000+00:00    NaN   \n",
       "152791 2015-06-23 05:09:11.417000+00:00    NaN   \n",
       "\n",
       "                                    text  unread urls  v  \n",
       "149462                                gi   False   []  1  \n",
       "149464                               *hi   False   []  1  \n",
       "150788                                hi   False   []  1  \n",
       "152791  could you please use a pastebin?   False   []  1  "
      ]
     },
     "execution_count": 30,
     "metadata": {},
     "output_type": "execute_result"
    }
   ],
   "source": [
    "#Get all rows with userid = 54951af4db8155e6700e15f6\n",
    "clean_freecodecamp_casual.loc[clean_freecodecamp_casual['fromUser.id'] == '54951af4db8155e6700e15f6']"
   ]
  },
  {
   "cell_type": "markdown",
   "id": "3db424f7",
   "metadata": {},
   "source": [
    "This user appear just one day and maybe he didn't fill the displayname field. \n",
    "\n",
    "Since the username is very often used in our dataset as a concatenation of the display name, we can use the username of this user and fill in his displayname."
   ]
  },
  {
   "cell_type": "code",
   "execution_count": 31,
   "id": "7ae59766",
   "metadata": {},
   "outputs": [],
   "source": [
    "#Fill the displayname for this user\n",
    "clean_freecodecamp_casual['fromUser.displayName'] = clean_freecodecamp_casual['fromUser.displayName'].fillna('Prodigeni')"
   ]
  },
  {
   "cell_type": "code",
   "execution_count": 32,
   "id": "00670d95",
   "metadata": {},
   "outputs": [
    {
     "data": {
      "text/plain": [
       "0"
      ]
     },
     "execution_count": 32,
     "metadata": {},
     "output_type": "execute_result"
    }
   ],
   "source": [
    "#Sanity check\n",
    "clean_freecodecamp_casual['fromUser.displayName'].isna().sum()"
   ]
  },
  {
   "cell_type": "markdown",
   "id": "ab8dde94",
   "metadata": {},
   "source": [
    "We confirm that there no more `null value` inside the `fromUser.displayName` column."
   ]
  },
  {
   "cell_type": "code",
   "execution_count": 33,
   "id": "63887620",
   "metadata": {},
   "outputs": [
    {
     "name": "stdout",
     "output_type": "stream",
     "text": [
      "editedAt have 4931000 null value\n",
      "fromUser.avatarUrl have 1827993 null value\n",
      "fromUser.gv have 31830 null value\n",
      "fromUser.removed have 5053983 null value\n",
      "fromUser.staff have 5057366 null value\n",
      "fromUser.v have 796548 null value\n",
      "html have 19844 null value\n",
      "status have 5041085 null value\n",
      "text have 19558 null value\n",
      "\n",
      " We have 9 columns containing null values.\n"
     ]
    }
   ],
   "source": [
    "#An overview on column, which column contain null value?\n",
    "i = 0\n",
    "for col in clean_freecodecamp_casual.columns:\n",
    "    if clean_freecodecamp_casual[col].isna().sum() > 0:\n",
    "        i += 1\n",
    "        print(f'{col} have {clean_freecodecamp_casual[col].isna().sum()} null value')\n",
    "print(f'\\n We have {i} columns containing null values.')"
   ]
  },
  {
   "cell_type": "markdown",
   "id": "6ceed2ae",
   "metadata": {},
   "source": [
    "#### Column text - 19558 null value\n",
    "\n",
    "This column contain text message that we will work on it. The null value correspond to about `0.4% of the rows.`"
   ]
  },
  {
   "cell_type": "code",
   "execution_count": 34,
   "id": "03528245",
   "metadata": {},
   "outputs": [
    {
     "data": {
      "text/plain": [
       "(0.3867204492426939, 5037842)"
      ]
     },
     "execution_count": 34,
     "metadata": {},
     "output_type": "execute_result"
    }
   ],
   "source": [
    "#Percentage               #Total notnull\n",
    "(19558 / 5057400 ) * 100, 5057400 - 19558"
   ]
  },
  {
   "cell_type": "markdown",
   "id": "0bc47628",
   "metadata": {},
   "source": [
    "The best way to deal with that is just to `Delete them.` Because deleting will not have any impact and we cannot fill them with any value to avoid risk of corrupt dataset.\n",
    "\n",
    "So we delete any rows containing null value in columns `text.`"
   ]
  },
  {
   "cell_type": "code",
   "execution_count": 35,
   "id": "a38ac3a3",
   "metadata": {},
   "outputs": [
    {
     "data": {
      "text/html": [
       "<div>\n",
       "<style scoped>\n",
       "    .dataframe tbody tr th:only-of-type {\n",
       "        vertical-align: middle;\n",
       "    }\n",
       "\n",
       "    .dataframe tbody tr th {\n",
       "        vertical-align: top;\n",
       "    }\n",
       "\n",
       "    .dataframe thead th {\n",
       "        text-align: right;\n",
       "    }\n",
       "</style>\n",
       "<table border=\"1\" class=\"dataframe\">\n",
       "  <thead>\n",
       "    <tr style=\"text-align: right;\">\n",
       "      <th></th>\n",
       "      <th>Unnamed: 0</th>\n",
       "      <th>editedAt</th>\n",
       "      <th>fromUser.avatarUrl</th>\n",
       "      <th>fromUser.avatarUrlMedium</th>\n",
       "      <th>fromUser.avatarUrlSmall</th>\n",
       "      <th>fromUser.displayName</th>\n",
       "      <th>fromUser.gv</th>\n",
       "      <th>fromUser.id</th>\n",
       "      <th>fromUser.removed</th>\n",
       "      <th>fromUser.staff</th>\n",
       "      <th>fromUser.url</th>\n",
       "      <th>fromUser.username</th>\n",
       "      <th>fromUser.v</th>\n",
       "      <th>html</th>\n",
       "      <th>id</th>\n",
       "      <th>issues</th>\n",
       "      <th>mentions</th>\n",
       "      <th>meta</th>\n",
       "      <th>readBy</th>\n",
       "      <th>sent</th>\n",
       "      <th>status</th>\n",
       "      <th>text</th>\n",
       "      <th>unread</th>\n",
       "      <th>urls</th>\n",
       "      <th>v</th>\n",
       "    </tr>\n",
       "  </thead>\n",
       "  <tbody>\n",
       "    <tr>\n",
       "      <th>1104</th>\n",
       "      <td>1104</td>\n",
       "      <td>2015-01-02 02:50:01.283000+00:00</td>\n",
       "      <td>NaN</td>\n",
       "      <td>https://avatars0.githubusercontent.com/u/81359...</td>\n",
       "      <td>https://avatars0.githubusercontent.com/u/81359...</td>\n",
       "      <td>Camden</td>\n",
       "      <td>NaN</td>\n",
       "      <td>54a60717db8155e6700e4d39</td>\n",
       "      <td>NaN</td>\n",
       "      <td>NaN</td>\n",
       "      <td>/theCamDen</td>\n",
       "      <td>theCamDen</td>\n",
       "      <td>NaN</td>\n",
       "      <td>NaN</td>\n",
       "      <td>54a6073429aec36b6af1cc88</td>\n",
       "      <td>[]</td>\n",
       "      <td>[]</td>\n",
       "      <td>[]</td>\n",
       "      <td>21</td>\n",
       "      <td>2015-01-02 02:49:24.680000+00:00</td>\n",
       "      <td>NaN</td>\n",
       "      <td>NaN</td>\n",
       "      <td>False</td>\n",
       "      <td>[]</td>\n",
       "      <td>2</td>\n",
       "    </tr>\n",
       "    <tr>\n",
       "      <th>1954</th>\n",
       "      <td>1954</td>\n",
       "      <td>2015-01-03 00:58:21.509000+00:00</td>\n",
       "      <td>NaN</td>\n",
       "      <td>https://avatars1.githubusercontent.com/u/11469...</td>\n",
       "      <td>https://avatars1.githubusercontent.com/u/11469...</td>\n",
       "      <td>Dustin Ury</td>\n",
       "      <td>3.0</td>\n",
       "      <td>54a60826db8155e6700e4d3e</td>\n",
       "      <td>NaN</td>\n",
       "      <td>NaN</td>\n",
       "      <td>/teddy-error</td>\n",
       "      <td>teddy-error</td>\n",
       "      <td>4.0</td>\n",
       "      <td>NaN</td>\n",
       "      <td>54a73e97a8dd09551d4235f8</td>\n",
       "      <td>[]</td>\n",
       "      <td>[]</td>\n",
       "      <td>[]</td>\n",
       "      <td>31</td>\n",
       "      <td>2015-01-03 00:57:59.357000+00:00</td>\n",
       "      <td>NaN</td>\n",
       "      <td>NaN</td>\n",
       "      <td>False</td>\n",
       "      <td>[]</td>\n",
       "      <td>3</td>\n",
       "    </tr>\n",
       "    <tr>\n",
       "      <th>3701</th>\n",
       "      <td>3701</td>\n",
       "      <td>2015-01-04 05:16:57.972000+00:00</td>\n",
       "      <td>NaN</td>\n",
       "      <td>https://avatars0.githubusercontent.com/u/85534...</td>\n",
       "      <td>https://avatars0.githubusercontent.com/u/85534...</td>\n",
       "      <td>seahik</td>\n",
       "      <td>3.0</td>\n",
       "      <td>54a1cb32db8155e6700e3c72</td>\n",
       "      <td>NaN</td>\n",
       "      <td>NaN</td>\n",
       "      <td>/seahik</td>\n",
       "      <td>seahik</td>\n",
       "      <td>1.0</td>\n",
       "      <td>NaN</td>\n",
       "      <td>54a8cc6d91bb4a2a7b0bba86</td>\n",
       "      <td>[]</td>\n",
       "      <td>[]</td>\n",
       "      <td>[]</td>\n",
       "      <td>15</td>\n",
       "      <td>2015-01-04 05:15:25.732000+00:00</td>\n",
       "      <td>NaN</td>\n",
       "      <td>NaN</td>\n",
       "      <td>False</td>\n",
       "      <td>[]</td>\n",
       "      <td>2</td>\n",
       "    </tr>\n",
       "    <tr>\n",
       "      <th>3881</th>\n",
       "      <td>3881</td>\n",
       "      <td>2015-01-04 07:56:47.950000+00:00</td>\n",
       "      <td>NaN</td>\n",
       "      <td>https://avatars1.githubusercontent.com/u/52907...</td>\n",
       "      <td>https://avatars1.githubusercontent.com/u/52907...</td>\n",
       "      <td>Vais Mahendran</td>\n",
       "      <td>NaN</td>\n",
       "      <td>54a8f225db8155e6700e5893</td>\n",
       "      <td>NaN</td>\n",
       "      <td>NaN</td>\n",
       "      <td>/M-Vais</td>\n",
       "      <td>M-Vais</td>\n",
       "      <td>NaN</td>\n",
       "      <td>NaN</td>\n",
       "      <td>54a8f2303569bbe471f22b0d</td>\n",
       "      <td>[]</td>\n",
       "      <td>[]</td>\n",
       "      <td>[]</td>\n",
       "      <td>30</td>\n",
       "      <td>2015-01-04 07:56:32.534000+00:00</td>\n",
       "      <td>NaN</td>\n",
       "      <td>NaN</td>\n",
       "      <td>False</td>\n",
       "      <td>[]</td>\n",
       "      <td>2</td>\n",
       "    </tr>\n",
       "    <tr>\n",
       "      <th>4038</th>\n",
       "      <td>4038</td>\n",
       "      <td>2015-01-04 16:39:54.607000+00:00</td>\n",
       "      <td>NaN</td>\n",
       "      <td>https://avatars1.githubusercontent.com/u/70185...</td>\n",
       "      <td>https://avatars1.githubusercontent.com/u/70185...</td>\n",
       "      <td>Mark Howard</td>\n",
       "      <td>3.0</td>\n",
       "      <td>546fc6a7db8155e6700d6e87</td>\n",
       "      <td>NaN</td>\n",
       "      <td>NaN</td>\n",
       "      <td>/iheartkode</td>\n",
       "      <td>iheartkode</td>\n",
       "      <td>6.0</td>\n",
       "      <td>NaN</td>\n",
       "      <td>54a96cd43569bbe471f22eb7</td>\n",
       "      <td>[]</td>\n",
       "      <td>[]</td>\n",
       "      <td>[]</td>\n",
       "      <td>25</td>\n",
       "      <td>2015-01-04 16:39:48.614000+00:00</td>\n",
       "      <td>NaN</td>\n",
       "      <td>NaN</td>\n",
       "      <td>False</td>\n",
       "      <td>[]</td>\n",
       "      <td>2</td>\n",
       "    </tr>\n",
       "    <tr>\n",
       "      <th>...</th>\n",
       "      <td>...</td>\n",
       "      <td>...</td>\n",
       "      <td>...</td>\n",
       "      <td>...</td>\n",
       "      <td>...</td>\n",
       "      <td>...</td>\n",
       "      <td>...</td>\n",
       "      <td>...</td>\n",
       "      <td>...</td>\n",
       "      <td>...</td>\n",
       "      <td>...</td>\n",
       "      <td>...</td>\n",
       "      <td>...</td>\n",
       "      <td>...</td>\n",
       "      <td>...</td>\n",
       "      <td>...</td>\n",
       "      <td>...</td>\n",
       "      <td>...</td>\n",
       "      <td>...</td>\n",
       "      <td>...</td>\n",
       "      <td>...</td>\n",
       "      <td>...</td>\n",
       "      <td>...</td>\n",
       "      <td>...</td>\n",
       "      <td>...</td>\n",
       "    </tr>\n",
       "    <tr>\n",
       "      <th>5019053</th>\n",
       "      <td>1462853</td>\n",
       "      <td>2017-11-26 03:44:02.312000+00:00</td>\n",
       "      <td>https://avatars-05.gitter.im/gh/uv/4/wordyallen</td>\n",
       "      <td>https://avatars1.githubusercontent.com/u/45918...</td>\n",
       "      <td>https://avatars1.githubusercontent.com/u/45918...</td>\n",
       "      <td>Joe Narvaez</td>\n",
       "      <td>4.0</td>\n",
       "      <td>54b09f16db8155e6700e83d8</td>\n",
       "      <td>NaN</td>\n",
       "      <td>NaN</td>\n",
       "      <td>/wordyallen</td>\n",
       "      <td>wordyallen</td>\n",
       "      <td>37.0</td>\n",
       "      <td>NaN</td>\n",
       "      <td>5a1a3868ffa3e37919bdfcba</td>\n",
       "      <td>[]</td>\n",
       "      <td>[]</td>\n",
       "      <td>[]</td>\n",
       "      <td>10</td>\n",
       "      <td>2017-11-26 03:43:36.185000+00:00</td>\n",
       "      <td>NaN</td>\n",
       "      <td>NaN</td>\n",
       "      <td>False</td>\n",
       "      <td>[]</td>\n",
       "      <td>3</td>\n",
       "    </tr>\n",
       "    <tr>\n",
       "      <th>5024486</th>\n",
       "      <td>1468286</td>\n",
       "      <td>2017-11-28 16:48:23.983000+00:00</td>\n",
       "      <td>https://avatars-01.gitter.im/gh/uv/4/CEREBR4L</td>\n",
       "      <td>https://avatars2.githubusercontent.com/u/71539...</td>\n",
       "      <td>https://avatars2.githubusercontent.com/u/71539...</td>\n",
       "      <td>Moon Man</td>\n",
       "      <td>4.0</td>\n",
       "      <td>5696919516b6c7089cc2652e</td>\n",
       "      <td>NaN</td>\n",
       "      <td>NaN</td>\n",
       "      <td>/CEREBR4L</td>\n",
       "      <td>CEREBR4L</td>\n",
       "      <td>24.0</td>\n",
       "      <td>NaN</td>\n",
       "      <td>5a1d935487680e6230a6e928</td>\n",
       "      <td>[]</td>\n",
       "      <td>[]</td>\n",
       "      <td>[]</td>\n",
       "      <td>12</td>\n",
       "      <td>2017-11-28 16:48:20.832000+00:00</td>\n",
       "      <td>NaN</td>\n",
       "      <td>NaN</td>\n",
       "      <td>False</td>\n",
       "      <td>[]</td>\n",
       "      <td>2</td>\n",
       "    </tr>\n",
       "    <tr>\n",
       "      <th>5025994</th>\n",
       "      <td>1469794</td>\n",
       "      <td>2017-11-29 06:55:19.178000+00:00</td>\n",
       "      <td>https://avatars-03.gitter.im/gh/uv/4/yasserhus...</td>\n",
       "      <td>https://avatars2.githubusercontent.com/u/69832...</td>\n",
       "      <td>https://avatars2.githubusercontent.com/u/69832...</td>\n",
       "      <td>Yasser Hussain</td>\n",
       "      <td>4.0</td>\n",
       "      <td>56d93ae2e610378809c4f368</td>\n",
       "      <td>NaN</td>\n",
       "      <td>NaN</td>\n",
       "      <td>/yasserhussain1110</td>\n",
       "      <td>yasserhussain1110</td>\n",
       "      <td>66.0</td>\n",
       "      <td>NaN</td>\n",
       "      <td>5a1e59ccffa3e37919d26d9f</td>\n",
       "      <td>[]</td>\n",
       "      <td>[]</td>\n",
       "      <td>[]</td>\n",
       "      <td>11</td>\n",
       "      <td>2017-11-29 06:55:08.045000+00:00</td>\n",
       "      <td>NaN</td>\n",
       "      <td>NaN</td>\n",
       "      <td>False</td>\n",
       "      <td>[]</td>\n",
       "      <td>2</td>\n",
       "    </tr>\n",
       "    <tr>\n",
       "      <th>5037511</th>\n",
       "      <td>1481311</td>\n",
       "      <td>2017-12-02 18:20:19.873000+00:00</td>\n",
       "      <td>https://avatars-03.gitter.im/gh/uv/4/Linuslb</td>\n",
       "      <td>https://avatars2.githubusercontent.com/u/13337...</td>\n",
       "      <td>https://avatars2.githubusercontent.com/u/13337...</td>\n",
       "      <td>Linus</td>\n",
       "      <td>4.0</td>\n",
       "      <td>55a55af15e0d51bd787b5fa7</td>\n",
       "      <td>NaN</td>\n",
       "      <td>NaN</td>\n",
       "      <td>/Linuslb</td>\n",
       "      <td>Linuslb</td>\n",
       "      <td>5.0</td>\n",
       "      <td>NaN</td>\n",
       "      <td>5a22eebf3a80a84b5bab9914</td>\n",
       "      <td>[]</td>\n",
       "      <td>[]</td>\n",
       "      <td>[]</td>\n",
       "      <td>6</td>\n",
       "      <td>2017-12-02 18:19:43.073000+00:00</td>\n",
       "      <td>NaN</td>\n",
       "      <td>NaN</td>\n",
       "      <td>False</td>\n",
       "      <td>[]</td>\n",
       "      <td>2</td>\n",
       "    </tr>\n",
       "    <tr>\n",
       "      <th>5040704</th>\n",
       "      <td>1484504</td>\n",
       "      <td>2017-12-03 22:54:40.010000+00:00</td>\n",
       "      <td>https://avatars-02.gitter.im/gh/uv/4/tiagocorr...</td>\n",
       "      <td>https://avatars1.githubusercontent.com/u/17684...</td>\n",
       "      <td>https://avatars1.githubusercontent.com/u/17684...</td>\n",
       "      <td>Tiago Correia</td>\n",
       "      <td>4.0</td>\n",
       "      <td>5923ed0dd73408ce4f619364</td>\n",
       "      <td>NaN</td>\n",
       "      <td>NaN</td>\n",
       "      <td>/tiagocorreiaalmeida</td>\n",
       "      <td>tiagocorreiaalmeida</td>\n",
       "      <td>249.0</td>\n",
       "      <td>NaN</td>\n",
       "      <td>5a24800bcc1d527f6be852f5</td>\n",
       "      <td>[]</td>\n",
       "      <td>[]</td>\n",
       "      <td>[]</td>\n",
       "      <td>4</td>\n",
       "      <td>2017-12-03 22:51:55.238000+00:00</td>\n",
       "      <td>NaN</td>\n",
       "      <td>NaN</td>\n",
       "      <td>False</td>\n",
       "      <td>[]</td>\n",
       "      <td>2</td>\n",
       "    </tr>\n",
       "  </tbody>\n",
       "</table>\n",
       "<p>19558 rows × 25 columns</p>\n",
       "</div>"
      ],
      "text/plain": [
       "         Unnamed: 0                         editedAt  \\\n",
       "1104           1104 2015-01-02 02:50:01.283000+00:00   \n",
       "1954           1954 2015-01-03 00:58:21.509000+00:00   \n",
       "3701           3701 2015-01-04 05:16:57.972000+00:00   \n",
       "3881           3881 2015-01-04 07:56:47.950000+00:00   \n",
       "4038           4038 2015-01-04 16:39:54.607000+00:00   \n",
       "...             ...                              ...   \n",
       "5019053     1462853 2017-11-26 03:44:02.312000+00:00   \n",
       "5024486     1468286 2017-11-28 16:48:23.983000+00:00   \n",
       "5025994     1469794 2017-11-29 06:55:19.178000+00:00   \n",
       "5037511     1481311 2017-12-02 18:20:19.873000+00:00   \n",
       "5040704     1484504 2017-12-03 22:54:40.010000+00:00   \n",
       "\n",
       "                                        fromUser.avatarUrl  \\\n",
       "1104                                                   NaN   \n",
       "1954                                                   NaN   \n",
       "3701                                                   NaN   \n",
       "3881                                                   NaN   \n",
       "4038                                                   NaN   \n",
       "...                                                    ...   \n",
       "5019053    https://avatars-05.gitter.im/gh/uv/4/wordyallen   \n",
       "5024486      https://avatars-01.gitter.im/gh/uv/4/CEREBR4L   \n",
       "5025994  https://avatars-03.gitter.im/gh/uv/4/yasserhus...   \n",
       "5037511       https://avatars-03.gitter.im/gh/uv/4/Linuslb   \n",
       "5040704  https://avatars-02.gitter.im/gh/uv/4/tiagocorr...   \n",
       "\n",
       "                                  fromUser.avatarUrlMedium  \\\n",
       "1104     https://avatars0.githubusercontent.com/u/81359...   \n",
       "1954     https://avatars1.githubusercontent.com/u/11469...   \n",
       "3701     https://avatars0.githubusercontent.com/u/85534...   \n",
       "3881     https://avatars1.githubusercontent.com/u/52907...   \n",
       "4038     https://avatars1.githubusercontent.com/u/70185...   \n",
       "...                                                    ...   \n",
       "5019053  https://avatars1.githubusercontent.com/u/45918...   \n",
       "5024486  https://avatars2.githubusercontent.com/u/71539...   \n",
       "5025994  https://avatars2.githubusercontent.com/u/69832...   \n",
       "5037511  https://avatars2.githubusercontent.com/u/13337...   \n",
       "5040704  https://avatars1.githubusercontent.com/u/17684...   \n",
       "\n",
       "                                   fromUser.avatarUrlSmall  \\\n",
       "1104     https://avatars0.githubusercontent.com/u/81359...   \n",
       "1954     https://avatars1.githubusercontent.com/u/11469...   \n",
       "3701     https://avatars0.githubusercontent.com/u/85534...   \n",
       "3881     https://avatars1.githubusercontent.com/u/52907...   \n",
       "4038     https://avatars1.githubusercontent.com/u/70185...   \n",
       "...                                                    ...   \n",
       "5019053  https://avatars1.githubusercontent.com/u/45918...   \n",
       "5024486  https://avatars2.githubusercontent.com/u/71539...   \n",
       "5025994  https://avatars2.githubusercontent.com/u/69832...   \n",
       "5037511  https://avatars2.githubusercontent.com/u/13337...   \n",
       "5040704  https://avatars1.githubusercontent.com/u/17684...   \n",
       "\n",
       "        fromUser.displayName  fromUser.gv               fromUser.id  \\\n",
       "1104                  Camden          NaN  54a60717db8155e6700e4d39   \n",
       "1954              Dustin Ury          3.0  54a60826db8155e6700e4d3e   \n",
       "3701                  seahik          3.0  54a1cb32db8155e6700e3c72   \n",
       "3881          Vais Mahendran          NaN  54a8f225db8155e6700e5893   \n",
       "4038             Mark Howard          3.0  546fc6a7db8155e6700d6e87   \n",
       "...                      ...          ...                       ...   \n",
       "5019053          Joe Narvaez          4.0  54b09f16db8155e6700e83d8   \n",
       "5024486             Moon Man          4.0  5696919516b6c7089cc2652e   \n",
       "5025994       Yasser Hussain          4.0  56d93ae2e610378809c4f368   \n",
       "5037511                Linus          4.0  55a55af15e0d51bd787b5fa7   \n",
       "5040704        Tiago Correia          4.0  5923ed0dd73408ce4f619364   \n",
       "\n",
       "        fromUser.removed fromUser.staff          fromUser.url  \\\n",
       "1104                 NaN            NaN            /theCamDen   \n",
       "1954                 NaN            NaN          /teddy-error   \n",
       "3701                 NaN            NaN               /seahik   \n",
       "3881                 NaN            NaN               /M-Vais   \n",
       "4038                 NaN            NaN           /iheartkode   \n",
       "...                  ...            ...                   ...   \n",
       "5019053              NaN            NaN           /wordyallen   \n",
       "5024486              NaN            NaN             /CEREBR4L   \n",
       "5025994              NaN            NaN    /yasserhussain1110   \n",
       "5037511              NaN            NaN              /Linuslb   \n",
       "5040704              NaN            NaN  /tiagocorreiaalmeida   \n",
       "\n",
       "           fromUser.username  fromUser.v html                        id  \\\n",
       "1104               theCamDen         NaN  NaN  54a6073429aec36b6af1cc88   \n",
       "1954             teddy-error         4.0  NaN  54a73e97a8dd09551d4235f8   \n",
       "3701                  seahik         1.0  NaN  54a8cc6d91bb4a2a7b0bba86   \n",
       "3881                  M-Vais         NaN  NaN  54a8f2303569bbe471f22b0d   \n",
       "4038              iheartkode         6.0  NaN  54a96cd43569bbe471f22eb7   \n",
       "...                      ...         ...  ...                       ...   \n",
       "5019053           wordyallen        37.0  NaN  5a1a3868ffa3e37919bdfcba   \n",
       "5024486             CEREBR4L        24.0  NaN  5a1d935487680e6230a6e928   \n",
       "5025994    yasserhussain1110        66.0  NaN  5a1e59ccffa3e37919d26d9f   \n",
       "5037511              Linuslb         5.0  NaN  5a22eebf3a80a84b5bab9914   \n",
       "5040704  tiagocorreiaalmeida       249.0  NaN  5a24800bcc1d527f6be852f5   \n",
       "\n",
       "        issues mentions meta  readBy                             sent status  \\\n",
       "1104        []       []   []      21 2015-01-02 02:49:24.680000+00:00    NaN   \n",
       "1954        []       []   []      31 2015-01-03 00:57:59.357000+00:00    NaN   \n",
       "3701        []       []   []      15 2015-01-04 05:15:25.732000+00:00    NaN   \n",
       "3881        []       []   []      30 2015-01-04 07:56:32.534000+00:00    NaN   \n",
       "4038        []       []   []      25 2015-01-04 16:39:48.614000+00:00    NaN   \n",
       "...        ...      ...  ...     ...                              ...    ...   \n",
       "5019053     []       []   []      10 2017-11-26 03:43:36.185000+00:00    NaN   \n",
       "5024486     []       []   []      12 2017-11-28 16:48:20.832000+00:00    NaN   \n",
       "5025994     []       []   []      11 2017-11-29 06:55:08.045000+00:00    NaN   \n",
       "5037511     []       []   []       6 2017-12-02 18:19:43.073000+00:00    NaN   \n",
       "5040704     []       []   []       4 2017-12-03 22:51:55.238000+00:00    NaN   \n",
       "\n",
       "        text  unread urls  v  \n",
       "1104     NaN   False   []  2  \n",
       "1954     NaN   False   []  3  \n",
       "3701     NaN   False   []  2  \n",
       "3881     NaN   False   []  2  \n",
       "4038     NaN   False   []  2  \n",
       "...      ...     ...  ... ..  \n",
       "5019053  NaN   False   []  3  \n",
       "5024486  NaN   False   []  2  \n",
       "5025994  NaN   False   []  2  \n",
       "5037511  NaN   False   []  2  \n",
       "5040704  NaN   False   []  2  \n",
       "\n",
       "[19558 rows x 25 columns]"
      ]
     },
     "execution_count": 35,
     "metadata": {},
     "output_type": "execute_result"
    }
   ],
   "source": [
    "#Overview about these columns\n",
    "clean_freecodecamp_casual[clean_freecodecamp_casual['text'].isna()]"
   ]
  },
  {
   "cell_type": "code",
   "execution_count": 36,
   "id": "79f5cea6",
   "metadata": {},
   "outputs": [
    {
     "name": "stdout",
     "output_type": "stream",
     "text": [
      "19558\n"
     ]
    }
   ],
   "source": [
    "#Deleting them\n",
    "#Get all rows index\n",
    "ind_tex = clean_freecodecamp_casual[clean_freecodecamp_casual['text'].isna()].index.values.tolist()\n",
    "print(len(ind_tex))\n",
    "\n",
    "#deleting all these index in my datasaet\n",
    "# for i in ind_tex:\n",
    "clean_freecodecamp_casual = clean_freecodecamp_casual.drop(ind_tex)"
   ]
  },
  {
   "cell_type": "code",
   "execution_count": 37,
   "id": "c2d4bb11",
   "metadata": {},
   "outputs": [
    {
     "data": {
      "text/plain": [
       "0"
      ]
     },
     "execution_count": 37,
     "metadata": {},
     "output_type": "execute_result"
    }
   ],
   "source": [
    "#sanity check\n",
    "clean_freecodecamp_casual['text'].isna().sum()"
   ]
  },
  {
   "cell_type": "markdown",
   "id": "505b837b",
   "metadata": {},
   "source": [
    "We confirm that there no more `null value` inside the `text` column."
   ]
  },
  {
   "cell_type": "markdown",
   "id": "902be20d",
   "metadata": {},
   "source": [
    "#### Column html - 19844 null value\n",
    "\n",
    "This column contain html message that we will work on it. It's look like a duplicated of `text column` but we will deal with this aspect later. The null value correspond to about `0.4%` of the rows."
   ]
  },
  {
   "cell_type": "code",
   "execution_count": 38,
   "id": "d3e44009",
   "metadata": {},
   "outputs": [
    {
     "data": {
      "text/plain": [
       "(0.39237552892790767, 5037556)"
      ]
     },
     "execution_count": 38,
     "metadata": {},
     "output_type": "execute_result"
    }
   ],
   "source": [
    "#Percentage               #Total notnull\n",
    "(19844 / 5057400 ) * 100, 5057400 - 19844"
   ]
  },
  {
   "cell_type": "code",
   "execution_count": 39,
   "id": "210d37b1",
   "metadata": {},
   "outputs": [
    {
     "data": {
      "text/plain": [
       "286"
      ]
     },
     "execution_count": 39,
     "metadata": {},
     "output_type": "execute_result"
    }
   ],
   "source": [
    "#Overview\n",
    "clean_freecodecamp_casual['html'].isna().sum()"
   ]
  },
  {
   "cell_type": "markdown",
   "id": "e3a9e6e8",
   "metadata": {},
   "source": [
    "Look like after removing the null from `text` we reduce them in `html` too. So we can apply the same principe, **Delete all the null values.**"
   ]
  },
  {
   "cell_type": "code",
   "execution_count": 40,
   "id": "aa1314f9",
   "metadata": {},
   "outputs": [
    {
     "name": "stdout",
     "output_type": "stream",
     "text": [
      "286\n"
     ]
    }
   ],
   "source": [
    "#Deleting them\n",
    "#Get all rows index\n",
    "ind_tex = clean_freecodecamp_casual[clean_freecodecamp_casual['html'].isna()].index.values.tolist()\n",
    "print(len(ind_tex))\n",
    "\n",
    "#deleting all these index in my datasaet\n",
    "# for i in ind_tex:\n",
    "clean_freecodecamp_casual = clean_freecodecamp_casual.drop(ind_tex)"
   ]
  },
  {
   "cell_type": "code",
   "execution_count": 41,
   "id": "56e1a7d2",
   "metadata": {},
   "outputs": [
    {
     "data": {
      "text/plain": [
       "0"
      ]
     },
     "execution_count": 41,
     "metadata": {},
     "output_type": "execute_result"
    }
   ],
   "source": [
    "#sanity check\n",
    "clean_freecodecamp_casual['html'].isna().sum()"
   ]
  },
  {
   "cell_type": "markdown",
   "id": "2da702bb",
   "metadata": {},
   "source": [
    "We confirm that there no more `null value` inside the `html` column."
   ]
  },
  {
   "cell_type": "code",
   "execution_count": 42,
   "id": "8e4275ee",
   "metadata": {
    "scrolled": true
   },
   "outputs": [
    {
     "name": "stdout",
     "output_type": "stream",
     "text": [
      "editedAt have 4924716 null value\n",
      "fromUser.avatarUrl have 1818159 null value\n",
      "fromUser.gv have 31811 null value\n",
      "fromUser.removed have 5034141 null value\n",
      "fromUser.staff have 5037522 null value\n",
      "fromUser.v have 793591 null value\n",
      "status have 5021346 null value\n",
      "\n",
      " We have 7 columns containing null values.\n"
     ]
    }
   ],
   "source": [
    "#An overview on column, which column contain null value?\n",
    "i = 0\n",
    "for col in clean_freecodecamp_casual.columns:\n",
    "    if clean_freecodecamp_casual[col].isna().sum() > 0:\n",
    "        i += 1\n",
    "        print(f'{col} have {clean_freecodecamp_casual[col].isna().sum()} null value')\n",
    "print(f'\\n We have {i} columns containing null values.')"
   ]
  },
  {
   "cell_type": "code",
   "execution_count": 43,
   "id": "75dce4c0",
   "metadata": {},
   "outputs": [
    {
     "data": {
      "text/html": [
       "<div>\n",
       "<style scoped>\n",
       "    .dataframe tbody tr th:only-of-type {\n",
       "        vertical-align: middle;\n",
       "    }\n",
       "\n",
       "    .dataframe tbody tr th {\n",
       "        vertical-align: top;\n",
       "    }\n",
       "\n",
       "    .dataframe thead th {\n",
       "        text-align: right;\n",
       "    }\n",
       "</style>\n",
       "<table border=\"1\" class=\"dataframe\">\n",
       "  <thead>\n",
       "    <tr style=\"text-align: right;\">\n",
       "      <th></th>\n",
       "      <th>Unnamed: 0</th>\n",
       "      <th>editedAt</th>\n",
       "      <th>fromUser.avatarUrl</th>\n",
       "      <th>fromUser.avatarUrlMedium</th>\n",
       "      <th>fromUser.avatarUrlSmall</th>\n",
       "      <th>fromUser.displayName</th>\n",
       "      <th>fromUser.gv</th>\n",
       "      <th>fromUser.id</th>\n",
       "      <th>fromUser.removed</th>\n",
       "      <th>fromUser.staff</th>\n",
       "      <th>fromUser.url</th>\n",
       "      <th>fromUser.username</th>\n",
       "      <th>fromUser.v</th>\n",
       "      <th>html</th>\n",
       "      <th>id</th>\n",
       "      <th>issues</th>\n",
       "      <th>mentions</th>\n",
       "      <th>meta</th>\n",
       "      <th>readBy</th>\n",
       "      <th>sent</th>\n",
       "      <th>status</th>\n",
       "      <th>text</th>\n",
       "      <th>unread</th>\n",
       "      <th>urls</th>\n",
       "      <th>v</th>\n",
       "    </tr>\n",
       "  </thead>\n",
       "  <tbody>\n",
       "    <tr>\n",
       "      <th>2912046</th>\n",
       "      <td>1084046</td>\n",
       "      <td>NaT</td>\n",
       "      <td>https://avatars-04.gitter.im/gh/uv/3/Kiwilicious</td>\n",
       "      <td>https://avatars1.githubusercontent.com/u/20009...</td>\n",
       "      <td>https://avatars1.githubusercontent.com/u/20009...</td>\n",
       "      <td>Kiwilicious</td>\n",
       "      <td>3.0</td>\n",
       "      <td>583a51afd73408ce4f38df3b</td>\n",
       "      <td>NaN</td>\n",
       "      <td>NaN</td>\n",
       "      <td>/Kiwilicious</td>\n",
       "      <td>Kiwilicious</td>\n",
       "      <td>1.0</td>\n",
       "      <td>&lt;span data-link-type=\"mention\" data-screen-nam...</td>\n",
       "      <td>584030ca8d65e3830ec43179</td>\n",
       "      <td>[]</td>\n",
       "      <td>[{'userIds': [], 'userId': '55bd66500fc9f982be...</td>\n",
       "      <td>[]</td>\n",
       "      <td>30</td>\n",
       "      <td>2016-12-01 14:16:42.825000+00:00</td>\n",
       "      <td>NaN</td>\n",
       "      <td>@texas2010 Thanks, was wondering how to get it...</td>\n",
       "      <td>False</td>\n",
       "      <td>[]</td>\n",
       "      <td>1</td>\n",
       "    </tr>\n",
       "    <tr>\n",
       "      <th>582414</th>\n",
       "      <td>582414</td>\n",
       "      <td>NaT</td>\n",
       "      <td>NaN</td>\n",
       "      <td>https://avatars1.githubusercontent.com/u/15617...</td>\n",
       "      <td>https://avatars1.githubusercontent.com/u/15617...</td>\n",
       "      <td>@nViser</td>\n",
       "      <td>3.0</td>\n",
       "      <td>5637c02116b6c7089cb9376f</td>\n",
       "      <td>NaN</td>\n",
       "      <td>NaN</td>\n",
       "      <td>/nviser</td>\n",
       "      <td>nviser</td>\n",
       "      <td>2.0</td>\n",
       "      <td>&lt;p&gt;var Car = function() {&lt;br&gt;  //Change this c...</td>\n",
       "      <td>56424a5104a883da3838e250</td>\n",
       "      <td>[]</td>\n",
       "      <td>[]</td>\n",
       "      <td>[]</td>\n",
       "      <td>23</td>\n",
       "      <td>2015-11-10 19:49:37.622000+00:00</td>\n",
       "      <td>NaN</td>\n",
       "      <td>var Car = function() {\\n  //Change this constr...</td>\n",
       "      <td>False</td>\n",
       "      <td>[]</td>\n",
       "      <td>1</td>\n",
       "    </tr>\n",
       "    <tr>\n",
       "      <th>5000482</th>\n",
       "      <td>1444282</td>\n",
       "      <td>NaT</td>\n",
       "      <td>https://avatars-01.gitter.im/gh/uv/4/Pethaf</td>\n",
       "      <td>https://avatars2.githubusercontent.com/u/13156...</td>\n",
       "      <td>https://avatars2.githubusercontent.com/u/13156...</td>\n",
       "      <td>Pethaf</td>\n",
       "      <td>4.0</td>\n",
       "      <td>55959cd515522ed4b3e3438b</td>\n",
       "      <td>NaN</td>\n",
       "      <td>NaN</td>\n",
       "      <td>/Pethaf</td>\n",
       "      <td>Pethaf</td>\n",
       "      <td>28.0</td>\n",
       "      <td>Just coding up a pre-made design?</td>\n",
       "      <td>5a1137c2540c78242d200c45</td>\n",
       "      <td>[]</td>\n",
       "      <td>[]</td>\n",
       "      <td>[]</td>\n",
       "      <td>12</td>\n",
       "      <td>2017-11-19 07:50:26.602000+00:00</td>\n",
       "      <td>NaN</td>\n",
       "      <td>Just coding up a pre-made design?</td>\n",
       "      <td>False</td>\n",
       "      <td>[]</td>\n",
       "      <td>1</td>\n",
       "    </tr>\n",
       "    <tr>\n",
       "      <th>2038242</th>\n",
       "      <td>210242</td>\n",
       "      <td>NaT</td>\n",
       "      <td>https://avatars-04.gitter.im/gh/uv/3/combsco</td>\n",
       "      <td>https://avatars2.githubusercontent.com/u/15504...</td>\n",
       "      <td>https://avatars2.githubusercontent.com/u/15504...</td>\n",
       "      <td>Chris</td>\n",
       "      <td>3.0</td>\n",
       "      <td>55b6fc710fc9f982beab34c5</td>\n",
       "      <td>NaN</td>\n",
       "      <td>NaN</td>\n",
       "      <td>/combsco</td>\n",
       "      <td>combsco</td>\n",
       "      <td>165.0</td>\n",
       "      <td>No one cares about your unicode</td>\n",
       "      <td>577a847eef3990705ba573d2</td>\n",
       "      <td>[]</td>\n",
       "      <td>[]</td>\n",
       "      <td>[]</td>\n",
       "      <td>35</td>\n",
       "      <td>2016-07-04 15:45:02.167000+00:00</td>\n",
       "      <td>NaN</td>\n",
       "      <td>No one cares about your unicode</td>\n",
       "      <td>False</td>\n",
       "      <td>[]</td>\n",
       "      <td>1</td>\n",
       "    </tr>\n",
       "    <tr>\n",
       "      <th>3818487</th>\n",
       "      <td>262287</td>\n",
       "      <td>NaT</td>\n",
       "      <td>https://avatars-05.gitter.im/gh/uv/4/luishendr...</td>\n",
       "      <td>https://avatars1.githubusercontent.com/u/60394...</td>\n",
       "      <td>https://avatars1.githubusercontent.com/u/60394...</td>\n",
       "      <td>Luis Felipe López G.</td>\n",
       "      <td>4.0</td>\n",
       "      <td>55a098fd5e0d51bd787afe94</td>\n",
       "      <td>NaN</td>\n",
       "      <td>NaN</td>\n",
       "      <td>/luishendrix92</td>\n",
       "      <td>luishendrix92</td>\n",
       "      <td>99.0</td>\n",
       "      <td>ayyy</td>\n",
       "      <td>58e7b77468bee3091f1d6c92</td>\n",
       "      <td>[]</td>\n",
       "      <td>[]</td>\n",
       "      <td>[]</td>\n",
       "      <td>13</td>\n",
       "      <td>2017-04-07 15:59:48.512000+00:00</td>\n",
       "      <td>NaN</td>\n",
       "      <td>ayyy</td>\n",
       "      <td>False</td>\n",
       "      <td>[]</td>\n",
       "      <td>1</td>\n",
       "    </tr>\n",
       "  </tbody>\n",
       "</table>\n",
       "</div>"
      ],
      "text/plain": [
       "         Unnamed: 0 editedAt  \\\n",
       "2912046     1084046      NaT   \n",
       "582414       582414      NaT   \n",
       "5000482     1444282      NaT   \n",
       "2038242      210242      NaT   \n",
       "3818487      262287      NaT   \n",
       "\n",
       "                                        fromUser.avatarUrl  \\\n",
       "2912046   https://avatars-04.gitter.im/gh/uv/3/Kiwilicious   \n",
       "582414                                                 NaN   \n",
       "5000482        https://avatars-01.gitter.im/gh/uv/4/Pethaf   \n",
       "2038242       https://avatars-04.gitter.im/gh/uv/3/combsco   \n",
       "3818487  https://avatars-05.gitter.im/gh/uv/4/luishendr...   \n",
       "\n",
       "                                  fromUser.avatarUrlMedium  \\\n",
       "2912046  https://avatars1.githubusercontent.com/u/20009...   \n",
       "582414   https://avatars1.githubusercontent.com/u/15617...   \n",
       "5000482  https://avatars2.githubusercontent.com/u/13156...   \n",
       "2038242  https://avatars2.githubusercontent.com/u/15504...   \n",
       "3818487  https://avatars1.githubusercontent.com/u/60394...   \n",
       "\n",
       "                                   fromUser.avatarUrlSmall  \\\n",
       "2912046  https://avatars1.githubusercontent.com/u/20009...   \n",
       "582414   https://avatars1.githubusercontent.com/u/15617...   \n",
       "5000482  https://avatars2.githubusercontent.com/u/13156...   \n",
       "2038242  https://avatars2.githubusercontent.com/u/15504...   \n",
       "3818487  https://avatars1.githubusercontent.com/u/60394...   \n",
       "\n",
       "         fromUser.displayName  fromUser.gv               fromUser.id  \\\n",
       "2912046           Kiwilicious          3.0  583a51afd73408ce4f38df3b   \n",
       "582414                @nViser          3.0  5637c02116b6c7089cb9376f   \n",
       "5000482                Pethaf          4.0  55959cd515522ed4b3e3438b   \n",
       "2038242                 Chris          3.0  55b6fc710fc9f982beab34c5   \n",
       "3818487  Luis Felipe López G.          4.0  55a098fd5e0d51bd787afe94   \n",
       "\n",
       "        fromUser.removed fromUser.staff    fromUser.url fromUser.username  \\\n",
       "2912046              NaN            NaN    /Kiwilicious       Kiwilicious   \n",
       "582414               NaN            NaN         /nviser            nviser   \n",
       "5000482              NaN            NaN         /Pethaf            Pethaf   \n",
       "2038242              NaN            NaN        /combsco           combsco   \n",
       "3818487              NaN            NaN  /luishendrix92     luishendrix92   \n",
       "\n",
       "         fromUser.v                                               html  \\\n",
       "2912046         1.0  <span data-link-type=\"mention\" data-screen-nam...   \n",
       "582414          2.0  <p>var Car = function() {<br>  //Change this c...   \n",
       "5000482        28.0                  Just coding up a pre-made design?   \n",
       "2038242       165.0                    No one cares about your unicode   \n",
       "3818487        99.0                                               ayyy   \n",
       "\n",
       "                               id issues  \\\n",
       "2912046  584030ca8d65e3830ec43179     []   \n",
       "582414   56424a5104a883da3838e250     []   \n",
       "5000482  5a1137c2540c78242d200c45     []   \n",
       "2038242  577a847eef3990705ba573d2     []   \n",
       "3818487  58e7b77468bee3091f1d6c92     []   \n",
       "\n",
       "                                                  mentions meta  readBy  \\\n",
       "2912046  [{'userIds': [], 'userId': '55bd66500fc9f982be...   []      30   \n",
       "582414                                                  []   []      23   \n",
       "5000482                                                 []   []      12   \n",
       "2038242                                                 []   []      35   \n",
       "3818487                                                 []   []      13   \n",
       "\n",
       "                                    sent status  \\\n",
       "2912046 2016-12-01 14:16:42.825000+00:00    NaN   \n",
       "582414  2015-11-10 19:49:37.622000+00:00    NaN   \n",
       "5000482 2017-11-19 07:50:26.602000+00:00    NaN   \n",
       "2038242 2016-07-04 15:45:02.167000+00:00    NaN   \n",
       "3818487 2017-04-07 15:59:48.512000+00:00    NaN   \n",
       "\n",
       "                                                      text  unread urls  v  \n",
       "2912046  @texas2010 Thanks, was wondering how to get it...   False   []  1  \n",
       "582414   var Car = function() {\\n  //Change this constr...   False   []  1  \n",
       "5000482                  Just coding up a pre-made design?   False   []  1  \n",
       "2038242                    No one cares about your unicode   False   []  1  \n",
       "3818487                                               ayyy   False   []  1  "
      ]
     },
     "execution_count": 43,
     "metadata": {},
     "output_type": "execute_result"
    }
   ],
   "source": [
    "#Head\n",
    "clean_freecodecamp_casual.sample(5)"
   ]
  },
  {
   "cell_type": "markdown",
   "id": "5eed02c9",
   "metadata": {},
   "source": [
    "#### Column fromUser.gv - 31811 null value\n",
    "\n",
    "We don't really at this moment understand what this column remain but it contains only `0.63%` null values."
   ]
  },
  {
   "cell_type": "code",
   "execution_count": 44,
   "id": "08feb902",
   "metadata": {},
   "outputs": [
    {
     "data": {
      "text/plain": [
       "(0.628999090441729, 5025589)"
      ]
     },
     "execution_count": 44,
     "metadata": {},
     "output_type": "execute_result"
    }
   ],
   "source": [
    "#Percentage               #Total notnull\n",
    "(31811 / 5057400 ) * 100, 5057400 - 31811"
   ]
  },
  {
   "cell_type": "code",
   "execution_count": 45,
   "id": "42548b39",
   "metadata": {
    "scrolled": true
   },
   "outputs": [
    {
     "data": {
      "text/plain": [
       "3.0    3946072\n",
       "4.0    1059666\n",
       "Name: fromUser.gv, dtype: int64"
      ]
     },
     "execution_count": 45,
     "metadata": {},
     "output_type": "execute_result"
    }
   ],
   "source": [
    "#Overview on fromUser.gv column\n",
    "clean_freecodecamp_casual['fromUser.gv'].value_counts()"
   ]
  },
  {
   "cell_type": "markdown",
   "id": "1b1d74f8",
   "metadata": {},
   "source": [
    "We notice that it's only 2 values inside this column **[3 or 4].** So we can decide to `delete all the null values` because it will not impact the dataset."
   ]
  },
  {
   "cell_type": "code",
   "execution_count": 46,
   "id": "ae223a0a",
   "metadata": {},
   "outputs": [
    {
     "name": "stdout",
     "output_type": "stream",
     "text": [
      "31811\n"
     ]
    }
   ],
   "source": [
    "#Deleting them\n",
    "#Get all rows index\n",
    "ind_tex = clean_freecodecamp_casual[clean_freecodecamp_casual['fromUser.gv'].isna()].index.values.tolist()\n",
    "print(len(ind_tex))\n",
    "\n",
    "#deleting all these index in my datasaet\n",
    "# for i in ind_tex:\n",
    "clean_freecodecamp_casual = clean_freecodecamp_casual.drop(ind_tex)"
   ]
  },
  {
   "cell_type": "code",
   "execution_count": 47,
   "id": "cfcb577e",
   "metadata": {},
   "outputs": [
    {
     "data": {
      "text/plain": [
       "0"
      ]
     },
     "execution_count": 47,
     "metadata": {},
     "output_type": "execute_result"
    }
   ],
   "source": [
    "#Sanity check\n",
    "clean_freecodecamp_casual['fromUser.gv'].isna().sum()"
   ]
  },
  {
   "cell_type": "markdown",
   "id": "dc4eaefd",
   "metadata": {},
   "source": [
    "We confirm that there no more `null value` inside the `fromUser.gv` column."
   ]
  },
  {
   "cell_type": "markdown",
   "id": "16fb2153",
   "metadata": {},
   "source": [
    "#### Column fromUser.avatarUrl  - 1818159  null value\n",
    "\n",
    "This column contains urls redirecting to the image of each user. In this column we have `36%` of null values.\n"
   ]
  },
  {
   "cell_type": "code",
   "execution_count": 48,
   "id": "d359bc81",
   "metadata": {},
   "outputs": [
    {
     "data": {
      "text/plain": [
       "(35.95046862023965, 3239241)"
      ]
     },
     "execution_count": 48,
     "metadata": {},
     "output_type": "execute_result"
    }
   ],
   "source": [
    "#Percentage               #Total notnull\n",
    "(1818159 / 5057400 ) * 100, 5057400 - 1818159"
   ]
  },
  {
   "cell_type": "code",
   "execution_count": 49,
   "id": "c0e0ffc1",
   "metadata": {},
   "outputs": [
    {
     "data": {
      "text/plain": [
       "https://avatars-01.gitter.im/gh/uv/3/camperbot           251542\n",
       "https://avatars-05.gitter.im/gh/uv/4/jodylecompte         83606\n",
       "https://avatars-04.gitter.im/gh/uv/4/qmikew1              72182\n",
       "https://avatars-05.gitter.im/gh/uv/3/apottr               65198\n",
       "https://avatars-04.gitter.im/gh/uv/4/mstellaluna          63676\n",
       "                                                          ...  \n",
       "https://avatars-05.gitter.im/gh/uv/3/Nassaramuto              1\n",
       "https://avatars-04.gitter.im/gh/uv/3/Jason-k83                1\n",
       "https://avatars-03.gitter.im/gh/uv/3/nicuosan                 1\n",
       "https://avatars-03.gitter.im/gh/uv/3/Dariuskr                 1\n",
       "https://avatars-04.gitter.im/gh/uv/3/PatriciaMendozas         1\n",
       "Name: fromUser.avatarUrl, Length: 137285, dtype: int64"
      ]
     },
     "execution_count": 49,
     "metadata": {},
     "output_type": "execute_result"
    }
   ],
   "source": [
    "#Overview on fromUser.gv column\n",
    "clean_freecodecamp_casual['fromUser.avatarUrl'].value_counts()"
   ]
  },
  {
   "cell_type": "code",
   "execution_count": 50,
   "id": "c10e301d",
   "metadata": {},
   "outputs": [
    {
     "data": {
      "text/html": [
       "<div>\n",
       "<style scoped>\n",
       "    .dataframe tbody tr th:only-of-type {\n",
       "        vertical-align: middle;\n",
       "    }\n",
       "\n",
       "    .dataframe tbody tr th {\n",
       "        vertical-align: top;\n",
       "    }\n",
       "\n",
       "    .dataframe thead th {\n",
       "        text-align: right;\n",
       "    }\n",
       "</style>\n",
       "<table border=\"1\" class=\"dataframe\">\n",
       "  <thead>\n",
       "    <tr style=\"text-align: right;\">\n",
       "      <th></th>\n",
       "      <th>Unnamed: 0</th>\n",
       "      <th>editedAt</th>\n",
       "      <th>fromUser.avatarUrl</th>\n",
       "      <th>fromUser.avatarUrlMedium</th>\n",
       "      <th>fromUser.avatarUrlSmall</th>\n",
       "      <th>fromUser.displayName</th>\n",
       "      <th>fromUser.gv</th>\n",
       "      <th>fromUser.id</th>\n",
       "      <th>fromUser.removed</th>\n",
       "      <th>fromUser.staff</th>\n",
       "      <th>fromUser.url</th>\n",
       "      <th>fromUser.username</th>\n",
       "      <th>fromUser.v</th>\n",
       "      <th>html</th>\n",
       "      <th>id</th>\n",
       "      <th>issues</th>\n",
       "      <th>mentions</th>\n",
       "      <th>meta</th>\n",
       "      <th>readBy</th>\n",
       "      <th>sent</th>\n",
       "      <th>status</th>\n",
       "      <th>text</th>\n",
       "      <th>unread</th>\n",
       "      <th>urls</th>\n",
       "      <th>v</th>\n",
       "    </tr>\n",
       "  </thead>\n",
       "  <tbody>\n",
       "    <tr>\n",
       "      <th>243525</th>\n",
       "      <td>243525</td>\n",
       "      <td>NaT</td>\n",
       "      <td>NaN</td>\n",
       "      <td>https://avatars1.githubusercontent.com/u/98070...</td>\n",
       "      <td>https://avatars1.githubusercontent.com/u/98070...</td>\n",
       "      <td>Deiphage</td>\n",
       "      <td>3.0</td>\n",
       "      <td>55aebb240fc9f982beaa7c92</td>\n",
       "      <td>NaN</td>\n",
       "      <td>NaN</td>\n",
       "      <td>/deiphage</td>\n",
       "      <td>deiphage</td>\n",
       "      <td>NaN</td>\n",
       "      <td>Just read the code of conduct. Pretty awesome.</td>\n",
       "      <td>55aebf459402748911921f3b</td>\n",
       "      <td>[]</td>\n",
       "      <td>[]</td>\n",
       "      <td>[]</td>\n",
       "      <td>41</td>\n",
       "      <td>2015-07-21 21:53:09.530000+00:00</td>\n",
       "      <td>NaN</td>\n",
       "      <td>Just read the code of conduct. Pretty awesome.</td>\n",
       "      <td>False</td>\n",
       "      <td>[]</td>\n",
       "      <td>1</td>\n",
       "    </tr>\n",
       "    <tr>\n",
       "      <th>793501</th>\n",
       "      <td>793501</td>\n",
       "      <td>NaT</td>\n",
       "      <td>NaN</td>\n",
       "      <td>https://avatars1.githubusercontent.com/u/13561...</td>\n",
       "      <td>https://avatars1.githubusercontent.com/u/13561...</td>\n",
       "      <td>CamperBot</td>\n",
       "      <td>3.0</td>\n",
       "      <td>55b977f00fc9f982beab7883</td>\n",
       "      <td>NaN</td>\n",
       "      <td>NaN</td>\n",
       "      <td>/camperbot</td>\n",
       "      <td>camperbot</td>\n",
       "      <td>1.0</td>\n",
       "      <td>&lt;blockquote&gt;\\nrphares sends brownie points to ...</td>\n",
       "      <td>5676b677091b6f9e0439e963</td>\n",
       "      <td>[]</td>\n",
       "      <td>[{'userIds': [], 'screenName': 'bvpenn'}]</td>\n",
       "      <td>[]</td>\n",
       "      <td>50</td>\n",
       "      <td>2015-12-20 14:08:55.308000+00:00</td>\n",
       "      <td>NaN</td>\n",
       "      <td>&gt; rphares sends brownie points to @bvpenn :spa...</td>\n",
       "      <td>False</td>\n",
       "      <td>[]</td>\n",
       "      <td>1</td>\n",
       "    </tr>\n",
       "    <tr>\n",
       "      <th>301981</th>\n",
       "      <td>301981</td>\n",
       "      <td>NaT</td>\n",
       "      <td>NaN</td>\n",
       "      <td>https://avatars0.githubusercontent.com/u/11507...</td>\n",
       "      <td>https://avatars0.githubusercontent.com/u/11507...</td>\n",
       "      <td>genesisjoec</td>\n",
       "      <td>3.0</td>\n",
       "      <td>559ec5a715522ed4b3e3bf38</td>\n",
       "      <td>NaN</td>\n",
       "      <td>NaN</td>\n",
       "      <td>/genesisjoec</td>\n",
       "      <td>genesisjoec</td>\n",
       "      <td>NaN</td>\n",
       "      <td>(from texas)</td>\n",
       "      <td>55c781857f578b465ff46ee4</td>\n",
       "      <td>[]</td>\n",
       "      <td>[]</td>\n",
       "      <td>[]</td>\n",
       "      <td>28</td>\n",
       "      <td>2015-08-09 16:36:21.372000+00:00</td>\n",
       "      <td>NaN</td>\n",
       "      <td>(from texas)</td>\n",
       "      <td>False</td>\n",
       "      <td>[]</td>\n",
       "      <td>1</td>\n",
       "    </tr>\n",
       "    <tr>\n",
       "      <th>1244439</th>\n",
       "      <td>1244439</td>\n",
       "      <td>NaT</td>\n",
       "      <td>NaN</td>\n",
       "      <td>https://avatars1.githubusercontent.com/u/13352...</td>\n",
       "      <td>https://avatars1.githubusercontent.com/u/13352...</td>\n",
       "      <td>Serenity</td>\n",
       "      <td>3.0</td>\n",
       "      <td>55a7c9e08a7b72f55c3f991e</td>\n",
       "      <td>NaN</td>\n",
       "      <td>NaN</td>\n",
       "      <td>/qmikew1</td>\n",
       "      <td>qmikew1</td>\n",
       "      <td>69.0</td>\n",
       "      <td>and singing to them while doing the dishes</td>\n",
       "      <td>56d3c3e6649ae49a694b2d19</td>\n",
       "      <td>[]</td>\n",
       "      <td>[]</td>\n",
       "      <td>[]</td>\n",
       "      <td>75</td>\n",
       "      <td>2016-02-29 04:07:02.709000+00:00</td>\n",
       "      <td>NaN</td>\n",
       "      <td>and singing to them while doing the dishes</td>\n",
       "      <td>False</td>\n",
       "      <td>[]</td>\n",
       "      <td>1</td>\n",
       "    </tr>\n",
       "    <tr>\n",
       "      <th>1193095</th>\n",
       "      <td>1193095</td>\n",
       "      <td>NaT</td>\n",
       "      <td>NaN</td>\n",
       "      <td>https://avatars2.githubusercontent.com/u/11723...</td>\n",
       "      <td>https://avatars2.githubusercontent.com/u/11723...</td>\n",
       "      <td>Mark Canning</td>\n",
       "      <td>3.0</td>\n",
       "      <td>56c935e2e610378809c28ba9</td>\n",
       "      <td>NaN</td>\n",
       "      <td>NaN</td>\n",
       "      <td>/Maakux</td>\n",
       "      <td>Maakux</td>\n",
       "      <td>NaN</td>\n",
       "      <td>They are the kind of people that say ‘well, it...</td>\n",
       "      <td>56c9df57833e58f50fb07728</td>\n",
       "      <td>[]</td>\n",
       "      <td>[]</td>\n",
       "      <td>[]</td>\n",
       "      <td>74</td>\n",
       "      <td>2016-02-21 16:01:27.879000+00:00</td>\n",
       "      <td>NaN</td>\n",
       "      <td>They are the kind of people that say ‘well, it...</td>\n",
       "      <td>False</td>\n",
       "      <td>[]</td>\n",
       "      <td>1</td>\n",
       "    </tr>\n",
       "  </tbody>\n",
       "</table>\n",
       "</div>"
      ],
      "text/plain": [
       "         Unnamed: 0 editedAt fromUser.avatarUrl  \\\n",
       "243525       243525      NaT                NaN   \n",
       "793501       793501      NaT                NaN   \n",
       "301981       301981      NaT                NaN   \n",
       "1244439     1244439      NaT                NaN   \n",
       "1193095     1193095      NaT                NaN   \n",
       "\n",
       "                                  fromUser.avatarUrlMedium  \\\n",
       "243525   https://avatars1.githubusercontent.com/u/98070...   \n",
       "793501   https://avatars1.githubusercontent.com/u/13561...   \n",
       "301981   https://avatars0.githubusercontent.com/u/11507...   \n",
       "1244439  https://avatars1.githubusercontent.com/u/13352...   \n",
       "1193095  https://avatars2.githubusercontent.com/u/11723...   \n",
       "\n",
       "                                   fromUser.avatarUrlSmall  \\\n",
       "243525   https://avatars1.githubusercontent.com/u/98070...   \n",
       "793501   https://avatars1.githubusercontent.com/u/13561...   \n",
       "301981   https://avatars0.githubusercontent.com/u/11507...   \n",
       "1244439  https://avatars1.githubusercontent.com/u/13352...   \n",
       "1193095  https://avatars2.githubusercontent.com/u/11723...   \n",
       "\n",
       "        fromUser.displayName  fromUser.gv               fromUser.id  \\\n",
       "243525              Deiphage          3.0  55aebb240fc9f982beaa7c92   \n",
       "793501             CamperBot          3.0  55b977f00fc9f982beab7883   \n",
       "301981           genesisjoec          3.0  559ec5a715522ed4b3e3bf38   \n",
       "1244439             Serenity          3.0  55a7c9e08a7b72f55c3f991e   \n",
       "1193095         Mark Canning          3.0  56c935e2e610378809c28ba9   \n",
       "\n",
       "        fromUser.removed fromUser.staff  fromUser.url fromUser.username  \\\n",
       "243525               NaN            NaN     /deiphage          deiphage   \n",
       "793501               NaN            NaN    /camperbot         camperbot   \n",
       "301981               NaN            NaN  /genesisjoec       genesisjoec   \n",
       "1244439              NaN            NaN      /qmikew1           qmikew1   \n",
       "1193095              NaN            NaN       /Maakux            Maakux   \n",
       "\n",
       "         fromUser.v                                               html  \\\n",
       "243525          NaN    Just read the code of conduct. Pretty awesome.    \n",
       "793501          1.0  <blockquote>\\nrphares sends brownie points to ...   \n",
       "301981          NaN                                       (from texas)   \n",
       "1244439        69.0         and singing to them while doing the dishes   \n",
       "1193095         NaN  They are the kind of people that say ‘well, it...   \n",
       "\n",
       "                               id issues  \\\n",
       "243525   55aebf459402748911921f3b     []   \n",
       "793501   5676b677091b6f9e0439e963     []   \n",
       "301981   55c781857f578b465ff46ee4     []   \n",
       "1244439  56d3c3e6649ae49a694b2d19     []   \n",
       "1193095  56c9df57833e58f50fb07728     []   \n",
       "\n",
       "                                          mentions meta  readBy  \\\n",
       "243525                                          []   []      41   \n",
       "793501   [{'userIds': [], 'screenName': 'bvpenn'}]   []      50   \n",
       "301981                                          []   []      28   \n",
       "1244439                                         []   []      75   \n",
       "1193095                                         []   []      74   \n",
       "\n",
       "                                    sent status  \\\n",
       "243525  2015-07-21 21:53:09.530000+00:00    NaN   \n",
       "793501  2015-12-20 14:08:55.308000+00:00    NaN   \n",
       "301981  2015-08-09 16:36:21.372000+00:00    NaN   \n",
       "1244439 2016-02-29 04:07:02.709000+00:00    NaN   \n",
       "1193095 2016-02-21 16:01:27.879000+00:00    NaN   \n",
       "\n",
       "                                                      text  unread urls  v  \n",
       "243525     Just read the code of conduct. Pretty awesome.    False   []  1  \n",
       "793501   > rphares sends brownie points to @bvpenn :spa...   False   []  1  \n",
       "301981                                        (from texas)   False   []  1  \n",
       "1244439         and singing to them while doing the dishes   False   []  1  \n",
       "1193095  They are the kind of people that say ‘well, it...   False   []  1  "
      ]
     },
     "execution_count": 50,
     "metadata": {},
     "output_type": "execute_result"
    }
   ],
   "source": [
    "#Overview on some sample row containing null value in fromUser.avatarUrl\n",
    "clean_freecodecamp_casual[clean_freecodecamp_casual['fromUser.avatarUrl'].isna()].sample(5)"
   ]
  },
  {
   "cell_type": "markdown",
   "id": "b848f965",
   "metadata": {},
   "source": [
    "The understanding of the dataset, allows us to assume that the columns `fromUser.avatarUrl, fromUser.avatarUrlMedium, fromUser.avatarUrlSmall` contain the urls to the user's images but at different sizes.\n",
    "\n",
    "It's not really relevant for what we are doing to have all image size, so we can just deleting this column because it can be consider as a duplicate for `fromUser.avatarUrlMedium`"
   ]
  },
  {
   "cell_type": "code",
   "execution_count": 51,
   "id": "51e05594",
   "metadata": {},
   "outputs": [
    {
     "name": "stdout",
     "output_type": "stream",
     "text": [
      "<class 'pandas.core.frame.DataFrame'>\n",
      "Int64Index: 5005738 entries, 0 to 5057399\n",
      "Data columns (total 24 columns):\n",
      " #   Column                    Dtype              \n",
      "---  ------                    -----              \n",
      " 0   Unnamed: 0                int64              \n",
      " 1   editedAt                  datetime64[ns, UTC]\n",
      " 2   fromUser.avatarUrlMedium  object             \n",
      " 3   fromUser.avatarUrlSmall   object             \n",
      " 4   fromUser.displayName      object             \n",
      " 5   fromUser.gv               float64            \n",
      " 6   fromUser.id               object             \n",
      " 7   fromUser.removed          object             \n",
      " 8   fromUser.staff            object             \n",
      " 9   fromUser.url              object             \n",
      " 10  fromUser.username         object             \n",
      " 11  fromUser.v                float64            \n",
      " 12  html                      object             \n",
      " 13  id                        object             \n",
      " 14  issues                    object             \n",
      " 15  mentions                  object             \n",
      " 16  meta                      object             \n",
      " 17  readBy                    int64              \n",
      " 18  sent                      datetime64[ns, UTC]\n",
      " 19  status                    object             \n",
      " 20  text                      object             \n",
      " 21  unread                    bool               \n",
      " 22  urls                      object             \n",
      " 23  v                         int64              \n",
      "dtypes: bool(1), datetime64[ns, UTC](2), float64(2), int64(3), object(16)\n",
      "memory usage: 921.4+ MB\n"
     ]
    }
   ],
   "source": [
    "#Delete fromUser.avatarUrl column\n",
    "clean_freecodecamp_casual = clean_freecodecamp_casual.drop(columns=['fromUser.avatarUrl'])\n",
    "\n",
    "#sanity check\n",
    "clean_freecodecamp_casual.info()"
   ]
  },
  {
   "cell_type": "code",
   "execution_count": 52,
   "id": "20983d77",
   "metadata": {},
   "outputs": [
    {
     "name": "stdout",
     "output_type": "stream",
     "text": [
      "editedAt have 4893102 null value\n",
      "fromUser.removed have 5002337 null value\n",
      "fromUser.staff have 5005711 null value\n",
      "fromUser.v have 775307 null value\n",
      "status have 4989563 null value\n",
      "\n",
      " We have 5 columns containing null values.\n"
     ]
    }
   ],
   "source": [
    "#An overview on column, which column contain null value?\n",
    "i = 0\n",
    "for col in clean_freecodecamp_casual.columns:\n",
    "    if clean_freecodecamp_casual[col].isna().sum() > 0:\n",
    "        i += 1\n",
    "        print(f'{col} have {clean_freecodecamp_casual[col].isna().sum()} null value')\n",
    "print(f'\\n We have {i} columns containing null values.')"
   ]
  },
  {
   "cell_type": "markdown",
   "id": "5845f2f8",
   "metadata": {},
   "source": [
    "#### Column fromUser.removed  - 5002337  null value\n",
    "\n",
    "This column contains the status of an user, if he was `removed` or not. In this column we have `99%` of null values."
   ]
  },
  {
   "cell_type": "code",
   "execution_count": 53,
   "id": "bfb14a64",
   "metadata": {},
   "outputs": [
    {
     "data": {
      "text/plain": [
       "(99.93205797027332, 3401)"
      ]
     },
     "execution_count": 53,
     "metadata": {},
     "output_type": "execute_result"
    }
   ],
   "source": [
    "#Percentage               #Total notnull\n",
    "(5002337 / 5005738 ) * 100, 5005738 - 5002337"
   ]
  },
  {
   "cell_type": "code",
   "execution_count": 54,
   "id": "3e3c83f3",
   "metadata": {},
   "outputs": [
    {
     "data": {
      "text/plain": [
       "True    3401\n",
       "Name: fromUser.removed, dtype: int64"
      ]
     },
     "execution_count": 54,
     "metadata": {},
     "output_type": "execute_result"
    }
   ],
   "source": [
    "#Overview on the distribution on fromUser.removed\n",
    "clean_freecodecamp_casual['fromUser.removed'].value_counts()"
   ]
  },
  {
   "cell_type": "markdown",
   "id": "67bb1c0d",
   "metadata": {},
   "source": [
    "We only have `True` value in our dataset concerning the `fromUser.removed` so we can assume that the null values correspond for us to `False` value.\n",
    "\n",
    "We assume this null value is **False.**\n",
    "\n",
    "For more usage, we will transform our `True/False` by `1/0` to have binary value to work with that.\n",
    "- True => 1\n",
    "- False/NaN => 0"
   ]
  },
  {
   "cell_type": "code",
   "execution_count": 55,
   "id": "1dce2c72",
   "metadata": {},
   "outputs": [],
   "source": [
    "#We transform our  value in this column\n",
    "clean_freecodecamp_casual['fromUser.removed'] = np.where(clean_freecodecamp_casual['fromUser.removed'] == True, 1, 0)"
   ]
  },
  {
   "cell_type": "code",
   "execution_count": 56,
   "id": "fb653cc2",
   "metadata": {},
   "outputs": [
    {
     "data": {
      "text/plain": [
       "0"
      ]
     },
     "execution_count": 56,
     "metadata": {},
     "output_type": "execute_result"
    }
   ],
   "source": [
    "#Sanity check\n",
    "clean_freecodecamp_casual['fromUser.removed'].isna().sum()"
   ]
  },
  {
   "cell_type": "code",
   "execution_count": 69,
   "id": "da935a7d",
   "metadata": {},
   "outputs": [
    {
     "data": {
      "text/plain": [
       "0    5002337\n",
       "1       3401\n",
       "Name: fromUser.removed, dtype: int64"
      ]
     },
     "execution_count": 69,
     "metadata": {},
     "output_type": "execute_result"
    }
   ],
   "source": [
    "#Sanity check\n",
    "clean_freecodecamp_casual['fromUser.removed'].value_counts()"
   ]
  },
  {
   "cell_type": "markdown",
   "id": "f6bc8823",
   "metadata": {},
   "source": [
    "We confirm that there no more `null value` inside the `fromUser.removed` column."
   ]
  },
  {
   "cell_type": "code",
   "execution_count": 58,
   "id": "4606ef9d",
   "metadata": {},
   "outputs": [
    {
     "name": "stdout",
     "output_type": "stream",
     "text": [
      "editedAt have 4893102 null value\n",
      "fromUser.staff have 5005711 null value\n",
      "fromUser.v have 775307 null value\n",
      "status have 4989563 null value\n",
      "\n",
      " We have 4 columns containing null values.\n"
     ]
    }
   ],
   "source": [
    "#An overview on column, which column contain null value?\n",
    "i = 0\n",
    "for col in clean_freecodecamp_casual.columns:\n",
    "    if clean_freecodecamp_casual[col].isna().sum() > 0:\n",
    "        i += 1\n",
    "        print(f'{col} have {clean_freecodecamp_casual[col].isna().sum()} null value')\n",
    "print(f'\\n We have {i} columns containing null values.')"
   ]
  },
  {
   "cell_type": "code",
   "execution_count": 60,
   "id": "c0b9385e",
   "metadata": {},
   "outputs": [],
   "source": [
    "# clean_freecodecamp_casual.info()"
   ]
  },
  {
   "cell_type": "markdown",
   "id": "d6a09e99",
   "metadata": {},
   "source": [
    "#### Column fromUser.staff  - 5005711  null value\n",
    "\n",
    "This column contains the status of an user, if he was `staff member` or not. In this column we have `99%` of null values."
   ]
  },
  {
   "cell_type": "code",
   "execution_count": 61,
   "id": "29b417af",
   "metadata": {},
   "outputs": [
    {
     "data": {
      "text/plain": [
       "(99.99946061899364, 27)"
      ]
     },
     "execution_count": 61,
     "metadata": {},
     "output_type": "execute_result"
    }
   ],
   "source": [
    "#Percentage               #Total notnull\n",
    "(5005711 / 5005738 ) * 100, 5005738 - 5005711"
   ]
  },
  {
   "cell_type": "code",
   "execution_count": 62,
   "id": "c58005c6",
   "metadata": {},
   "outputs": [
    {
     "data": {
      "text/plain": [
       "True    27\n",
       "Name: fromUser.staff, dtype: int64"
      ]
     },
     "execution_count": 62,
     "metadata": {},
     "output_type": "execute_result"
    }
   ],
   "source": [
    "#Overview on the distribution on fromUser.removed\n",
    "clean_freecodecamp_casual['fromUser.staff'].value_counts()"
   ]
  },
  {
   "cell_type": "markdown",
   "id": "550990f5",
   "metadata": {},
   "source": [
    "We only have `True` value in our dataset concerning the `fromUser.staff` so we can assume that the null values correspond for us to `False` value.\n",
    "\n",
    "We assume this null value is **False.**\n",
    "\n",
    "For more usage, we will transform our `True/False` by `1/0` to have binary value to work with that.\n",
    "- True => 1\n",
    "- False/NaN => 0"
   ]
  },
  {
   "cell_type": "code",
   "execution_count": 63,
   "id": "f85390c6",
   "metadata": {},
   "outputs": [],
   "source": [
    "#We transform our  value in this column\n",
    "clean_freecodecamp_casual['fromUser.staff'] = np.where(clean_freecodecamp_casual['fromUser.staff'] == True, 1, 0)"
   ]
  },
  {
   "cell_type": "code",
   "execution_count": 64,
   "id": "f322b805",
   "metadata": {},
   "outputs": [
    {
     "data": {
      "text/plain": [
       "0"
      ]
     },
     "execution_count": 64,
     "metadata": {},
     "output_type": "execute_result"
    }
   ],
   "source": [
    "#Sanity check\n",
    "clean_freecodecamp_casual['fromUser.staff'].isna().sum()"
   ]
  },
  {
   "cell_type": "code",
   "execution_count": 65,
   "id": "393e7faf",
   "metadata": {
    "scrolled": true
   },
   "outputs": [
    {
     "data": {
      "text/plain": [
       "0    5005711\n",
       "1         27\n",
       "Name: fromUser.staff, dtype: int64"
      ]
     },
     "execution_count": 65,
     "metadata": {},
     "output_type": "execute_result"
    }
   ],
   "source": [
    "#Sanity check\n",
    "clean_freecodecamp_casual['fromUser.staff'].value_counts()"
   ]
  },
  {
   "cell_type": "markdown",
   "id": "c8696a33",
   "metadata": {},
   "source": [
    "We confirm that there no more `null value` inside the `fromUser.staff` column."
   ]
  },
  {
   "cell_type": "code",
   "execution_count": 71,
   "id": "66641e52",
   "metadata": {},
   "outputs": [
    {
     "name": "stdout",
     "output_type": "stream",
     "text": [
      "editedAt have 4893102 null value\n",
      "fromUser.v have 775307 null value\n",
      "status have 4989563 null value\n",
      "\n",
      " We have 3 columns containing null values.\n"
     ]
    }
   ],
   "source": [
    "#An overview on column, which column contain null value?\n",
    "i = 0\n",
    "for col in clean_freecodecamp_casual.columns:\n",
    "    if clean_freecodecamp_casual[col].isna().sum() > 0:\n",
    "        i += 1\n",
    "        print(f'{col} have {clean_freecodecamp_casual[col].isna().sum()} null value')\n",
    "print(f'\\n We have {i} columns containing null values.')"
   ]
  },
  {
   "cell_type": "markdown",
   "id": "691baa36",
   "metadata": {},
   "source": [
    "#### Column status  - 4989563  null value\n",
    "\n",
    "This column contains the status of an user, but it's not clairly mentionned which kind of status it is. In this column we have `99%` of null values."
   ]
  },
  {
   "cell_type": "code",
   "execution_count": 73,
   "id": "4d5dcdf0",
   "metadata": {},
   "outputs": [
    {
     "data": {
      "text/plain": [
       "(99.67687082304347, 16175)"
      ]
     },
     "execution_count": 73,
     "metadata": {},
     "output_type": "execute_result"
    }
   ],
   "source": [
    "#Percentage               #Total notnull\n",
    "(4989563 / 5005738 ) * 100, 5005738 - 4989563"
   ]
  },
  {
   "cell_type": "code",
   "execution_count": 75,
   "id": "e8ce0fa1",
   "metadata": {},
   "outputs": [
    {
     "data": {
      "text/plain": [
       "count     16175\n",
       "unique        2\n",
       "top        True\n",
       "freq      12938\n",
       "Name: status, dtype: object"
      ]
     },
     "execution_count": 75,
     "metadata": {},
     "output_type": "execute_result"
    }
   ],
   "source": [
    "#Looking into the distribution\n",
    "clean_freecodecamp_casual['status'].describe()"
   ]
  },
  {
   "cell_type": "markdown",
   "id": "4f465a21",
   "metadata": {},
   "source": [
    "This column doesn't contain enough data to work on it, because:\n",
    "- We need a dataset with more than >50000 rows, but this column only have 16175 valide rows\n",
    "- We cannot replace the null value by one of the possible value True/False, because it will change the distribution of this column in the dataset\n",
    "\n",
    "So in conclusion we choose to remove the column from out dataset."
   ]
  },
  {
   "cell_type": "code",
   "execution_count": 76,
   "id": "f60db43f",
   "metadata": {
    "scrolled": false
   },
   "outputs": [
    {
     "name": "stdout",
     "output_type": "stream",
     "text": [
      "<class 'pandas.core.frame.DataFrame'>\n",
      "Int64Index: 5005738 entries, 0 to 5057399\n",
      "Data columns (total 23 columns):\n",
      " #   Column                    Dtype              \n",
      "---  ------                    -----              \n",
      " 0   Unnamed: 0                int64              \n",
      " 1   editedAt                  datetime64[ns, UTC]\n",
      " 2   fromUser.avatarUrlMedium  object             \n",
      " 3   fromUser.avatarUrlSmall   object             \n",
      " 4   fromUser.displayName      object             \n",
      " 5   fromUser.gv               float64            \n",
      " 6   fromUser.id               object             \n",
      " 7   fromUser.removed          int64              \n",
      " 8   fromUser.staff            int64              \n",
      " 9   fromUser.url              object             \n",
      " 10  fromUser.username         object             \n",
      " 11  fromUser.v                float64            \n",
      " 12  html                      object             \n",
      " 13  id                        object             \n",
      " 14  issues                    object             \n",
      " 15  mentions                  object             \n",
      " 16  meta                      object             \n",
      " 17  readBy                    int64              \n",
      " 18  sent                      datetime64[ns, UTC]\n",
      " 19  text                      object             \n",
      " 20  unread                    bool               \n",
      " 21  urls                      object             \n",
      " 22  v                         int64              \n",
      "dtypes: bool(1), datetime64[ns, UTC](2), float64(2), int64(5), object(13)\n",
      "memory usage: 883.2+ MB\n"
     ]
    }
   ],
   "source": [
    "#Delete status column\n",
    "clean_freecodecamp_casual = clean_freecodecamp_casual.drop(columns=['status'])\n",
    "\n",
    "#sanity check\n",
    "clean_freecodecamp_casual.info()"
   ]
  },
  {
   "cell_type": "markdown",
   "id": "e425e9a9",
   "metadata": {},
   "source": [
    "We confirm that the `status` column no more exists in our dataset."
   ]
  },
  {
   "cell_type": "markdown",
   "id": "f2e08d56",
   "metadata": {},
   "source": [
    "#### Column fromUser.v  - 775307  null value\n",
    "\n",
    "This column contains numeric value but it's not clairly specify on what it is refer to. In this column we have `16%` of null values."
   ]
  },
  {
   "cell_type": "code",
   "execution_count": 77,
   "id": "8c40e563",
   "metadata": {},
   "outputs": [
    {
     "data": {
      "text/plain": [
       "(15.488365551692876, 4230431)"
      ]
     },
     "execution_count": 77,
     "metadata": {},
     "output_type": "execute_result"
    }
   ],
   "source": [
    "#Percentage               #Total notnull\n",
    "(775307 / 5005738 ) * 100, 5005738 - 775307"
   ]
  },
  {
   "cell_type": "code",
   "execution_count": 89,
   "id": "cc53aad3",
   "metadata": {},
   "outputs": [
    {
     "data": {
      "text/plain": [
       "1.0      728254\n",
       "2.0      612751\n",
       "3.0      249094\n",
       "6.0      216635\n",
       "4.0      167432\n",
       "          ...  \n",
       "229.0         1\n",
       "393.0         1\n",
       "140.0         1\n",
       "244.0         1\n",
       "131.0         1\n",
       "Name: fromUser.v, Length: 219, dtype: int64"
      ]
     },
     "execution_count": 89,
     "metadata": {},
     "output_type": "execute_result"
    }
   ],
   "source": [
    "#What is the distribution\n",
    "clean_freecodecamp_casual['fromUser.v'].value_counts()"
   ]
  },
  {
   "cell_type": "code",
   "execution_count": 90,
   "id": "61f750b7",
   "metadata": {},
   "outputs": [
    {
     "data": {
      "text/plain": [
       "min       1.0\n",
       "max    1410.0\n",
       "Name: fromUser.v, dtype: float64"
      ]
     },
     "execution_count": 90,
     "metadata": {},
     "output_type": "execute_result"
    }
   ],
   "source": [
    "#What is the min and max\n",
    "clean_freecodecamp_casual['fromUser.v'].describe().loc[['min', 'max']]"
   ]
  },
  {
   "cell_type": "markdown",
   "id": "f11b42e9",
   "metadata": {},
   "source": [
    "Because it's not clairly specify what this column represent, we can deal with the null value either by deleting them or by put a default value for them.\n",
    "\n",
    "In this case, we are working with numeric value from `1 to 1410`, our default value could be **0**"
   ]
  },
  {
   "cell_type": "code",
   "execution_count": 91,
   "id": "fdcd3aa4",
   "metadata": {},
   "outputs": [],
   "source": [
    "#Replacing the null value by 0\n",
    "clean_freecodecamp_casual['fromUser.v'] = clean_freecodecamp_casual['fromUser.v'].fillna(0)"
   ]
  },
  {
   "cell_type": "code",
   "execution_count": 95,
   "id": "11752a8e",
   "metadata": {},
   "outputs": [
    {
     "data": {
      "text/plain": [
       "0"
      ]
     },
     "execution_count": 95,
     "metadata": {},
     "output_type": "execute_result"
    }
   ],
   "source": [
    "#Sanity check\n",
    "clean_freecodecamp_casual['fromUser.v'].isna().sum()"
   ]
  },
  {
   "cell_type": "markdown",
   "id": "0be68ebe",
   "metadata": {},
   "source": [
    "We confirm that there no more `null value` inside the `fromUser.v` column."
   ]
  },
  {
   "cell_type": "markdown",
   "id": "f5442996",
   "metadata": {},
   "source": [
    "#### Column editedAt - 4931000 null value\n",
    "\n",
    "It represent about **97%** of the rows in this column which contain `null value`.\n",
    "\n",
    "How to deal with that?"
   ]
  },
  {
   "cell_type": "code",
   "execution_count": 96,
   "id": "27b4efb5",
   "metadata": {},
   "outputs": [
    {
     "data": {
      "text/plain": [
       "(98.50695342025492, 74738)"
      ]
     },
     "execution_count": 96,
     "metadata": {},
     "output_type": "execute_result"
    }
   ],
   "source": [
    "#Percentage\n",
    "(4931000 / 5005738 ) * 100, 5005738 - 4931000"
   ]
  },
  {
   "cell_type": "code",
   "execution_count": null,
   "id": "bfa36aef",
   "metadata": {},
   "outputs": [],
   "source": [
    "clean_freecodecamp_casual[clean_freecodecamp_casual['editedAt'].notnull()]"
   ]
  },
  {
   "cell_type": "code",
   "execution_count": 104,
   "id": "947dc7f1",
   "metadata": {},
   "outputs": [
    {
     "data": {
      "text/html": [
       "<div>\n",
       "<style scoped>\n",
       "    .dataframe tbody tr th:only-of-type {\n",
       "        vertical-align: middle;\n",
       "    }\n",
       "\n",
       "    .dataframe tbody tr th {\n",
       "        vertical-align: top;\n",
       "    }\n",
       "\n",
       "    .dataframe thead th {\n",
       "        text-align: right;\n",
       "    }\n",
       "</style>\n",
       "<table border=\"1\" class=\"dataframe\">\n",
       "  <thead>\n",
       "    <tr style=\"text-align: right;\">\n",
       "      <th></th>\n",
       "      <th>Unnamed: 0</th>\n",
       "      <th>editedAt</th>\n",
       "      <th>fromUser.avatarUrlMedium</th>\n",
       "      <th>fromUser.avatarUrlSmall</th>\n",
       "      <th>fromUser.displayName</th>\n",
       "      <th>fromUser.gv</th>\n",
       "      <th>fromUser.id</th>\n",
       "      <th>fromUser.removed</th>\n",
       "      <th>fromUser.staff</th>\n",
       "      <th>fromUser.url</th>\n",
       "      <th>fromUser.username</th>\n",
       "      <th>fromUser.v</th>\n",
       "      <th>html</th>\n",
       "      <th>id</th>\n",
       "      <th>issues</th>\n",
       "      <th>mentions</th>\n",
       "      <th>meta</th>\n",
       "      <th>readBy</th>\n",
       "      <th>sent</th>\n",
       "      <th>text</th>\n",
       "      <th>unread</th>\n",
       "      <th>urls</th>\n",
       "      <th>v</th>\n",
       "    </tr>\n",
       "  </thead>\n",
       "  <tbody>\n",
       "    <tr>\n",
       "      <th>0</th>\n",
       "      <td>0</td>\n",
       "      <td>NaT</td>\n",
       "      <td>https://avatars2.githubusercontent.com/u/21996...</td>\n",
       "      <td>https://avatars2.githubusercontent.com/u/21996...</td>\n",
       "      <td>Charles Watson</td>\n",
       "      <td>3.0</td>\n",
       "      <td>546fd99cdb8155e6700d6ec8</td>\n",
       "      <td>0</td>\n",
       "      <td>0</td>\n",
       "      <td>/sircharleswatson</td>\n",
       "      <td>sircharleswatson</td>\n",
       "      <td>1.0</td>\n",
       "      <td>no legumes either</td>\n",
       "      <td>54a4804fb2b2de4b786502bf</td>\n",
       "      <td>[]</td>\n",
       "      <td>[]</td>\n",
       "      <td>[]</td>\n",
       "      <td>22</td>\n",
       "      <td>2014-12-31 23:01:35.647000+00:00</td>\n",
       "      <td>no legumes either</td>\n",
       "      <td>False</td>\n",
       "      <td>[]</td>\n",
       "      <td>1</td>\n",
       "    </tr>\n",
       "    <tr>\n",
       "      <th>3</th>\n",
       "      <td>3</td>\n",
       "      <td>NaT</td>\n",
       "      <td>https://avatars2.githubusercontent.com/u/21996...</td>\n",
       "      <td>https://avatars2.githubusercontent.com/u/21996...</td>\n",
       "      <td>Charles Watson</td>\n",
       "      <td>3.0</td>\n",
       "      <td>546fd99cdb8155e6700d6ec8</td>\n",
       "      <td>0</td>\n",
       "      <td>0</td>\n",
       "      <td>/sircharleswatson</td>\n",
       "      <td>sircharleswatson</td>\n",
       "      <td>1.0</td>\n",
       "      <td>&lt;span data-link-type=\"mention\" data-screen-nam...</td>\n",
       "      <td>54a480b89597baaa7dceceb2</td>\n",
       "      <td>[]</td>\n",
       "      <td>[{'userIds': [], 'userId': '54a47e0cdb8155e670...</td>\n",
       "      <td>[]</td>\n",
       "      <td>22</td>\n",
       "      <td>2014-12-31 23:03:20.182000+00:00</td>\n",
       "      <td>@janetwalters008 It is. but it works. some peo...</td>\n",
       "      <td>False</td>\n",
       "      <td>[]</td>\n",
       "      <td>1</td>\n",
       "    </tr>\n",
       "    <tr>\n",
       "      <th>4</th>\n",
       "      <td>4</td>\n",
       "      <td>NaT</td>\n",
       "      <td>https://avatars0.githubusercontent.com/u/42194...</td>\n",
       "      <td>https://avatars0.githubusercontent.com/u/42194...</td>\n",
       "      <td>Paul Gilliam</td>\n",
       "      <td>3.0</td>\n",
       "      <td>54a44bbbdb8155e6700e47de</td>\n",
       "      <td>0</td>\n",
       "      <td>0</td>\n",
       "      <td>/phgilliam</td>\n",
       "      <td>phgilliam</td>\n",
       "      <td>1.0</td>\n",
       "      <td>They guy that came up with the idea is kind of...</td>\n",
       "      <td>54a480ca9597baaa7dceceb5</td>\n",
       "      <td>[]</td>\n",
       "      <td>[]</td>\n",
       "      <td>[]</td>\n",
       "      <td>22</td>\n",
       "      <td>2014-12-31 23:03:38.388000+00:00</td>\n",
       "      <td>They guy that came up with the idea is kind of...</td>\n",
       "      <td>False</td>\n",
       "      <td>[]</td>\n",
       "      <td>1</td>\n",
       "    </tr>\n",
       "    <tr>\n",
       "      <th>6</th>\n",
       "      <td>6</td>\n",
       "      <td>NaT</td>\n",
       "      <td>https://avatars0.githubusercontent.com/u/42194...</td>\n",
       "      <td>https://avatars0.githubusercontent.com/u/42194...</td>\n",
       "      <td>Paul Gilliam</td>\n",
       "      <td>3.0</td>\n",
       "      <td>54a44bbbdb8155e6700e47de</td>\n",
       "      <td>0</td>\n",
       "      <td>0</td>\n",
       "      <td>/phgilliam</td>\n",
       "      <td>phgilliam</td>\n",
       "      <td>1.0</td>\n",
       "      <td>the*</td>\n",
       "      <td>54a480e229aec36b6af1bf45</td>\n",
       "      <td>[]</td>\n",
       "      <td>[]</td>\n",
       "      <td>[]</td>\n",
       "      <td>23</td>\n",
       "      <td>2014-12-31 23:04:02.733000+00:00</td>\n",
       "      <td>the*</td>\n",
       "      <td>False</td>\n",
       "      <td>[]</td>\n",
       "      <td>1</td>\n",
       "    </tr>\n",
       "    <tr>\n",
       "      <th>8</th>\n",
       "      <td>8</td>\n",
       "      <td>NaT</td>\n",
       "      <td>https://avatars2.githubusercontent.com/u/21996...</td>\n",
       "      <td>https://avatars2.githubusercontent.com/u/21996...</td>\n",
       "      <td>Charles Watson</td>\n",
       "      <td>3.0</td>\n",
       "      <td>546fd99cdb8155e6700d6ec8</td>\n",
       "      <td>0</td>\n",
       "      <td>0</td>\n",
       "      <td>/sircharleswatson</td>\n",
       "      <td>sircharleswatson</td>\n",
       "      <td>1.0</td>\n",
       "      <td>&lt;span data-link-type=\"mention\" data-screen-nam...</td>\n",
       "      <td>54a480f99597baaa7dceceb9</td>\n",
       "      <td>[]</td>\n",
       "      <td>[{'userIds': [], 'userId': '54a44bbbdb8155e670...</td>\n",
       "      <td>[]</td>\n",
       "      <td>23</td>\n",
       "      <td>2014-12-31 23:04:25.310000+00:00</td>\n",
       "      <td>@phgilliam I agree. he's pretty extreme lol</td>\n",
       "      <td>False</td>\n",
       "      <td>[]</td>\n",
       "      <td>1</td>\n",
       "    </tr>\n",
       "  </tbody>\n",
       "</table>\n",
       "</div>"
      ],
      "text/plain": [
       "   Unnamed: 0 editedAt                           fromUser.avatarUrlMedium  \\\n",
       "0           0      NaT  https://avatars2.githubusercontent.com/u/21996...   \n",
       "3           3      NaT  https://avatars2.githubusercontent.com/u/21996...   \n",
       "4           4      NaT  https://avatars0.githubusercontent.com/u/42194...   \n",
       "6           6      NaT  https://avatars0.githubusercontent.com/u/42194...   \n",
       "8           8      NaT  https://avatars2.githubusercontent.com/u/21996...   \n",
       "\n",
       "                             fromUser.avatarUrlSmall fromUser.displayName  \\\n",
       "0  https://avatars2.githubusercontent.com/u/21996...       Charles Watson   \n",
       "3  https://avatars2.githubusercontent.com/u/21996...       Charles Watson   \n",
       "4  https://avatars0.githubusercontent.com/u/42194...         Paul Gilliam   \n",
       "6  https://avatars0.githubusercontent.com/u/42194...         Paul Gilliam   \n",
       "8  https://avatars2.githubusercontent.com/u/21996...       Charles Watson   \n",
       "\n",
       "   fromUser.gv               fromUser.id  fromUser.removed  fromUser.staff  \\\n",
       "0          3.0  546fd99cdb8155e6700d6ec8                 0               0   \n",
       "3          3.0  546fd99cdb8155e6700d6ec8                 0               0   \n",
       "4          3.0  54a44bbbdb8155e6700e47de                 0               0   \n",
       "6          3.0  54a44bbbdb8155e6700e47de                 0               0   \n",
       "8          3.0  546fd99cdb8155e6700d6ec8                 0               0   \n",
       "\n",
       "        fromUser.url fromUser.username  fromUser.v  \\\n",
       "0  /sircharleswatson  sircharleswatson         1.0   \n",
       "3  /sircharleswatson  sircharleswatson         1.0   \n",
       "4         /phgilliam         phgilliam         1.0   \n",
       "6         /phgilliam         phgilliam         1.0   \n",
       "8  /sircharleswatson  sircharleswatson         1.0   \n",
       "\n",
       "                                                html  \\\n",
       "0                                  no legumes either   \n",
       "3  <span data-link-type=\"mention\" data-screen-nam...   \n",
       "4  They guy that came up with the idea is kind of...   \n",
       "6                                               the*   \n",
       "8  <span data-link-type=\"mention\" data-screen-nam...   \n",
       "\n",
       "                         id issues  \\\n",
       "0  54a4804fb2b2de4b786502bf     []   \n",
       "3  54a480b89597baaa7dceceb2     []   \n",
       "4  54a480ca9597baaa7dceceb5     []   \n",
       "6  54a480e229aec36b6af1bf45     []   \n",
       "8  54a480f99597baaa7dceceb9     []   \n",
       "\n",
       "                                            mentions meta  readBy  \\\n",
       "0                                                 []   []      22   \n",
       "3  [{'userIds': [], 'userId': '54a47e0cdb8155e670...   []      22   \n",
       "4                                                 []   []      22   \n",
       "6                                                 []   []      23   \n",
       "8  [{'userIds': [], 'userId': '54a44bbbdb8155e670...   []      23   \n",
       "\n",
       "                              sent  \\\n",
       "0 2014-12-31 23:01:35.647000+00:00   \n",
       "3 2014-12-31 23:03:20.182000+00:00   \n",
       "4 2014-12-31 23:03:38.388000+00:00   \n",
       "6 2014-12-31 23:04:02.733000+00:00   \n",
       "8 2014-12-31 23:04:25.310000+00:00   \n",
       "\n",
       "                                                text  unread urls  v  \n",
       "0                                  no legumes either   False   []  1  \n",
       "3  @janetwalters008 It is. but it works. some peo...   False   []  1  \n",
       "4  They guy that came up with the idea is kind of...   False   []  1  \n",
       "6                                               the*   False   []  1  \n",
       "8        @phgilliam I agree. he's pretty extreme lol   False   []  1  "
      ]
     },
     "execution_count": 104,
     "metadata": {},
     "output_type": "execute_result"
    }
   ],
   "source": [
    "clean_freecodecamp_casual.head()"
   ]
  },
  {
   "cell_type": "markdown",
   "id": "4dd55c82",
   "metadata": {},
   "source": [
    "#### Empty coumn\n"
   ]
  },
  {
   "cell_type": "code",
   "execution_count": 110,
   "id": "fe9492e1",
   "metadata": {},
   "outputs": [
    {
     "data": {
      "text/plain": [
       "[]    5005738\n",
       "Name: meta, dtype: int64"
      ]
     },
     "execution_count": 110,
     "metadata": {},
     "output_type": "execute_result"
    }
   ],
   "source": [
    "clean_freecodecamp_casual['meta'].value_counts()"
   ]
  },
  {
   "cell_type": "code",
   "execution_count": null,
   "id": "1e6cef7a",
   "metadata": {},
   "outputs": [],
   "source": [
    "clean_freecodecamp_casual['editedAt'].plot(grid=True)\n",
    "plt.xlabel('Magnitude')\n",
    "plt.ylabel('Date')\n",
    "plt.title('Daily Trend for editedAt column')\n",
    "plt.show()"
   ]
  },
  {
   "cell_type": "code",
   "execution_count": null,
   "id": "65dbc7a4",
   "metadata": {},
   "outputs": [],
   "source": [
    "####count word\n",
    "from sklearn.feature_extraction.text import CountVectorizer\n",
    "\n",
    "# cd['html'] = clean_freecodecamp_casual['html'].copy()\n",
    "\n",
    "cdi = pd.DataFrame({\"text\": clean_freecodecamp_casual['text'].copy(), \"unread\": clean_freecodecamp_casual['unread'].copy(),})\n",
    "\n",
    "\n",
    "cdi = cdi.dropna()\n",
    "\n",
    "cdi.isna().sum()"
   ]
  },
  {
   "cell_type": "code",
   "execution_count": null,
   "id": "351b34b0",
   "metadata": {},
   "outputs": [],
   "source": [
    "cdi['unread'] = np.where(cdi['unread'] == False, 0, 1)"
   ]
  },
  {
   "cell_type": "code",
   "execution_count": null,
   "id": "f1d0c634",
   "metadata": {
    "scrolled": true
   },
   "outputs": [],
   "source": [
    "# cdi['tet'] = cdi['text'].str.split(' ')\n",
    "cdi.head()"
   ]
  },
  {
   "cell_type": "code",
   "execution_count": null,
   "id": "9656d3fd",
   "metadata": {},
   "outputs": [],
   "source": [
    "X = cdi['text']\n",
    "y = cdi['unread']"
   ]
  },
  {
   "cell_type": "code",
   "execution_count": null,
   "id": "c4e27721",
   "metadata": {},
   "outputs": [],
   "source": [
    "# splitting our data into train and test sets\n",
    "from sklearn.model_selection import train_test_split\n",
    "\n",
    "X_train, X_test, y_train, y_test = train_test_split(X, y, test_size=0.99, random_state=42)"
   ]
  },
  {
   "cell_type": "code",
   "execution_count": null,
   "id": "ceffb539",
   "metadata": {},
   "outputs": [],
   "source": [
    "X_train.shape"
   ]
  },
  {
   "cell_type": "code",
   "execution_count": null,
   "id": "a96d6fd9",
   "metadata": {},
   "outputs": [],
   "source": [
    "from sklearn.feature_extraction.text import CountVectorizer\n",
    "\n",
    "# 1. Instantiate \n",
    "bagofwords = CountVectorizer()\n",
    "\n",
    "# 2. Fit \n",
    "bagofwords.fit(X_train)\n",
    "\n",
    "# 3. Transform\n",
    "small_transformed = bagofwords.transform(X_train)\n",
    "small_transformed"
   ]
  },
  {
   "cell_type": "code",
   "execution_count": null,
   "id": "a00df73f",
   "metadata": {},
   "outputs": [],
   "source": [
    "# how much memory does our sparse matrix take up?\n",
    "(small_transformed.data.nbytes + small_transformed.indptr.nbytes + small_transformed.indices.nbytes)*8/1024/1024"
   ]
  },
  {
   "cell_type": "code",
   "execution_count": null,
   "id": "b639c8b9",
   "metadata": {},
   "outputs": [],
   "source": [
    "bagofwords.get_feature_names()"
   ]
  },
  {
   "cell_type": "code",
   "execution_count": null,
   "id": "6f58576e",
   "metadata": {},
   "outputs": [],
   "source": [
    "small_transformed.toarray().sum(axis=0)"
   ]
  },
  {
   "cell_type": "code",
   "execution_count": null,
   "id": "87b26a2c",
   "metadata": {},
   "outputs": [],
   "source": [
    "word_counts = pd.DataFrame(\n",
    "    {\"counts\": small_transformed.toarray().sum(axis=0)},\n",
    "    index=bagofwords.get_feature_names()\n",
    ").sort_values(\"counts\", ascending=False)\n",
    "\n",
    "word_counts.head(20).plot(kind=\"bar\", figsize=(15, 5), legend=False)\n",
    "plt.title(\"Top 20 most frequently occurring words\")\n",
    "plt.ylabel(\"Count\")\n",
    "plt.xticks(rotation=45)\n",
    "plt.show()"
   ]
  },
  {
   "cell_type": "markdown",
   "id": "c5b58ee3",
   "metadata": {},
   "source": [
    "<div id=\"container\" style=\"position:relative;\">\n",
    "<div style=\"position:relative; float:right\"><img style=\"height:25px\"\"width: 50px\" src =\"https://drive.google.com/uc?export=view&id=14VoXUJftgptWtdNhtNYVm6cjVmEWpki1\" />\n",
    "</div>\n",
    "</div>"
   ]
  }
 ],
 "metadata": {
  "kernelspec": {
   "display_name": "Python 3 (ipykernel)",
   "language": "python",
   "name": "python3"
  },
  "language_info": {
   "codemirror_mode": {
    "name": "ipython",
    "version": 3
   },
   "file_extension": ".py",
   "mimetype": "text/x-python",
   "name": "python",
   "nbconvert_exporter": "python",
   "pygments_lexer": "ipython3",
   "version": "3.9.13"
  }
 },
 "nbformat": 4,
 "nbformat_minor": 5
}
