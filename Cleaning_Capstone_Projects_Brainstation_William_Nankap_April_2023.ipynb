{
 "cells": [
  {
   "cell_type": "markdown",
   "id": "ac33632b",
   "metadata": {},
   "source": [
    "<div id=\"container\" style=\"position:relative;\">\n",
    "<div style=\"float:left\"><h1>  Capstone Projects - William Nankap </h1></div>\n",
    "<div style=\"position:relative; float:right\"><img style=\"height:65px\" src =\"https://drive.google.com/uc?export=view&id=1EnB0x-fdqMp6I5iMoEBBEuxB_s7AmE2k\" />\n",
    "</div>\n",
    "</div>"
   ]
  },
  {
   "cell_type": "markdown",
   "id": "e9c10574",
   "metadata": {},
   "source": [
    "# NLP ClassifyChat\n",
    "\n",
    "An innovative text classification project based on natural language processing. It leverages conversations from the freeCodeCamp chat to provide an accurate and efficient solution for automatically categorizing messages and extracting relevant information from large volumes of textual data.\n",
    "\n",
    "### **`Notebook 1: Introduction & Cleaning Data`**\n",
    "\n",
    "### **`Author: William Nankap`**\n",
    "\n",
    "Work plan: https://docs.google.com/presentation/d/10xtITocBaQgZYtDw1yWe_FzQPgR7Je6EkNRv8IJVCPM/edit?usp=sharing\n",
    "\n"
   ]
  },
  {
   "cell_type": "markdown",
   "id": "4ccdfb36",
   "metadata": {},
   "source": [
    "-----\n",
    "\n",
    "# Table of Contents\n",
    "\n",
    "- ### Introduction\n",
    "    - ### Business/Research\n",
    "    - ### Data Acquisition, Quality & Completeness\n",
    "- ### 1. Data Loading\n",
    "- ### 2. Data Cleaning\n",
    "    - ### Change dtype\n",
    "    - ### Deal with Null Value\n",
    "    - ### Deal with Empty columns\n",
    "    - ### Deal with Duplicates columns\n",
    "    - ### Deal columns which doesn't have a big value\n",
    "- ### 3. Save the clean Dataset\n",
    "- ### Conclusion\n",
    "\n",
    "-----"
   ]
  },
  {
   "cell_type": "markdown",
   "id": "dc4e8ba5",
   "metadata": {},
   "source": [
    "# Introduction\n",
    "\n",
    "# Business/Research\n",
    "\n",
    "The goal of this project is to develop a text classification solution based on natural language processing. It utilizes the freeCodeCamp chat conversations to accurately and efficiently categorize messages and extract relevant information from large volumes of textual data.\n",
    "\n",
    "This project has considerable commercial and societal potential. By developing this project from a minimum viable product (MVP) to a fully mature application or service, it could be used by a variety of players, particularly in the field of education.\n",
    "\n",
    "#### Potential applications include:\n",
    "\n",
    "**Personalizing learning:** The text classification model can be used to provide relevant information on the topics of greatest interest to learners. It can tailor educational content to their specific discussions, preferences and needs.\n",
    "\n",
    "**Content recommendation:** By analyzing learners' conversations, the model can generate content recommendations tailored to their interests and skill levels. This can enhance the learning experience by proposing relevant resources and stimulating engagement.\n",
    "\n",
    "**Real-time filtering and classification:** The model can be used to filter and classify conversations in real time. It can detect inappropriate, offensive or unwanted messages, facilitating content moderation and ensuring a safe and respectful learning environment.\n",
    "\n",
    "**Discussion analysis:** By examining classified text data, it is possible to extract valuable information on learners' trends, concerns or difficulties. This information can be used to adapt teaching programs, identify knowledge gaps and improve overall teaching effectiveness.\n",
    "\n",
    "If this project is fully realized, educational institutions, online educational platforms and learning communities could benefit from its applications to enhance the learner experience, deliver targeted content and facilitate the management of content and interactions in an online educational environment.\n",
    "\n",
    "### What actions or next steps will your project enable once it’s complete?\n",
    "\n",
    "Once the project is complete, it will enable several actions and next steps:\n",
    "\n",
    "**Automated Text Classification:** The developed model can be deployed to automatically classify text messages into predefined categories or topics. This will save time and effort in automatically categorizing and organizing large volumes of text data.\n",
    "\n",
    "**Real-time Monitoring and Moderation:** The project will facilitate real-time monitoring of conversations, allowing for proactive identification and moderation of inappropriate or offensive content. It will enable prompt actions to maintain a safe and respectful environment.\n",
    "\n",
    "**Personalized Content Delivery:** With the text classification model in place, the project can support personalized content delivery based on user interests and preferences. It can recommend relevant resources, discussions, or learning materials tailored to individual learners' needs.\n",
    "\n",
    "**Insights and Analytics:** The project's completion will provide opportunities for extracting valuable insights and performing data analytics on the categorized chat data. This can help identify trends, patterns, and user behavior, leading to informed decision-making and continuous improvement of the learning platform.\n",
    "\n",
    "**Iterative Model Improvement:** As the project evolves, it can enable iterative model improvement by incorporating user feedback, refining algorithms, and incorporating advanced techniques in natural language processing and machine learning. This will enhance the accuracy and performance of the text classification system over time.\n",
    "\n",
    "Overall, the completion of this project will empower users with automated text classification, real-time moderation capabilities, personalized content delivery, actionable insights, and a framework for ongoing improvement in the field of natural language processing and education.\n",
    "\n",
    "### Have others tried to tackle this problem as well? What is the existing \"state of the art\" for tackling this type of problem and how does your project fit into the more broader approaches?\n",
    "\n",
    "Yes, there are projects similar to yours in the field of education. Here are a few examples of projects and initiatives in this field:\n",
    "\n",
    "**OpenAI's GPT-3 for Education:** [OpenAI's GPT-3](https://platform.openai.com/docs/chatgpt-education) (Generative Pre-trained Transformer 3) has been explored for various educational applications. It has been used to develop intelligent tutoring systems, provide personalized feedback, and generate educational content.\n",
    "\n",
    "**IBM Watson Education:** [IBM Watson Education](https://www.ibm.com/common/ssi/cgi-bin/ssialias?htmlfid=897/ENUS218-010&infotype=AN&subtype=CA) offers a range of AI-powered solutions for education. Their projects include virtual tutors, adaptive learning platforms, and tools for content creation and assessment.\n",
    "\n",
    "**Knewton:** [Knewton](https://www.knewton.com/) is an adaptive learning platform that utilizes AI and machine learning to deliver personalized educational content and recommendations. It offers adaptive courseware for K-12 and higher education institutions. Read this article from Harvard to get more detail on Knewton AI, [here](https://d3.harvard.edu/platform-digit/submission/knewton-personalizes-learning-with-the-power-of-ai/).\n",
    "\n",
    "**Duolingo:** [Duolingo](https://blog.duolingo.com/duolingo-max/) is a popular language learning platform that incorporates AI and NLP techniques. It provides personalized language instruction, adaptive exercises, and feedback to learners.\n",
    "\n",
    "**Carnegie Learning:** [Carnegie Learning](https://support.carnegielearning.com/help-center/math/teaching-strategies/article/cultivating-a-blended-learning-approach/) focuses on adaptive mathematics education. Their AI-driven platform offers personalized learning paths, real-time feedback, and intelligent tutoring to improve students' mathematical skills.\n",
    "\n",
    "Regarding the level of development, these projects vary. Some are well-established platforms that have been in use for several years and have undergone multiple iterations and enhancements. Others may still be in the research and development phase, exploring the potential of AI and NLP in education.\n",
    "\n",
    "# Data Acquisition, Quality & Completeness\n",
    "\n",
    "The data for this project is sourced from the freeCodeCamp Gitter Chat dataset, specifically between 31-Dec-2014 until the first days of Dec-2017. The dataset is available on **Kaggle,** a popular platform for hosting and sharing datasets. \n",
    "\n",
    "The dataset consists of approximately 5 million posts contributed by nearly 400,000 users (these numbers are approximate). The data was obtained by utilizing Python code to extract information from the Gitter API. The records in the dataset have not been anonymized or altered in any way and are presented in their original form without modifications. The dataset was updated 4 years ago and there is no mention for a potential update later.\n",
    "\n",
    "The dataset has been imported via this link https://www.kaggle.com/datasets/freecodecamp/all-posts-public-main-chatroom?select=freecodecamp_casual_chatroom_anon.csv.\n",
    "\n",
    "In this notebook where we embark on a journey of exploring, cleaning, and evaluating the quality of our dataset. With meticulous attention to detail, we will delve into the data, unraveling its intricacies, and implementing robust data cleaning techniques. By the end of our exploration, we aim to ensure that our dataset is pristine and reliable, setting the foundation for further analysis and insights. Let's begin this exciting adventure of data exploration and preparation!\n",
    "\n",
    "\n",
    "\n",
    "We will set 2 business objectives:\n",
    "   - Categorize the different words in our dataset\n",
    "   - Create a prediction model for the next word.\n",
    "\n",
    "We will base our research and exploration of the dataset on these objectives."
   ]
  },
  {
   "cell_type": "code",
   "execution_count": 1,
   "id": "cd01c2f8",
   "metadata": {},
   "outputs": [],
   "source": [
    "# We import all the librairies need for exploration, visualization and modeling\n",
    "\n",
    "import pandas as pd\n",
    "import numpy as np\n",
    "\n",
    "# plotting\n",
    "import plotly.express as px\n",
    "from plotly.subplots import make_subplots\n",
    "import plotly.graph_objs as go\n",
    "import matplotlib.pyplot as plt\n",
    "import seaborn as sns\n",
    "\n",
    "\n",
    "from scipy import stats\n",
    "from statsmodels.stats import multicomp\n",
    "from scipy.stats import pearsonr\n",
    "import statsmodels.api as sm\n",
    "\n",
    "from sklearn.linear_model import LogisticRegression\n",
    "\n",
    "# from sklearn.linear_model import LinearRegression\n"
   ]
  },
  {
   "cell_type": "markdown",
   "id": "067697cd",
   "metadata": {},
   "source": [
    "# 1. Data Loading"
   ]
  },
  {
   "cell_type": "markdown",
   "id": "dd2f4374",
   "metadata": {},
   "source": [
    "After downloanding the .zip file from the link share above, we get 2 .csv files:\n",
    " - freecodecamp_casual_chatroom.csv\n",
    " - freecodecamp_casual_chatroom_anon.csv\n",
    "\n",
    "We will load both to see what it's inside, and try to understand and plan what to do with each file."
   ]
  },
  {
   "cell_type": "code",
   "execution_count": 2,
   "id": "3eb0b3c6",
   "metadata": {
    "scrolled": true
   },
   "outputs": [
    {
     "name": "stdout",
     "output_type": "stream",
     "text": [
      "This file have 5057400 rows & 26 columns\n"
     ]
    }
   ],
   "source": [
    "# Loading the file freecodecamp_casual_chatroom.csv into a dataframe\n",
    "freecodecamp_casual = pd.read_csv('freecodecamp_casual_chatroom.csv', low_memory=False)\n",
    "\n",
    "#What's the shape of freecodecamp_casual\n",
    "freecodecamp_casual.shape\n",
    "\n",
    "print(f'This file have {freecodecamp_casual.shape[0]} rows & {freecodecamp_casual.shape[1]} columns')"
   ]
  },
  {
   "cell_type": "markdown",
   "id": "8924305a",
   "metadata": {},
   "source": [
    "This file have `5057400 rows & 26 columns`."
   ]
  },
  {
   "cell_type": "code",
   "execution_count": 3,
   "id": "d40075b3",
   "metadata": {},
   "outputs": [
    {
     "name": "stdout",
     "output_type": "stream",
     "text": [
      "<class 'pandas.core.frame.DataFrame'>\n",
      "RangeIndex: 5057400 entries, 0 to 5057399\n",
      "Data columns (total 26 columns):\n",
      " #   Column                    Dtype  \n",
      "---  ------                    -----  \n",
      " 0   Unnamed: 0                int64  \n",
      " 1   editedAt                  object \n",
      " 2   fromUser                  float64\n",
      " 3   fromUser.avatarUrl        object \n",
      " 4   fromUser.avatarUrlMedium  object \n",
      " 5   fromUser.avatarUrlSmall   object \n",
      " 6   fromUser.displayName      object \n",
      " 7   fromUser.gv               float64\n",
      " 8   fromUser.id               object \n",
      " 9   fromUser.removed          object \n",
      " 10  fromUser.staff            object \n",
      " 11  fromUser.url              object \n",
      " 12  fromUser.username         object \n",
      " 13  fromUser.v                float64\n",
      " 14  html                      object \n",
      " 15  id                        object \n",
      " 16  issues                    object \n",
      " 17  mentions                  object \n",
      " 18  meta                      object \n",
      " 19  readBy                    int64  \n",
      " 20  sent                      object \n",
      " 21  status                    object \n",
      " 22  text                      object \n",
      " 23  unread                    bool   \n",
      " 24  urls                      object \n",
      " 25  v                         int64  \n",
      "dtypes: bool(1), float64(3), int64(3), object(19)\n",
      "memory usage: 969.4+ MB\n"
     ]
    }
   ],
   "source": [
    "#What are the dtype for each columns\n",
    "freecodecamp_casual.info()"
   ]
  },
  {
   "cell_type": "code",
   "execution_count": 4,
   "id": "07c8ae0d",
   "metadata": {},
   "outputs": [
    {
     "data": {
      "text/html": [
       "<div>\n",
       "<style scoped>\n",
       "    .dataframe tbody tr th:only-of-type {\n",
       "        vertical-align: middle;\n",
       "    }\n",
       "\n",
       "    .dataframe tbody tr th {\n",
       "        vertical-align: top;\n",
       "    }\n",
       "\n",
       "    .dataframe thead th {\n",
       "        text-align: right;\n",
       "    }\n",
       "</style>\n",
       "<table border=\"1\" class=\"dataframe\">\n",
       "  <thead>\n",
       "    <tr style=\"text-align: right;\">\n",
       "      <th></th>\n",
       "      <th>Unnamed: 0</th>\n",
       "      <th>editedAt</th>\n",
       "      <th>fromUser</th>\n",
       "      <th>fromUser.avatarUrl</th>\n",
       "      <th>fromUser.avatarUrlMedium</th>\n",
       "      <th>fromUser.avatarUrlSmall</th>\n",
       "      <th>fromUser.displayName</th>\n",
       "      <th>fromUser.gv</th>\n",
       "      <th>fromUser.id</th>\n",
       "      <th>fromUser.removed</th>\n",
       "      <th>fromUser.staff</th>\n",
       "      <th>fromUser.url</th>\n",
       "      <th>fromUser.username</th>\n",
       "      <th>fromUser.v</th>\n",
       "      <th>html</th>\n",
       "      <th>id</th>\n",
       "      <th>issues</th>\n",
       "      <th>mentions</th>\n",
       "      <th>meta</th>\n",
       "      <th>readBy</th>\n",
       "      <th>sent</th>\n",
       "      <th>status</th>\n",
       "      <th>text</th>\n",
       "      <th>unread</th>\n",
       "      <th>urls</th>\n",
       "      <th>v</th>\n",
       "    </tr>\n",
       "  </thead>\n",
       "  <tbody>\n",
       "    <tr>\n",
       "      <th>0</th>\n",
       "      <td>0</td>\n",
       "      <td>NaN</td>\n",
       "      <td>NaN</td>\n",
       "      <td>NaN</td>\n",
       "      <td>https://avatars2.githubusercontent.com/u/21996...</td>\n",
       "      <td>https://avatars2.githubusercontent.com/u/21996...</td>\n",
       "      <td>Charles Watson</td>\n",
       "      <td>3.0</td>\n",
       "      <td>546fd99cdb8155e6700d6ec8</td>\n",
       "      <td>NaN</td>\n",
       "      <td>NaN</td>\n",
       "      <td>/sircharleswatson</td>\n",
       "      <td>sircharleswatson</td>\n",
       "      <td>1.0</td>\n",
       "      <td>no legumes either</td>\n",
       "      <td>54a4804fb2b2de4b786502bf</td>\n",
       "      <td>[]</td>\n",
       "      <td>[]</td>\n",
       "      <td>[]</td>\n",
       "      <td>22</td>\n",
       "      <td>2014-12-31T23:01:35.647Z</td>\n",
       "      <td>NaN</td>\n",
       "      <td>no legumes either</td>\n",
       "      <td>False</td>\n",
       "      <td>[]</td>\n",
       "      <td>1</td>\n",
       "    </tr>\n",
       "    <tr>\n",
       "      <th>1</th>\n",
       "      <td>1</td>\n",
       "      <td>NaN</td>\n",
       "      <td>NaN</td>\n",
       "      <td>NaN</td>\n",
       "      <td>https://avatars0.githubusercontent.com/u/10361...</td>\n",
       "      <td>https://avatars0.githubusercontent.com/u/10361...</td>\n",
       "      <td>janetwalters008</td>\n",
       "      <td>NaN</td>\n",
       "      <td>54a47e0cdb8155e6700e486e</td>\n",
       "      <td>NaN</td>\n",
       "      <td>NaN</td>\n",
       "      <td>/janetwalters008</td>\n",
       "      <td>janetwalters008</td>\n",
       "      <td>NaN</td>\n",
       "      <td>That bullet proof coffee sounds insane.</td>\n",
       "      <td>54a4809b9597baaa7dceceb0</td>\n",
       "      <td>[]</td>\n",
       "      <td>[]</td>\n",
       "      <td>[]</td>\n",
       "      <td>21</td>\n",
       "      <td>2014-12-31T23:02:51.600Z</td>\n",
       "      <td>NaN</td>\n",
       "      <td>That bullet proof coffee sounds insane.</td>\n",
       "      <td>False</td>\n",
       "      <td>[]</td>\n",
       "      <td>1</td>\n",
       "    </tr>\n",
       "    <tr>\n",
       "      <th>2</th>\n",
       "      <td>2</td>\n",
       "      <td>NaN</td>\n",
       "      <td>NaN</td>\n",
       "      <td>NaN</td>\n",
       "      <td>https://avatars0.githubusercontent.com/u/10361...</td>\n",
       "      <td>https://avatars0.githubusercontent.com/u/10361...</td>\n",
       "      <td>janetwalters008</td>\n",
       "      <td>NaN</td>\n",
       "      <td>54a47e0cdb8155e6700e486e</td>\n",
       "      <td>NaN</td>\n",
       "      <td>NaN</td>\n",
       "      <td>/janetwalters008</td>\n",
       "      <td>janetwalters008</td>\n",
       "      <td>NaN</td>\n",
       "      <td>That guy has huge eyes.</td>\n",
       "      <td>54a480b29597baaa7dceceb1</td>\n",
       "      <td>[]</td>\n",
       "      <td>[]</td>\n",
       "      <td>[]</td>\n",
       "      <td>21</td>\n",
       "      <td>2014-12-31T23:03:14.221Z</td>\n",
       "      <td>NaN</td>\n",
       "      <td>That guy has huge eyes.</td>\n",
       "      <td>False</td>\n",
       "      <td>[]</td>\n",
       "      <td>1</td>\n",
       "    </tr>\n",
       "    <tr>\n",
       "      <th>3</th>\n",
       "      <td>3</td>\n",
       "      <td>NaN</td>\n",
       "      <td>NaN</td>\n",
       "      <td>NaN</td>\n",
       "      <td>https://avatars2.githubusercontent.com/u/21996...</td>\n",
       "      <td>https://avatars2.githubusercontent.com/u/21996...</td>\n",
       "      <td>Charles Watson</td>\n",
       "      <td>3.0</td>\n",
       "      <td>546fd99cdb8155e6700d6ec8</td>\n",
       "      <td>NaN</td>\n",
       "      <td>NaN</td>\n",
       "      <td>/sircharleswatson</td>\n",
       "      <td>sircharleswatson</td>\n",
       "      <td>1.0</td>\n",
       "      <td>&lt;span data-link-type=\"mention\" data-screen-nam...</td>\n",
       "      <td>54a480b89597baaa7dceceb2</td>\n",
       "      <td>[]</td>\n",
       "      <td>[{'userIds': [], 'userId': '54a47e0cdb8155e670...</td>\n",
       "      <td>[]</td>\n",
       "      <td>22</td>\n",
       "      <td>2014-12-31T23:03:20.182Z</td>\n",
       "      <td>NaN</td>\n",
       "      <td>@janetwalters008 It is. but it works. some peo...</td>\n",
       "      <td>False</td>\n",
       "      <td>[]</td>\n",
       "      <td>1</td>\n",
       "    </tr>\n",
       "    <tr>\n",
       "      <th>4</th>\n",
       "      <td>4</td>\n",
       "      <td>NaN</td>\n",
       "      <td>NaN</td>\n",
       "      <td>NaN</td>\n",
       "      <td>https://avatars0.githubusercontent.com/u/42194...</td>\n",
       "      <td>https://avatars0.githubusercontent.com/u/42194...</td>\n",
       "      <td>Paul Gilliam</td>\n",
       "      <td>3.0</td>\n",
       "      <td>54a44bbbdb8155e6700e47de</td>\n",
       "      <td>NaN</td>\n",
       "      <td>NaN</td>\n",
       "      <td>/phgilliam</td>\n",
       "      <td>phgilliam</td>\n",
       "      <td>1.0</td>\n",
       "      <td>They guy that came up with the idea is kind of...</td>\n",
       "      <td>54a480ca9597baaa7dceceb5</td>\n",
       "      <td>[]</td>\n",
       "      <td>[]</td>\n",
       "      <td>[]</td>\n",
       "      <td>22</td>\n",
       "      <td>2014-12-31T23:03:38.388Z</td>\n",
       "      <td>NaN</td>\n",
       "      <td>They guy that came up with the idea is kind of...</td>\n",
       "      <td>False</td>\n",
       "      <td>[]</td>\n",
       "      <td>1</td>\n",
       "    </tr>\n",
       "  </tbody>\n",
       "</table>\n",
       "</div>"
      ],
      "text/plain": [
       "   Unnamed: 0 editedAt  fromUser fromUser.avatarUrl  \\\n",
       "0           0      NaN       NaN                NaN   \n",
       "1           1      NaN       NaN                NaN   \n",
       "2           2      NaN       NaN                NaN   \n",
       "3           3      NaN       NaN                NaN   \n",
       "4           4      NaN       NaN                NaN   \n",
       "\n",
       "                            fromUser.avatarUrlMedium  \\\n",
       "0  https://avatars2.githubusercontent.com/u/21996...   \n",
       "1  https://avatars0.githubusercontent.com/u/10361...   \n",
       "2  https://avatars0.githubusercontent.com/u/10361...   \n",
       "3  https://avatars2.githubusercontent.com/u/21996...   \n",
       "4  https://avatars0.githubusercontent.com/u/42194...   \n",
       "\n",
       "                             fromUser.avatarUrlSmall fromUser.displayName  \\\n",
       "0  https://avatars2.githubusercontent.com/u/21996...       Charles Watson   \n",
       "1  https://avatars0.githubusercontent.com/u/10361...      janetwalters008   \n",
       "2  https://avatars0.githubusercontent.com/u/10361...      janetwalters008   \n",
       "3  https://avatars2.githubusercontent.com/u/21996...       Charles Watson   \n",
       "4  https://avatars0.githubusercontent.com/u/42194...         Paul Gilliam   \n",
       "\n",
       "   fromUser.gv               fromUser.id fromUser.removed fromUser.staff  \\\n",
       "0          3.0  546fd99cdb8155e6700d6ec8              NaN            NaN   \n",
       "1          NaN  54a47e0cdb8155e6700e486e              NaN            NaN   \n",
       "2          NaN  54a47e0cdb8155e6700e486e              NaN            NaN   \n",
       "3          3.0  546fd99cdb8155e6700d6ec8              NaN            NaN   \n",
       "4          3.0  54a44bbbdb8155e6700e47de              NaN            NaN   \n",
       "\n",
       "        fromUser.url fromUser.username  fromUser.v  \\\n",
       "0  /sircharleswatson  sircharleswatson         1.0   \n",
       "1   /janetwalters008   janetwalters008         NaN   \n",
       "2   /janetwalters008   janetwalters008         NaN   \n",
       "3  /sircharleswatson  sircharleswatson         1.0   \n",
       "4         /phgilliam         phgilliam         1.0   \n",
       "\n",
       "                                                html  \\\n",
       "0                                  no legumes either   \n",
       "1            That bullet proof coffee sounds insane.   \n",
       "2                            That guy has huge eyes.   \n",
       "3  <span data-link-type=\"mention\" data-screen-nam...   \n",
       "4  They guy that came up with the idea is kind of...   \n",
       "\n",
       "                         id issues  \\\n",
       "0  54a4804fb2b2de4b786502bf     []   \n",
       "1  54a4809b9597baaa7dceceb0     []   \n",
       "2  54a480b29597baaa7dceceb1     []   \n",
       "3  54a480b89597baaa7dceceb2     []   \n",
       "4  54a480ca9597baaa7dceceb5     []   \n",
       "\n",
       "                                            mentions meta  readBy  \\\n",
       "0                                                 []   []      22   \n",
       "1                                                 []   []      21   \n",
       "2                                                 []   []      21   \n",
       "3  [{'userIds': [], 'userId': '54a47e0cdb8155e670...   []      22   \n",
       "4                                                 []   []      22   \n",
       "\n",
       "                       sent status  \\\n",
       "0  2014-12-31T23:01:35.647Z    NaN   \n",
       "1  2014-12-31T23:02:51.600Z    NaN   \n",
       "2  2014-12-31T23:03:14.221Z    NaN   \n",
       "3  2014-12-31T23:03:20.182Z    NaN   \n",
       "4  2014-12-31T23:03:38.388Z    NaN   \n",
       "\n",
       "                                                text  unread urls  v  \n",
       "0                                  no legumes either   False   []  1  \n",
       "1            That bullet proof coffee sounds insane.   False   []  1  \n",
       "2                            That guy has huge eyes.   False   []  1  \n",
       "3  @janetwalters008 It is. but it works. some peo...   False   []  1  \n",
       "4  They guy that came up with the idea is kind of...   False   []  1  "
      ]
     },
     "execution_count": 4,
     "metadata": {},
     "output_type": "execute_result"
    }
   ],
   "source": [
    "#We have 25columns and we want to see all of them clearly, so we set an option to pandas to display all columns\n",
    "pd.set_option('display.max_columns', None)\n",
    "\n",
    "#We take a look on the top 5 rows\n",
    "freecodecamp_casual.head(5)"
   ]
  },
  {
   "cell_type": "markdown",
   "id": "22fb3436",
   "metadata": {},
   "source": [
    "**Important:** \n",
    "  - The column `sent` look like containing date inside but it's define as an object, we need to change that into **datetime.**\n",
    "  - The column `Unnamed: 0` look like an index, we will explore it to see if we can remove and use the initial index or not.\n",
    "  - We see some column containing `null values`, we will explore them more to decide what can be do for this null values.\n",
    "  - We see some column containing `[]`, we will explore them to decide how to deal with that. The mentions column contain array, we will investigate to see how to deal with that, maybe create dummy variable?\n",
    "  - The column `v` is not clearly define how to work with that?\n",
    "  - Some columns look like containing duplicated information:\n",
    "      - `html` vs `sent`\n",
    "      - `fromUser.url` vs `fromUser.username`\n",
    "      - `fromUser.v` vs `v`\n",
    "      - `fromUser.avatarUrlMedium` vs `fromUser.avatarUrlSmall`\n",
    "\n",
    "We will deal with all these questions/notes in part 2 of the work. But for a first observation, this dataset look like containing a lot of message coming from discussion between group of individu. The information which may be important for us could be the `text`, the `userid`, the `date`, the `status`, the `unread/read`, the `readers`.\n",
    "\n",
    "Before to go deeper into these dataset, we need to check to 2nd dataset."
   ]
  },
  {
   "cell_type": "code",
   "execution_count": 5,
   "id": "74257c6d",
   "metadata": {},
   "outputs": [
    {
     "name": "stdout",
     "output_type": "stream",
     "text": [
      "This file have 5057400 rows & 19 columns\n"
     ]
    }
   ],
   "source": [
    "# Loading the file freecodecamp_casual_chatroom.csv into a dataframe\n",
    "freecodecamp_anon = pd.read_csv('freecodecamp_casual_chatroom_anon.csv', low_memory=False)\n",
    "\n",
    "#What's the shape of freecodecamp_casual\n",
    "freecodecamp_anon.shape\n",
    "\n",
    "print(f'This file have {freecodecamp_anon.shape[0]} rows & {freecodecamp_anon.shape[1]} columns')"
   ]
  },
  {
   "cell_type": "markdown",
   "id": "e4777aa2",
   "metadata": {},
   "source": [
    "This file have `5057400 rows` & `19 columns.`\n",
    "It's the same number of rows as the first file but they differ only on column number."
   ]
  },
  {
   "cell_type": "code",
   "execution_count": 6,
   "id": "7e3e5ec5",
   "metadata": {
    "scrolled": false
   },
   "outputs": [
    {
     "name": "stdout",
     "output_type": "stream",
     "text": [
      "<class 'pandas.core.frame.DataFrame'>\n",
      "RangeIndex: 5057400 entries, 0 to 5057399\n",
      "Data columns (total 19 columns):\n",
      " #   Column            Dtype  \n",
      "---  ------            -----  \n",
      " 0   Unnamed: 0        int64  \n",
      " 1   index             int64  \n",
      " 2   editedAt          object \n",
      " 3   fromUser.gv       float64\n",
      " 4   fromUser.id       object \n",
      " 5   fromUser.removed  object \n",
      " 6   fromUser.staff    object \n",
      " 7   fromUser.v        float64\n",
      " 8   id                object \n",
      " 9   issues            object \n",
      " 10  meta              object \n",
      " 11  readBy            int64  \n",
      " 12  sent              object \n",
      " 13  status            object \n",
      " 14  text              object \n",
      " 15  unread            bool   \n",
      " 16  urls              object \n",
      " 17  v                 int64  \n",
      " 18  mentions.userIds  object \n",
      "dtypes: bool(1), float64(2), int64(4), object(12)\n",
      "memory usage: 699.4+ MB\n"
     ]
    }
   ],
   "source": [
    "#What are the dtype for each columns\n",
    "freecodecamp_anon.info()"
   ]
  },
  {
   "cell_type": "markdown",
   "id": "b8c6cb90",
   "metadata": {},
   "source": [
    "It's almost the same columns, we just notice 8 columns missing and 1 new column present.\n",
    "Missing columns:\n",
    "  - fromUser: float64\n",
    "  - fromUser.avatarUrl: object\n",
    "  - fromUser.avatarUrlMedium: object \n",
    "  - fromUser.avatarUrlSmall: object\n",
    "  - fromUser.displayName: object\n",
    "  - fromUser.url: object\n",
    "  - fromUser.username: object\n",
    "  - mentions: object \n",
    "\n",
    "New column:\n",
    "  - Index: int64\n",
    "  \n",
    "We will continue the exploration and see how to deal with that."
   ]
  },
  {
   "cell_type": "code",
   "execution_count": 7,
   "id": "33dedbc2",
   "metadata": {},
   "outputs": [
    {
     "data": {
      "text/html": [
       "<div>\n",
       "<style scoped>\n",
       "    .dataframe tbody tr th:only-of-type {\n",
       "        vertical-align: middle;\n",
       "    }\n",
       "\n",
       "    .dataframe tbody tr th {\n",
       "        vertical-align: top;\n",
       "    }\n",
       "\n",
       "    .dataframe thead th {\n",
       "        text-align: right;\n",
       "    }\n",
       "</style>\n",
       "<table border=\"1\" class=\"dataframe\">\n",
       "  <thead>\n",
       "    <tr style=\"text-align: right;\">\n",
       "      <th></th>\n",
       "      <th>Unnamed: 0</th>\n",
       "      <th>index</th>\n",
       "      <th>editedAt</th>\n",
       "      <th>fromUser.gv</th>\n",
       "      <th>fromUser.id</th>\n",
       "      <th>fromUser.removed</th>\n",
       "      <th>fromUser.staff</th>\n",
       "      <th>fromUser.v</th>\n",
       "      <th>id</th>\n",
       "      <th>issues</th>\n",
       "      <th>meta</th>\n",
       "      <th>readBy</th>\n",
       "      <th>sent</th>\n",
       "      <th>status</th>\n",
       "      <th>text</th>\n",
       "      <th>unread</th>\n",
       "      <th>urls</th>\n",
       "      <th>v</th>\n",
       "      <th>mentions.userIds</th>\n",
       "    </tr>\n",
       "  </thead>\n",
       "  <tbody>\n",
       "    <tr>\n",
       "      <th>0</th>\n",
       "      <td>0</td>\n",
       "      <td>0</td>\n",
       "      <td>NaN</td>\n",
       "      <td>3.0</td>\n",
       "      <td>546fd99cdb8155e6700d6ec8</td>\n",
       "      <td>NaN</td>\n",
       "      <td>NaN</td>\n",
       "      <td>1.0</td>\n",
       "      <td>54a4804fb2b2de4b786502bf</td>\n",
       "      <td>[]</td>\n",
       "      <td>[]</td>\n",
       "      <td>22</td>\n",
       "      <td>2014-12-31T23:01:35.647Z</td>\n",
       "      <td>NaN</td>\n",
       "      <td>no legumes either</td>\n",
       "      <td>False</td>\n",
       "      <td>[]</td>\n",
       "      <td>1</td>\n",
       "      <td>[]</td>\n",
       "    </tr>\n",
       "    <tr>\n",
       "      <th>1</th>\n",
       "      <td>1</td>\n",
       "      <td>1</td>\n",
       "      <td>NaN</td>\n",
       "      <td>NaN</td>\n",
       "      <td>54a47e0cdb8155e6700e486e</td>\n",
       "      <td>NaN</td>\n",
       "      <td>NaN</td>\n",
       "      <td>NaN</td>\n",
       "      <td>54a4809b9597baaa7dceceb0</td>\n",
       "      <td>[]</td>\n",
       "      <td>[]</td>\n",
       "      <td>21</td>\n",
       "      <td>2014-12-31T23:02:51.600Z</td>\n",
       "      <td>NaN</td>\n",
       "      <td>That bullet proof coffee sounds insane.</td>\n",
       "      <td>False</td>\n",
       "      <td>[]</td>\n",
       "      <td>1</td>\n",
       "      <td>[]</td>\n",
       "    </tr>\n",
       "    <tr>\n",
       "      <th>2</th>\n",
       "      <td>2</td>\n",
       "      <td>2</td>\n",
       "      <td>NaN</td>\n",
       "      <td>NaN</td>\n",
       "      <td>54a47e0cdb8155e6700e486e</td>\n",
       "      <td>NaN</td>\n",
       "      <td>NaN</td>\n",
       "      <td>NaN</td>\n",
       "      <td>54a480b29597baaa7dceceb1</td>\n",
       "      <td>[]</td>\n",
       "      <td>[]</td>\n",
       "      <td>21</td>\n",
       "      <td>2014-12-31T23:03:14.221Z</td>\n",
       "      <td>NaN</td>\n",
       "      <td>That guy has huge eyes.</td>\n",
       "      <td>False</td>\n",
       "      <td>[]</td>\n",
       "      <td>1</td>\n",
       "      <td>[]</td>\n",
       "    </tr>\n",
       "    <tr>\n",
       "      <th>3</th>\n",
       "      <td>3</td>\n",
       "      <td>3</td>\n",
       "      <td>NaN</td>\n",
       "      <td>3.0</td>\n",
       "      <td>546fd99cdb8155e6700d6ec8</td>\n",
       "      <td>NaN</td>\n",
       "      <td>NaN</td>\n",
       "      <td>1.0</td>\n",
       "      <td>54a480b89597baaa7dceceb2</td>\n",
       "      <td>[]</td>\n",
       "      <td>[]</td>\n",
       "      <td>22</td>\n",
       "      <td>2014-12-31T23:03:20.182Z</td>\n",
       "      <td>NaN</td>\n",
       "      <td>@54a47e0cdb8155e6700e486e It is. but it works....</td>\n",
       "      <td>False</td>\n",
       "      <td>[]</td>\n",
       "      <td>1</td>\n",
       "      <td>['54a47e0cdb8155e6700e486e']</td>\n",
       "    </tr>\n",
       "    <tr>\n",
       "      <th>4</th>\n",
       "      <td>4</td>\n",
       "      <td>4</td>\n",
       "      <td>NaN</td>\n",
       "      <td>3.0</td>\n",
       "      <td>54a44bbbdb8155e6700e47de</td>\n",
       "      <td>NaN</td>\n",
       "      <td>NaN</td>\n",
       "      <td>1.0</td>\n",
       "      <td>54a480ca9597baaa7dceceb5</td>\n",
       "      <td>[]</td>\n",
       "      <td>[]</td>\n",
       "      <td>22</td>\n",
       "      <td>2014-12-31T23:03:38.388Z</td>\n",
       "      <td>NaN</td>\n",
       "      <td>They guy that came up with the idea is kind of...</td>\n",
       "      <td>False</td>\n",
       "      <td>[]</td>\n",
       "      <td>1</td>\n",
       "      <td>[]</td>\n",
       "    </tr>\n",
       "  </tbody>\n",
       "</table>\n",
       "</div>"
      ],
      "text/plain": [
       "   Unnamed: 0  index editedAt  fromUser.gv               fromUser.id  \\\n",
       "0           0      0      NaN          3.0  546fd99cdb8155e6700d6ec8   \n",
       "1           1      1      NaN          NaN  54a47e0cdb8155e6700e486e   \n",
       "2           2      2      NaN          NaN  54a47e0cdb8155e6700e486e   \n",
       "3           3      3      NaN          3.0  546fd99cdb8155e6700d6ec8   \n",
       "4           4      4      NaN          3.0  54a44bbbdb8155e6700e47de   \n",
       "\n",
       "  fromUser.removed fromUser.staff  fromUser.v                        id  \\\n",
       "0              NaN            NaN         1.0  54a4804fb2b2de4b786502bf   \n",
       "1              NaN            NaN         NaN  54a4809b9597baaa7dceceb0   \n",
       "2              NaN            NaN         NaN  54a480b29597baaa7dceceb1   \n",
       "3              NaN            NaN         1.0  54a480b89597baaa7dceceb2   \n",
       "4              NaN            NaN         1.0  54a480ca9597baaa7dceceb5   \n",
       "\n",
       "  issues meta  readBy                      sent status  \\\n",
       "0     []   []      22  2014-12-31T23:01:35.647Z    NaN   \n",
       "1     []   []      21  2014-12-31T23:02:51.600Z    NaN   \n",
       "2     []   []      21  2014-12-31T23:03:14.221Z    NaN   \n",
       "3     []   []      22  2014-12-31T23:03:20.182Z    NaN   \n",
       "4     []   []      22  2014-12-31T23:03:38.388Z    NaN   \n",
       "\n",
       "                                                text  unread urls  v  \\\n",
       "0                                  no legumes either   False   []  1   \n",
       "1            That bullet proof coffee sounds insane.   False   []  1   \n",
       "2                            That guy has huge eyes.   False   []  1   \n",
       "3  @54a47e0cdb8155e6700e486e It is. but it works....   False   []  1   \n",
       "4  They guy that came up with the idea is kind of...   False   []  1   \n",
       "\n",
       "               mentions.userIds  \n",
       "0                            []  \n",
       "1                            []  \n",
       "2                            []  \n",
       "3  ['54a47e0cdb8155e6700e486e']  \n",
       "4                            []  "
      ]
     },
     "execution_count": 7,
     "metadata": {},
     "output_type": "execute_result"
    }
   ],
   "source": [
    "#We have 19columns and we want to see all of them clearly, so we set an option to pandas to display all columns\n",
    "pd.set_option('display.max_columns', None)\n",
    "\n",
    "#We take a look on the top 5 rows\n",
    "freecodecamp_anon.head()"
   ]
  },
  {
   "cell_type": "code",
   "execution_count": 8,
   "id": "f5527079",
   "metadata": {},
   "outputs": [
    {
     "data": {
      "text/html": [
       "<div>\n",
       "<style scoped>\n",
       "    .dataframe tbody tr th:only-of-type {\n",
       "        vertical-align: middle;\n",
       "    }\n",
       "\n",
       "    .dataframe tbody tr th {\n",
       "        vertical-align: top;\n",
       "    }\n",
       "\n",
       "    .dataframe thead th {\n",
       "        text-align: right;\n",
       "    }\n",
       "</style>\n",
       "<table border=\"1\" class=\"dataframe\">\n",
       "  <thead>\n",
       "    <tr style=\"text-align: right;\">\n",
       "      <th></th>\n",
       "      <th>Unnamed: 0</th>\n",
       "      <th>editedAt</th>\n",
       "      <th>fromUser</th>\n",
       "      <th>fromUser.avatarUrl</th>\n",
       "      <th>fromUser.avatarUrlMedium</th>\n",
       "      <th>fromUser.avatarUrlSmall</th>\n",
       "      <th>fromUser.displayName</th>\n",
       "      <th>fromUser.gv</th>\n",
       "      <th>fromUser.id</th>\n",
       "      <th>fromUser.removed</th>\n",
       "      <th>fromUser.staff</th>\n",
       "      <th>fromUser.url</th>\n",
       "      <th>fromUser.username</th>\n",
       "      <th>fromUser.v</th>\n",
       "      <th>html</th>\n",
       "      <th>id</th>\n",
       "      <th>issues</th>\n",
       "      <th>mentions</th>\n",
       "      <th>meta</th>\n",
       "      <th>readBy</th>\n",
       "      <th>sent</th>\n",
       "      <th>status</th>\n",
       "      <th>text</th>\n",
       "      <th>unread</th>\n",
       "      <th>urls</th>\n",
       "      <th>v</th>\n",
       "    </tr>\n",
       "  </thead>\n",
       "  <tbody>\n",
       "    <tr>\n",
       "      <th>5057395</th>\n",
       "      <td>1501195</td>\n",
       "      <td>NaN</td>\n",
       "      <td>NaN</td>\n",
       "      <td>https://avatars-04.gitter.im/gh/uv/4/ZeroZipZilch</td>\n",
       "      <td>https://avatars1.githubusercontent.com/u/15870...</td>\n",
       "      <td>https://avatars1.githubusercontent.com/u/15870...</td>\n",
       "      <td>ZeroZipZilch</td>\n",
       "      <td>4.0</td>\n",
       "      <td>58d41d93d73408ce4f532b32</td>\n",
       "      <td>NaN</td>\n",
       "      <td>NaN</td>\n",
       "      <td>/ZeroZipZilch</td>\n",
       "      <td>ZeroZipZilch</td>\n",
       "      <td>3.0</td>\n",
       "      <td>Yeah</td>\n",
       "      <td>5a2bc814232e79134d2a3edb</td>\n",
       "      <td>[]</td>\n",
       "      <td>[]</td>\n",
       "      <td>[]</td>\n",
       "      <td>1</td>\n",
       "      <td>2017-12-09T11:25:08.516Z</td>\n",
       "      <td>NaN</td>\n",
       "      <td>Yeah</td>\n",
       "      <td>True</td>\n",
       "      <td>[]</td>\n",
       "      <td>1</td>\n",
       "    </tr>\n",
       "    <tr>\n",
       "      <th>5057396</th>\n",
       "      <td>1501196</td>\n",
       "      <td>NaN</td>\n",
       "      <td>NaN</td>\n",
       "      <td>https://avatars-05.gitter.im/gh/uv/4/ev3rlord</td>\n",
       "      <td>https://avatars1.githubusercontent.com/u/32829...</td>\n",
       "      <td>https://avatars1.githubusercontent.com/u/32829...</td>\n",
       "      <td>EverLord</td>\n",
       "      <td>4.0</td>\n",
       "      <td>59fe15dcd73408ce4f7d253f</td>\n",
       "      <td>NaN</td>\n",
       "      <td>NaN</td>\n",
       "      <td>/ev3rlord</td>\n",
       "      <td>ev3rlord</td>\n",
       "      <td>10.0</td>\n",
       "      <td>Because the grid keeps changing</td>\n",
       "      <td>5a2bc81587680e6230ee1b8e</td>\n",
       "      <td>[]</td>\n",
       "      <td>[]</td>\n",
       "      <td>[]</td>\n",
       "      <td>2</td>\n",
       "      <td>2017-12-09T11:25:09.738Z</td>\n",
       "      <td>NaN</td>\n",
       "      <td>Because the grid keeps changing</td>\n",
       "      <td>True</td>\n",
       "      <td>[]</td>\n",
       "      <td>1</td>\n",
       "    </tr>\n",
       "    <tr>\n",
       "      <th>5057397</th>\n",
       "      <td>1501197</td>\n",
       "      <td>NaN</td>\n",
       "      <td>NaN</td>\n",
       "      <td>https://avatars-04.gitter.im/gh/uv/4/ZeroZipZilch</td>\n",
       "      <td>https://avatars1.githubusercontent.com/u/15870...</td>\n",
       "      <td>https://avatars1.githubusercontent.com/u/15870...</td>\n",
       "      <td>ZeroZipZilch</td>\n",
       "      <td>4.0</td>\n",
       "      <td>58d41d93d73408ce4f532b32</td>\n",
       "      <td>NaN</td>\n",
       "      <td>NaN</td>\n",
       "      <td>/ZeroZipZilch</td>\n",
       "      <td>ZeroZipZilch</td>\n",
       "      <td>3.0</td>\n",
       "      <td>And you got a clean after solution</td>\n",
       "      <td>5a2bc8203a80a84b5bd742ce</td>\n",
       "      <td>[]</td>\n",
       "      <td>[]</td>\n",
       "      <td>[]</td>\n",
       "      <td>1</td>\n",
       "      <td>2017-12-09T11:25:20.024Z</td>\n",
       "      <td>NaN</td>\n",
       "      <td>And you got a clean after solution</td>\n",
       "      <td>True</td>\n",
       "      <td>[]</td>\n",
       "      <td>1</td>\n",
       "    </tr>\n",
       "    <tr>\n",
       "      <th>5057398</th>\n",
       "      <td>1501198</td>\n",
       "      <td>NaN</td>\n",
       "      <td>NaN</td>\n",
       "      <td>https://avatars-04.gitter.im/gh/uv/4/ZeroZipZilch</td>\n",
       "      <td>https://avatars1.githubusercontent.com/u/15870...</td>\n",
       "      <td>https://avatars1.githubusercontent.com/u/15870...</td>\n",
       "      <td>ZeroZipZilch</td>\n",
       "      <td>4.0</td>\n",
       "      <td>58d41d93d73408ce4f532b32</td>\n",
       "      <td>NaN</td>\n",
       "      <td>NaN</td>\n",
       "      <td>/ZeroZipZilch</td>\n",
       "      <td>ZeroZipZilch</td>\n",
       "      <td>3.0</td>\n",
       "      <td>Af*</td>\n",
       "      <td>5a2bc823ffa3e37919169425</td>\n",
       "      <td>[]</td>\n",
       "      <td>[]</td>\n",
       "      <td>[]</td>\n",
       "      <td>1</td>\n",
       "      <td>2017-12-09T11:25:23.849Z</td>\n",
       "      <td>NaN</td>\n",
       "      <td>Af*</td>\n",
       "      <td>True</td>\n",
       "      <td>[]</td>\n",
       "      <td>1</td>\n",
       "    </tr>\n",
       "    <tr>\n",
       "      <th>5057399</th>\n",
       "      <td>1501199</td>\n",
       "      <td>NaN</td>\n",
       "      <td>NaN</td>\n",
       "      <td>https://avatars-05.gitter.im/gh/uv/4/ev3rlord</td>\n",
       "      <td>https://avatars1.githubusercontent.com/u/32829...</td>\n",
       "      <td>https://avatars1.githubusercontent.com/u/32829...</td>\n",
       "      <td>EverLord</td>\n",
       "      <td>4.0</td>\n",
       "      <td>59fe15dcd73408ce4f7d253f</td>\n",
       "      <td>NaN</td>\n",
       "      <td>NaN</td>\n",
       "      <td>/ev3rlord</td>\n",
       "      <td>ev3rlord</td>\n",
       "      <td>10.0</td>\n",
       "      <td>Hmm I don&amp;#39;t know I&amp;#39;ve been doing it si...</td>\n",
       "      <td>5a2bc83f87680e6230ee1c05</td>\n",
       "      <td>[]</td>\n",
       "      <td>[]</td>\n",
       "      <td>[]</td>\n",
       "      <td>2</td>\n",
       "      <td>2017-12-09T11:25:51.849Z</td>\n",
       "      <td>NaN</td>\n",
       "      <td>Hmm I don't know I've been doing it since this...</td>\n",
       "      <td>True</td>\n",
       "      <td>[]</td>\n",
       "      <td>1</td>\n",
       "    </tr>\n",
       "  </tbody>\n",
       "</table>\n",
       "</div>"
      ],
      "text/plain": [
       "         Unnamed: 0 editedAt  fromUser  \\\n",
       "5057395     1501195      NaN       NaN   \n",
       "5057396     1501196      NaN       NaN   \n",
       "5057397     1501197      NaN       NaN   \n",
       "5057398     1501198      NaN       NaN   \n",
       "5057399     1501199      NaN       NaN   \n",
       "\n",
       "                                        fromUser.avatarUrl  \\\n",
       "5057395  https://avatars-04.gitter.im/gh/uv/4/ZeroZipZilch   \n",
       "5057396      https://avatars-05.gitter.im/gh/uv/4/ev3rlord   \n",
       "5057397  https://avatars-04.gitter.im/gh/uv/4/ZeroZipZilch   \n",
       "5057398  https://avatars-04.gitter.im/gh/uv/4/ZeroZipZilch   \n",
       "5057399      https://avatars-05.gitter.im/gh/uv/4/ev3rlord   \n",
       "\n",
       "                                  fromUser.avatarUrlMedium  \\\n",
       "5057395  https://avatars1.githubusercontent.com/u/15870...   \n",
       "5057396  https://avatars1.githubusercontent.com/u/32829...   \n",
       "5057397  https://avatars1.githubusercontent.com/u/15870...   \n",
       "5057398  https://avatars1.githubusercontent.com/u/15870...   \n",
       "5057399  https://avatars1.githubusercontent.com/u/32829...   \n",
       "\n",
       "                                   fromUser.avatarUrlSmall  \\\n",
       "5057395  https://avatars1.githubusercontent.com/u/15870...   \n",
       "5057396  https://avatars1.githubusercontent.com/u/32829...   \n",
       "5057397  https://avatars1.githubusercontent.com/u/15870...   \n",
       "5057398  https://avatars1.githubusercontent.com/u/15870...   \n",
       "5057399  https://avatars1.githubusercontent.com/u/32829...   \n",
       "\n",
       "        fromUser.displayName  fromUser.gv               fromUser.id  \\\n",
       "5057395         ZeroZipZilch          4.0  58d41d93d73408ce4f532b32   \n",
       "5057396             EverLord          4.0  59fe15dcd73408ce4f7d253f   \n",
       "5057397         ZeroZipZilch          4.0  58d41d93d73408ce4f532b32   \n",
       "5057398         ZeroZipZilch          4.0  58d41d93d73408ce4f532b32   \n",
       "5057399             EverLord          4.0  59fe15dcd73408ce4f7d253f   \n",
       "\n",
       "        fromUser.removed fromUser.staff   fromUser.url fromUser.username  \\\n",
       "5057395              NaN            NaN  /ZeroZipZilch      ZeroZipZilch   \n",
       "5057396              NaN            NaN      /ev3rlord          ev3rlord   \n",
       "5057397              NaN            NaN  /ZeroZipZilch      ZeroZipZilch   \n",
       "5057398              NaN            NaN  /ZeroZipZilch      ZeroZipZilch   \n",
       "5057399              NaN            NaN      /ev3rlord          ev3rlord   \n",
       "\n",
       "         fromUser.v                                               html  \\\n",
       "5057395         3.0                                               Yeah   \n",
       "5057396        10.0                    Because the grid keeps changing   \n",
       "5057397         3.0                 And you got a clean after solution   \n",
       "5057398         3.0                                                Af*   \n",
       "5057399        10.0  Hmm I don&#39;t know I&#39;ve been doing it si...   \n",
       "\n",
       "                               id issues mentions meta  readBy  \\\n",
       "5057395  5a2bc814232e79134d2a3edb     []       []   []       1   \n",
       "5057396  5a2bc81587680e6230ee1b8e     []       []   []       2   \n",
       "5057397  5a2bc8203a80a84b5bd742ce     []       []   []       1   \n",
       "5057398  5a2bc823ffa3e37919169425     []       []   []       1   \n",
       "5057399  5a2bc83f87680e6230ee1c05     []       []   []       2   \n",
       "\n",
       "                             sent status  \\\n",
       "5057395  2017-12-09T11:25:08.516Z    NaN   \n",
       "5057396  2017-12-09T11:25:09.738Z    NaN   \n",
       "5057397  2017-12-09T11:25:20.024Z    NaN   \n",
       "5057398  2017-12-09T11:25:23.849Z    NaN   \n",
       "5057399  2017-12-09T11:25:51.849Z    NaN   \n",
       "\n",
       "                                                      text  unread urls  v  \n",
       "5057395                                               Yeah    True   []  1  \n",
       "5057396                    Because the grid keeps changing    True   []  1  \n",
       "5057397                 And you got a clean after solution    True   []  1  \n",
       "5057398                                                Af*    True   []  1  \n",
       "5057399  Hmm I don't know I've been doing it since this...    True   []  1  "
      ]
     },
     "execution_count": 8,
     "metadata": {},
     "output_type": "execute_result"
    }
   ],
   "source": [
    "#We take a look on the last 5 rows from freecodecamp_casual\n",
    "freecodecamp_casual.tail(5)"
   ]
  },
  {
   "cell_type": "code",
   "execution_count": 9,
   "id": "d03c2218",
   "metadata": {},
   "outputs": [
    {
     "data": {
      "text/html": [
       "<div>\n",
       "<style scoped>\n",
       "    .dataframe tbody tr th:only-of-type {\n",
       "        vertical-align: middle;\n",
       "    }\n",
       "\n",
       "    .dataframe tbody tr th {\n",
       "        vertical-align: top;\n",
       "    }\n",
       "\n",
       "    .dataframe thead th {\n",
       "        text-align: right;\n",
       "    }\n",
       "</style>\n",
       "<table border=\"1\" class=\"dataframe\">\n",
       "  <thead>\n",
       "    <tr style=\"text-align: right;\">\n",
       "      <th></th>\n",
       "      <th>Unnamed: 0</th>\n",
       "      <th>index</th>\n",
       "      <th>editedAt</th>\n",
       "      <th>fromUser.gv</th>\n",
       "      <th>fromUser.id</th>\n",
       "      <th>fromUser.removed</th>\n",
       "      <th>fromUser.staff</th>\n",
       "      <th>fromUser.v</th>\n",
       "      <th>id</th>\n",
       "      <th>issues</th>\n",
       "      <th>meta</th>\n",
       "      <th>readBy</th>\n",
       "      <th>sent</th>\n",
       "      <th>status</th>\n",
       "      <th>text</th>\n",
       "      <th>unread</th>\n",
       "      <th>urls</th>\n",
       "      <th>v</th>\n",
       "      <th>mentions.userIds</th>\n",
       "    </tr>\n",
       "  </thead>\n",
       "  <tbody>\n",
       "    <tr>\n",
       "      <th>5057395</th>\n",
       "      <td>5057395</td>\n",
       "      <td>1501195</td>\n",
       "      <td>NaN</td>\n",
       "      <td>4.0</td>\n",
       "      <td>58d41d93d73408ce4f532b32</td>\n",
       "      <td>NaN</td>\n",
       "      <td>NaN</td>\n",
       "      <td>3.0</td>\n",
       "      <td>5a2bc814232e79134d2a3edb</td>\n",
       "      <td>[]</td>\n",
       "      <td>[]</td>\n",
       "      <td>1</td>\n",
       "      <td>2017-12-09T11:25:08.516Z</td>\n",
       "      <td>NaN</td>\n",
       "      <td>Yeah</td>\n",
       "      <td>True</td>\n",
       "      <td>[]</td>\n",
       "      <td>1</td>\n",
       "      <td>[]</td>\n",
       "    </tr>\n",
       "    <tr>\n",
       "      <th>5057396</th>\n",
       "      <td>5057396</td>\n",
       "      <td>1501196</td>\n",
       "      <td>NaN</td>\n",
       "      <td>4.0</td>\n",
       "      <td>59fe15dcd73408ce4f7d253f</td>\n",
       "      <td>NaN</td>\n",
       "      <td>NaN</td>\n",
       "      <td>10.0</td>\n",
       "      <td>5a2bc81587680e6230ee1b8e</td>\n",
       "      <td>[]</td>\n",
       "      <td>[]</td>\n",
       "      <td>2</td>\n",
       "      <td>2017-12-09T11:25:09.738Z</td>\n",
       "      <td>NaN</td>\n",
       "      <td>Because the grid keeps changing</td>\n",
       "      <td>True</td>\n",
       "      <td>[]</td>\n",
       "      <td>1</td>\n",
       "      <td>[]</td>\n",
       "    </tr>\n",
       "    <tr>\n",
       "      <th>5057397</th>\n",
       "      <td>5057397</td>\n",
       "      <td>1501197</td>\n",
       "      <td>NaN</td>\n",
       "      <td>4.0</td>\n",
       "      <td>58d41d93d73408ce4f532b32</td>\n",
       "      <td>NaN</td>\n",
       "      <td>NaN</td>\n",
       "      <td>3.0</td>\n",
       "      <td>5a2bc8203a80a84b5bd742ce</td>\n",
       "      <td>[]</td>\n",
       "      <td>[]</td>\n",
       "      <td>1</td>\n",
       "      <td>2017-12-09T11:25:20.024Z</td>\n",
       "      <td>NaN</td>\n",
       "      <td>And you got a clean after solution</td>\n",
       "      <td>True</td>\n",
       "      <td>[]</td>\n",
       "      <td>1</td>\n",
       "      <td>[]</td>\n",
       "    </tr>\n",
       "    <tr>\n",
       "      <th>5057398</th>\n",
       "      <td>5057398</td>\n",
       "      <td>1501198</td>\n",
       "      <td>NaN</td>\n",
       "      <td>4.0</td>\n",
       "      <td>58d41d93d73408ce4f532b32</td>\n",
       "      <td>NaN</td>\n",
       "      <td>NaN</td>\n",
       "      <td>3.0</td>\n",
       "      <td>5a2bc823ffa3e37919169425</td>\n",
       "      <td>[]</td>\n",
       "      <td>[]</td>\n",
       "      <td>1</td>\n",
       "      <td>2017-12-09T11:25:23.849Z</td>\n",
       "      <td>NaN</td>\n",
       "      <td>Af*</td>\n",
       "      <td>True</td>\n",
       "      <td>[]</td>\n",
       "      <td>1</td>\n",
       "      <td>[]</td>\n",
       "    </tr>\n",
       "    <tr>\n",
       "      <th>5057399</th>\n",
       "      <td>5057399</td>\n",
       "      <td>1501199</td>\n",
       "      <td>NaN</td>\n",
       "      <td>4.0</td>\n",
       "      <td>59fe15dcd73408ce4f7d253f</td>\n",
       "      <td>NaN</td>\n",
       "      <td>NaN</td>\n",
       "      <td>10.0</td>\n",
       "      <td>5a2bc83f87680e6230ee1c05</td>\n",
       "      <td>[]</td>\n",
       "      <td>[]</td>\n",
       "      <td>2</td>\n",
       "      <td>2017-12-09T11:25:51.849Z</td>\n",
       "      <td>NaN</td>\n",
       "      <td>Hmm I don't know I've been doing it since this...</td>\n",
       "      <td>True</td>\n",
       "      <td>[]</td>\n",
       "      <td>1</td>\n",
       "      <td>[]</td>\n",
       "    </tr>\n",
       "  </tbody>\n",
       "</table>\n",
       "</div>"
      ],
      "text/plain": [
       "         Unnamed: 0    index editedAt  fromUser.gv               fromUser.id  \\\n",
       "5057395     5057395  1501195      NaN          4.0  58d41d93d73408ce4f532b32   \n",
       "5057396     5057396  1501196      NaN          4.0  59fe15dcd73408ce4f7d253f   \n",
       "5057397     5057397  1501197      NaN          4.0  58d41d93d73408ce4f532b32   \n",
       "5057398     5057398  1501198      NaN          4.0  58d41d93d73408ce4f532b32   \n",
       "5057399     5057399  1501199      NaN          4.0  59fe15dcd73408ce4f7d253f   \n",
       "\n",
       "        fromUser.removed fromUser.staff  fromUser.v                        id  \\\n",
       "5057395              NaN            NaN         3.0  5a2bc814232e79134d2a3edb   \n",
       "5057396              NaN            NaN        10.0  5a2bc81587680e6230ee1b8e   \n",
       "5057397              NaN            NaN         3.0  5a2bc8203a80a84b5bd742ce   \n",
       "5057398              NaN            NaN         3.0  5a2bc823ffa3e37919169425   \n",
       "5057399              NaN            NaN        10.0  5a2bc83f87680e6230ee1c05   \n",
       "\n",
       "        issues meta  readBy                      sent status  \\\n",
       "5057395     []   []       1  2017-12-09T11:25:08.516Z    NaN   \n",
       "5057396     []   []       2  2017-12-09T11:25:09.738Z    NaN   \n",
       "5057397     []   []       1  2017-12-09T11:25:20.024Z    NaN   \n",
       "5057398     []   []       1  2017-12-09T11:25:23.849Z    NaN   \n",
       "5057399     []   []       2  2017-12-09T11:25:51.849Z    NaN   \n",
       "\n",
       "                                                      text  unread urls  v  \\\n",
       "5057395                                               Yeah    True   []  1   \n",
       "5057396                    Because the grid keeps changing    True   []  1   \n",
       "5057397                 And you got a clean after solution    True   []  1   \n",
       "5057398                                                Af*    True   []  1   \n",
       "5057399  Hmm I don't know I've been doing it since this...    True   []  1   \n",
       "\n",
       "        mentions.userIds  \n",
       "5057395               []  \n",
       "5057396               []  \n",
       "5057397               []  \n",
       "5057398               []  \n",
       "5057399               []  "
      ]
     },
     "execution_count": 9,
     "metadata": {},
     "output_type": "execute_result"
    }
   ],
   "source": [
    "#We take a look on the last 5 rows from freecodecamp_casual_anon\n",
    "freecodecamp_anon.tail()"
   ]
  },
  {
   "cell_type": "markdown",
   "id": "9ca6f258",
   "metadata": {},
   "source": [
    "Look like the 5 first rows on `freecodecamp_casual_anon` file are really similary to the 5 first rows of the `freecodecamp_casual` file. Same thing with the last 5 rows for each. \n",
    "\n",
    "**We will go to the assumptions that the second file is a copy of the firts but with less column.**\n",
    "\n",
    "**We will work on the first file `freecodecamp_casual.csv`.**"
   ]
  },
  {
   "cell_type": "markdown",
   "id": "69e597f3",
   "metadata": {},
   "source": [
    "# 2. Data Cleaning \n",
    "\n",
    "We are working on the file: **`freecodecamp_casual.csv`.** In the first overview of the file we saw:\n",
    "   - Null value inside\n",
    "   - Duplicates columns\n",
    "   - Error dtype\n",
    "\n",
    "Our `cleaning` step will consist to deal with that and everything else to have a proper dataset reading for work."
   ]
  },
  {
   "cell_type": "code",
   "execution_count": 10,
   "id": "a36809f0",
   "metadata": {},
   "outputs": [
    {
     "data": {
      "text/html": [
       "<div>\n",
       "<style scoped>\n",
       "    .dataframe tbody tr th:only-of-type {\n",
       "        vertical-align: middle;\n",
       "    }\n",
       "\n",
       "    .dataframe tbody tr th {\n",
       "        vertical-align: top;\n",
       "    }\n",
       "\n",
       "    .dataframe thead th {\n",
       "        text-align: right;\n",
       "    }\n",
       "</style>\n",
       "<table border=\"1\" class=\"dataframe\">\n",
       "  <thead>\n",
       "    <tr style=\"text-align: right;\">\n",
       "      <th></th>\n",
       "      <th>Unnamed: 0</th>\n",
       "      <th>editedAt</th>\n",
       "      <th>fromUser</th>\n",
       "      <th>fromUser.avatarUrl</th>\n",
       "      <th>fromUser.avatarUrlMedium</th>\n",
       "      <th>fromUser.avatarUrlSmall</th>\n",
       "      <th>fromUser.displayName</th>\n",
       "      <th>fromUser.gv</th>\n",
       "      <th>fromUser.id</th>\n",
       "      <th>fromUser.removed</th>\n",
       "      <th>fromUser.staff</th>\n",
       "      <th>fromUser.url</th>\n",
       "      <th>fromUser.username</th>\n",
       "      <th>fromUser.v</th>\n",
       "      <th>html</th>\n",
       "      <th>id</th>\n",
       "      <th>issues</th>\n",
       "      <th>mentions</th>\n",
       "      <th>meta</th>\n",
       "      <th>readBy</th>\n",
       "      <th>sent</th>\n",
       "      <th>status</th>\n",
       "      <th>text</th>\n",
       "      <th>unread</th>\n",
       "      <th>urls</th>\n",
       "      <th>v</th>\n",
       "    </tr>\n",
       "  </thead>\n",
       "  <tbody>\n",
       "    <tr>\n",
       "      <th>0</th>\n",
       "      <td>0</td>\n",
       "      <td>NaN</td>\n",
       "      <td>NaN</td>\n",
       "      <td>NaN</td>\n",
       "      <td>https://avatars2.githubusercontent.com/u/21996...</td>\n",
       "      <td>https://avatars2.githubusercontent.com/u/21996...</td>\n",
       "      <td>Charles Watson</td>\n",
       "      <td>3.0</td>\n",
       "      <td>546fd99cdb8155e6700d6ec8</td>\n",
       "      <td>NaN</td>\n",
       "      <td>NaN</td>\n",
       "      <td>/sircharleswatson</td>\n",
       "      <td>sircharleswatson</td>\n",
       "      <td>1.0</td>\n",
       "      <td>no legumes either</td>\n",
       "      <td>54a4804fb2b2de4b786502bf</td>\n",
       "      <td>[]</td>\n",
       "      <td>[]</td>\n",
       "      <td>[]</td>\n",
       "      <td>22</td>\n",
       "      <td>2014-12-31T23:01:35.647Z</td>\n",
       "      <td>NaN</td>\n",
       "      <td>no legumes either</td>\n",
       "      <td>False</td>\n",
       "      <td>[]</td>\n",
       "      <td>1</td>\n",
       "    </tr>\n",
       "    <tr>\n",
       "      <th>1</th>\n",
       "      <td>1</td>\n",
       "      <td>NaN</td>\n",
       "      <td>NaN</td>\n",
       "      <td>NaN</td>\n",
       "      <td>https://avatars0.githubusercontent.com/u/10361...</td>\n",
       "      <td>https://avatars0.githubusercontent.com/u/10361...</td>\n",
       "      <td>janetwalters008</td>\n",
       "      <td>NaN</td>\n",
       "      <td>54a47e0cdb8155e6700e486e</td>\n",
       "      <td>NaN</td>\n",
       "      <td>NaN</td>\n",
       "      <td>/janetwalters008</td>\n",
       "      <td>janetwalters008</td>\n",
       "      <td>NaN</td>\n",
       "      <td>That bullet proof coffee sounds insane.</td>\n",
       "      <td>54a4809b9597baaa7dceceb0</td>\n",
       "      <td>[]</td>\n",
       "      <td>[]</td>\n",
       "      <td>[]</td>\n",
       "      <td>21</td>\n",
       "      <td>2014-12-31T23:02:51.600Z</td>\n",
       "      <td>NaN</td>\n",
       "      <td>That bullet proof coffee sounds insane.</td>\n",
       "      <td>False</td>\n",
       "      <td>[]</td>\n",
       "      <td>1</td>\n",
       "    </tr>\n",
       "  </tbody>\n",
       "</table>\n",
       "</div>"
      ],
      "text/plain": [
       "   Unnamed: 0 editedAt  fromUser fromUser.avatarUrl  \\\n",
       "0           0      NaN       NaN                NaN   \n",
       "1           1      NaN       NaN                NaN   \n",
       "\n",
       "                            fromUser.avatarUrlMedium  \\\n",
       "0  https://avatars2.githubusercontent.com/u/21996...   \n",
       "1  https://avatars0.githubusercontent.com/u/10361...   \n",
       "\n",
       "                             fromUser.avatarUrlSmall fromUser.displayName  \\\n",
       "0  https://avatars2.githubusercontent.com/u/21996...       Charles Watson   \n",
       "1  https://avatars0.githubusercontent.com/u/10361...      janetwalters008   \n",
       "\n",
       "   fromUser.gv               fromUser.id fromUser.removed fromUser.staff  \\\n",
       "0          3.0  546fd99cdb8155e6700d6ec8              NaN            NaN   \n",
       "1          NaN  54a47e0cdb8155e6700e486e              NaN            NaN   \n",
       "\n",
       "        fromUser.url fromUser.username  fromUser.v  \\\n",
       "0  /sircharleswatson  sircharleswatson         1.0   \n",
       "1   /janetwalters008   janetwalters008         NaN   \n",
       "\n",
       "                                      html                        id issues  \\\n",
       "0                        no legumes either  54a4804fb2b2de4b786502bf     []   \n",
       "1  That bullet proof coffee sounds insane.  54a4809b9597baaa7dceceb0     []   \n",
       "\n",
       "  mentions meta  readBy                      sent status  \\\n",
       "0       []   []      22  2014-12-31T23:01:35.647Z    NaN   \n",
       "1       []   []      21  2014-12-31T23:02:51.600Z    NaN   \n",
       "\n",
       "                                      text  unread urls  v  \n",
       "0                        no legumes either   False   []  1  \n",
       "1  That bullet proof coffee sounds insane.   False   []  1  "
      ]
     },
     "execution_count": 10,
     "metadata": {},
     "output_type": "execute_result"
    }
   ],
   "source": [
    "#An overview on our dataset\n",
    "freecodecamp_casual.head(2)"
   ]
  },
  {
   "cell_type": "markdown",
   "id": "965ba85e",
   "metadata": {},
   "source": [
    "#### We're going to create a function to visualize the distribution of our numeric columns when necessary."
   ]
  },
  {
   "cell_type": "code",
   "execution_count": 11,
   "id": "e861ee45",
   "metadata": {},
   "outputs": [],
   "source": [
    "def visualize_numeric_column(data, column_name):\n",
    "    \"\"\"\n",
    "    Visualizes a numeric column using a bar chart and calculates the mean and median.\n",
    "    \n",
    "    Args:\n",
    "        data (pandas.DataFrame): The dataframe containing the data.\n",
    "        column_name (str): The name of the numeric column.\n",
    "    \"\"\"\n",
    "    column_data = data[column_name]\n",
    "    mean = np.mean(column_data)\n",
    "    median = np.median(column_data)\n",
    "    \n",
    "    # Plotting the bar chart\n",
    "    plt.figure(figsize=(10, 6))\n",
    "    plt.hist(column_data, bins=20, edgecolor='black')\n",
    "    plt.xlabel(column_name)\n",
    "    plt.ylabel('Frequency')\n",
    "    plt.title('Distribution of ' + column_name)\n",
    "    plt.axvline(mean, color='red', linestyle='dashed', linewidth=1, label='Mean')\n",
    "    plt.axvline(median, color='green', linestyle='dashed', linewidth=1, label='Median')\n",
    "    plt.legend()\n",
    "    plt.show()\n",
    "    \n",
    "    # Printing the mean and median\n",
    "    print(\"Mean:\", mean)\n",
    "    print(\"Median:\", median)"
   ]
  },
  {
   "cell_type": "markdown",
   "id": "d4d8de39",
   "metadata": {},
   "source": [
    "### Change dtype"
   ]
  },
  {
   "cell_type": "markdown",
   "id": "6433d84e",
   "metadata": {},
   "source": [
    "We will change the **dtype** of the `sent` column from `object` to `datetime`."
   ]
  },
  {
   "cell_type": "code",
   "execution_count": 12,
   "id": "8d626f6f",
   "metadata": {},
   "outputs": [
    {
     "data": {
      "text/plain": [
       "0         2014-12-31 23:01:35.647000+00:00\n",
       "1         2014-12-31 23:02:51.600000+00:00\n",
       "2         2014-12-31 23:03:14.221000+00:00\n",
       "3         2014-12-31 23:03:20.182000+00:00\n",
       "4         2014-12-31 23:03:38.388000+00:00\n",
       "                        ...               \n",
       "5057395   2017-12-09 11:25:08.516000+00:00\n",
       "5057396   2017-12-09 11:25:09.738000+00:00\n",
       "5057397   2017-12-09 11:25:20.024000+00:00\n",
       "5057398   2017-12-09 11:25:23.849000+00:00\n",
       "5057399   2017-12-09 11:25:51.849000+00:00\n",
       "Name: sent, Length: 5057400, dtype: datetime64[ns, UTC]"
      ]
     },
     "execution_count": 12,
     "metadata": {},
     "output_type": "execute_result"
    }
   ],
   "source": [
    "#Transform the dtype to datetime\n",
    "freecodecamp_casual['sent'] = pd.to_datetime(freecodecamp_casual['sent'])\n",
    "freecodecamp_casual['sent']"
   ]
  },
  {
   "cell_type": "code",
   "execution_count": 13,
   "id": "546e7176",
   "metadata": {},
   "outputs": [
    {
     "name": "stdout",
     "output_type": "stream",
     "text": [
      "<class 'pandas.core.frame.DataFrame'>\n",
      "RangeIndex: 5057400 entries, 0 to 5057399\n",
      "Data columns (total 26 columns):\n",
      " #   Column                    Dtype              \n",
      "---  ------                    -----              \n",
      " 0   Unnamed: 0                int64              \n",
      " 1   editedAt                  object             \n",
      " 2   fromUser                  float64            \n",
      " 3   fromUser.avatarUrl        object             \n",
      " 4   fromUser.avatarUrlMedium  object             \n",
      " 5   fromUser.avatarUrlSmall   object             \n",
      " 6   fromUser.displayName      object             \n",
      " 7   fromUser.gv               float64            \n",
      " 8   fromUser.id               object             \n",
      " 9   fromUser.removed          object             \n",
      " 10  fromUser.staff            object             \n",
      " 11  fromUser.url              object             \n",
      " 12  fromUser.username         object             \n",
      " 13  fromUser.v                float64            \n",
      " 14  html                      object             \n",
      " 15  id                        object             \n",
      " 16  issues                    object             \n",
      " 17  mentions                  object             \n",
      " 18  meta                      object             \n",
      " 19  readBy                    int64              \n",
      " 20  sent                      datetime64[ns, UTC]\n",
      " 21  status                    object             \n",
      " 22  text                      object             \n",
      " 23  unread                    bool               \n",
      " 24  urls                      object             \n",
      " 25  v                         int64              \n",
      "dtypes: bool(1), datetime64[ns, UTC](1), float64(3), int64(3), object(18)\n",
      "memory usage: 969.4+ MB\n"
     ]
    }
   ],
   "source": [
    "#sanity check\n",
    "freecodecamp_casual.info()"
   ]
  },
  {
   "cell_type": "markdown",
   "id": "aa737578",
   "metadata": {},
   "source": [
    "We confirm that the `sent` column has the correct **dtype.**\n",
    "\n",
    "It's look like the column `editedAt` refer to a date, so we'll look inside and deal with that."
   ]
  },
  {
   "cell_type": "code",
   "execution_count": 14,
   "id": "fb880867",
   "metadata": {},
   "outputs": [
    {
     "data": {
      "text/plain": [
       "count                       126394\n",
       "unique                      125175\n",
       "top       2017-03-03T00:58:58.714Z\n",
       "freq                             2\n",
       "Name: editedAt, dtype: object"
      ]
     },
     "execution_count": 14,
     "metadata": {},
     "output_type": "execute_result"
    }
   ],
   "source": [
    "#An overview on editedAt column\n",
    "freecodecamp_casual['editedAt'].describe()"
   ]
  },
  {
   "cell_type": "code",
   "execution_count": 15,
   "id": "0977a32d",
   "metadata": {},
   "outputs": [
    {
     "data": {
      "text/plain": [
       "4931006"
      ]
     },
     "execution_count": 15,
     "metadata": {},
     "output_type": "execute_result"
    }
   ],
   "source": [
    "#How many null value inside editedAt column\n",
    "freecodecamp_casual['editedAt'].isna().sum()"
   ]
  },
  {
   "cell_type": "markdown",
   "id": "0a1c70b1",
   "metadata": {},
   "source": [
    "Look like `editedAt` contain date but contain `4931006 null value ~ 97.5%` too, we will change the dtype from `object` to `datetime` and manage the null value later."
   ]
  },
  {
   "cell_type": "code",
   "execution_count": 16,
   "id": "a3730777",
   "metadata": {},
   "outputs": [
    {
     "data": {
      "text/plain": [
       "0         NaT\n",
       "1         NaT\n",
       "2         NaT\n",
       "3         NaT\n",
       "4         NaT\n",
       "           ..\n",
       "5057395   NaT\n",
       "5057396   NaT\n",
       "5057397   NaT\n",
       "5057398   NaT\n",
       "5057399   NaT\n",
       "Name: editedAt, Length: 5057400, dtype: datetime64[ns, UTC]"
      ]
     },
     "execution_count": 16,
     "metadata": {},
     "output_type": "execute_result"
    }
   ],
   "source": [
    "#Transform the dtype to datetime\n",
    "freecodecamp_casual['editedAt'] = pd.to_datetime(freecodecamp_casual['editedAt'])\n",
    "freecodecamp_casual['editedAt']"
   ]
  },
  {
   "cell_type": "code",
   "execution_count": 17,
   "id": "d3508225",
   "metadata": {
    "scrolled": false
   },
   "outputs": [
    {
     "name": "stdout",
     "output_type": "stream",
     "text": [
      "<class 'pandas.core.frame.DataFrame'>\n",
      "RangeIndex: 5057400 entries, 0 to 5057399\n",
      "Data columns (total 26 columns):\n",
      " #   Column                    Dtype              \n",
      "---  ------                    -----              \n",
      " 0   Unnamed: 0                int64              \n",
      " 1   editedAt                  datetime64[ns, UTC]\n",
      " 2   fromUser                  float64            \n",
      " 3   fromUser.avatarUrl        object             \n",
      " 4   fromUser.avatarUrlMedium  object             \n",
      " 5   fromUser.avatarUrlSmall   object             \n",
      " 6   fromUser.displayName      object             \n",
      " 7   fromUser.gv               float64            \n",
      " 8   fromUser.id               object             \n",
      " 9   fromUser.removed          object             \n",
      " 10  fromUser.staff            object             \n",
      " 11  fromUser.url              object             \n",
      " 12  fromUser.username         object             \n",
      " 13  fromUser.v                float64            \n",
      " 14  html                      object             \n",
      " 15  id                        object             \n",
      " 16  issues                    object             \n",
      " 17  mentions                  object             \n",
      " 18  meta                      object             \n",
      " 19  readBy                    int64              \n",
      " 20  sent                      datetime64[ns, UTC]\n",
      " 21  status                    object             \n",
      " 22  text                      object             \n",
      " 23  unread                    bool               \n",
      " 24  urls                      object             \n",
      " 25  v                         int64              \n",
      "dtypes: bool(1), datetime64[ns, UTC](2), float64(3), int64(3), object(17)\n",
      "memory usage: 969.4+ MB\n"
     ]
    }
   ],
   "source": [
    "#sanity check\n",
    "freecodecamp_casual.info()"
   ]
  },
  {
   "cell_type": "markdown",
   "id": "6443bcac",
   "metadata": {},
   "source": [
    "We confirm the change from `object` to `datetime` for the column `editedAt`."
   ]
  },
  {
   "cell_type": "markdown",
   "id": "d7c20963",
   "metadata": {},
   "source": [
    "We have finish to deal with **dtype** to change, then we go to the next step by treating `null value` now."
   ]
  },
  {
   "cell_type": "markdown",
   "id": "1fdb2d55",
   "metadata": {},
   "source": [
    "### Deal with Null Value"
   ]
  },
  {
   "cell_type": "markdown",
   "id": "812912ef",
   "metadata": {},
   "source": [
    "We will treat `null value` first by each column."
   ]
  },
  {
   "cell_type": "code",
   "execution_count": 18,
   "id": "4a1c7f77",
   "metadata": {},
   "outputs": [
    {
     "name": "stdout",
     "output_type": "stream",
     "text": [
      "editedAt have 4931006 null value\n",
      "fromUser have 5057400 null value\n",
      "fromUser.avatarUrl have 1828000 null value\n",
      "fromUser.avatarUrlMedium have 7 null value\n",
      "fromUser.avatarUrlSmall have 7 null value\n",
      "fromUser.displayName have 11 null value\n",
      "fromUser.gv have 31837 null value\n",
      "fromUser.id have 7 null value\n",
      "fromUser.removed have 5053990 null value\n",
      "fromUser.staff have 5057373 null value\n",
      "fromUser.url have 7 null value\n",
      "fromUser.username have 7 null value\n",
      "fromUser.v have 796555 null value\n",
      "html have 19845 null value\n",
      "status have 5041092 null value\n",
      "text have 19559 null value\n",
      "\n",
      " We have 16 columns which contains null value\n"
     ]
    }
   ],
   "source": [
    "#An overview on each column, which column contain null value?\n",
    "i = 0\n",
    "for col in freecodecamp_casual.columns:\n",
    "    sum_isna = freecodecamp_casual[col].isna().sum()\n",
    "    if sum_isna > 0:\n",
    "        i += 1\n",
    "        print(f'{col} have {sum_isna} null value')\n",
    "print(f'\\n We have {i} columns which contains null value')"
   ]
  },
  {
   "cell_type": "markdown",
   "id": "3b84e806",
   "metadata": {},
   "source": [
    "We will clean null value from these column:\n",
    "   - editedAt -  4931006 null value \n",
    "   - fromUser -  5057400 null value\n",
    "   - fromUser.avatarUrl  -  1828000 null value\n",
    "   - fromUser.avatarUrlMedium  -  7 null value\n",
    "   - fromUser.avatarUrlSmall  -  7 null value\n",
    "   - fromUser.displayName - 11 null value\n",
    "   - fromUser.gv - 31837 null value\n",
    "   - fromUser.id - 7 null value\n",
    "   - fromUser.removed - 5053990 null value\n",
    "   - fromUser.staff - 5057373 null value\n",
    "   - fromUser.url - 7 null value\n",
    "   - fromUser.username - 7 null value\n",
    "   - fromUser.v - 796555 null value\n",
    "   - html - 19845 null value\n",
    "   - status - 5041092 null value\n",
    "   - text - 19559 null value"
   ]
  },
  {
   "cell_type": "code",
   "execution_count": 19,
   "id": "dda821c4",
   "metadata": {},
   "outputs": [
    {
     "data": {
      "text/html": [
       "<div>\n",
       "<style scoped>\n",
       "    .dataframe tbody tr th:only-of-type {\n",
       "        vertical-align: middle;\n",
       "    }\n",
       "\n",
       "    .dataframe tbody tr th {\n",
       "        vertical-align: top;\n",
       "    }\n",
       "\n",
       "    .dataframe thead th {\n",
       "        text-align: right;\n",
       "    }\n",
       "</style>\n",
       "<table border=\"1\" class=\"dataframe\">\n",
       "  <thead>\n",
       "    <tr style=\"text-align: right;\">\n",
       "      <th></th>\n",
       "      <th>Unnamed: 0</th>\n",
       "      <th>editedAt</th>\n",
       "      <th>fromUser</th>\n",
       "      <th>fromUser.avatarUrl</th>\n",
       "      <th>fromUser.avatarUrlMedium</th>\n",
       "      <th>fromUser.avatarUrlSmall</th>\n",
       "      <th>fromUser.displayName</th>\n",
       "      <th>fromUser.gv</th>\n",
       "      <th>fromUser.id</th>\n",
       "      <th>fromUser.removed</th>\n",
       "      <th>fromUser.staff</th>\n",
       "      <th>fromUser.url</th>\n",
       "      <th>fromUser.username</th>\n",
       "      <th>fromUser.v</th>\n",
       "      <th>html</th>\n",
       "      <th>id</th>\n",
       "      <th>issues</th>\n",
       "      <th>mentions</th>\n",
       "      <th>meta</th>\n",
       "      <th>readBy</th>\n",
       "      <th>sent</th>\n",
       "      <th>status</th>\n",
       "      <th>text</th>\n",
       "      <th>unread</th>\n",
       "      <th>urls</th>\n",
       "      <th>v</th>\n",
       "    </tr>\n",
       "  </thead>\n",
       "  <tbody>\n",
       "    <tr>\n",
       "      <th>0</th>\n",
       "      <td>0</td>\n",
       "      <td>NaT</td>\n",
       "      <td>NaN</td>\n",
       "      <td>NaN</td>\n",
       "      <td>https://avatars2.githubusercontent.com/u/21996...</td>\n",
       "      <td>https://avatars2.githubusercontent.com/u/21996...</td>\n",
       "      <td>Charles Watson</td>\n",
       "      <td>3.0</td>\n",
       "      <td>546fd99cdb8155e6700d6ec8</td>\n",
       "      <td>NaN</td>\n",
       "      <td>NaN</td>\n",
       "      <td>/sircharleswatson</td>\n",
       "      <td>sircharleswatson</td>\n",
       "      <td>1.0</td>\n",
       "      <td>no legumes either</td>\n",
       "      <td>54a4804fb2b2de4b786502bf</td>\n",
       "      <td>[]</td>\n",
       "      <td>[]</td>\n",
       "      <td>[]</td>\n",
       "      <td>22</td>\n",
       "      <td>2014-12-31 23:01:35.647000+00:00</td>\n",
       "      <td>NaN</td>\n",
       "      <td>no legumes either</td>\n",
       "      <td>False</td>\n",
       "      <td>[]</td>\n",
       "      <td>1</td>\n",
       "    </tr>\n",
       "    <tr>\n",
       "      <th>1</th>\n",
       "      <td>1</td>\n",
       "      <td>NaT</td>\n",
       "      <td>NaN</td>\n",
       "      <td>NaN</td>\n",
       "      <td>https://avatars0.githubusercontent.com/u/10361...</td>\n",
       "      <td>https://avatars0.githubusercontent.com/u/10361...</td>\n",
       "      <td>janetwalters008</td>\n",
       "      <td>NaN</td>\n",
       "      <td>54a47e0cdb8155e6700e486e</td>\n",
       "      <td>NaN</td>\n",
       "      <td>NaN</td>\n",
       "      <td>/janetwalters008</td>\n",
       "      <td>janetwalters008</td>\n",
       "      <td>NaN</td>\n",
       "      <td>That bullet proof coffee sounds insane.</td>\n",
       "      <td>54a4809b9597baaa7dceceb0</td>\n",
       "      <td>[]</td>\n",
       "      <td>[]</td>\n",
       "      <td>[]</td>\n",
       "      <td>21</td>\n",
       "      <td>2014-12-31 23:02:51.600000+00:00</td>\n",
       "      <td>NaN</td>\n",
       "      <td>That bullet proof coffee sounds insane.</td>\n",
       "      <td>False</td>\n",
       "      <td>[]</td>\n",
       "      <td>1</td>\n",
       "    </tr>\n",
       "  </tbody>\n",
       "</table>\n",
       "</div>"
      ],
      "text/plain": [
       "   Unnamed: 0 editedAt  fromUser fromUser.avatarUrl  \\\n",
       "0           0      NaT       NaN                NaN   \n",
       "1           1      NaT       NaN                NaN   \n",
       "\n",
       "                            fromUser.avatarUrlMedium  \\\n",
       "0  https://avatars2.githubusercontent.com/u/21996...   \n",
       "1  https://avatars0.githubusercontent.com/u/10361...   \n",
       "\n",
       "                             fromUser.avatarUrlSmall fromUser.displayName  \\\n",
       "0  https://avatars2.githubusercontent.com/u/21996...       Charles Watson   \n",
       "1  https://avatars0.githubusercontent.com/u/10361...      janetwalters008   \n",
       "\n",
       "   fromUser.gv               fromUser.id fromUser.removed fromUser.staff  \\\n",
       "0          3.0  546fd99cdb8155e6700d6ec8              NaN            NaN   \n",
       "1          NaN  54a47e0cdb8155e6700e486e              NaN            NaN   \n",
       "\n",
       "        fromUser.url fromUser.username  fromUser.v  \\\n",
       "0  /sircharleswatson  sircharleswatson         1.0   \n",
       "1   /janetwalters008   janetwalters008         NaN   \n",
       "\n",
       "                                      html                        id issues  \\\n",
       "0                        no legumes either  54a4804fb2b2de4b786502bf     []   \n",
       "1  That bullet proof coffee sounds insane.  54a4809b9597baaa7dceceb0     []   \n",
       "\n",
       "  mentions meta  readBy                             sent status  \\\n",
       "0       []   []      22 2014-12-31 23:01:35.647000+00:00    NaN   \n",
       "1       []   []      21 2014-12-31 23:02:51.600000+00:00    NaN   \n",
       "\n",
       "                                      text  unread urls  v  \n",
       "0                        no legumes either   False   []  1  \n",
       "1  That bullet proof coffee sounds insane.   False   []  1  "
      ]
     },
     "execution_count": 19,
     "metadata": {},
     "output_type": "execute_result"
    }
   ],
   "source": [
    "#First we make a copy of our dataset, and we will work on it.\n",
    "clean_freecodecamp_casual = freecodecamp_casual.copy()\n",
    "\n",
    "#sanity check\n",
    "clean_freecodecamp_casual.head(2)"
   ]
  },
  {
   "cell_type": "markdown",
   "id": "64ec12b2",
   "metadata": {},
   "source": [
    "#### Column: fromUser - 5057400 null value\n",
    "\n",
    "It's look like there is nothing inside the `fromUser` column, because we have as much `null value` as `number of rows`."
   ]
  },
  {
   "cell_type": "code",
   "execution_count": 20,
   "id": "f7a334f4",
   "metadata": {},
   "outputs": [
    {
     "data": {
      "text/plain": [
       "Series([], Name: fromUser, dtype: int64)"
      ]
     },
     "execution_count": 20,
     "metadata": {},
     "output_type": "execute_result"
    }
   ],
   "source": [
    "#Verification of assumptions\n",
    "clean_freecodecamp_casual['fromUser'].value_counts()"
   ]
  },
  {
   "cell_type": "markdown",
   "id": "5dd1157f",
   "metadata": {},
   "source": [
    "There is nothing inside this column so we choose to delete it."
   ]
  },
  {
   "cell_type": "code",
   "execution_count": 21,
   "id": "575a3e74",
   "metadata": {
    "scrolled": false
   },
   "outputs": [
    {
     "name": "stdout",
     "output_type": "stream",
     "text": [
      "<class 'pandas.core.frame.DataFrame'>\n",
      "RangeIndex: 5057400 entries, 0 to 5057399\n",
      "Data columns (total 25 columns):\n",
      " #   Column                    Dtype              \n",
      "---  ------                    -----              \n",
      " 0   Unnamed: 0                int64              \n",
      " 1   editedAt                  datetime64[ns, UTC]\n",
      " 2   fromUser.avatarUrl        object             \n",
      " 3   fromUser.avatarUrlMedium  object             \n",
      " 4   fromUser.avatarUrlSmall   object             \n",
      " 5   fromUser.displayName      object             \n",
      " 6   fromUser.gv               float64            \n",
      " 7   fromUser.id               object             \n",
      " 8   fromUser.removed          object             \n",
      " 9   fromUser.staff            object             \n",
      " 10  fromUser.url              object             \n",
      " 11  fromUser.username         object             \n",
      " 12  fromUser.v                float64            \n",
      " 13  html                      object             \n",
      " 14  id                        object             \n",
      " 15  issues                    object             \n",
      " 16  mentions                  object             \n",
      " 17  meta                      object             \n",
      " 18  readBy                    int64              \n",
      " 19  sent                      datetime64[ns, UTC]\n",
      " 20  status                    object             \n",
      " 21  text                      object             \n",
      " 22  unread                    bool               \n",
      " 23  urls                      object             \n",
      " 24  v                         int64              \n",
      "dtypes: bool(1), datetime64[ns, UTC](2), float64(2), int64(3), object(17)\n",
      "memory usage: 930.9+ MB\n"
     ]
    }
   ],
   "source": [
    "#Delete fromUser column\n",
    "clean_freecodecamp_casual = clean_freecodecamp_casual.drop(columns=['fromUser'])\n",
    "\n",
    "#sanity check\n",
    "clean_freecodecamp_casual.info()"
   ]
  },
  {
   "cell_type": "markdown",
   "id": "2bed59dc",
   "metadata": {},
   "source": [
    "#### Column where number of null value < 100\n",
    "Those columns are:\n",
    "- fromUser.avatarUrlMedium - 7 null value\n",
    "- fromUser.avatarUrlSmall - 7 null value\n",
    "- fromUser.displayName - 11 null value\n",
    "- fromUser.id - 7 null value\n",
    "- fromUser.url - 7 null value\n",
    "- fromUser.username - 7 null value\n",
    "\n",
    "We will see what is inside, check if it's possible to put a random value otherwise delete them."
   ]
  },
  {
   "cell_type": "code",
   "execution_count": 22,
   "id": "0c405841",
   "metadata": {
    "scrolled": false
   },
   "outputs": [
    {
     "data": {
      "text/html": [
       "<div>\n",
       "<style scoped>\n",
       "    .dataframe tbody tr th:only-of-type {\n",
       "        vertical-align: middle;\n",
       "    }\n",
       "\n",
       "    .dataframe tbody tr th {\n",
       "        vertical-align: top;\n",
       "    }\n",
       "\n",
       "    .dataframe thead th {\n",
       "        text-align: right;\n",
       "    }\n",
       "</style>\n",
       "<table border=\"1\" class=\"dataframe\">\n",
       "  <thead>\n",
       "    <tr style=\"text-align: right;\">\n",
       "      <th></th>\n",
       "      <th>Unnamed: 0</th>\n",
       "      <th>editedAt</th>\n",
       "      <th>fromUser.avatarUrl</th>\n",
       "      <th>fromUser.avatarUrlMedium</th>\n",
       "      <th>fromUser.avatarUrlSmall</th>\n",
       "      <th>fromUser.displayName</th>\n",
       "      <th>fromUser.gv</th>\n",
       "      <th>fromUser.id</th>\n",
       "      <th>fromUser.removed</th>\n",
       "      <th>fromUser.staff</th>\n",
       "      <th>fromUser.url</th>\n",
       "      <th>fromUser.username</th>\n",
       "      <th>fromUser.v</th>\n",
       "      <th>html</th>\n",
       "      <th>id</th>\n",
       "      <th>issues</th>\n",
       "      <th>mentions</th>\n",
       "      <th>meta</th>\n",
       "      <th>readBy</th>\n",
       "      <th>sent</th>\n",
       "      <th>status</th>\n",
       "      <th>text</th>\n",
       "      <th>unread</th>\n",
       "      <th>urls</th>\n",
       "      <th>v</th>\n",
       "    </tr>\n",
       "  </thead>\n",
       "  <tbody>\n",
       "    <tr>\n",
       "      <th>101</th>\n",
       "      <td>101</td>\n",
       "      <td>NaT</td>\n",
       "      <td>NaN</td>\n",
       "      <td>NaN</td>\n",
       "      <td>NaN</td>\n",
       "      <td>NaN</td>\n",
       "      <td>NaN</td>\n",
       "      <td>NaN</td>\n",
       "      <td>NaN</td>\n",
       "      <td>NaN</td>\n",
       "      <td>NaN</td>\n",
       "      <td>NaN</td>\n",
       "      <td>NaN</td>\n",
       "      <td>hello world!</td>\n",
       "      <td>54a4a0de29aec36b6af1c0ef</td>\n",
       "      <td>[]</td>\n",
       "      <td>[]</td>\n",
       "      <td>[]</td>\n",
       "      <td>16</td>\n",
       "      <td>2015-01-01 01:20:30.403000+00:00</td>\n",
       "      <td>NaN</td>\n",
       "      <td>hello world!</td>\n",
       "      <td>False</td>\n",
       "      <td>[]</td>\n",
       "      <td>1</td>\n",
       "    </tr>\n",
       "    <tr>\n",
       "      <th>106</th>\n",
       "      <td>106</td>\n",
       "      <td>NaT</td>\n",
       "      <td>NaN</td>\n",
       "      <td>NaN</td>\n",
       "      <td>NaN</td>\n",
       "      <td>NaN</td>\n",
       "      <td>NaN</td>\n",
       "      <td>NaN</td>\n",
       "      <td>NaN</td>\n",
       "      <td>NaN</td>\n",
       "      <td>NaN</td>\n",
       "      <td>NaN</td>\n",
       "      <td>NaN</td>\n",
       "      <td>Thanks &lt;span data-link-type=\"mention\" data-scr...</td>\n",
       "      <td>54a4a1499597baaa7dced08d</td>\n",
       "      <td>[]</td>\n",
       "      <td>[{'userIds': [], 'userId': '546fc9f1db8155e670...</td>\n",
       "      <td>[]</td>\n",
       "      <td>17</td>\n",
       "      <td>2015-01-01 01:22:17.160000+00:00</td>\n",
       "      <td>NaN</td>\n",
       "      <td>Thanks @QuincyLarson :)</td>\n",
       "      <td>False</td>\n",
       "      <td>[]</td>\n",
       "      <td>1</td>\n",
       "    </tr>\n",
       "    <tr>\n",
       "      <th>110</th>\n",
       "      <td>110</td>\n",
       "      <td>NaT</td>\n",
       "      <td>NaN</td>\n",
       "      <td>NaN</td>\n",
       "      <td>NaN</td>\n",
       "      <td>NaN</td>\n",
       "      <td>NaN</td>\n",
       "      <td>NaN</td>\n",
       "      <td>NaN</td>\n",
       "      <td>NaN</td>\n",
       "      <td>NaN</td>\n",
       "      <td>NaN</td>\n",
       "      <td>NaN</td>\n",
       "      <td>I&amp;#39;ve found Free Code Camp in reddit and I ...</td>\n",
       "      <td>54a4a22b9597baaa7dced099</td>\n",
       "      <td>[]</td>\n",
       "      <td>[]</td>\n",
       "      <td>[]</td>\n",
       "      <td>17</td>\n",
       "      <td>2015-01-01 01:26:03.133000+00:00</td>\n",
       "      <td>NaN</td>\n",
       "      <td>I've found Free Code Camp in reddit and I alre...</td>\n",
       "      <td>False</td>\n",
       "      <td>[]</td>\n",
       "      <td>1</td>\n",
       "    </tr>\n",
       "    <tr>\n",
       "      <th>126</th>\n",
       "      <td>126</td>\n",
       "      <td>NaT</td>\n",
       "      <td>NaN</td>\n",
       "      <td>NaN</td>\n",
       "      <td>NaN</td>\n",
       "      <td>NaN</td>\n",
       "      <td>NaN</td>\n",
       "      <td>NaN</td>\n",
       "      <td>NaN</td>\n",
       "      <td>NaN</td>\n",
       "      <td>NaN</td>\n",
       "      <td>NaN</td>\n",
       "      <td>NaN</td>\n",
       "      <td>&lt;span data-link-type=\"mention\" data-screen-nam...</td>\n",
       "      <td>54a4a39229aec36b6af1c110</td>\n",
       "      <td>[]</td>\n",
       "      <td>[{'userIds': [], 'userId': '546fc9f1db8155e670...</td>\n",
       "      <td>[]</td>\n",
       "      <td>20</td>\n",
       "      <td>2015-01-01 01:32:02.517000+00:00</td>\n",
       "      <td>NaN</td>\n",
       "      <td>@QuincyLarson No problem. I work as a native m...</td>\n",
       "      <td>False</td>\n",
       "      <td>[]</td>\n",
       "      <td>1</td>\n",
       "    </tr>\n",
       "    <tr>\n",
       "      <th>22983</th>\n",
       "      <td>22983</td>\n",
       "      <td>2015-01-15 21:45:35.640000+00:00</td>\n",
       "      <td>NaN</td>\n",
       "      <td>NaN</td>\n",
       "      <td>NaN</td>\n",
       "      <td>NaN</td>\n",
       "      <td>NaN</td>\n",
       "      <td>NaN</td>\n",
       "      <td>NaN</td>\n",
       "      <td>NaN</td>\n",
       "      <td>NaN</td>\n",
       "      <td>NaN</td>\n",
       "      <td>NaN</td>\n",
       "      <td>NaN</td>\n",
       "      <td>54b834fa723506dd0c0edf6b</td>\n",
       "      <td>[]</td>\n",
       "      <td>[]</td>\n",
       "      <td>[]</td>\n",
       "      <td>21</td>\n",
       "      <td>2015-01-15 21:45:30.474000+00:00</td>\n",
       "      <td>NaN</td>\n",
       "      <td>NaN</td>\n",
       "      <td>False</td>\n",
       "      <td>[]</td>\n",
       "      <td>2</td>\n",
       "    </tr>\n",
       "    <tr>\n",
       "      <th>22988</th>\n",
       "      <td>22988</td>\n",
       "      <td>NaT</td>\n",
       "      <td>NaN</td>\n",
       "      <td>NaN</td>\n",
       "      <td>NaN</td>\n",
       "      <td>NaN</td>\n",
       "      <td>NaN</td>\n",
       "      <td>NaN</td>\n",
       "      <td>NaN</td>\n",
       "      <td>NaN</td>\n",
       "      <td>NaN</td>\n",
       "      <td>NaN</td>\n",
       "      <td>NaN</td>\n",
       "      <td>&lt;span data-link-type=\"mention\" data-screen-nam...</td>\n",
       "      <td>54b83523573df0f923453022</td>\n",
       "      <td>[]</td>\n",
       "      <td>[{'userIds': [], 'userId': '54aaf442db8155e670...</td>\n",
       "      <td>[]</td>\n",
       "      <td>19</td>\n",
       "      <td>2015-01-15 21:46:11.499000+00:00</td>\n",
       "      <td>NaN</td>\n",
       "      <td>@ESOComputing just testing how Gitter looks in...</td>\n",
       "      <td>False</td>\n",
       "      <td>[]</td>\n",
       "      <td>1</td>\n",
       "    </tr>\n",
       "    <tr>\n",
       "      <th>83004</th>\n",
       "      <td>83004</td>\n",
       "      <td>NaT</td>\n",
       "      <td>NaN</td>\n",
       "      <td>NaN</td>\n",
       "      <td>NaN</td>\n",
       "      <td>NaN</td>\n",
       "      <td>NaN</td>\n",
       "      <td>NaN</td>\n",
       "      <td>NaN</td>\n",
       "      <td>NaN</td>\n",
       "      <td>NaN</td>\n",
       "      <td>NaN</td>\n",
       "      <td>NaN</td>\n",
       "      <td>Quincy&amp;#39;s streaming on Twitch right now if ...</td>\n",
       "      <td>54e57fe0c8e106d730ca19d8</td>\n",
       "      <td>[]</td>\n",
       "      <td>[]</td>\n",
       "      <td>[]</td>\n",
       "      <td>17</td>\n",
       "      <td>2015-02-19 06:17:04.992000+00:00</td>\n",
       "      <td>NaN</td>\n",
       "      <td>Quincy's streaming on Twitch right now if you ...</td>\n",
       "      <td>False</td>\n",
       "      <td>[{'url': 'http://www.twitch.tv/freecodecamp'}]</td>\n",
       "      <td>1</td>\n",
       "    </tr>\n",
       "  </tbody>\n",
       "</table>\n",
       "</div>"
      ],
      "text/plain": [
       "       Unnamed: 0                         editedAt fromUser.avatarUrl  \\\n",
       "101           101                              NaT                NaN   \n",
       "106           106                              NaT                NaN   \n",
       "110           110                              NaT                NaN   \n",
       "126           126                              NaT                NaN   \n",
       "22983       22983 2015-01-15 21:45:35.640000+00:00                NaN   \n",
       "22988       22988                              NaT                NaN   \n",
       "83004       83004                              NaT                NaN   \n",
       "\n",
       "      fromUser.avatarUrlMedium fromUser.avatarUrlSmall fromUser.displayName  \\\n",
       "101                        NaN                     NaN                  NaN   \n",
       "106                        NaN                     NaN                  NaN   \n",
       "110                        NaN                     NaN                  NaN   \n",
       "126                        NaN                     NaN                  NaN   \n",
       "22983                      NaN                     NaN                  NaN   \n",
       "22988                      NaN                     NaN                  NaN   \n",
       "83004                      NaN                     NaN                  NaN   \n",
       "\n",
       "       fromUser.gv fromUser.id fromUser.removed fromUser.staff fromUser.url  \\\n",
       "101            NaN         NaN              NaN            NaN          NaN   \n",
       "106            NaN         NaN              NaN            NaN          NaN   \n",
       "110            NaN         NaN              NaN            NaN          NaN   \n",
       "126            NaN         NaN              NaN            NaN          NaN   \n",
       "22983          NaN         NaN              NaN            NaN          NaN   \n",
       "22988          NaN         NaN              NaN            NaN          NaN   \n",
       "83004          NaN         NaN              NaN            NaN          NaN   \n",
       "\n",
       "      fromUser.username  fromUser.v  \\\n",
       "101                 NaN         NaN   \n",
       "106                 NaN         NaN   \n",
       "110                 NaN         NaN   \n",
       "126                 NaN         NaN   \n",
       "22983               NaN         NaN   \n",
       "22988               NaN         NaN   \n",
       "83004               NaN         NaN   \n",
       "\n",
       "                                                    html  \\\n",
       "101                                         hello world!   \n",
       "106    Thanks <span data-link-type=\"mention\" data-scr...   \n",
       "110    I&#39;ve found Free Code Camp in reddit and I ...   \n",
       "126    <span data-link-type=\"mention\" data-screen-nam...   \n",
       "22983                                                NaN   \n",
       "22988  <span data-link-type=\"mention\" data-screen-nam...   \n",
       "83004  Quincy&#39;s streaming on Twitch right now if ...   \n",
       "\n",
       "                             id issues  \\\n",
       "101    54a4a0de29aec36b6af1c0ef     []   \n",
       "106    54a4a1499597baaa7dced08d     []   \n",
       "110    54a4a22b9597baaa7dced099     []   \n",
       "126    54a4a39229aec36b6af1c110     []   \n",
       "22983  54b834fa723506dd0c0edf6b     []   \n",
       "22988  54b83523573df0f923453022     []   \n",
       "83004  54e57fe0c8e106d730ca19d8     []   \n",
       "\n",
       "                                                mentions meta  readBy  \\\n",
       "101                                                   []   []      16   \n",
       "106    [{'userIds': [], 'userId': '546fc9f1db8155e670...   []      17   \n",
       "110                                                   []   []      17   \n",
       "126    [{'userIds': [], 'userId': '546fc9f1db8155e670...   []      20   \n",
       "22983                                                 []   []      21   \n",
       "22988  [{'userIds': [], 'userId': '54aaf442db8155e670...   []      19   \n",
       "83004                                                 []   []      17   \n",
       "\n",
       "                                  sent status  \\\n",
       "101   2015-01-01 01:20:30.403000+00:00    NaN   \n",
       "106   2015-01-01 01:22:17.160000+00:00    NaN   \n",
       "110   2015-01-01 01:26:03.133000+00:00    NaN   \n",
       "126   2015-01-01 01:32:02.517000+00:00    NaN   \n",
       "22983 2015-01-15 21:45:30.474000+00:00    NaN   \n",
       "22988 2015-01-15 21:46:11.499000+00:00    NaN   \n",
       "83004 2015-02-19 06:17:04.992000+00:00    NaN   \n",
       "\n",
       "                                                    text  unread  \\\n",
       "101                                         hello world!   False   \n",
       "106                              Thanks @QuincyLarson :)   False   \n",
       "110    I've found Free Code Camp in reddit and I alre...   False   \n",
       "126    @QuincyLarson No problem. I work as a native m...   False   \n",
       "22983                                                NaN   False   \n",
       "22988  @ESOComputing just testing how Gitter looks in...   False   \n",
       "83004  Quincy's streaming on Twitch right now if you ...   False   \n",
       "\n",
       "                                                 urls  v  \n",
       "101                                                []  1  \n",
       "106                                                []  1  \n",
       "110                                                []  1  \n",
       "126                                                []  1  \n",
       "22983                                              []  2  \n",
       "22988                                              []  1  \n",
       "83004  [{'url': 'http://www.twitch.tv/freecodecamp'}]  1  "
      ]
     },
     "execution_count": 22,
     "metadata": {},
     "output_type": "execute_result"
    }
   ],
   "source": [
    "#fromUser.avatarUrlMedium \n",
    "clean_freecodecamp_casual[clean_freecodecamp_casual['fromUser.avatarUrlMedium'].isna()]"
   ]
  },
  {
   "cell_type": "markdown",
   "id": "8e93a9c8",
   "metadata": {},
   "source": [
    "Look like the rows where `fromUser.avatarUrlMedium` are `null` doesn't have any interesting data inside, we can delete them to clean that."
   ]
  },
  {
   "cell_type": "code",
   "execution_count": 23,
   "id": "3a3eb63b",
   "metadata": {},
   "outputs": [
    {
     "name": "stdout",
     "output_type": "stream",
     "text": [
      "[101, 106, 110, 126, 22983, 22988, 83004]\n"
     ]
    },
    {
     "data": {
      "text/html": [
       "<div>\n",
       "<style scoped>\n",
       "    .dataframe tbody tr th:only-of-type {\n",
       "        vertical-align: middle;\n",
       "    }\n",
       "\n",
       "    .dataframe tbody tr th {\n",
       "        vertical-align: top;\n",
       "    }\n",
       "\n",
       "    .dataframe thead th {\n",
       "        text-align: right;\n",
       "    }\n",
       "</style>\n",
       "<table border=\"1\" class=\"dataframe\">\n",
       "  <thead>\n",
       "    <tr style=\"text-align: right;\">\n",
       "      <th></th>\n",
       "      <th>Unnamed: 0</th>\n",
       "      <th>editedAt</th>\n",
       "      <th>fromUser.avatarUrl</th>\n",
       "      <th>fromUser.avatarUrlMedium</th>\n",
       "      <th>fromUser.avatarUrlSmall</th>\n",
       "      <th>fromUser.displayName</th>\n",
       "      <th>fromUser.gv</th>\n",
       "      <th>fromUser.id</th>\n",
       "      <th>fromUser.removed</th>\n",
       "      <th>fromUser.staff</th>\n",
       "      <th>fromUser.url</th>\n",
       "      <th>fromUser.username</th>\n",
       "      <th>fromUser.v</th>\n",
       "      <th>html</th>\n",
       "      <th>id</th>\n",
       "      <th>issues</th>\n",
       "      <th>mentions</th>\n",
       "      <th>meta</th>\n",
       "      <th>readBy</th>\n",
       "      <th>sent</th>\n",
       "      <th>status</th>\n",
       "      <th>text</th>\n",
       "      <th>unread</th>\n",
       "      <th>urls</th>\n",
       "      <th>v</th>\n",
       "    </tr>\n",
       "  </thead>\n",
       "  <tbody>\n",
       "  </tbody>\n",
       "</table>\n",
       "</div>"
      ],
      "text/plain": [
       "Empty DataFrame\n",
       "Columns: [Unnamed: 0, editedAt, fromUser.avatarUrl, fromUser.avatarUrlMedium, fromUser.avatarUrlSmall, fromUser.displayName, fromUser.gv, fromUser.id, fromUser.removed, fromUser.staff, fromUser.url, fromUser.username, fromUser.v, html, id, issues, mentions, meta, readBy, sent, status, text, unread, urls, v]\n",
       "Index: []"
      ]
     },
     "execution_count": 23,
     "metadata": {},
     "output_type": "execute_result"
    }
   ],
   "source": [
    "#Get all rows index\n",
    "ind = clean_freecodecamp_casual[clean_freecodecamp_casual['fromUser.avatarUrlMedium'].isna()].index.values.tolist()\n",
    "print(ind)\n",
    "\n",
    "#deleting all these index in my datasaet\n",
    "# for i in ind:\n",
    "clean_freecodecamp_casual = clean_freecodecamp_casual.drop(ind)\n",
    "\n",
    "#sanity check\n",
    "clean_freecodecamp_casual[clean_freecodecamp_casual['fromUser.avatarUrlMedium'].isna()]"
   ]
  },
  {
   "cell_type": "code",
   "execution_count": 24,
   "id": "37315200",
   "metadata": {},
   "outputs": [
    {
     "data": {
      "text/plain": [
       "0"
      ]
     },
     "execution_count": 24,
     "metadata": {},
     "output_type": "execute_result"
    }
   ],
   "source": [
    "#sanity check\n",
    "clean_freecodecamp_casual['fromUser.avatarUrlMedium'].isna().sum()"
   ]
  },
  {
   "cell_type": "markdown",
   "id": "2d9061e3",
   "metadata": {},
   "source": [
    "We confirm that there no more `null value` inside the `fromUser.avatarUrlMedium` column."
   ]
  },
  {
   "cell_type": "code",
   "execution_count": 25,
   "id": "ddd1863b",
   "metadata": {
    "scrolled": true
   },
   "outputs": [
    {
     "data": {
      "text/plain": [
       "0"
      ]
     },
     "execution_count": 25,
     "metadata": {},
     "output_type": "execute_result"
    }
   ],
   "source": [
    "#fromUser.avatarUrlSmall \n",
    "clean_freecodecamp_casual['fromUser.avatarUrlSmall'].isna().sum()"
   ]
  },
  {
   "cell_type": "markdown",
   "id": "da846602",
   "metadata": {},
   "source": [
    "We confirm that there no more `null value` inside the `fromUser.avatarUrlSmall` column."
   ]
  },
  {
   "cell_type": "code",
   "execution_count": 26,
   "id": "41f97ee7",
   "metadata": {},
   "outputs": [
    {
     "data": {
      "text/plain": [
       "0"
      ]
     },
     "execution_count": 26,
     "metadata": {},
     "output_type": "execute_result"
    }
   ],
   "source": [
    "#fromUser.id \n",
    "clean_freecodecamp_casual['fromUser.id'].isna().sum()"
   ]
  },
  {
   "cell_type": "markdown",
   "id": "077af708",
   "metadata": {},
   "source": [
    "We confirm that there no more `null value` inside the `fromUser.id` column."
   ]
  },
  {
   "cell_type": "code",
   "execution_count": 27,
   "id": "4b4283f5",
   "metadata": {},
   "outputs": [
    {
     "data": {
      "text/plain": [
       "0"
      ]
     },
     "execution_count": 27,
     "metadata": {},
     "output_type": "execute_result"
    }
   ],
   "source": [
    "#fromUser.url \n",
    "clean_freecodecamp_casual['fromUser.id'].isna().sum()"
   ]
  },
  {
   "cell_type": "markdown",
   "id": "07f7bf8d",
   "metadata": {},
   "source": [
    "We confirm that there no more `null value` inside the `fromUser.url` column."
   ]
  },
  {
   "cell_type": "code",
   "execution_count": 28,
   "id": "6311f426",
   "metadata": {},
   "outputs": [
    {
     "data": {
      "text/plain": [
       "0"
      ]
     },
     "execution_count": 28,
     "metadata": {},
     "output_type": "execute_result"
    }
   ],
   "source": [
    "#fromUser.username \n",
    "clean_freecodecamp_casual['fromUser.username'].isna().sum()"
   ]
  },
  {
   "cell_type": "markdown",
   "id": "cdca37ee",
   "metadata": {},
   "source": [
    "We confirm that there no more `null value` inside the `fromUser.username` column."
   ]
  },
  {
   "cell_type": "code",
   "execution_count": 29,
   "id": "7b73f479",
   "metadata": {},
   "outputs": [
    {
     "data": {
      "text/plain": [
       "4"
      ]
     },
     "execution_count": 29,
     "metadata": {},
     "output_type": "execute_result"
    }
   ],
   "source": [
    "#fromUser.displayName \n",
    "clean_freecodecamp_casual['fromUser.displayName'].isna().sum()"
   ]
  },
  {
   "cell_type": "code",
   "execution_count": 30,
   "id": "c62126c1",
   "metadata": {
    "scrolled": true
   },
   "outputs": [
    {
     "data": {
      "text/html": [
       "<div>\n",
       "<style scoped>\n",
       "    .dataframe tbody tr th:only-of-type {\n",
       "        vertical-align: middle;\n",
       "    }\n",
       "\n",
       "    .dataframe tbody tr th {\n",
       "        vertical-align: top;\n",
       "    }\n",
       "\n",
       "    .dataframe thead th {\n",
       "        text-align: right;\n",
       "    }\n",
       "</style>\n",
       "<table border=\"1\" class=\"dataframe\">\n",
       "  <thead>\n",
       "    <tr style=\"text-align: right;\">\n",
       "      <th></th>\n",
       "      <th>Unnamed: 0</th>\n",
       "      <th>editedAt</th>\n",
       "      <th>fromUser.avatarUrl</th>\n",
       "      <th>fromUser.avatarUrlMedium</th>\n",
       "      <th>fromUser.avatarUrlSmall</th>\n",
       "      <th>fromUser.displayName</th>\n",
       "      <th>fromUser.gv</th>\n",
       "      <th>fromUser.id</th>\n",
       "      <th>fromUser.removed</th>\n",
       "      <th>fromUser.staff</th>\n",
       "      <th>fromUser.url</th>\n",
       "      <th>fromUser.username</th>\n",
       "      <th>fromUser.v</th>\n",
       "      <th>html</th>\n",
       "      <th>id</th>\n",
       "      <th>issues</th>\n",
       "      <th>mentions</th>\n",
       "      <th>meta</th>\n",
       "      <th>readBy</th>\n",
       "      <th>sent</th>\n",
       "      <th>status</th>\n",
       "      <th>text</th>\n",
       "      <th>unread</th>\n",
       "      <th>urls</th>\n",
       "      <th>v</th>\n",
       "    </tr>\n",
       "  </thead>\n",
       "  <tbody>\n",
       "    <tr>\n",
       "      <th>149462</th>\n",
       "      <td>149462</td>\n",
       "      <td>NaT</td>\n",
       "      <td>NaN</td>\n",
       "      <td>https://avatars1.githubusercontent.com/u/14760...</td>\n",
       "      <td>https://avatars1.githubusercontent.com/u/14760...</td>\n",
       "      <td>NaN</td>\n",
       "      <td>3.0</td>\n",
       "      <td>54951af4db8155e6700e15f6</td>\n",
       "      <td>NaN</td>\n",
       "      <td>NaN</td>\n",
       "      <td>/prodigeni</td>\n",
       "      <td>prodigeni</td>\n",
       "      <td>1.0</td>\n",
       "      <td>gi</td>\n",
       "      <td>558777eebb2c3e7c1586ccef</td>\n",
       "      <td>[]</td>\n",
       "      <td>[]</td>\n",
       "      <td>[]</td>\n",
       "      <td>33</td>\n",
       "      <td>2015-06-22 02:50:22.006000+00:00</td>\n",
       "      <td>NaN</td>\n",
       "      <td>gi</td>\n",
       "      <td>False</td>\n",
       "      <td>[]</td>\n",
       "      <td>1</td>\n",
       "    </tr>\n",
       "    <tr>\n",
       "      <th>149464</th>\n",
       "      <td>149464</td>\n",
       "      <td>NaT</td>\n",
       "      <td>NaN</td>\n",
       "      <td>https://avatars1.githubusercontent.com/u/14760...</td>\n",
       "      <td>https://avatars1.githubusercontent.com/u/14760...</td>\n",
       "      <td>NaN</td>\n",
       "      <td>3.0</td>\n",
       "      <td>54951af4db8155e6700e15f6</td>\n",
       "      <td>NaN</td>\n",
       "      <td>NaN</td>\n",
       "      <td>/prodigeni</td>\n",
       "      <td>prodigeni</td>\n",
       "      <td>1.0</td>\n",
       "      <td>*hi</td>\n",
       "      <td>558777f4bb2c3e7c1586ccf0</td>\n",
       "      <td>[]</td>\n",
       "      <td>[]</td>\n",
       "      <td>[]</td>\n",
       "      <td>32</td>\n",
       "      <td>2015-06-22 02:50:28.810000+00:00</td>\n",
       "      <td>NaN</td>\n",
       "      <td>*hi</td>\n",
       "      <td>False</td>\n",
       "      <td>[]</td>\n",
       "      <td>1</td>\n",
       "    </tr>\n",
       "    <tr>\n",
       "      <th>150788</th>\n",
       "      <td>150788</td>\n",
       "      <td>NaT</td>\n",
       "      <td>NaN</td>\n",
       "      <td>https://avatars1.githubusercontent.com/u/14760...</td>\n",
       "      <td>https://avatars1.githubusercontent.com/u/14760...</td>\n",
       "      <td>NaN</td>\n",
       "      <td>3.0</td>\n",
       "      <td>54951af4db8155e6700e15f6</td>\n",
       "      <td>NaN</td>\n",
       "      <td>NaN</td>\n",
       "      <td>/prodigeni</td>\n",
       "      <td>prodigeni</td>\n",
       "      <td>1.0</td>\n",
       "      <td>hi</td>\n",
       "      <td>55884eb03039387b15782e95</td>\n",
       "      <td>[]</td>\n",
       "      <td>[]</td>\n",
       "      <td>[]</td>\n",
       "      <td>48</td>\n",
       "      <td>2015-06-22 18:06:40.387000+00:00</td>\n",
       "      <td>NaN</td>\n",
       "      <td>hi</td>\n",
       "      <td>False</td>\n",
       "      <td>[]</td>\n",
       "      <td>1</td>\n",
       "    </tr>\n",
       "    <tr>\n",
       "      <th>152791</th>\n",
       "      <td>152791</td>\n",
       "      <td>NaT</td>\n",
       "      <td>NaN</td>\n",
       "      <td>https://avatars1.githubusercontent.com/u/14760...</td>\n",
       "      <td>https://avatars1.githubusercontent.com/u/14760...</td>\n",
       "      <td>NaN</td>\n",
       "      <td>3.0</td>\n",
       "      <td>54951af4db8155e6700e15f6</td>\n",
       "      <td>NaN</td>\n",
       "      <td>NaN</td>\n",
       "      <td>/prodigeni</td>\n",
       "      <td>prodigeni</td>\n",
       "      <td>1.0</td>\n",
       "      <td>could you please use a pastebin?</td>\n",
       "      <td>5588e9f7f207aa853a8c5fd4</td>\n",
       "      <td>[]</td>\n",
       "      <td>[]</td>\n",
       "      <td>[]</td>\n",
       "      <td>36</td>\n",
       "      <td>2015-06-23 05:09:11.417000+00:00</td>\n",
       "      <td>NaN</td>\n",
       "      <td>could you please use a pastebin?</td>\n",
       "      <td>False</td>\n",
       "      <td>[]</td>\n",
       "      <td>1</td>\n",
       "    </tr>\n",
       "  </tbody>\n",
       "</table>\n",
       "</div>"
      ],
      "text/plain": [
       "        Unnamed: 0 editedAt fromUser.avatarUrl  \\\n",
       "149462      149462      NaT                NaN   \n",
       "149464      149464      NaT                NaN   \n",
       "150788      150788      NaT                NaN   \n",
       "152791      152791      NaT                NaN   \n",
       "\n",
       "                                 fromUser.avatarUrlMedium  \\\n",
       "149462  https://avatars1.githubusercontent.com/u/14760...   \n",
       "149464  https://avatars1.githubusercontent.com/u/14760...   \n",
       "150788  https://avatars1.githubusercontent.com/u/14760...   \n",
       "152791  https://avatars1.githubusercontent.com/u/14760...   \n",
       "\n",
       "                                  fromUser.avatarUrlSmall  \\\n",
       "149462  https://avatars1.githubusercontent.com/u/14760...   \n",
       "149464  https://avatars1.githubusercontent.com/u/14760...   \n",
       "150788  https://avatars1.githubusercontent.com/u/14760...   \n",
       "152791  https://avatars1.githubusercontent.com/u/14760...   \n",
       "\n",
       "       fromUser.displayName  fromUser.gv               fromUser.id  \\\n",
       "149462                  NaN          3.0  54951af4db8155e6700e15f6   \n",
       "149464                  NaN          3.0  54951af4db8155e6700e15f6   \n",
       "150788                  NaN          3.0  54951af4db8155e6700e15f6   \n",
       "152791                  NaN          3.0  54951af4db8155e6700e15f6   \n",
       "\n",
       "       fromUser.removed fromUser.staff fromUser.url fromUser.username  \\\n",
       "149462              NaN            NaN   /prodigeni         prodigeni   \n",
       "149464              NaN            NaN   /prodigeni         prodigeni   \n",
       "150788              NaN            NaN   /prodigeni         prodigeni   \n",
       "152791              NaN            NaN   /prodigeni         prodigeni   \n",
       "\n",
       "        fromUser.v                              html  \\\n",
       "149462         1.0                                gi   \n",
       "149464         1.0                               *hi   \n",
       "150788         1.0                                hi   \n",
       "152791         1.0  could you please use a pastebin?   \n",
       "\n",
       "                              id issues mentions meta  readBy  \\\n",
       "149462  558777eebb2c3e7c1586ccef     []       []   []      33   \n",
       "149464  558777f4bb2c3e7c1586ccf0     []       []   []      32   \n",
       "150788  55884eb03039387b15782e95     []       []   []      48   \n",
       "152791  5588e9f7f207aa853a8c5fd4     []       []   []      36   \n",
       "\n",
       "                                   sent status  \\\n",
       "149462 2015-06-22 02:50:22.006000+00:00    NaN   \n",
       "149464 2015-06-22 02:50:28.810000+00:00    NaN   \n",
       "150788 2015-06-22 18:06:40.387000+00:00    NaN   \n",
       "152791 2015-06-23 05:09:11.417000+00:00    NaN   \n",
       "\n",
       "                                    text  unread urls  v  \n",
       "149462                                gi   False   []  1  \n",
       "149464                               *hi   False   []  1  \n",
       "150788                                hi   False   []  1  \n",
       "152791  could you please use a pastebin?   False   []  1  "
      ]
     },
     "execution_count": 30,
     "metadata": {},
     "output_type": "execute_result"
    }
   ],
   "source": [
    "#Which rows containing this null value\n",
    "clean_freecodecamp_casual[clean_freecodecamp_casual['fromUser.displayName'].isna()]"
   ]
  },
  {
   "cell_type": "markdown",
   "id": "448f9560",
   "metadata": {},
   "source": [
    "This null value on the `displayname` are relate to the same userid `54951af4db8155e6700e15f6.` \n",
    "\n",
    "We will check if we have another occurence of this id and if we can get the displayname from them."
   ]
  },
  {
   "cell_type": "code",
   "execution_count": 31,
   "id": "ac8f98f1",
   "metadata": {
    "scrolled": true
   },
   "outputs": [
    {
     "data": {
      "text/html": [
       "<div>\n",
       "<style scoped>\n",
       "    .dataframe tbody tr th:only-of-type {\n",
       "        vertical-align: middle;\n",
       "    }\n",
       "\n",
       "    .dataframe tbody tr th {\n",
       "        vertical-align: top;\n",
       "    }\n",
       "\n",
       "    .dataframe thead th {\n",
       "        text-align: right;\n",
       "    }\n",
       "</style>\n",
       "<table border=\"1\" class=\"dataframe\">\n",
       "  <thead>\n",
       "    <tr style=\"text-align: right;\">\n",
       "      <th></th>\n",
       "      <th>Unnamed: 0</th>\n",
       "      <th>editedAt</th>\n",
       "      <th>fromUser.avatarUrl</th>\n",
       "      <th>fromUser.avatarUrlMedium</th>\n",
       "      <th>fromUser.avatarUrlSmall</th>\n",
       "      <th>fromUser.displayName</th>\n",
       "      <th>fromUser.gv</th>\n",
       "      <th>fromUser.id</th>\n",
       "      <th>fromUser.removed</th>\n",
       "      <th>fromUser.staff</th>\n",
       "      <th>fromUser.url</th>\n",
       "      <th>fromUser.username</th>\n",
       "      <th>fromUser.v</th>\n",
       "      <th>html</th>\n",
       "      <th>id</th>\n",
       "      <th>issues</th>\n",
       "      <th>mentions</th>\n",
       "      <th>meta</th>\n",
       "      <th>readBy</th>\n",
       "      <th>sent</th>\n",
       "      <th>status</th>\n",
       "      <th>text</th>\n",
       "      <th>unread</th>\n",
       "      <th>urls</th>\n",
       "      <th>v</th>\n",
       "    </tr>\n",
       "  </thead>\n",
       "  <tbody>\n",
       "    <tr>\n",
       "      <th>149462</th>\n",
       "      <td>149462</td>\n",
       "      <td>NaT</td>\n",
       "      <td>NaN</td>\n",
       "      <td>https://avatars1.githubusercontent.com/u/14760...</td>\n",
       "      <td>https://avatars1.githubusercontent.com/u/14760...</td>\n",
       "      <td>NaN</td>\n",
       "      <td>3.0</td>\n",
       "      <td>54951af4db8155e6700e15f6</td>\n",
       "      <td>NaN</td>\n",
       "      <td>NaN</td>\n",
       "      <td>/prodigeni</td>\n",
       "      <td>prodigeni</td>\n",
       "      <td>1.0</td>\n",
       "      <td>gi</td>\n",
       "      <td>558777eebb2c3e7c1586ccef</td>\n",
       "      <td>[]</td>\n",
       "      <td>[]</td>\n",
       "      <td>[]</td>\n",
       "      <td>33</td>\n",
       "      <td>2015-06-22 02:50:22.006000+00:00</td>\n",
       "      <td>NaN</td>\n",
       "      <td>gi</td>\n",
       "      <td>False</td>\n",
       "      <td>[]</td>\n",
       "      <td>1</td>\n",
       "    </tr>\n",
       "    <tr>\n",
       "      <th>149464</th>\n",
       "      <td>149464</td>\n",
       "      <td>NaT</td>\n",
       "      <td>NaN</td>\n",
       "      <td>https://avatars1.githubusercontent.com/u/14760...</td>\n",
       "      <td>https://avatars1.githubusercontent.com/u/14760...</td>\n",
       "      <td>NaN</td>\n",
       "      <td>3.0</td>\n",
       "      <td>54951af4db8155e6700e15f6</td>\n",
       "      <td>NaN</td>\n",
       "      <td>NaN</td>\n",
       "      <td>/prodigeni</td>\n",
       "      <td>prodigeni</td>\n",
       "      <td>1.0</td>\n",
       "      <td>*hi</td>\n",
       "      <td>558777f4bb2c3e7c1586ccf0</td>\n",
       "      <td>[]</td>\n",
       "      <td>[]</td>\n",
       "      <td>[]</td>\n",
       "      <td>32</td>\n",
       "      <td>2015-06-22 02:50:28.810000+00:00</td>\n",
       "      <td>NaN</td>\n",
       "      <td>*hi</td>\n",
       "      <td>False</td>\n",
       "      <td>[]</td>\n",
       "      <td>1</td>\n",
       "    </tr>\n",
       "    <tr>\n",
       "      <th>150788</th>\n",
       "      <td>150788</td>\n",
       "      <td>NaT</td>\n",
       "      <td>NaN</td>\n",
       "      <td>https://avatars1.githubusercontent.com/u/14760...</td>\n",
       "      <td>https://avatars1.githubusercontent.com/u/14760...</td>\n",
       "      <td>NaN</td>\n",
       "      <td>3.0</td>\n",
       "      <td>54951af4db8155e6700e15f6</td>\n",
       "      <td>NaN</td>\n",
       "      <td>NaN</td>\n",
       "      <td>/prodigeni</td>\n",
       "      <td>prodigeni</td>\n",
       "      <td>1.0</td>\n",
       "      <td>hi</td>\n",
       "      <td>55884eb03039387b15782e95</td>\n",
       "      <td>[]</td>\n",
       "      <td>[]</td>\n",
       "      <td>[]</td>\n",
       "      <td>48</td>\n",
       "      <td>2015-06-22 18:06:40.387000+00:00</td>\n",
       "      <td>NaN</td>\n",
       "      <td>hi</td>\n",
       "      <td>False</td>\n",
       "      <td>[]</td>\n",
       "      <td>1</td>\n",
       "    </tr>\n",
       "    <tr>\n",
       "      <th>152791</th>\n",
       "      <td>152791</td>\n",
       "      <td>NaT</td>\n",
       "      <td>NaN</td>\n",
       "      <td>https://avatars1.githubusercontent.com/u/14760...</td>\n",
       "      <td>https://avatars1.githubusercontent.com/u/14760...</td>\n",
       "      <td>NaN</td>\n",
       "      <td>3.0</td>\n",
       "      <td>54951af4db8155e6700e15f6</td>\n",
       "      <td>NaN</td>\n",
       "      <td>NaN</td>\n",
       "      <td>/prodigeni</td>\n",
       "      <td>prodigeni</td>\n",
       "      <td>1.0</td>\n",
       "      <td>could you please use a pastebin?</td>\n",
       "      <td>5588e9f7f207aa853a8c5fd4</td>\n",
       "      <td>[]</td>\n",
       "      <td>[]</td>\n",
       "      <td>[]</td>\n",
       "      <td>36</td>\n",
       "      <td>2015-06-23 05:09:11.417000+00:00</td>\n",
       "      <td>NaN</td>\n",
       "      <td>could you please use a pastebin?</td>\n",
       "      <td>False</td>\n",
       "      <td>[]</td>\n",
       "      <td>1</td>\n",
       "    </tr>\n",
       "  </tbody>\n",
       "</table>\n",
       "</div>"
      ],
      "text/plain": [
       "        Unnamed: 0 editedAt fromUser.avatarUrl  \\\n",
       "149462      149462      NaT                NaN   \n",
       "149464      149464      NaT                NaN   \n",
       "150788      150788      NaT                NaN   \n",
       "152791      152791      NaT                NaN   \n",
       "\n",
       "                                 fromUser.avatarUrlMedium  \\\n",
       "149462  https://avatars1.githubusercontent.com/u/14760...   \n",
       "149464  https://avatars1.githubusercontent.com/u/14760...   \n",
       "150788  https://avatars1.githubusercontent.com/u/14760...   \n",
       "152791  https://avatars1.githubusercontent.com/u/14760...   \n",
       "\n",
       "                                  fromUser.avatarUrlSmall  \\\n",
       "149462  https://avatars1.githubusercontent.com/u/14760...   \n",
       "149464  https://avatars1.githubusercontent.com/u/14760...   \n",
       "150788  https://avatars1.githubusercontent.com/u/14760...   \n",
       "152791  https://avatars1.githubusercontent.com/u/14760...   \n",
       "\n",
       "       fromUser.displayName  fromUser.gv               fromUser.id  \\\n",
       "149462                  NaN          3.0  54951af4db8155e6700e15f6   \n",
       "149464                  NaN          3.0  54951af4db8155e6700e15f6   \n",
       "150788                  NaN          3.0  54951af4db8155e6700e15f6   \n",
       "152791                  NaN          3.0  54951af4db8155e6700e15f6   \n",
       "\n",
       "       fromUser.removed fromUser.staff fromUser.url fromUser.username  \\\n",
       "149462              NaN            NaN   /prodigeni         prodigeni   \n",
       "149464              NaN            NaN   /prodigeni         prodigeni   \n",
       "150788              NaN            NaN   /prodigeni         prodigeni   \n",
       "152791              NaN            NaN   /prodigeni         prodigeni   \n",
       "\n",
       "        fromUser.v                              html  \\\n",
       "149462         1.0                                gi   \n",
       "149464         1.0                               *hi   \n",
       "150788         1.0                                hi   \n",
       "152791         1.0  could you please use a pastebin?   \n",
       "\n",
       "                              id issues mentions meta  readBy  \\\n",
       "149462  558777eebb2c3e7c1586ccef     []       []   []      33   \n",
       "149464  558777f4bb2c3e7c1586ccf0     []       []   []      32   \n",
       "150788  55884eb03039387b15782e95     []       []   []      48   \n",
       "152791  5588e9f7f207aa853a8c5fd4     []       []   []      36   \n",
       "\n",
       "                                   sent status  \\\n",
       "149462 2015-06-22 02:50:22.006000+00:00    NaN   \n",
       "149464 2015-06-22 02:50:28.810000+00:00    NaN   \n",
       "150788 2015-06-22 18:06:40.387000+00:00    NaN   \n",
       "152791 2015-06-23 05:09:11.417000+00:00    NaN   \n",
       "\n",
       "                                    text  unread urls  v  \n",
       "149462                                gi   False   []  1  \n",
       "149464                               *hi   False   []  1  \n",
       "150788                                hi   False   []  1  \n",
       "152791  could you please use a pastebin?   False   []  1  "
      ]
     },
     "execution_count": 31,
     "metadata": {},
     "output_type": "execute_result"
    }
   ],
   "source": [
    "#Get all rows with userid = 54951af4db8155e6700e15f6\n",
    "clean_freecodecamp_casual.loc[clean_freecodecamp_casual['fromUser.id'] == '54951af4db8155e6700e15f6']"
   ]
  },
  {
   "cell_type": "markdown",
   "id": "3db424f7",
   "metadata": {},
   "source": [
    "This user appear just one day and maybe he didn't fill the displayname field. \n",
    "\n",
    "Since the username is very often used in our dataset as a concatenation of the display name, we can use the username of this user and fill in his displayname."
   ]
  },
  {
   "cell_type": "code",
   "execution_count": 32,
   "id": "7ae59766",
   "metadata": {},
   "outputs": [],
   "source": [
    "#Fill the displayname for this user\n",
    "clean_freecodecamp_casual['fromUser.displayName'] = clean_freecodecamp_casual['fromUser.displayName'].fillna('Prodigeni')"
   ]
  },
  {
   "cell_type": "code",
   "execution_count": 33,
   "id": "00670d95",
   "metadata": {},
   "outputs": [
    {
     "data": {
      "text/plain": [
       "0"
      ]
     },
     "execution_count": 33,
     "metadata": {},
     "output_type": "execute_result"
    }
   ],
   "source": [
    "#Sanity check\n",
    "clean_freecodecamp_casual['fromUser.displayName'].isna().sum()"
   ]
  },
  {
   "cell_type": "markdown",
   "id": "ab8dde94",
   "metadata": {},
   "source": [
    "We confirm that there no more `null value` inside the `fromUser.displayName` column."
   ]
  },
  {
   "cell_type": "code",
   "execution_count": 34,
   "id": "63887620",
   "metadata": {},
   "outputs": [
    {
     "name": "stdout",
     "output_type": "stream",
     "text": [
      "editedAt have 4931000 null value\n",
      "fromUser.avatarUrl have 1827993 null value\n",
      "fromUser.gv have 31830 null value\n",
      "fromUser.removed have 5053983 null value\n",
      "fromUser.staff have 5057366 null value\n",
      "fromUser.v have 796548 null value\n",
      "html have 19844 null value\n",
      "status have 5041085 null value\n",
      "text have 19558 null value\n",
      "\n",
      " We have 9 columns containing null values.\n"
     ]
    }
   ],
   "source": [
    "#An overview on column, which column contain null value?\n",
    "i = 0\n",
    "for col in clean_freecodecamp_casual.columns:\n",
    "    if clean_freecodecamp_casual[col].isna().sum() > 0:\n",
    "        i += 1\n",
    "        print(f'{col} have {clean_freecodecamp_casual[col].isna().sum()} null value')\n",
    "print(f'\\n We have {i} columns containing null values.')"
   ]
  },
  {
   "cell_type": "markdown",
   "id": "6ceed2ae",
   "metadata": {},
   "source": [
    "#### Column text - 19558 null value\n",
    "\n",
    "This column contain text message that we will work on it. The null value correspond to about `0.4% of the rows.`"
   ]
  },
  {
   "cell_type": "code",
   "execution_count": 35,
   "id": "03528245",
   "metadata": {},
   "outputs": [
    {
     "data": {
      "text/plain": [
       "(0.3867204492426939, 5037842)"
      ]
     },
     "execution_count": 35,
     "metadata": {},
     "output_type": "execute_result"
    }
   ],
   "source": [
    "#Percentage               #Total notnull\n",
    "(19558 / 5057400 ) * 100, 5057400 - 19558"
   ]
  },
  {
   "cell_type": "markdown",
   "id": "0bc47628",
   "metadata": {},
   "source": [
    "The best way to deal with that is just to `Delete them.` Because deleting will not have any impact and we cannot fill them with any value to avoid risk of corrupt dataset.\n",
    "\n",
    "So we delete any rows containing null value in columns `text.`"
   ]
  },
  {
   "cell_type": "code",
   "execution_count": 36,
   "id": "a38ac3a3",
   "metadata": {},
   "outputs": [
    {
     "data": {
      "text/html": [
       "<div>\n",
       "<style scoped>\n",
       "    .dataframe tbody tr th:only-of-type {\n",
       "        vertical-align: middle;\n",
       "    }\n",
       "\n",
       "    .dataframe tbody tr th {\n",
       "        vertical-align: top;\n",
       "    }\n",
       "\n",
       "    .dataframe thead th {\n",
       "        text-align: right;\n",
       "    }\n",
       "</style>\n",
       "<table border=\"1\" class=\"dataframe\">\n",
       "  <thead>\n",
       "    <tr style=\"text-align: right;\">\n",
       "      <th></th>\n",
       "      <th>Unnamed: 0</th>\n",
       "      <th>editedAt</th>\n",
       "      <th>fromUser.avatarUrl</th>\n",
       "      <th>fromUser.avatarUrlMedium</th>\n",
       "      <th>fromUser.avatarUrlSmall</th>\n",
       "      <th>fromUser.displayName</th>\n",
       "      <th>fromUser.gv</th>\n",
       "      <th>fromUser.id</th>\n",
       "      <th>fromUser.removed</th>\n",
       "      <th>fromUser.staff</th>\n",
       "      <th>fromUser.url</th>\n",
       "      <th>fromUser.username</th>\n",
       "      <th>fromUser.v</th>\n",
       "      <th>html</th>\n",
       "      <th>id</th>\n",
       "      <th>issues</th>\n",
       "      <th>mentions</th>\n",
       "      <th>meta</th>\n",
       "      <th>readBy</th>\n",
       "      <th>sent</th>\n",
       "      <th>status</th>\n",
       "      <th>text</th>\n",
       "      <th>unread</th>\n",
       "      <th>urls</th>\n",
       "      <th>v</th>\n",
       "    </tr>\n",
       "  </thead>\n",
       "  <tbody>\n",
       "    <tr>\n",
       "      <th>1104</th>\n",
       "      <td>1104</td>\n",
       "      <td>2015-01-02 02:50:01.283000+00:00</td>\n",
       "      <td>NaN</td>\n",
       "      <td>https://avatars0.githubusercontent.com/u/81359...</td>\n",
       "      <td>https://avatars0.githubusercontent.com/u/81359...</td>\n",
       "      <td>Camden</td>\n",
       "      <td>NaN</td>\n",
       "      <td>54a60717db8155e6700e4d39</td>\n",
       "      <td>NaN</td>\n",
       "      <td>NaN</td>\n",
       "      <td>/theCamDen</td>\n",
       "      <td>theCamDen</td>\n",
       "      <td>NaN</td>\n",
       "      <td>NaN</td>\n",
       "      <td>54a6073429aec36b6af1cc88</td>\n",
       "      <td>[]</td>\n",
       "      <td>[]</td>\n",
       "      <td>[]</td>\n",
       "      <td>21</td>\n",
       "      <td>2015-01-02 02:49:24.680000+00:00</td>\n",
       "      <td>NaN</td>\n",
       "      <td>NaN</td>\n",
       "      <td>False</td>\n",
       "      <td>[]</td>\n",
       "      <td>2</td>\n",
       "    </tr>\n",
       "    <tr>\n",
       "      <th>1954</th>\n",
       "      <td>1954</td>\n",
       "      <td>2015-01-03 00:58:21.509000+00:00</td>\n",
       "      <td>NaN</td>\n",
       "      <td>https://avatars1.githubusercontent.com/u/11469...</td>\n",
       "      <td>https://avatars1.githubusercontent.com/u/11469...</td>\n",
       "      <td>Dustin Ury</td>\n",
       "      <td>3.0</td>\n",
       "      <td>54a60826db8155e6700e4d3e</td>\n",
       "      <td>NaN</td>\n",
       "      <td>NaN</td>\n",
       "      <td>/teddy-error</td>\n",
       "      <td>teddy-error</td>\n",
       "      <td>4.0</td>\n",
       "      <td>NaN</td>\n",
       "      <td>54a73e97a8dd09551d4235f8</td>\n",
       "      <td>[]</td>\n",
       "      <td>[]</td>\n",
       "      <td>[]</td>\n",
       "      <td>31</td>\n",
       "      <td>2015-01-03 00:57:59.357000+00:00</td>\n",
       "      <td>NaN</td>\n",
       "      <td>NaN</td>\n",
       "      <td>False</td>\n",
       "      <td>[]</td>\n",
       "      <td>3</td>\n",
       "    </tr>\n",
       "    <tr>\n",
       "      <th>3701</th>\n",
       "      <td>3701</td>\n",
       "      <td>2015-01-04 05:16:57.972000+00:00</td>\n",
       "      <td>NaN</td>\n",
       "      <td>https://avatars0.githubusercontent.com/u/85534...</td>\n",
       "      <td>https://avatars0.githubusercontent.com/u/85534...</td>\n",
       "      <td>seahik</td>\n",
       "      <td>3.0</td>\n",
       "      <td>54a1cb32db8155e6700e3c72</td>\n",
       "      <td>NaN</td>\n",
       "      <td>NaN</td>\n",
       "      <td>/seahik</td>\n",
       "      <td>seahik</td>\n",
       "      <td>1.0</td>\n",
       "      <td>NaN</td>\n",
       "      <td>54a8cc6d91bb4a2a7b0bba86</td>\n",
       "      <td>[]</td>\n",
       "      <td>[]</td>\n",
       "      <td>[]</td>\n",
       "      <td>15</td>\n",
       "      <td>2015-01-04 05:15:25.732000+00:00</td>\n",
       "      <td>NaN</td>\n",
       "      <td>NaN</td>\n",
       "      <td>False</td>\n",
       "      <td>[]</td>\n",
       "      <td>2</td>\n",
       "    </tr>\n",
       "    <tr>\n",
       "      <th>3881</th>\n",
       "      <td>3881</td>\n",
       "      <td>2015-01-04 07:56:47.950000+00:00</td>\n",
       "      <td>NaN</td>\n",
       "      <td>https://avatars1.githubusercontent.com/u/52907...</td>\n",
       "      <td>https://avatars1.githubusercontent.com/u/52907...</td>\n",
       "      <td>Vais Mahendran</td>\n",
       "      <td>NaN</td>\n",
       "      <td>54a8f225db8155e6700e5893</td>\n",
       "      <td>NaN</td>\n",
       "      <td>NaN</td>\n",
       "      <td>/M-Vais</td>\n",
       "      <td>M-Vais</td>\n",
       "      <td>NaN</td>\n",
       "      <td>NaN</td>\n",
       "      <td>54a8f2303569bbe471f22b0d</td>\n",
       "      <td>[]</td>\n",
       "      <td>[]</td>\n",
       "      <td>[]</td>\n",
       "      <td>30</td>\n",
       "      <td>2015-01-04 07:56:32.534000+00:00</td>\n",
       "      <td>NaN</td>\n",
       "      <td>NaN</td>\n",
       "      <td>False</td>\n",
       "      <td>[]</td>\n",
       "      <td>2</td>\n",
       "    </tr>\n",
       "    <tr>\n",
       "      <th>4038</th>\n",
       "      <td>4038</td>\n",
       "      <td>2015-01-04 16:39:54.607000+00:00</td>\n",
       "      <td>NaN</td>\n",
       "      <td>https://avatars1.githubusercontent.com/u/70185...</td>\n",
       "      <td>https://avatars1.githubusercontent.com/u/70185...</td>\n",
       "      <td>Mark Howard</td>\n",
       "      <td>3.0</td>\n",
       "      <td>546fc6a7db8155e6700d6e87</td>\n",
       "      <td>NaN</td>\n",
       "      <td>NaN</td>\n",
       "      <td>/iheartkode</td>\n",
       "      <td>iheartkode</td>\n",
       "      <td>6.0</td>\n",
       "      <td>NaN</td>\n",
       "      <td>54a96cd43569bbe471f22eb7</td>\n",
       "      <td>[]</td>\n",
       "      <td>[]</td>\n",
       "      <td>[]</td>\n",
       "      <td>25</td>\n",
       "      <td>2015-01-04 16:39:48.614000+00:00</td>\n",
       "      <td>NaN</td>\n",
       "      <td>NaN</td>\n",
       "      <td>False</td>\n",
       "      <td>[]</td>\n",
       "      <td>2</td>\n",
       "    </tr>\n",
       "    <tr>\n",
       "      <th>...</th>\n",
       "      <td>...</td>\n",
       "      <td>...</td>\n",
       "      <td>...</td>\n",
       "      <td>...</td>\n",
       "      <td>...</td>\n",
       "      <td>...</td>\n",
       "      <td>...</td>\n",
       "      <td>...</td>\n",
       "      <td>...</td>\n",
       "      <td>...</td>\n",
       "      <td>...</td>\n",
       "      <td>...</td>\n",
       "      <td>...</td>\n",
       "      <td>...</td>\n",
       "      <td>...</td>\n",
       "      <td>...</td>\n",
       "      <td>...</td>\n",
       "      <td>...</td>\n",
       "      <td>...</td>\n",
       "      <td>...</td>\n",
       "      <td>...</td>\n",
       "      <td>...</td>\n",
       "      <td>...</td>\n",
       "      <td>...</td>\n",
       "      <td>...</td>\n",
       "    </tr>\n",
       "    <tr>\n",
       "      <th>5019053</th>\n",
       "      <td>1462853</td>\n",
       "      <td>2017-11-26 03:44:02.312000+00:00</td>\n",
       "      <td>https://avatars-05.gitter.im/gh/uv/4/wordyallen</td>\n",
       "      <td>https://avatars1.githubusercontent.com/u/45918...</td>\n",
       "      <td>https://avatars1.githubusercontent.com/u/45918...</td>\n",
       "      <td>Joe Narvaez</td>\n",
       "      <td>4.0</td>\n",
       "      <td>54b09f16db8155e6700e83d8</td>\n",
       "      <td>NaN</td>\n",
       "      <td>NaN</td>\n",
       "      <td>/wordyallen</td>\n",
       "      <td>wordyallen</td>\n",
       "      <td>37.0</td>\n",
       "      <td>NaN</td>\n",
       "      <td>5a1a3868ffa3e37919bdfcba</td>\n",
       "      <td>[]</td>\n",
       "      <td>[]</td>\n",
       "      <td>[]</td>\n",
       "      <td>10</td>\n",
       "      <td>2017-11-26 03:43:36.185000+00:00</td>\n",
       "      <td>NaN</td>\n",
       "      <td>NaN</td>\n",
       "      <td>False</td>\n",
       "      <td>[]</td>\n",
       "      <td>3</td>\n",
       "    </tr>\n",
       "    <tr>\n",
       "      <th>5024486</th>\n",
       "      <td>1468286</td>\n",
       "      <td>2017-11-28 16:48:23.983000+00:00</td>\n",
       "      <td>https://avatars-01.gitter.im/gh/uv/4/CEREBR4L</td>\n",
       "      <td>https://avatars2.githubusercontent.com/u/71539...</td>\n",
       "      <td>https://avatars2.githubusercontent.com/u/71539...</td>\n",
       "      <td>Moon Man</td>\n",
       "      <td>4.0</td>\n",
       "      <td>5696919516b6c7089cc2652e</td>\n",
       "      <td>NaN</td>\n",
       "      <td>NaN</td>\n",
       "      <td>/CEREBR4L</td>\n",
       "      <td>CEREBR4L</td>\n",
       "      <td>24.0</td>\n",
       "      <td>NaN</td>\n",
       "      <td>5a1d935487680e6230a6e928</td>\n",
       "      <td>[]</td>\n",
       "      <td>[]</td>\n",
       "      <td>[]</td>\n",
       "      <td>12</td>\n",
       "      <td>2017-11-28 16:48:20.832000+00:00</td>\n",
       "      <td>NaN</td>\n",
       "      <td>NaN</td>\n",
       "      <td>False</td>\n",
       "      <td>[]</td>\n",
       "      <td>2</td>\n",
       "    </tr>\n",
       "    <tr>\n",
       "      <th>5025994</th>\n",
       "      <td>1469794</td>\n",
       "      <td>2017-11-29 06:55:19.178000+00:00</td>\n",
       "      <td>https://avatars-03.gitter.im/gh/uv/4/yasserhus...</td>\n",
       "      <td>https://avatars2.githubusercontent.com/u/69832...</td>\n",
       "      <td>https://avatars2.githubusercontent.com/u/69832...</td>\n",
       "      <td>Yasser Hussain</td>\n",
       "      <td>4.0</td>\n",
       "      <td>56d93ae2e610378809c4f368</td>\n",
       "      <td>NaN</td>\n",
       "      <td>NaN</td>\n",
       "      <td>/yasserhussain1110</td>\n",
       "      <td>yasserhussain1110</td>\n",
       "      <td>66.0</td>\n",
       "      <td>NaN</td>\n",
       "      <td>5a1e59ccffa3e37919d26d9f</td>\n",
       "      <td>[]</td>\n",
       "      <td>[]</td>\n",
       "      <td>[]</td>\n",
       "      <td>11</td>\n",
       "      <td>2017-11-29 06:55:08.045000+00:00</td>\n",
       "      <td>NaN</td>\n",
       "      <td>NaN</td>\n",
       "      <td>False</td>\n",
       "      <td>[]</td>\n",
       "      <td>2</td>\n",
       "    </tr>\n",
       "    <tr>\n",
       "      <th>5037511</th>\n",
       "      <td>1481311</td>\n",
       "      <td>2017-12-02 18:20:19.873000+00:00</td>\n",
       "      <td>https://avatars-03.gitter.im/gh/uv/4/Linuslb</td>\n",
       "      <td>https://avatars2.githubusercontent.com/u/13337...</td>\n",
       "      <td>https://avatars2.githubusercontent.com/u/13337...</td>\n",
       "      <td>Linus</td>\n",
       "      <td>4.0</td>\n",
       "      <td>55a55af15e0d51bd787b5fa7</td>\n",
       "      <td>NaN</td>\n",
       "      <td>NaN</td>\n",
       "      <td>/Linuslb</td>\n",
       "      <td>Linuslb</td>\n",
       "      <td>5.0</td>\n",
       "      <td>NaN</td>\n",
       "      <td>5a22eebf3a80a84b5bab9914</td>\n",
       "      <td>[]</td>\n",
       "      <td>[]</td>\n",
       "      <td>[]</td>\n",
       "      <td>6</td>\n",
       "      <td>2017-12-02 18:19:43.073000+00:00</td>\n",
       "      <td>NaN</td>\n",
       "      <td>NaN</td>\n",
       "      <td>False</td>\n",
       "      <td>[]</td>\n",
       "      <td>2</td>\n",
       "    </tr>\n",
       "    <tr>\n",
       "      <th>5040704</th>\n",
       "      <td>1484504</td>\n",
       "      <td>2017-12-03 22:54:40.010000+00:00</td>\n",
       "      <td>https://avatars-02.gitter.im/gh/uv/4/tiagocorr...</td>\n",
       "      <td>https://avatars1.githubusercontent.com/u/17684...</td>\n",
       "      <td>https://avatars1.githubusercontent.com/u/17684...</td>\n",
       "      <td>Tiago Correia</td>\n",
       "      <td>4.0</td>\n",
       "      <td>5923ed0dd73408ce4f619364</td>\n",
       "      <td>NaN</td>\n",
       "      <td>NaN</td>\n",
       "      <td>/tiagocorreiaalmeida</td>\n",
       "      <td>tiagocorreiaalmeida</td>\n",
       "      <td>249.0</td>\n",
       "      <td>NaN</td>\n",
       "      <td>5a24800bcc1d527f6be852f5</td>\n",
       "      <td>[]</td>\n",
       "      <td>[]</td>\n",
       "      <td>[]</td>\n",
       "      <td>4</td>\n",
       "      <td>2017-12-03 22:51:55.238000+00:00</td>\n",
       "      <td>NaN</td>\n",
       "      <td>NaN</td>\n",
       "      <td>False</td>\n",
       "      <td>[]</td>\n",
       "      <td>2</td>\n",
       "    </tr>\n",
       "  </tbody>\n",
       "</table>\n",
       "<p>19558 rows × 25 columns</p>\n",
       "</div>"
      ],
      "text/plain": [
       "         Unnamed: 0                         editedAt  \\\n",
       "1104           1104 2015-01-02 02:50:01.283000+00:00   \n",
       "1954           1954 2015-01-03 00:58:21.509000+00:00   \n",
       "3701           3701 2015-01-04 05:16:57.972000+00:00   \n",
       "3881           3881 2015-01-04 07:56:47.950000+00:00   \n",
       "4038           4038 2015-01-04 16:39:54.607000+00:00   \n",
       "...             ...                              ...   \n",
       "5019053     1462853 2017-11-26 03:44:02.312000+00:00   \n",
       "5024486     1468286 2017-11-28 16:48:23.983000+00:00   \n",
       "5025994     1469794 2017-11-29 06:55:19.178000+00:00   \n",
       "5037511     1481311 2017-12-02 18:20:19.873000+00:00   \n",
       "5040704     1484504 2017-12-03 22:54:40.010000+00:00   \n",
       "\n",
       "                                        fromUser.avatarUrl  \\\n",
       "1104                                                   NaN   \n",
       "1954                                                   NaN   \n",
       "3701                                                   NaN   \n",
       "3881                                                   NaN   \n",
       "4038                                                   NaN   \n",
       "...                                                    ...   \n",
       "5019053    https://avatars-05.gitter.im/gh/uv/4/wordyallen   \n",
       "5024486      https://avatars-01.gitter.im/gh/uv/4/CEREBR4L   \n",
       "5025994  https://avatars-03.gitter.im/gh/uv/4/yasserhus...   \n",
       "5037511       https://avatars-03.gitter.im/gh/uv/4/Linuslb   \n",
       "5040704  https://avatars-02.gitter.im/gh/uv/4/tiagocorr...   \n",
       "\n",
       "                                  fromUser.avatarUrlMedium  \\\n",
       "1104     https://avatars0.githubusercontent.com/u/81359...   \n",
       "1954     https://avatars1.githubusercontent.com/u/11469...   \n",
       "3701     https://avatars0.githubusercontent.com/u/85534...   \n",
       "3881     https://avatars1.githubusercontent.com/u/52907...   \n",
       "4038     https://avatars1.githubusercontent.com/u/70185...   \n",
       "...                                                    ...   \n",
       "5019053  https://avatars1.githubusercontent.com/u/45918...   \n",
       "5024486  https://avatars2.githubusercontent.com/u/71539...   \n",
       "5025994  https://avatars2.githubusercontent.com/u/69832...   \n",
       "5037511  https://avatars2.githubusercontent.com/u/13337...   \n",
       "5040704  https://avatars1.githubusercontent.com/u/17684...   \n",
       "\n",
       "                                   fromUser.avatarUrlSmall  \\\n",
       "1104     https://avatars0.githubusercontent.com/u/81359...   \n",
       "1954     https://avatars1.githubusercontent.com/u/11469...   \n",
       "3701     https://avatars0.githubusercontent.com/u/85534...   \n",
       "3881     https://avatars1.githubusercontent.com/u/52907...   \n",
       "4038     https://avatars1.githubusercontent.com/u/70185...   \n",
       "...                                                    ...   \n",
       "5019053  https://avatars1.githubusercontent.com/u/45918...   \n",
       "5024486  https://avatars2.githubusercontent.com/u/71539...   \n",
       "5025994  https://avatars2.githubusercontent.com/u/69832...   \n",
       "5037511  https://avatars2.githubusercontent.com/u/13337...   \n",
       "5040704  https://avatars1.githubusercontent.com/u/17684...   \n",
       "\n",
       "        fromUser.displayName  fromUser.gv               fromUser.id  \\\n",
       "1104                  Camden          NaN  54a60717db8155e6700e4d39   \n",
       "1954              Dustin Ury          3.0  54a60826db8155e6700e4d3e   \n",
       "3701                  seahik          3.0  54a1cb32db8155e6700e3c72   \n",
       "3881          Vais Mahendran          NaN  54a8f225db8155e6700e5893   \n",
       "4038             Mark Howard          3.0  546fc6a7db8155e6700d6e87   \n",
       "...                      ...          ...                       ...   \n",
       "5019053          Joe Narvaez          4.0  54b09f16db8155e6700e83d8   \n",
       "5024486             Moon Man          4.0  5696919516b6c7089cc2652e   \n",
       "5025994       Yasser Hussain          4.0  56d93ae2e610378809c4f368   \n",
       "5037511                Linus          4.0  55a55af15e0d51bd787b5fa7   \n",
       "5040704        Tiago Correia          4.0  5923ed0dd73408ce4f619364   \n",
       "\n",
       "        fromUser.removed fromUser.staff          fromUser.url  \\\n",
       "1104                 NaN            NaN            /theCamDen   \n",
       "1954                 NaN            NaN          /teddy-error   \n",
       "3701                 NaN            NaN               /seahik   \n",
       "3881                 NaN            NaN               /M-Vais   \n",
       "4038                 NaN            NaN           /iheartkode   \n",
       "...                  ...            ...                   ...   \n",
       "5019053              NaN            NaN           /wordyallen   \n",
       "5024486              NaN            NaN             /CEREBR4L   \n",
       "5025994              NaN            NaN    /yasserhussain1110   \n",
       "5037511              NaN            NaN              /Linuslb   \n",
       "5040704              NaN            NaN  /tiagocorreiaalmeida   \n",
       "\n",
       "           fromUser.username  fromUser.v html                        id  \\\n",
       "1104               theCamDen         NaN  NaN  54a6073429aec36b6af1cc88   \n",
       "1954             teddy-error         4.0  NaN  54a73e97a8dd09551d4235f8   \n",
       "3701                  seahik         1.0  NaN  54a8cc6d91bb4a2a7b0bba86   \n",
       "3881                  M-Vais         NaN  NaN  54a8f2303569bbe471f22b0d   \n",
       "4038              iheartkode         6.0  NaN  54a96cd43569bbe471f22eb7   \n",
       "...                      ...         ...  ...                       ...   \n",
       "5019053           wordyallen        37.0  NaN  5a1a3868ffa3e37919bdfcba   \n",
       "5024486             CEREBR4L        24.0  NaN  5a1d935487680e6230a6e928   \n",
       "5025994    yasserhussain1110        66.0  NaN  5a1e59ccffa3e37919d26d9f   \n",
       "5037511              Linuslb         5.0  NaN  5a22eebf3a80a84b5bab9914   \n",
       "5040704  tiagocorreiaalmeida       249.0  NaN  5a24800bcc1d527f6be852f5   \n",
       "\n",
       "        issues mentions meta  readBy                             sent status  \\\n",
       "1104        []       []   []      21 2015-01-02 02:49:24.680000+00:00    NaN   \n",
       "1954        []       []   []      31 2015-01-03 00:57:59.357000+00:00    NaN   \n",
       "3701        []       []   []      15 2015-01-04 05:15:25.732000+00:00    NaN   \n",
       "3881        []       []   []      30 2015-01-04 07:56:32.534000+00:00    NaN   \n",
       "4038        []       []   []      25 2015-01-04 16:39:48.614000+00:00    NaN   \n",
       "...        ...      ...  ...     ...                              ...    ...   \n",
       "5019053     []       []   []      10 2017-11-26 03:43:36.185000+00:00    NaN   \n",
       "5024486     []       []   []      12 2017-11-28 16:48:20.832000+00:00    NaN   \n",
       "5025994     []       []   []      11 2017-11-29 06:55:08.045000+00:00    NaN   \n",
       "5037511     []       []   []       6 2017-12-02 18:19:43.073000+00:00    NaN   \n",
       "5040704     []       []   []       4 2017-12-03 22:51:55.238000+00:00    NaN   \n",
       "\n",
       "        text  unread urls  v  \n",
       "1104     NaN   False   []  2  \n",
       "1954     NaN   False   []  3  \n",
       "3701     NaN   False   []  2  \n",
       "3881     NaN   False   []  2  \n",
       "4038     NaN   False   []  2  \n",
       "...      ...     ...  ... ..  \n",
       "5019053  NaN   False   []  3  \n",
       "5024486  NaN   False   []  2  \n",
       "5025994  NaN   False   []  2  \n",
       "5037511  NaN   False   []  2  \n",
       "5040704  NaN   False   []  2  \n",
       "\n",
       "[19558 rows x 25 columns]"
      ]
     },
     "execution_count": 36,
     "metadata": {},
     "output_type": "execute_result"
    }
   ],
   "source": [
    "#Overview about these columns\n",
    "clean_freecodecamp_casual[clean_freecodecamp_casual['text'].isna()]"
   ]
  },
  {
   "cell_type": "code",
   "execution_count": 37,
   "id": "79f5cea6",
   "metadata": {},
   "outputs": [
    {
     "name": "stdout",
     "output_type": "stream",
     "text": [
      "19558\n"
     ]
    }
   ],
   "source": [
    "#Deleting them\n",
    "#Get all rows index\n",
    "ind_tex = clean_freecodecamp_casual[clean_freecodecamp_casual['text'].isna()].index.values.tolist()\n",
    "print(len(ind_tex))\n",
    "\n",
    "#deleting all these index in my datasaet\n",
    "# for i in ind_tex:\n",
    "clean_freecodecamp_casual = clean_freecodecamp_casual.drop(ind_tex)"
   ]
  },
  {
   "cell_type": "code",
   "execution_count": 38,
   "id": "c2d4bb11",
   "metadata": {},
   "outputs": [
    {
     "data": {
      "text/plain": [
       "0"
      ]
     },
     "execution_count": 38,
     "metadata": {},
     "output_type": "execute_result"
    }
   ],
   "source": [
    "#sanity check\n",
    "clean_freecodecamp_casual['text'].isna().sum()"
   ]
  },
  {
   "cell_type": "markdown",
   "id": "505b837b",
   "metadata": {},
   "source": [
    "We confirm that there no more `null value` inside the `text` column."
   ]
  },
  {
   "cell_type": "markdown",
   "id": "902be20d",
   "metadata": {},
   "source": [
    "#### Column html - 19844 null value\n",
    "\n",
    "This column contain html message that we will work on it. It's look like a duplicated of `text column` but we will deal with this aspect later. The null value correspond to about `0.4%` of the rows."
   ]
  },
  {
   "cell_type": "code",
   "execution_count": 39,
   "id": "d3e44009",
   "metadata": {},
   "outputs": [
    {
     "data": {
      "text/plain": [
       "(0.39237552892790767, 5037556)"
      ]
     },
     "execution_count": 39,
     "metadata": {},
     "output_type": "execute_result"
    }
   ],
   "source": [
    "#Percentage               #Total notnull\n",
    "(19844 / 5057400 ) * 100, 5057400 - 19844"
   ]
  },
  {
   "cell_type": "code",
   "execution_count": 40,
   "id": "210d37b1",
   "metadata": {},
   "outputs": [
    {
     "data": {
      "text/plain": [
       "286"
      ]
     },
     "execution_count": 40,
     "metadata": {},
     "output_type": "execute_result"
    }
   ],
   "source": [
    "#Overview\n",
    "clean_freecodecamp_casual['html'].isna().sum()"
   ]
  },
  {
   "cell_type": "markdown",
   "id": "e3a9e6e8",
   "metadata": {},
   "source": [
    "Look like after removing the null from `text` we reduce them in `html` too. So we can apply the same principe, **Delete all the null values.**"
   ]
  },
  {
   "cell_type": "code",
   "execution_count": 41,
   "id": "aa1314f9",
   "metadata": {},
   "outputs": [
    {
     "name": "stdout",
     "output_type": "stream",
     "text": [
      "286\n"
     ]
    }
   ],
   "source": [
    "#Deleting them\n",
    "#Get all rows index\n",
    "ind_tex = clean_freecodecamp_casual[clean_freecodecamp_casual['html'].isna()].index.values.tolist()\n",
    "print(len(ind_tex))\n",
    "\n",
    "#deleting all these index in my datasaet\n",
    "# for i in ind_tex:\n",
    "clean_freecodecamp_casual = clean_freecodecamp_casual.drop(ind_tex)"
   ]
  },
  {
   "cell_type": "code",
   "execution_count": 42,
   "id": "56e1a7d2",
   "metadata": {},
   "outputs": [
    {
     "data": {
      "text/plain": [
       "0"
      ]
     },
     "execution_count": 42,
     "metadata": {},
     "output_type": "execute_result"
    }
   ],
   "source": [
    "#sanity check\n",
    "clean_freecodecamp_casual['html'].isna().sum()"
   ]
  },
  {
   "cell_type": "markdown",
   "id": "2da702bb",
   "metadata": {},
   "source": [
    "We confirm that there no more `null value` inside the `html` column."
   ]
  },
  {
   "cell_type": "code",
   "execution_count": 43,
   "id": "8e4275ee",
   "metadata": {
    "scrolled": true
   },
   "outputs": [
    {
     "name": "stdout",
     "output_type": "stream",
     "text": [
      "editedAt have 4924716 null value\n",
      "fromUser.avatarUrl have 1818159 null value\n",
      "fromUser.gv have 31811 null value\n",
      "fromUser.removed have 5034141 null value\n",
      "fromUser.staff have 5037522 null value\n",
      "fromUser.v have 793591 null value\n",
      "status have 5021346 null value\n",
      "\n",
      " We have 7 columns containing null values.\n"
     ]
    }
   ],
   "source": [
    "#An overview on column, which column contain null value?\n",
    "i = 0\n",
    "for col in clean_freecodecamp_casual.columns:\n",
    "    if clean_freecodecamp_casual[col].isna().sum() > 0:\n",
    "        i += 1\n",
    "        print(f'{col} have {clean_freecodecamp_casual[col].isna().sum()} null value')\n",
    "print(f'\\n We have {i} columns containing null values.')"
   ]
  },
  {
   "cell_type": "code",
   "execution_count": 44,
   "id": "75dce4c0",
   "metadata": {},
   "outputs": [
    {
     "data": {
      "text/html": [
       "<div>\n",
       "<style scoped>\n",
       "    .dataframe tbody tr th:only-of-type {\n",
       "        vertical-align: middle;\n",
       "    }\n",
       "\n",
       "    .dataframe tbody tr th {\n",
       "        vertical-align: top;\n",
       "    }\n",
       "\n",
       "    .dataframe thead th {\n",
       "        text-align: right;\n",
       "    }\n",
       "</style>\n",
       "<table border=\"1\" class=\"dataframe\">\n",
       "  <thead>\n",
       "    <tr style=\"text-align: right;\">\n",
       "      <th></th>\n",
       "      <th>Unnamed: 0</th>\n",
       "      <th>editedAt</th>\n",
       "      <th>fromUser.avatarUrl</th>\n",
       "      <th>fromUser.avatarUrlMedium</th>\n",
       "      <th>fromUser.avatarUrlSmall</th>\n",
       "      <th>fromUser.displayName</th>\n",
       "      <th>fromUser.gv</th>\n",
       "      <th>fromUser.id</th>\n",
       "      <th>fromUser.removed</th>\n",
       "      <th>fromUser.staff</th>\n",
       "      <th>fromUser.url</th>\n",
       "      <th>fromUser.username</th>\n",
       "      <th>fromUser.v</th>\n",
       "      <th>html</th>\n",
       "      <th>id</th>\n",
       "      <th>issues</th>\n",
       "      <th>mentions</th>\n",
       "      <th>meta</th>\n",
       "      <th>readBy</th>\n",
       "      <th>sent</th>\n",
       "      <th>status</th>\n",
       "      <th>text</th>\n",
       "      <th>unread</th>\n",
       "      <th>urls</th>\n",
       "      <th>v</th>\n",
       "    </tr>\n",
       "  </thead>\n",
       "  <tbody>\n",
       "    <tr>\n",
       "      <th>3816079</th>\n",
       "      <td>259879</td>\n",
       "      <td>NaT</td>\n",
       "      <td>https://avatars-03.gitter.im/gh/uv/4/IMDBLM</td>\n",
       "      <td>https://avatars0.githubusercontent.com/u/16200...</td>\n",
       "      <td>https://avatars0.githubusercontent.com/u/16200...</td>\n",
       "      <td>Matthew</td>\n",
       "      <td>4.0</td>\n",
       "      <td>56663f0416b6c7089cbdd658</td>\n",
       "      <td>NaN</td>\n",
       "      <td>NaN</td>\n",
       "      <td>/IMDBLM</td>\n",
       "      <td>IMDBLM</td>\n",
       "      <td>7.0</td>\n",
       "      <td>&lt;span data-link-type=\"mention\" data-screen-nam...</td>\n",
       "      <td>58e71ca27ea420cc42474ee0</td>\n",
       "      <td>[]</td>\n",
       "      <td>[{'userIds': [], 'screenName': 'Jortyzallday',...</td>\n",
       "      <td>[]</td>\n",
       "      <td>18</td>\n",
       "      <td>2017-04-07 04:59:14.087000+00:00</td>\n",
       "      <td>NaN</td>\n",
       "      <td>@Jortyzallday welcome</td>\n",
       "      <td>False</td>\n",
       "      <td>[]</td>\n",
       "      <td>1</td>\n",
       "    </tr>\n",
       "    <tr>\n",
       "      <th>4171691</th>\n",
       "      <td>615491</td>\n",
       "      <td>2017-05-24 17:34:46.400000+00:00</td>\n",
       "      <td>https://avatars-05.gitter.im/gh/uv/4/karann7</td>\n",
       "      <td>https://avatars0.githubusercontent.com/u/23489...</td>\n",
       "      <td>https://avatars0.githubusercontent.com/u/23489...</td>\n",
       "      <td>Karan Nandha</td>\n",
       "      <td>4.0</td>\n",
       "      <td>582bb57ed73408ce4f3629ac</td>\n",
       "      <td>NaN</td>\n",
       "      <td>NaN</td>\n",
       "      <td>/karann7</td>\n",
       "      <td>karann7</td>\n",
       "      <td>15.0</td>\n",
       "      <td>Hi Amelia :D</td>\n",
       "      <td>5925c4315e34568d5e88ef5f</td>\n",
       "      <td>[]</td>\n",
       "      <td>[]</td>\n",
       "      <td>[]</td>\n",
       "      <td>30</td>\n",
       "      <td>2017-05-24 17:34:41.175000+00:00</td>\n",
       "      <td>NaN</td>\n",
       "      <td>Hi Amelia :D</td>\n",
       "      <td>False</td>\n",
       "      <td>[]</td>\n",
       "      <td>2</td>\n",
       "    </tr>\n",
       "    <tr>\n",
       "      <th>4590868</th>\n",
       "      <td>1034668</td>\n",
       "      <td>2017-07-25 02:36:10.187000+00:00</td>\n",
       "      <td>https://avatars-05.gitter.im/gh/uv/4/texas2010</td>\n",
       "      <td>https://avatars0.githubusercontent.com/u/97016...</td>\n",
       "      <td>https://avatars0.githubusercontent.com/u/97016...</td>\n",
       "      <td>Lance</td>\n",
       "      <td>4.0</td>\n",
       "      <td>55bd66500fc9f982beabd1c7</td>\n",
       "      <td>NaN</td>\n",
       "      <td>NaN</td>\n",
       "      <td>/texas2010</td>\n",
       "      <td>texas2010</td>\n",
       "      <td>39.0</td>\n",
       "      <td>i could open it anytime. write it then save it.</td>\n",
       "      <td>5976ae90f5b3458e307c6127</td>\n",
       "      <td>[]</td>\n",
       "      <td>[]</td>\n",
       "      <td>[]</td>\n",
       "      <td>4</td>\n",
       "      <td>2017-07-25 02:36:00.655000+00:00</td>\n",
       "      <td>NaN</td>\n",
       "      <td>i could open it anytime. write it then save it.</td>\n",
       "      <td>False</td>\n",
       "      <td>[]</td>\n",
       "      <td>2</td>\n",
       "    </tr>\n",
       "    <tr>\n",
       "      <th>3293563</th>\n",
       "      <td>1465563</td>\n",
       "      <td>NaT</td>\n",
       "      <td>https://avatars-01.gitter.im/gh/uv/3/camperbot</td>\n",
       "      <td>https://avatars1.githubusercontent.com/u/13561...</td>\n",
       "      <td>https://avatars1.githubusercontent.com/u/13561...</td>\n",
       "      <td>CamperBot</td>\n",
       "      <td>3.0</td>\n",
       "      <td>55b977f00fc9f982beab7883</td>\n",
       "      <td>NaN</td>\n",
       "      <td>NaN</td>\n",
       "      <td>/camperbot</td>\n",
       "      <td>camperbot</td>\n",
       "      <td>2.0</td>\n",
       "      <td>&lt;h2&gt;welcome to FreeCodeCamp &lt;span data-link-ty...</td>\n",
       "      <td>58911bc41e4d4bd962baa16b</td>\n",
       "      <td>[]</td>\n",
       "      <td>[{'userIds': [], 'userId': '58911bb0d73408ce4f...</td>\n",
       "      <td>[]</td>\n",
       "      <td>13</td>\n",
       "      <td>2017-01-31 23:20:36.124000+00:00</td>\n",
       "      <td>NaN</td>\n",
       "      <td>## welcome to FreeCodeCamp @GirlCode2017!</td>\n",
       "      <td>False</td>\n",
       "      <td>[]</td>\n",
       "      <td>1</td>\n",
       "    </tr>\n",
       "    <tr>\n",
       "      <th>4103116</th>\n",
       "      <td>546916</td>\n",
       "      <td>NaT</td>\n",
       "      <td>https://avatars-03.gitter.im/gh/uv/4/psyperl</td>\n",
       "      <td>https://avatars0.githubusercontent.com/u/28307...</td>\n",
       "      <td>https://avatars0.githubusercontent.com/u/28307...</td>\n",
       "      <td>psyperl</td>\n",
       "      <td>4.0</td>\n",
       "      <td>5908bb3ad73408ce4f5c72bd</td>\n",
       "      <td>NaN</td>\n",
       "      <td>NaN</td>\n",
       "      <td>/psyperl</td>\n",
       "      <td>psyperl</td>\n",
       "      <td>21.0</td>\n",
       "      <td>&lt;span data-link-type=\"mention\" data-screen-nam...</td>\n",
       "      <td>5918e0ea0a783b6c0a9a6a63</td>\n",
       "      <td>[]</td>\n",
       "      <td>[{'userIds': [], 'screenName': 'dymondbruce', ...</td>\n",
       "      <td>[]</td>\n",
       "      <td>8</td>\n",
       "      <td>2017-05-14 22:57:46.547000+00:00</td>\n",
       "      <td>NaN</td>\n",
       "      <td>@dymondbruce i am not in a good position to ex...</td>\n",
       "      <td>False</td>\n",
       "      <td>[]</td>\n",
       "      <td>1</td>\n",
       "    </tr>\n",
       "  </tbody>\n",
       "</table>\n",
       "</div>"
      ],
      "text/plain": [
       "         Unnamed: 0                         editedAt  \\\n",
       "3816079      259879                              NaT   \n",
       "4171691      615491 2017-05-24 17:34:46.400000+00:00   \n",
       "4590868     1034668 2017-07-25 02:36:10.187000+00:00   \n",
       "3293563     1465563                              NaT   \n",
       "4103116      546916                              NaT   \n",
       "\n",
       "                                     fromUser.avatarUrl  \\\n",
       "3816079     https://avatars-03.gitter.im/gh/uv/4/IMDBLM   \n",
       "4171691    https://avatars-05.gitter.im/gh/uv/4/karann7   \n",
       "4590868  https://avatars-05.gitter.im/gh/uv/4/texas2010   \n",
       "3293563  https://avatars-01.gitter.im/gh/uv/3/camperbot   \n",
       "4103116    https://avatars-03.gitter.im/gh/uv/4/psyperl   \n",
       "\n",
       "                                  fromUser.avatarUrlMedium  \\\n",
       "3816079  https://avatars0.githubusercontent.com/u/16200...   \n",
       "4171691  https://avatars0.githubusercontent.com/u/23489...   \n",
       "4590868  https://avatars0.githubusercontent.com/u/97016...   \n",
       "3293563  https://avatars1.githubusercontent.com/u/13561...   \n",
       "4103116  https://avatars0.githubusercontent.com/u/28307...   \n",
       "\n",
       "                                   fromUser.avatarUrlSmall  \\\n",
       "3816079  https://avatars0.githubusercontent.com/u/16200...   \n",
       "4171691  https://avatars0.githubusercontent.com/u/23489...   \n",
       "4590868  https://avatars0.githubusercontent.com/u/97016...   \n",
       "3293563  https://avatars1.githubusercontent.com/u/13561...   \n",
       "4103116  https://avatars0.githubusercontent.com/u/28307...   \n",
       "\n",
       "        fromUser.displayName  fromUser.gv               fromUser.id  \\\n",
       "3816079              Matthew          4.0  56663f0416b6c7089cbdd658   \n",
       "4171691         Karan Nandha          4.0  582bb57ed73408ce4f3629ac   \n",
       "4590868                Lance          4.0  55bd66500fc9f982beabd1c7   \n",
       "3293563            CamperBot          3.0  55b977f00fc9f982beab7883   \n",
       "4103116              psyperl          4.0  5908bb3ad73408ce4f5c72bd   \n",
       "\n",
       "        fromUser.removed fromUser.staff fromUser.url fromUser.username  \\\n",
       "3816079              NaN            NaN      /IMDBLM            IMDBLM   \n",
       "4171691              NaN            NaN     /karann7           karann7   \n",
       "4590868              NaN            NaN   /texas2010         texas2010   \n",
       "3293563              NaN            NaN   /camperbot         camperbot   \n",
       "4103116              NaN            NaN     /psyperl           psyperl   \n",
       "\n",
       "         fromUser.v                                               html  \\\n",
       "3816079         7.0  <span data-link-type=\"mention\" data-screen-nam...   \n",
       "4171691        15.0                                       Hi Amelia :D   \n",
       "4590868        39.0    i could open it anytime. write it then save it.   \n",
       "3293563         2.0  <h2>welcome to FreeCodeCamp <span data-link-ty...   \n",
       "4103116        21.0  <span data-link-type=\"mention\" data-screen-nam...   \n",
       "\n",
       "                               id issues  \\\n",
       "3816079  58e71ca27ea420cc42474ee0     []   \n",
       "4171691  5925c4315e34568d5e88ef5f     []   \n",
       "4590868  5976ae90f5b3458e307c6127     []   \n",
       "3293563  58911bc41e4d4bd962baa16b     []   \n",
       "4103116  5918e0ea0a783b6c0a9a6a63     []   \n",
       "\n",
       "                                                  mentions meta  readBy  \\\n",
       "3816079  [{'userIds': [], 'screenName': 'Jortyzallday',...   []      18   \n",
       "4171691                                                 []   []      30   \n",
       "4590868                                                 []   []       4   \n",
       "3293563  [{'userIds': [], 'userId': '58911bb0d73408ce4f...   []      13   \n",
       "4103116  [{'userIds': [], 'screenName': 'dymondbruce', ...   []       8   \n",
       "\n",
       "                                    sent status  \\\n",
       "3816079 2017-04-07 04:59:14.087000+00:00    NaN   \n",
       "4171691 2017-05-24 17:34:41.175000+00:00    NaN   \n",
       "4590868 2017-07-25 02:36:00.655000+00:00    NaN   \n",
       "3293563 2017-01-31 23:20:36.124000+00:00    NaN   \n",
       "4103116 2017-05-14 22:57:46.547000+00:00    NaN   \n",
       "\n",
       "                                                      text  unread urls  v  \n",
       "3816079                              @Jortyzallday welcome   False   []  1  \n",
       "4171691                                       Hi Amelia :D   False   []  2  \n",
       "4590868    i could open it anytime. write it then save it.   False   []  2  \n",
       "3293563          ## welcome to FreeCodeCamp @GirlCode2017!   False   []  1  \n",
       "4103116  @dymondbruce i am not in a good position to ex...   False   []  1  "
      ]
     },
     "execution_count": 44,
     "metadata": {},
     "output_type": "execute_result"
    }
   ],
   "source": [
    "#Head\n",
    "clean_freecodecamp_casual.sample(5)"
   ]
  },
  {
   "cell_type": "markdown",
   "id": "5eed02c9",
   "metadata": {},
   "source": [
    "#### Column fromUser.gv - 31811 null value\n",
    "\n",
    "We don't really at this moment understand what this column remain but it contains only `0.63%` null values."
   ]
  },
  {
   "cell_type": "code",
   "execution_count": 45,
   "id": "08feb902",
   "metadata": {},
   "outputs": [
    {
     "data": {
      "text/plain": [
       "(0.628999090441729, 5025589)"
      ]
     },
     "execution_count": 45,
     "metadata": {},
     "output_type": "execute_result"
    }
   ],
   "source": [
    "#Percentage               #Total notnull\n",
    "(31811 / 5057400 ) * 100, 5057400 - 31811"
   ]
  },
  {
   "cell_type": "code",
   "execution_count": 46,
   "id": "42548b39",
   "metadata": {
    "scrolled": true
   },
   "outputs": [
    {
     "data": {
      "text/plain": [
       "3.0    3946072\n",
       "4.0    1059666\n",
       "Name: fromUser.gv, dtype: int64"
      ]
     },
     "execution_count": 46,
     "metadata": {},
     "output_type": "execute_result"
    }
   ],
   "source": [
    "#Overview on fromUser.gv column\n",
    "clean_freecodecamp_casual['fromUser.gv'].value_counts()"
   ]
  },
  {
   "cell_type": "markdown",
   "id": "1b1d74f8",
   "metadata": {},
   "source": [
    "We notice that it's only 2 values inside this column **[3 or 4].** So we can decide to `delete all the null values` because it will not impact the dataset."
   ]
  },
  {
   "cell_type": "code",
   "execution_count": 47,
   "id": "ae223a0a",
   "metadata": {},
   "outputs": [
    {
     "name": "stdout",
     "output_type": "stream",
     "text": [
      "31811\n"
     ]
    }
   ],
   "source": [
    "#Deleting them\n",
    "#Get all rows index\n",
    "ind_tex = clean_freecodecamp_casual[clean_freecodecamp_casual['fromUser.gv'].isna()].index.values.tolist()\n",
    "print(len(ind_tex))\n",
    "\n",
    "#deleting all these index in my datasaet\n",
    "# for i in ind_tex:\n",
    "clean_freecodecamp_casual = clean_freecodecamp_casual.drop(ind_tex)"
   ]
  },
  {
   "cell_type": "code",
   "execution_count": 48,
   "id": "cfcb577e",
   "metadata": {},
   "outputs": [
    {
     "data": {
      "text/plain": [
       "0"
      ]
     },
     "execution_count": 48,
     "metadata": {},
     "output_type": "execute_result"
    }
   ],
   "source": [
    "#Sanity check\n",
    "clean_freecodecamp_casual['fromUser.gv'].isna().sum()"
   ]
  },
  {
   "cell_type": "markdown",
   "id": "dc4eaefd",
   "metadata": {},
   "source": [
    "We confirm that there no more `null value` inside the `fromUser.gv` column.\n",
    "\n",
    "We note that we only have 2 values in this column, so we choose to transform them into 0 and 1 to facilitate communication."
   ]
  },
  {
   "cell_type": "code",
   "execution_count": 50,
   "id": "36934516",
   "metadata": {},
   "outputs": [],
   "source": [
    "#Transforming our values, run this once\n",
    "clean_freecodecamp_casual['fromUser.gv'] = np.where(clean_freecodecamp_casual['fromUser.gv'] == 3.0, 0, 1)"
   ]
  },
  {
   "cell_type": "code",
   "execution_count": 51,
   "id": "8023ebaa",
   "metadata": {
    "scrolled": false
   },
   "outputs": [
    {
     "data": {
      "image/png": "[encoded data removed]",
      "text/plain": [
       "<Figure size 1000x600 with 1 Axes>"
      ]
     },
     "metadata": {},
     "output_type": "display_data"
    },
    {
     "name": "stdout",
     "output_type": "stream",
     "text": [
      "Mean: 0.21169026425274357\n",
      "Median: 0.0\n"
     ]
    }
   ],
   "source": [
    "#Overview on the distribution of fromUser.staff\n",
    "visualize_numeric_column(clean_freecodecamp_casual, 'fromUser.gv')"
   ]
  },
  {
   "cell_type": "markdown",
   "id": "7c095917",
   "metadata": {},
   "source": [
    "The distribution of this column appears to be highly skewed, with the vast majority of values concentrated in the \"0\" category **(around 3,946,072 occurrences)** and a minority in the \"1\" category **(around 1,059,666 occurrences).** This **unbalanced distribution suggests that category \"0\" is largely dominant over category \"1\".** It may be worth exploring this column further to understand the context and meaning of the \"0\" and \"1\" categories, as well as to assess the potential impact of this imbalance on future analyses or models that might be built from this column."
   ]
  },
  {
   "cell_type": "markdown",
   "id": "16fb2153",
   "metadata": {},
   "source": [
    "#### Column fromUser.avatarUrl  - 1818159  null value\n",
    "\n",
    "This column contains urls redirecting to the image of each user. In this column we have `36%` of null values.\n"
   ]
  },
  {
   "cell_type": "code",
   "execution_count": 53,
   "id": "d359bc81",
   "metadata": {},
   "outputs": [
    {
     "data": {
      "text/plain": [
       "(35.95046862023965, 3239241)"
      ]
     },
     "execution_count": 53,
     "metadata": {},
     "output_type": "execute_result"
    }
   ],
   "source": [
    "#Percentage               #Total notnull\n",
    "(1818159 / 5057400 ) * 100, 5057400 - 1818159"
   ]
  },
  {
   "cell_type": "code",
   "execution_count": 54,
   "id": "c0e0ffc1",
   "metadata": {},
   "outputs": [
    {
     "data": {
      "text/plain": [
       "https://avatars-01.gitter.im/gh/uv/3/camperbot           251542\n",
       "https://avatars-05.gitter.im/gh/uv/4/jodylecompte         83606\n",
       "https://avatars-04.gitter.im/gh/uv/4/qmikew1              72182\n",
       "https://avatars-05.gitter.im/gh/uv/3/apottr               65198\n",
       "https://avatars-04.gitter.im/gh/uv/4/mstellaluna          63676\n",
       "                                                          ...  \n",
       "https://avatars-05.gitter.im/gh/uv/3/Nassaramuto              1\n",
       "https://avatars-04.gitter.im/gh/uv/3/Jason-k83                1\n",
       "https://avatars-03.gitter.im/gh/uv/3/nicuosan                 1\n",
       "https://avatars-03.gitter.im/gh/uv/3/Dariuskr                 1\n",
       "https://avatars-04.gitter.im/gh/uv/3/PatriciaMendozas         1\n",
       "Name: fromUser.avatarUrl, Length: 137285, dtype: int64"
      ]
     },
     "execution_count": 54,
     "metadata": {},
     "output_type": "execute_result"
    }
   ],
   "source": [
    "#Overview on fromUser.gv column\n",
    "clean_freecodecamp_casual['fromUser.avatarUrl'].value_counts()"
   ]
  },
  {
   "cell_type": "code",
   "execution_count": 55,
   "id": "c10e301d",
   "metadata": {},
   "outputs": [
    {
     "data": {
      "text/html": [
       "<div>\n",
       "<style scoped>\n",
       "    .dataframe tbody tr th:only-of-type {\n",
       "        vertical-align: middle;\n",
       "    }\n",
       "\n",
       "    .dataframe tbody tr th {\n",
       "        vertical-align: top;\n",
       "    }\n",
       "\n",
       "    .dataframe thead th {\n",
       "        text-align: right;\n",
       "    }\n",
       "</style>\n",
       "<table border=\"1\" class=\"dataframe\">\n",
       "  <thead>\n",
       "    <tr style=\"text-align: right;\">\n",
       "      <th></th>\n",
       "      <th>Unnamed: 0</th>\n",
       "      <th>editedAt</th>\n",
       "      <th>fromUser.avatarUrl</th>\n",
       "      <th>fromUser.avatarUrlMedium</th>\n",
       "      <th>fromUser.avatarUrlSmall</th>\n",
       "      <th>fromUser.displayName</th>\n",
       "      <th>fromUser.gv</th>\n",
       "      <th>fromUser.id</th>\n",
       "      <th>fromUser.removed</th>\n",
       "      <th>fromUser.staff</th>\n",
       "      <th>fromUser.url</th>\n",
       "      <th>fromUser.username</th>\n",
       "      <th>fromUser.v</th>\n",
       "      <th>html</th>\n",
       "      <th>id</th>\n",
       "      <th>issues</th>\n",
       "      <th>mentions</th>\n",
       "      <th>meta</th>\n",
       "      <th>readBy</th>\n",
       "      <th>sent</th>\n",
       "      <th>status</th>\n",
       "      <th>text</th>\n",
       "      <th>unread</th>\n",
       "      <th>urls</th>\n",
       "      <th>v</th>\n",
       "    </tr>\n",
       "  </thead>\n",
       "  <tbody>\n",
       "    <tr>\n",
       "      <th>606279</th>\n",
       "      <td>606279</td>\n",
       "      <td>NaT</td>\n",
       "      <td>NaN</td>\n",
       "      <td>https://avatars0.githubusercontent.com/u/11624...</td>\n",
       "      <td>https://avatars0.githubusercontent.com/u/11624...</td>\n",
       "      <td>Akinseye Olawale</td>\n",
       "      <td>0</td>\n",
       "      <td>5635006816b6c7089cb8fcee</td>\n",
       "      <td>NaN</td>\n",
       "      <td>NaN</td>\n",
       "      <td>/brainyfarm</td>\n",
       "      <td>brainyfarm</td>\n",
       "      <td>1.0</td>\n",
       "      <td>Thanks &lt;span data-link-type=\"mention\" data-scr...</td>\n",
       "      <td>5648d8c8aca9bb7c6e506841</td>\n",
       "      <td>[]</td>\n",
       "      <td>[{'userIds': [], 'userId': '5647aa4616b6c7089c...</td>\n",
       "      <td>[]</td>\n",
       "      <td>17</td>\n",
       "      <td>2015-11-15 19:11:04.058000+00:00</td>\n",
       "      <td>NaN</td>\n",
       "      <td>Thanks @vanaddo</td>\n",
       "      <td>False</td>\n",
       "      <td>[]</td>\n",
       "      <td>1</td>\n",
       "    </tr>\n",
       "    <tr>\n",
       "      <th>1170863</th>\n",
       "      <td>1170863</td>\n",
       "      <td>NaT</td>\n",
       "      <td>NaN</td>\n",
       "      <td>https://avatars0.githubusercontent.com/u/18826...</td>\n",
       "      <td>https://avatars0.githubusercontent.com/u/18826...</td>\n",
       "      <td>Ivan Perez</td>\n",
       "      <td>0</td>\n",
       "      <td>559e243c15522ed4b3e3b2a8</td>\n",
       "      <td>NaN</td>\n",
       "      <td>NaN</td>\n",
       "      <td>/joannesalfa</td>\n",
       "      <td>joannesalfa</td>\n",
       "      <td>1.0</td>\n",
       "      <td>&lt;span data-link-type=\"mention\" data-screen-nam...</td>\n",
       "      <td>56c4efd928357a987fbeafe2</td>\n",
       "      <td>[]</td>\n",
       "      <td>[{'userIds': [], 'userId': '55d2c4f40fc9f982be...</td>\n",
       "      <td>[]</td>\n",
       "      <td>77</td>\n",
       "      <td>2016-02-17 22:10:33.063000+00:00</td>\n",
       "      <td>NaN</td>\n",
       "      <td>@Mashadim Ah ok, then it's array</td>\n",
       "      <td>False</td>\n",
       "      <td>[]</td>\n",
       "      <td>1</td>\n",
       "    </tr>\n",
       "    <tr>\n",
       "      <th>639335</th>\n",
       "      <td>639335</td>\n",
       "      <td>NaT</td>\n",
       "      <td>NaN</td>\n",
       "      <td>https://avatars0.githubusercontent.com/u/15195...</td>\n",
       "      <td>https://avatars0.githubusercontent.com/u/15195...</td>\n",
       "      <td>vincentstorm7</td>\n",
       "      <td>0</td>\n",
       "      <td>56519e0e16b6c7089cbbb080</td>\n",
       "      <td>NaN</td>\n",
       "      <td>NaN</td>\n",
       "      <td>/vincentstorm7</td>\n",
       "      <td>vincentstorm7</td>\n",
       "      <td>NaN</td>\n",
       "      <td>i&amp;#39;m with jquery</td>\n",
       "      <td>56519e45541ec57a66e2f91e</td>\n",
       "      <td>[]</td>\n",
       "      <td>[]</td>\n",
       "      <td>[]</td>\n",
       "      <td>29</td>\n",
       "      <td>2015-11-22 10:51:49.882000+00:00</td>\n",
       "      <td>NaN</td>\n",
       "      <td>i'm with jquery</td>\n",
       "      <td>False</td>\n",
       "      <td>[]</td>\n",
       "      <td>1</td>\n",
       "    </tr>\n",
       "    <tr>\n",
       "      <th>625477</th>\n",
       "      <td>625477</td>\n",
       "      <td>NaT</td>\n",
       "      <td>NaN</td>\n",
       "      <td>https://avatars1.githubusercontent.com/u/13036...</td>\n",
       "      <td>https://avatars1.githubusercontent.com/u/13036...</td>\n",
       "      <td>Dan L</td>\n",
       "      <td>0</td>\n",
       "      <td>558ded2415522ed4b3e2e450</td>\n",
       "      <td>NaN</td>\n",
       "      <td>NaN</td>\n",
       "      <td>/hiltydiggs</td>\n",
       "      <td>hiltydiggs</td>\n",
       "      <td>NaN</td>\n",
       "      <td>Dead Pixels is the name of my band</td>\n",
       "      <td>564e5a0ffe870cb723e3fe9c</td>\n",
       "      <td>[]</td>\n",
       "      <td>[]</td>\n",
       "      <td>[]</td>\n",
       "      <td>20</td>\n",
       "      <td>2015-11-19 23:23:59.457000+00:00</td>\n",
       "      <td>NaN</td>\n",
       "      <td>Dead Pixels is the name of my band</td>\n",
       "      <td>False</td>\n",
       "      <td>[]</td>\n",
       "      <td>1</td>\n",
       "    </tr>\n",
       "    <tr>\n",
       "      <th>503121</th>\n",
       "      <td>503121</td>\n",
       "      <td>NaT</td>\n",
       "      <td>NaN</td>\n",
       "      <td>https://avatars2.githubusercontent.com/u/13188...</td>\n",
       "      <td>https://avatars2.githubusercontent.com/u/13188...</td>\n",
       "      <td>Antonio HoYen</td>\n",
       "      <td>0</td>\n",
       "      <td>5629650a16b6c7089cb7f1d7</td>\n",
       "      <td>NaN</td>\n",
       "      <td>NaN</td>\n",
       "      <td>/AntonioHoYen</td>\n",
       "      <td>AntonioHoYen</td>\n",
       "      <td>1.0</td>\n",
       "      <td>lol</td>\n",
       "      <td>5629c288f2adcffe367ef7b4</td>\n",
       "      <td>[]</td>\n",
       "      <td>[]</td>\n",
       "      <td>[]</td>\n",
       "      <td>19</td>\n",
       "      <td>2015-10-23 05:15:52.436000+00:00</td>\n",
       "      <td>NaN</td>\n",
       "      <td>lol</td>\n",
       "      <td>False</td>\n",
       "      <td>[]</td>\n",
       "      <td>1</td>\n",
       "    </tr>\n",
       "  </tbody>\n",
       "</table>\n",
       "</div>"
      ],
      "text/plain": [
       "         Unnamed: 0 editedAt fromUser.avatarUrl  \\\n",
       "606279       606279      NaT                NaN   \n",
       "1170863     1170863      NaT                NaN   \n",
       "639335       639335      NaT                NaN   \n",
       "625477       625477      NaT                NaN   \n",
       "503121       503121      NaT                NaN   \n",
       "\n",
       "                                  fromUser.avatarUrlMedium  \\\n",
       "606279   https://avatars0.githubusercontent.com/u/11624...   \n",
       "1170863  https://avatars0.githubusercontent.com/u/18826...   \n",
       "639335   https://avatars0.githubusercontent.com/u/15195...   \n",
       "625477   https://avatars1.githubusercontent.com/u/13036...   \n",
       "503121   https://avatars2.githubusercontent.com/u/13188...   \n",
       "\n",
       "                                   fromUser.avatarUrlSmall  \\\n",
       "606279   https://avatars0.githubusercontent.com/u/11624...   \n",
       "1170863  https://avatars0.githubusercontent.com/u/18826...   \n",
       "639335   https://avatars0.githubusercontent.com/u/15195...   \n",
       "625477   https://avatars1.githubusercontent.com/u/13036...   \n",
       "503121   https://avatars2.githubusercontent.com/u/13188...   \n",
       "\n",
       "        fromUser.displayName  fromUser.gv               fromUser.id  \\\n",
       "606279      Akinseye Olawale            0  5635006816b6c7089cb8fcee   \n",
       "1170863           Ivan Perez            0  559e243c15522ed4b3e3b2a8   \n",
       "639335         vincentstorm7            0  56519e0e16b6c7089cbbb080   \n",
       "625477                 Dan L            0  558ded2415522ed4b3e2e450   \n",
       "503121         Antonio HoYen            0  5629650a16b6c7089cb7f1d7   \n",
       "\n",
       "        fromUser.removed fromUser.staff    fromUser.url fromUser.username  \\\n",
       "606279               NaN            NaN     /brainyfarm        brainyfarm   \n",
       "1170863              NaN            NaN    /joannesalfa       joannesalfa   \n",
       "639335               NaN            NaN  /vincentstorm7     vincentstorm7   \n",
       "625477               NaN            NaN     /hiltydiggs        hiltydiggs   \n",
       "503121               NaN            NaN   /AntonioHoYen      AntonioHoYen   \n",
       "\n",
       "         fromUser.v                                               html  \\\n",
       "606279          1.0  Thanks <span data-link-type=\"mention\" data-scr...   \n",
       "1170863         1.0  <span data-link-type=\"mention\" data-screen-nam...   \n",
       "639335          NaN                                i&#39;m with jquery   \n",
       "625477          NaN                 Dead Pixels is the name of my band   \n",
       "503121          1.0                                                lol   \n",
       "\n",
       "                               id issues  \\\n",
       "606279   5648d8c8aca9bb7c6e506841     []   \n",
       "1170863  56c4efd928357a987fbeafe2     []   \n",
       "639335   56519e45541ec57a66e2f91e     []   \n",
       "625477   564e5a0ffe870cb723e3fe9c     []   \n",
       "503121   5629c288f2adcffe367ef7b4     []   \n",
       "\n",
       "                                                  mentions meta  readBy  \\\n",
       "606279   [{'userIds': [], 'userId': '5647aa4616b6c7089c...   []      17   \n",
       "1170863  [{'userIds': [], 'userId': '55d2c4f40fc9f982be...   []      77   \n",
       "639335                                                  []   []      29   \n",
       "625477                                                  []   []      20   \n",
       "503121                                                  []   []      19   \n",
       "\n",
       "                                    sent status  \\\n",
       "606279  2015-11-15 19:11:04.058000+00:00    NaN   \n",
       "1170863 2016-02-17 22:10:33.063000+00:00    NaN   \n",
       "639335  2015-11-22 10:51:49.882000+00:00    NaN   \n",
       "625477  2015-11-19 23:23:59.457000+00:00    NaN   \n",
       "503121  2015-10-23 05:15:52.436000+00:00    NaN   \n",
       "\n",
       "                                       text  unread urls  v  \n",
       "606279                     Thanks @vanaddo    False   []  1  \n",
       "1170863    @Mashadim Ah ok, then it's array   False   []  1  \n",
       "639335                      i'm with jquery   False   []  1  \n",
       "625477   Dead Pixels is the name of my band   False   []  1  \n",
       "503121                                  lol   False   []  1  "
      ]
     },
     "execution_count": 55,
     "metadata": {},
     "output_type": "execute_result"
    }
   ],
   "source": [
    "#Overview on some sample row containing null value in fromUser.avatarUrl\n",
    "clean_freecodecamp_casual[clean_freecodecamp_casual['fromUser.avatarUrl'].isna()].sample(5)"
   ]
  },
  {
   "cell_type": "markdown",
   "id": "b848f965",
   "metadata": {},
   "source": [
    "The understanding of the dataset, allows us to assume that the columns `fromUser.avatarUrl, fromUser.avatarUrlMedium, fromUser.avatarUrlSmall` contain the urls to the user's images but at different sizes.\n",
    "\n",
    "It's not really relevant for what we are doing to have all image size, so we can just deleting this column because it can be consider as a duplicate for `fromUser.avatarUrlMedium`"
   ]
  },
  {
   "cell_type": "code",
   "execution_count": 56,
   "id": "51e05594",
   "metadata": {},
   "outputs": [
    {
     "name": "stdout",
     "output_type": "stream",
     "text": [
      "<class 'pandas.core.frame.DataFrame'>\n",
      "Int64Index: 5005738 entries, 0 to 5057399\n",
      "Data columns (total 24 columns):\n",
      " #   Column                    Dtype              \n",
      "---  ------                    -----              \n",
      " 0   Unnamed: 0                int64              \n",
      " 1   editedAt                  datetime64[ns, UTC]\n",
      " 2   fromUser.avatarUrlMedium  object             \n",
      " 3   fromUser.avatarUrlSmall   object             \n",
      " 4   fromUser.displayName      object             \n",
      " 5   fromUser.gv               int64              \n",
      " 6   fromUser.id               object             \n",
      " 7   fromUser.removed          object             \n",
      " 8   fromUser.staff            object             \n",
      " 9   fromUser.url              object             \n",
      " 10  fromUser.username         object             \n",
      " 11  fromUser.v                float64            \n",
      " 12  html                      object             \n",
      " 13  id                        object             \n",
      " 14  issues                    object             \n",
      " 15  mentions                  object             \n",
      " 16  meta                      object             \n",
      " 17  readBy                    int64              \n",
      " 18  sent                      datetime64[ns, UTC]\n",
      " 19  status                    object             \n",
      " 20  text                      object             \n",
      " 21  unread                    bool               \n",
      " 22  urls                      object             \n",
      " 23  v                         int64              \n",
      "dtypes: bool(1), datetime64[ns, UTC](2), float64(1), int64(4), object(16)\n",
      "memory usage: 921.4+ MB\n"
     ]
    }
   ],
   "source": [
    "#Delete fromUser.avatarUrl column\n",
    "clean_freecodecamp_casual = clean_freecodecamp_casual.drop(columns=['fromUser.avatarUrl'])\n",
    "\n",
    "#sanity check\n",
    "clean_freecodecamp_casual.info()"
   ]
  },
  {
   "cell_type": "code",
   "execution_count": 57,
   "id": "20983d77",
   "metadata": {},
   "outputs": [
    {
     "name": "stdout",
     "output_type": "stream",
     "text": [
      "editedAt have 4893102 null value\n",
      "fromUser.removed have 5002337 null value\n",
      "fromUser.staff have 5005711 null value\n",
      "fromUser.v have 775307 null value\n",
      "status have 4989563 null value\n",
      "\n",
      " We have 5 columns containing null values.\n"
     ]
    }
   ],
   "source": [
    "#An overview on column, which column contain null value?\n",
    "i = 0\n",
    "for col in clean_freecodecamp_casual.columns:\n",
    "    if clean_freecodecamp_casual[col].isna().sum() > 0:\n",
    "        i += 1\n",
    "        print(f'{col} have {clean_freecodecamp_casual[col].isna().sum()} null value')\n",
    "print(f'\\n We have {i} columns containing null values.')"
   ]
  },
  {
   "cell_type": "markdown",
   "id": "5845f2f8",
   "metadata": {},
   "source": [
    "#### Column fromUser.removed  - 5002337  null value\n",
    "\n",
    "This column contains the status of an user, if he was `removed` or not. In this column we have `99%` of null values."
   ]
  },
  {
   "cell_type": "code",
   "execution_count": 58,
   "id": "bfb14a64",
   "metadata": {},
   "outputs": [
    {
     "data": {
      "text/plain": [
       "(99.93205797027332, 3401)"
      ]
     },
     "execution_count": 58,
     "metadata": {},
     "output_type": "execute_result"
    }
   ],
   "source": [
    "#Percentage               #Total notnull\n",
    "(5002337 / 5005738 ) * 100, 5005738 - 5002337"
   ]
  },
  {
   "cell_type": "code",
   "execution_count": 59,
   "id": "3e3c83f3",
   "metadata": {},
   "outputs": [
    {
     "data": {
      "text/plain": [
       "True    3401\n",
       "Name: fromUser.removed, dtype: int64"
      ]
     },
     "execution_count": 59,
     "metadata": {},
     "output_type": "execute_result"
    }
   ],
   "source": [
    "#Overview on the distribution on fromUser.removed\n",
    "clean_freecodecamp_casual['fromUser.removed'].value_counts()"
   ]
  },
  {
   "cell_type": "markdown",
   "id": "67bb1c0d",
   "metadata": {},
   "source": [
    "We only have `True` value in our dataset concerning the `fromUser.removed` so we can assume that the null values correspond for us to `False` value.\n",
    "\n",
    "We assume this null value is **False.**\n",
    "\n",
    "For more usage, we will transform our `True/False` by `1/0` to have binary value to work with that.\n",
    "- True => 1\n",
    "- False/NaN => 0"
   ]
  },
  {
   "cell_type": "code",
   "execution_count": 60,
   "id": "1dce2c72",
   "metadata": {},
   "outputs": [],
   "source": [
    "#We transform our  value in this column\n",
    "clean_freecodecamp_casual['fromUser.removed'] = np.where(clean_freecodecamp_casual['fromUser.removed'] == True, 1, 0)"
   ]
  },
  {
   "cell_type": "code",
   "execution_count": 61,
   "id": "fb653cc2",
   "metadata": {},
   "outputs": [
    {
     "data": {
      "text/plain": [
       "0"
      ]
     },
     "execution_count": 61,
     "metadata": {},
     "output_type": "execute_result"
    }
   ],
   "source": [
    "#Sanity check\n",
    "clean_freecodecamp_casual['fromUser.removed'].isna().sum()"
   ]
  },
  {
   "cell_type": "code",
   "execution_count": 62,
   "id": "da935a7d",
   "metadata": {},
   "outputs": [
    {
     "data": {
      "text/plain": [
       "0    5002337\n",
       "1       3401\n",
       "Name: fromUser.removed, dtype: int64"
      ]
     },
     "execution_count": 62,
     "metadata": {},
     "output_type": "execute_result"
    }
   ],
   "source": [
    "#Sanity check\n",
    "clean_freecodecamp_casual['fromUser.removed'].value_counts()"
   ]
  },
  {
   "cell_type": "code",
   "execution_count": 63,
   "id": "4dcd40c9",
   "metadata": {
    "scrolled": true
   },
   "outputs": [
    {
     "data": {
      "image/png": "[encoded data removed]",
      "text/plain": [
       "<Figure size 1000x600 with 1 Axes>"
      ]
     },
     "metadata": {},
     "output_type": "display_data"
    },
    {
     "name": "stdout",
     "output_type": "stream",
     "text": [
      "Mean: 0.0006794202972668566\n",
      "Median: 0.0\n"
     ]
    }
   ],
   "source": [
    "#Overview on the distribution of fromUser.removed\n",
    "visualize_numeric_column(clean_freecodecamp_casual, 'fromUser.removed')"
   ]
  },
  {
   "cell_type": "markdown",
   "id": "4ffff797",
   "metadata": {},
   "source": [
    "The distribution of this column shows a marked disparity between the two categories. Category \"0\" has a considerably higher number of occurrences (around 5,002,337) than category \"1\", which has just 3,401. This **highly unbalanced distribution suggests an overwhelming prevalence of category \"0\" over category \"1\".** It is important to take this imbalance into account when analyzing data and building models, as it may have implications for the performance and results obtained for the minority category. Data balancing or imbalance management techniques may be required to obtain more robust and accurate results"
   ]
  },
  {
   "cell_type": "markdown",
   "id": "f6bc8823",
   "metadata": {},
   "source": [
    "We confirm that there no more `null value` inside the `fromUser.removed` column."
   ]
  },
  {
   "cell_type": "code",
   "execution_count": 64,
   "id": "4606ef9d",
   "metadata": {},
   "outputs": [
    {
     "name": "stdout",
     "output_type": "stream",
     "text": [
      "editedAt have 4893102 null value\n",
      "fromUser.staff have 5005711 null value\n",
      "fromUser.v have 775307 null value\n",
      "status have 4989563 null value\n",
      "\n",
      " We have 4 columns containing null values.\n"
     ]
    }
   ],
   "source": [
    "#An overview on column, which column contain null value?\n",
    "i = 0\n",
    "for col in clean_freecodecamp_casual.columns:\n",
    "    if clean_freecodecamp_casual[col].isna().sum() > 0:\n",
    "        i += 1\n",
    "        print(f'{col} have {clean_freecodecamp_casual[col].isna().sum()} null value')\n",
    "print(f'\\n We have {i} columns containing null values.')"
   ]
  },
  {
   "cell_type": "code",
   "execution_count": null,
   "id": "c0b9385e",
   "metadata": {},
   "outputs": [],
   "source": [
    "# clean_freecodecamp_casual.info()"
   ]
  },
  {
   "cell_type": "markdown",
   "id": "d6a09e99",
   "metadata": {},
   "source": [
    "#### Column fromUser.staff  - 5005711  null value\n",
    "\n",
    "This column contains the status of an user, if he was `staff member` or not. In this column we have `99%` of null values."
   ]
  },
  {
   "cell_type": "code",
   "execution_count": 65,
   "id": "29b417af",
   "metadata": {},
   "outputs": [
    {
     "data": {
      "text/plain": [
       "(99.99946061899364, 27)"
      ]
     },
     "execution_count": 65,
     "metadata": {},
     "output_type": "execute_result"
    }
   ],
   "source": [
    "#Percentage               #Total notnull\n",
    "(5005711 / 5005738 ) * 100, 5005738 - 5005711"
   ]
  },
  {
   "cell_type": "code",
   "execution_count": 66,
   "id": "c58005c6",
   "metadata": {},
   "outputs": [
    {
     "data": {
      "text/plain": [
       "True    27\n",
       "Name: fromUser.staff, dtype: int64"
      ]
     },
     "execution_count": 66,
     "metadata": {},
     "output_type": "execute_result"
    }
   ],
   "source": [
    "#Overview on the distribution on fromUser.removed\n",
    "clean_freecodecamp_casual['fromUser.staff'].value_counts()"
   ]
  },
  {
   "cell_type": "markdown",
   "id": "550990f5",
   "metadata": {},
   "source": [
    "We only have `True` value in our dataset concerning the `fromUser.staff` so we can assume that the null values correspond for us to `False` value.\n",
    "\n",
    "We assume this null value is **False.**\n",
    "\n",
    "For more usage, we will transform our `True/False` by `1/0` to have binary value to work with that.\n",
    "- True => 1\n",
    "- False/NaN => 0"
   ]
  },
  {
   "cell_type": "code",
   "execution_count": 67,
   "id": "f85390c6",
   "metadata": {},
   "outputs": [],
   "source": [
    "#We transform our  value in this column\n",
    "clean_freecodecamp_casual['fromUser.staff'] = np.where(clean_freecodecamp_casual['fromUser.staff'] == True, 1, 0)"
   ]
  },
  {
   "cell_type": "code",
   "execution_count": 68,
   "id": "f322b805",
   "metadata": {},
   "outputs": [
    {
     "data": {
      "text/plain": [
       "0"
      ]
     },
     "execution_count": 68,
     "metadata": {},
     "output_type": "execute_result"
    }
   ],
   "source": [
    "#Sanity check\n",
    "clean_freecodecamp_casual['fromUser.staff'].isna().sum()"
   ]
  },
  {
   "cell_type": "code",
   "execution_count": 69,
   "id": "393e7faf",
   "metadata": {
    "scrolled": true
   },
   "outputs": [
    {
     "data": {
      "text/plain": [
       "0    5005711\n",
       "1         27\n",
       "Name: fromUser.staff, dtype: int64"
      ]
     },
     "execution_count": 69,
     "metadata": {},
     "output_type": "execute_result"
    }
   ],
   "source": [
    "#Sanity check\n",
    "clean_freecodecamp_casual['fromUser.staff'].value_counts()"
   ]
  },
  {
   "cell_type": "code",
   "execution_count": 70,
   "id": "61df89a8",
   "metadata": {
    "scrolled": false
   },
   "outputs": [
    {
     "data": {
      "image/png": "[encoded data removed]",
      "text/plain": [
       "<Figure size 1000x600 with 1 Axes>"
      ]
     },
     "metadata": {},
     "output_type": "display_data"
    },
    {
     "name": "stdout",
     "output_type": "stream",
     "text": [
      "Mean: 5.393810063571046e-06\n",
      "Median: 0.0\n"
     ]
    }
   ],
   "source": [
    "#Overview on the distribution of fromUser.staff\n",
    "visualize_numeric_column(clean_freecodecamp_casual, 'fromUser.staff')"
   ]
  },
  {
   "cell_type": "markdown",
   "id": "c8696a33",
   "metadata": {},
   "source": [
    "We confirm that there no more `null value` inside the `fromUser.staff` column.\n",
    "\n",
    "The distribution of this column shows an extreme disparity between the two categories. Category \"0\" has a very high number of occurrences (around 5,005,711), while category \"1\" has only 27. This **extremely unbalanced distribution indicates an overwhelming predominance of category \"0\" over category \"1\".** Category \"1\" represents a significant and rare minority in the data. When analyzing or modeling this column, it is essential to take this imbalance into account to avoid bias and generalization problems. Data balancing or imbalance management techniques may be necessary to ensure reliable and representative results for the minority category."
   ]
  },
  {
   "cell_type": "code",
   "execution_count": 71,
   "id": "66641e52",
   "metadata": {},
   "outputs": [
    {
     "name": "stdout",
     "output_type": "stream",
     "text": [
      "editedAt have 4893102 null value\n",
      "fromUser.v have 775307 null value\n",
      "status have 4989563 null value\n",
      "\n",
      " We have 3 columns containing null values.\n"
     ]
    }
   ],
   "source": [
    "#An overview on column, which column contain null value?\n",
    "i = 0\n",
    "for col in clean_freecodecamp_casual.columns:\n",
    "    if clean_freecodecamp_casual[col].isna().sum() > 0:\n",
    "        i += 1\n",
    "        print(f'{col} have {clean_freecodecamp_casual[col].isna().sum()} null value')\n",
    "print(f'\\n We have {i} columns containing null values.')"
   ]
  },
  {
   "cell_type": "markdown",
   "id": "691baa36",
   "metadata": {},
   "source": [
    "#### Column status  - 4989563  null value\n",
    "\n",
    "This column contains the status of an user, but it's not clairly mentionned which kind of status it is. In this column we have `99%` of null values."
   ]
  },
  {
   "cell_type": "code",
   "execution_count": 72,
   "id": "4d5dcdf0",
   "metadata": {},
   "outputs": [
    {
     "data": {
      "text/plain": [
       "(99.67687082304347, 16175)"
      ]
     },
     "execution_count": 72,
     "metadata": {},
     "output_type": "execute_result"
    }
   ],
   "source": [
    "#Percentage               #Total notnull\n",
    "(4989563 / 5005738 ) * 100, 5005738 - 4989563"
   ]
  },
  {
   "cell_type": "code",
   "execution_count": 73,
   "id": "e8ce0fa1",
   "metadata": {},
   "outputs": [
    {
     "data": {
      "text/plain": [
       "count     16175\n",
       "unique        2\n",
       "top        True\n",
       "freq      12938\n",
       "Name: status, dtype: object"
      ]
     },
     "execution_count": 73,
     "metadata": {},
     "output_type": "execute_result"
    }
   ],
   "source": [
    "#Looking into the distribution\n",
    "clean_freecodecamp_casual['status'].describe()"
   ]
  },
  {
   "cell_type": "markdown",
   "id": "4f465a21",
   "metadata": {},
   "source": [
    "This column doesn't contain enough data to work on it, because:\n",
    "- We need a dataset with more than >50000 rows, but this column only have 16175 valide rows\n",
    "- We cannot replace the null value by one of the possible value True/False, because it will change the distribution of this column in the dataset\n",
    "\n",
    "So in conclusion we choose to remove the column from out dataset."
   ]
  },
  {
   "cell_type": "code",
   "execution_count": 74,
   "id": "f60db43f",
   "metadata": {
    "scrolled": false
   },
   "outputs": [
    {
     "name": "stdout",
     "output_type": "stream",
     "text": [
      "<class 'pandas.core.frame.DataFrame'>\n",
      "Int64Index: 5005738 entries, 0 to 5057399\n",
      "Data columns (total 23 columns):\n",
      " #   Column                    Dtype              \n",
      "---  ------                    -----              \n",
      " 0   Unnamed: 0                int64              \n",
      " 1   editedAt                  datetime64[ns, UTC]\n",
      " 2   fromUser.avatarUrlMedium  object             \n",
      " 3   fromUser.avatarUrlSmall   object             \n",
      " 4   fromUser.displayName      object             \n",
      " 5   fromUser.gv               int64              \n",
      " 6   fromUser.id               object             \n",
      " 7   fromUser.removed          int64              \n",
      " 8   fromUser.staff            int64              \n",
      " 9   fromUser.url              object             \n",
      " 10  fromUser.username         object             \n",
      " 11  fromUser.v                float64            \n",
      " 12  html                      object             \n",
      " 13  id                        object             \n",
      " 14  issues                    object             \n",
      " 15  mentions                  object             \n",
      " 16  meta                      object             \n",
      " 17  readBy                    int64              \n",
      " 18  sent                      datetime64[ns, UTC]\n",
      " 19  text                      object             \n",
      " 20  unread                    bool               \n",
      " 21  urls                      object             \n",
      " 22  v                         int64              \n",
      "dtypes: bool(1), datetime64[ns, UTC](2), float64(1), int64(6), object(13)\n",
      "memory usage: 883.2+ MB\n"
     ]
    }
   ],
   "source": [
    "#Delete status column\n",
    "clean_freecodecamp_casual = clean_freecodecamp_casual.drop(columns=['status'])\n",
    "\n",
    "#sanity check\n",
    "clean_freecodecamp_casual.info()"
   ]
  },
  {
   "cell_type": "markdown",
   "id": "e425e9a9",
   "metadata": {},
   "source": [
    "We confirm that the `status` column no more exists in our dataset."
   ]
  },
  {
   "cell_type": "markdown",
   "id": "f2e08d56",
   "metadata": {},
   "source": [
    "#### Column fromUser.v  - 775307  null value\n",
    "\n",
    "This column contains numeric value but it's not clairly specify on what it is refer to. In this column we have `16%` of null values."
   ]
  },
  {
   "cell_type": "code",
   "execution_count": 75,
   "id": "8c40e563",
   "metadata": {},
   "outputs": [
    {
     "data": {
      "text/plain": [
       "(15.488365551692876, 4230431)"
      ]
     },
     "execution_count": 75,
     "metadata": {},
     "output_type": "execute_result"
    }
   ],
   "source": [
    "#Percentage               #Total notnull\n",
    "(775307 / 5005738 ) * 100, 5005738 - 775307"
   ]
  },
  {
   "cell_type": "code",
   "execution_count": 76,
   "id": "cc53aad3",
   "metadata": {},
   "outputs": [
    {
     "data": {
      "text/plain": [
       "1.0      728254\n",
       "2.0      612751\n",
       "3.0      249094\n",
       "6.0      216635\n",
       "4.0      167432\n",
       "          ...  \n",
       "229.0         1\n",
       "393.0         1\n",
       "140.0         1\n",
       "244.0         1\n",
       "131.0         1\n",
       "Name: fromUser.v, Length: 219, dtype: int64"
      ]
     },
     "execution_count": 76,
     "metadata": {},
     "output_type": "execute_result"
    }
   ],
   "source": [
    "#What is the distribution\n",
    "clean_freecodecamp_casual['fromUser.v'].value_counts()"
   ]
  },
  {
   "cell_type": "code",
   "execution_count": 77,
   "id": "61f750b7",
   "metadata": {},
   "outputs": [
    {
     "data": {
      "text/plain": [
       "min       1.0\n",
       "max    1410.0\n",
       "Name: fromUser.v, dtype: float64"
      ]
     },
     "execution_count": 77,
     "metadata": {},
     "output_type": "execute_result"
    }
   ],
   "source": [
    "#What is the min and max\n",
    "clean_freecodecamp_casual['fromUser.v'].describe().loc[['min', 'max']]"
   ]
  },
  {
   "cell_type": "markdown",
   "id": "f11b42e9",
   "metadata": {},
   "source": [
    "Because it's not clairly specify what this column represent, we can deal with the null value either by deleting them or by put a default value for them.\n",
    "\n",
    "In this case, we are working with numeric value from `1 to 1410`, our default value could be **0**"
   ]
  },
  {
   "cell_type": "code",
   "execution_count": 78,
   "id": "fdcd3aa4",
   "metadata": {},
   "outputs": [],
   "source": [
    "#Replacing the null value by 0\n",
    "clean_freecodecamp_casual['fromUser.v'] = clean_freecodecamp_casual['fromUser.v'].fillna(0)"
   ]
  },
  {
   "cell_type": "code",
   "execution_count": 79,
   "id": "11752a8e",
   "metadata": {},
   "outputs": [
    {
     "data": {
      "text/plain": [
       "0"
      ]
     },
     "execution_count": 79,
     "metadata": {},
     "output_type": "execute_result"
    }
   ],
   "source": [
    "#Sanity check\n",
    "clean_freecodecamp_casual['fromUser.v'].isna().sum()"
   ]
  },
  {
   "cell_type": "markdown",
   "id": "0be68ebe",
   "metadata": {},
   "source": [
    "We confirm that there no more `null value` inside the `fromUser.v` column."
   ]
  },
  {
   "cell_type": "code",
   "execution_count": 80,
   "id": "9c64f0af",
   "metadata": {},
   "outputs": [
    {
     "data": {
      "image/png": "[encoded data removed]",
      "text/plain": [
       "<Figure size 1000x600 with 1 Axes>"
      ]
     },
     "metadata": {},
     "output_type": "display_data"
    },
    {
     "name": "stdout",
     "output_type": "stream",
     "text": [
      "Mean: 41.566363241544\n",
      "Median: 4.0\n"
     ]
    }
   ],
   "source": [
    "#Overview on the distribution of fromUser.staff\n",
    "visualize_numeric_column(clean_freecodecamp_casual, 'fromUser.v')"
   ]
  },
  {
   "cell_type": "markdown",
   "id": "eee3e5fd",
   "metadata": {},
   "source": [
    "The distribution of this column shows a wide variety of values, with a high number of occurrences for some categories and a very low number of occurrences for others. The most frequent categories are \"1.0\" with around 728,254 occurrences, closely followed by \"2.0\" with around 612,751 occurrences. However, there are also categories with only one occurrence, indicating a highly unbalanced distribution.\n",
    "\n",
    "Calculating the mean and median of this column, we can see a significant difference between the two values. The mean is around 41.57, while the median is 4.0. **This indicates an asymmetrical distribution, with the tail of the distribution extended towards the higher values.**\n",
    "\n",
    "It would be interesting to explore in more detail the significance of these values and their relationship with other variables in the dataset. This diverse distribution suggests a certain complexity in the data, and it might be useful to carry out further analyses to understand the patterns or trends associated with this column."
   ]
  },
  {
   "cell_type": "markdown",
   "id": "f5442996",
   "metadata": {},
   "source": [
    "#### Column editedAt - 4931000 null value\n",
    "\n",
    "It represent about **97%** of the rows in this column which contain `null value`.\n",
    "\n",
    "How to deal with that?"
   ]
  },
  {
   "cell_type": "code",
   "execution_count": 81,
   "id": "27b4efb5",
   "metadata": {},
   "outputs": [
    {
     "data": {
      "text/plain": [
       "(98.50695342025492, 74738)"
      ]
     },
     "execution_count": 81,
     "metadata": {},
     "output_type": "execute_result"
    }
   ],
   "source": [
    "#Percentage\n",
    "(4931000 / 5005738 ) * 100, 5005738 - 4931000"
   ]
  },
  {
   "cell_type": "code",
   "execution_count": 82,
   "id": "bfa36aef",
   "metadata": {
    "scrolled": true
   },
   "outputs": [
    {
     "name": "stdout",
     "output_type": "stream",
     "text": [
      "<class 'pandas.core.frame.DataFrame'>\n",
      "Int64Index: 112636 entries, 9 to 5057276\n",
      "Data columns (total 23 columns):\n",
      " #   Column                    Non-Null Count   Dtype              \n",
      "---  ------                    --------------   -----              \n",
      " 0   Unnamed: 0                112636 non-null  int64              \n",
      " 1   editedAt                  112636 non-null  datetime64[ns, UTC]\n",
      " 2   fromUser.avatarUrlMedium  112636 non-null  object             \n",
      " 3   fromUser.avatarUrlSmall   112636 non-null  object             \n",
      " 4   fromUser.displayName      112636 non-null  object             \n",
      " 5   fromUser.gv               112636 non-null  int64              \n",
      " 6   fromUser.id               112636 non-null  object             \n",
      " 7   fromUser.removed          112636 non-null  int64              \n",
      " 8   fromUser.staff            112636 non-null  int64              \n",
      " 9   fromUser.url              112636 non-null  object             \n",
      " 10  fromUser.username         112636 non-null  object             \n",
      " 11  fromUser.v                112636 non-null  float64            \n",
      " 12  html                      112636 non-null  object             \n",
      " 13  id                        112636 non-null  object             \n",
      " 14  issues                    112636 non-null  object             \n",
      " 15  mentions                  112636 non-null  object             \n",
      " 16  meta                      112636 non-null  object             \n",
      " 17  readBy                    112636 non-null  int64              \n",
      " 18  sent                      112636 non-null  datetime64[ns, UTC]\n",
      " 19  text                      112636 non-null  object             \n",
      " 20  unread                    112636 non-null  bool               \n",
      " 21  urls                      112636 non-null  object             \n",
      " 22  v                         112636 non-null  int64              \n",
      "dtypes: bool(1), datetime64[ns, UTC](2), float64(1), int64(6), object(13)\n",
      "memory usage: 19.9+ MB\n"
     ]
    }
   ],
   "source": [
    "#How many non-null value do we have for this column\n",
    "clean_freecodecamp_casual[clean_freecodecamp_casual['editedAt'].notnull()].info()"
   ]
  },
  {
   "cell_type": "markdown",
   "id": "ddf11500",
   "metadata": {},
   "source": [
    "When we look in the rows that contain values for the edited column, we get a number of . which can also be used as a dataset if we want to do an analysis over time.\n",
    "\n",
    "So at this stage we'll proceed as follows:\n",
    "- Make a copy of this sample (to have another dataset) in a new variable call `clean_freecodecamp_casual_edited`\n",
    "- Delete the `editedAt` column in our principal dataset `clean_freecodecamp_casual`\n",
    "- Continue working on `clean_freecodecamp_casual` and we will use the `clean_freecodecamp_casual_edited` when we will work on model to see the impact."
   ]
  },
  {
   "cell_type": "code",
   "execution_count": 83,
   "id": "883c68d2",
   "metadata": {},
   "outputs": [
    {
     "data": {
      "text/plain": [
       "(112636, 23)"
      ]
     },
     "execution_count": 83,
     "metadata": {},
     "output_type": "execute_result"
    }
   ],
   "source": [
    "#The copy\n",
    "clean_freecodecamp_casual_edited = clean_freecodecamp_casual[clean_freecodecamp_casual['editedAt'].notnull()].copy()\n",
    "\n",
    "#Sanity check\n",
    "clean_freecodecamp_casual_edited.shape"
   ]
  },
  {
   "cell_type": "code",
   "execution_count": 84,
   "id": "88b6d00c",
   "metadata": {},
   "outputs": [
    {
     "name": "stdout",
     "output_type": "stream",
     "text": [
      "<class 'pandas.core.frame.DataFrame'>\n",
      "Int64Index: 5005738 entries, 0 to 5057399\n",
      "Data columns (total 22 columns):\n",
      " #   Column                    Dtype              \n",
      "---  ------                    -----              \n",
      " 0   Unnamed: 0                int64              \n",
      " 1   fromUser.avatarUrlMedium  object             \n",
      " 2   fromUser.avatarUrlSmall   object             \n",
      " 3   fromUser.displayName      object             \n",
      " 4   fromUser.gv               int64              \n",
      " 5   fromUser.id               object             \n",
      " 6   fromUser.removed          int64              \n",
      " 7   fromUser.staff            int64              \n",
      " 8   fromUser.url              object             \n",
      " 9   fromUser.username         object             \n",
      " 10  fromUser.v                float64            \n",
      " 11  html                      object             \n",
      " 12  id                        object             \n",
      " 13  issues                    object             \n",
      " 14  mentions                  object             \n",
      " 15  meta                      object             \n",
      " 16  readBy                    int64              \n",
      " 17  sent                      datetime64[ns, UTC]\n",
      " 18  text                      object             \n",
      " 19  unread                    bool               \n",
      " 20  urls                      object             \n",
      " 21  v                         int64              \n",
      "dtypes: bool(1), datetime64[ns, UTC](1), float64(1), int64(6), object(13)\n",
      "memory usage: 845.0+ MB\n"
     ]
    }
   ],
   "source": [
    "#Delete editedat in our dataset\n",
    "clean_freecodecamp_casual = clean_freecodecamp_casual.drop(columns=['editedAt'])\n",
    "\n",
    "#Sanity check\n",
    "clean_freecodecamp_casual.info()"
   ]
  },
  {
   "cell_type": "code",
   "execution_count": 85,
   "id": "947dc7f1",
   "metadata": {},
   "outputs": [
    {
     "name": "stdout",
     "output_type": "stream",
     "text": [
      "\n",
      " We have 0 columns containing null values.\n"
     ]
    }
   ],
   "source": [
    "#An overview on column, which column contain null value?\n",
    "i = 0\n",
    "for col in clean_freecodecamp_casual.columns:\n",
    "    if clean_freecodecamp_casual[col].isna().sum() > 0:\n",
    "        i += 1\n",
    "        print(f'{col} have {clean_freecodecamp_casual[col].isna().sum()} null value')\n",
    "print(f'\\n We have {i} columns containing null values.')"
   ]
  },
  {
   "cell_type": "markdown",
   "id": "1e4b103c",
   "metadata": {},
   "source": [
    "We have successfully `clean our dataset for null value.`"
   ]
  },
  {
   "cell_type": "markdown",
   "id": "4dd55c82",
   "metadata": {},
   "source": [
    "### Deal with Empty columns\n",
    "\n",
    "In our dataset there are columns that contain empty strings, we will browse and process them as well.\n",
    "\n",
    "##### meta column"
   ]
  },
  {
   "cell_type": "code",
   "execution_count": 86,
   "id": "fe9492e1",
   "metadata": {
    "scrolled": true
   },
   "outputs": [
    {
     "data": {
      "text/plain": [
       "[]    5005738\n",
       "Name: meta, dtype: int64"
      ]
     },
     "execution_count": 86,
     "metadata": {},
     "output_type": "execute_result"
    }
   ],
   "source": [
    "#overview on the distribution\n",
    "clean_freecodecamp_casual['meta'].value_counts()"
   ]
  },
  {
   "cell_type": "markdown",
   "id": "23356354",
   "metadata": {},
   "source": [
    "`meta` column olny contain **empty string**, so we choose to delete this column."
   ]
  },
  {
   "cell_type": "code",
   "execution_count": 87,
   "id": "219a579e",
   "metadata": {},
   "outputs": [
    {
     "name": "stdout",
     "output_type": "stream",
     "text": [
      "<class 'pandas.core.frame.DataFrame'>\n",
      "Int64Index: 5005738 entries, 0 to 5057399\n",
      "Data columns (total 21 columns):\n",
      " #   Column                    Dtype              \n",
      "---  ------                    -----              \n",
      " 0   Unnamed: 0                int64              \n",
      " 1   fromUser.avatarUrlMedium  object             \n",
      " 2   fromUser.avatarUrlSmall   object             \n",
      " 3   fromUser.displayName      object             \n",
      " 4   fromUser.gv               int64              \n",
      " 5   fromUser.id               object             \n",
      " 6   fromUser.removed          int64              \n",
      " 7   fromUser.staff            int64              \n",
      " 8   fromUser.url              object             \n",
      " 9   fromUser.username         object             \n",
      " 10  fromUser.v                float64            \n",
      " 11  html                      object             \n",
      " 12  id                        object             \n",
      " 13  issues                    object             \n",
      " 14  mentions                  object             \n",
      " 15  readBy                    int64              \n",
      " 16  sent                      datetime64[ns, UTC]\n",
      " 17  text                      object             \n",
      " 18  unread                    bool               \n",
      " 19  urls                      object             \n",
      " 20  v                         int64              \n",
      "dtypes: bool(1), datetime64[ns, UTC](1), float64(1), int64(6), object(12)\n",
      "memory usage: 806.8+ MB\n"
     ]
    }
   ],
   "source": [
    "#Delete editedat in our dataset\n",
    "clean_freecodecamp_casual = clean_freecodecamp_casual.drop(columns=['meta'])\n",
    "\n",
    "#Sanity check\n",
    "clean_freecodecamp_casual.info()"
   ]
  },
  {
   "cell_type": "markdown",
   "id": "892debf7",
   "metadata": {},
   "source": [
    "Quick overview on the other other show that they contain other value inside.\n",
    "\n",
    "### Deal with Duplicates columns\n",
    "\n",
    "Duplicate columns are considered to be columns that contain values that refer to the same information and are similar to each other."
   ]
  },
  {
   "cell_type": "code",
   "execution_count": 88,
   "id": "437b92c9",
   "metadata": {},
   "outputs": [
    {
     "data": {
      "text/html": [
       "<div>\n",
       "<style scoped>\n",
       "    .dataframe tbody tr th:only-of-type {\n",
       "        vertical-align: middle;\n",
       "    }\n",
       "\n",
       "    .dataframe tbody tr th {\n",
       "        vertical-align: top;\n",
       "    }\n",
       "\n",
       "    .dataframe thead th {\n",
       "        text-align: right;\n",
       "    }\n",
       "</style>\n",
       "<table border=\"1\" class=\"dataframe\">\n",
       "  <thead>\n",
       "    <tr style=\"text-align: right;\">\n",
       "      <th></th>\n",
       "      <th>Unnamed: 0</th>\n",
       "      <th>fromUser.avatarUrlMedium</th>\n",
       "      <th>fromUser.avatarUrlSmall</th>\n",
       "      <th>fromUser.displayName</th>\n",
       "      <th>fromUser.gv</th>\n",
       "      <th>fromUser.id</th>\n",
       "      <th>fromUser.removed</th>\n",
       "      <th>fromUser.staff</th>\n",
       "      <th>fromUser.url</th>\n",
       "      <th>fromUser.username</th>\n",
       "      <th>fromUser.v</th>\n",
       "      <th>html</th>\n",
       "      <th>id</th>\n",
       "      <th>issues</th>\n",
       "      <th>mentions</th>\n",
       "      <th>readBy</th>\n",
       "      <th>sent</th>\n",
       "      <th>text</th>\n",
       "      <th>unread</th>\n",
       "      <th>urls</th>\n",
       "      <th>v</th>\n",
       "    </tr>\n",
       "  </thead>\n",
       "  <tbody>\n",
       "    <tr>\n",
       "      <th>0</th>\n",
       "      <td>0</td>\n",
       "      <td>https://avatars2.githubusercontent.com/u/21996...</td>\n",
       "      <td>https://avatars2.githubusercontent.com/u/21996...</td>\n",
       "      <td>Charles Watson</td>\n",
       "      <td>0</td>\n",
       "      <td>546fd99cdb8155e6700d6ec8</td>\n",
       "      <td>0</td>\n",
       "      <td>0</td>\n",
       "      <td>/sircharleswatson</td>\n",
       "      <td>sircharleswatson</td>\n",
       "      <td>1.0</td>\n",
       "      <td>no legumes either</td>\n",
       "      <td>54a4804fb2b2de4b786502bf</td>\n",
       "      <td>[]</td>\n",
       "      <td>[]</td>\n",
       "      <td>22</td>\n",
       "      <td>2014-12-31 23:01:35.647000+00:00</td>\n",
       "      <td>no legumes either</td>\n",
       "      <td>False</td>\n",
       "      <td>[]</td>\n",
       "      <td>1</td>\n",
       "    </tr>\n",
       "    <tr>\n",
       "      <th>3</th>\n",
       "      <td>3</td>\n",
       "      <td>https://avatars2.githubusercontent.com/u/21996...</td>\n",
       "      <td>https://avatars2.githubusercontent.com/u/21996...</td>\n",
       "      <td>Charles Watson</td>\n",
       "      <td>0</td>\n",
       "      <td>546fd99cdb8155e6700d6ec8</td>\n",
       "      <td>0</td>\n",
       "      <td>0</td>\n",
       "      <td>/sircharleswatson</td>\n",
       "      <td>sircharleswatson</td>\n",
       "      <td>1.0</td>\n",
       "      <td>&lt;span data-link-type=\"mention\" data-screen-nam...</td>\n",
       "      <td>54a480b89597baaa7dceceb2</td>\n",
       "      <td>[]</td>\n",
       "      <td>[{'userIds': [], 'userId': '54a47e0cdb8155e670...</td>\n",
       "      <td>22</td>\n",
       "      <td>2014-12-31 23:03:20.182000+00:00</td>\n",
       "      <td>@janetwalters008 It is. but it works. some peo...</td>\n",
       "      <td>False</td>\n",
       "      <td>[]</td>\n",
       "      <td>1</td>\n",
       "    </tr>\n",
       "    <tr>\n",
       "      <th>4</th>\n",
       "      <td>4</td>\n",
       "      <td>https://avatars0.githubusercontent.com/u/42194...</td>\n",
       "      <td>https://avatars0.githubusercontent.com/u/42194...</td>\n",
       "      <td>Paul Gilliam</td>\n",
       "      <td>0</td>\n",
       "      <td>54a44bbbdb8155e6700e47de</td>\n",
       "      <td>0</td>\n",
       "      <td>0</td>\n",
       "      <td>/phgilliam</td>\n",
       "      <td>phgilliam</td>\n",
       "      <td>1.0</td>\n",
       "      <td>They guy that came up with the idea is kind of...</td>\n",
       "      <td>54a480ca9597baaa7dceceb5</td>\n",
       "      <td>[]</td>\n",
       "      <td>[]</td>\n",
       "      <td>22</td>\n",
       "      <td>2014-12-31 23:03:38.388000+00:00</td>\n",
       "      <td>They guy that came up with the idea is kind of...</td>\n",
       "      <td>False</td>\n",
       "      <td>[]</td>\n",
       "      <td>1</td>\n",
       "    </tr>\n",
       "  </tbody>\n",
       "</table>\n",
       "</div>"
      ],
      "text/plain": [
       "   Unnamed: 0                           fromUser.avatarUrlMedium  \\\n",
       "0           0  https://avatars2.githubusercontent.com/u/21996...   \n",
       "3           3  https://avatars2.githubusercontent.com/u/21996...   \n",
       "4           4  https://avatars0.githubusercontent.com/u/42194...   \n",
       "\n",
       "                             fromUser.avatarUrlSmall fromUser.displayName  \\\n",
       "0  https://avatars2.githubusercontent.com/u/21996...       Charles Watson   \n",
       "3  https://avatars2.githubusercontent.com/u/21996...       Charles Watson   \n",
       "4  https://avatars0.githubusercontent.com/u/42194...         Paul Gilliam   \n",
       "\n",
       "   fromUser.gv               fromUser.id  fromUser.removed  fromUser.staff  \\\n",
       "0            0  546fd99cdb8155e6700d6ec8                 0               0   \n",
       "3            0  546fd99cdb8155e6700d6ec8                 0               0   \n",
       "4            0  54a44bbbdb8155e6700e47de                 0               0   \n",
       "\n",
       "        fromUser.url fromUser.username  fromUser.v  \\\n",
       "0  /sircharleswatson  sircharleswatson         1.0   \n",
       "3  /sircharleswatson  sircharleswatson         1.0   \n",
       "4         /phgilliam         phgilliam         1.0   \n",
       "\n",
       "                                                html  \\\n",
       "0                                  no legumes either   \n",
       "3  <span data-link-type=\"mention\" data-screen-nam...   \n",
       "4  They guy that came up with the idea is kind of...   \n",
       "\n",
       "                         id issues  \\\n",
       "0  54a4804fb2b2de4b786502bf     []   \n",
       "3  54a480b89597baaa7dceceb2     []   \n",
       "4  54a480ca9597baaa7dceceb5     []   \n",
       "\n",
       "                                            mentions  readBy  \\\n",
       "0                                                 []      22   \n",
       "3  [{'userIds': [], 'userId': '54a47e0cdb8155e670...      22   \n",
       "4                                                 []      22   \n",
       "\n",
       "                              sent  \\\n",
       "0 2014-12-31 23:01:35.647000+00:00   \n",
       "3 2014-12-31 23:03:20.182000+00:00   \n",
       "4 2014-12-31 23:03:38.388000+00:00   \n",
       "\n",
       "                                                text  unread urls  v  \n",
       "0                                  no legumes either   False   []  1  \n",
       "3  @janetwalters008 It is. but it works. some peo...   False   []  1  \n",
       "4  They guy that came up with the idea is kind of...   False   []  1  "
      ]
     },
     "execution_count": 88,
     "metadata": {},
     "output_type": "execute_result"
    }
   ],
   "source": [
    "#Qucik overview on all columns\n",
    "clean_freecodecamp_casual.head(3)"
   ]
  },
  {
   "cell_type": "markdown",
   "id": "02d8133a",
   "metadata": {},
   "source": [
    "This column contain similar information:\n",
    "- `fromUser.displayName` & `fromUser.url` & `fromUser.username`: these three columns refer to the user's name\n",
    "- `fromUser.avatarUrlMedium` & `fromUser.avatarUrlSmall`: these 2 columns show the user's photo in different sizes. After testing some links, they don't refer to anything and may not be part of our analysis in this format.\n",
    "- `index` & `Unnamed: 0`: These 2 columns refer to the line number\n",
    "- `html` & `text`: these 2 columns refer to texts/discussions among members\n",
    "\n",
    "In conclusion, we will:\n",
    "- Delete 2 columns referring for the username\n",
    "- Delete the 2 columns referring for the image\n",
    "- Delete one column referring to the index\n",
    "- Delete one text column"
   ]
  },
  {
   "cell_type": "code",
   "execution_count": 89,
   "id": "42502c4d",
   "metadata": {},
   "outputs": [
    {
     "data": {
      "text/plain": [
       "57e81930e7e28b6c76192c34    4\n",
       "57e8193100df3cc42245c087    4\n",
       "57e8193100df3cc42245c08c    4\n",
       "57e8193100df3cc42245c086    4\n",
       "58bce0b600c00c3d4fc5580a    3\n",
       "                           ..\n",
       "572bb716d6d0f60219f0f80d    1\n",
       "572bb7130149d6bb04b92118    1\n",
       "572bb705d6d0f60219f0f808    1\n",
       "572bb7010149d6bb04b92115    1\n",
       "5a2bc83f87680e6230ee1c05    1\n",
       "Name: id, Length: 4944749, dtype: int64"
      ]
     },
     "execution_count": 89,
     "metadata": {},
     "output_type": "execute_result"
    }
   ],
   "source": [
    "#Quick overview show that this number are\n",
    "clean_freecodecamp_casual['id'].value_counts()"
   ]
  },
  {
   "cell_type": "code",
   "execution_count": 90,
   "id": "583e937a",
   "metadata": {},
   "outputs": [
    {
     "data": {
      "text/plain": [
       "4813874"
      ]
     },
     "execution_count": 90,
     "metadata": {},
     "output_type": "execute_result"
    }
   ],
   "source": [
    "clean_freecodecamp_casual['fromUser.id'].duplicated().sum()"
   ]
  },
  {
   "cell_type": "code",
   "execution_count": 91,
   "id": "1cc4c8bd",
   "metadata": {},
   "outputs": [],
   "source": [
    "#Deleting \n",
    "clean_freecodecamp_casual = clean_freecodecamp_casual.drop(columns=['fromUser.avatarUrlMedium', \n",
    "                                                                    'fromUser.avatarUrlSmall',\n",
    "                                                                   'fromUser.displayName', 'fromUser.url',\n",
    "                                                                   'Unnamed: 0', 'html'])"
   ]
  },
  {
   "cell_type": "code",
   "execution_count": 92,
   "id": "0b522ba7",
   "metadata": {
    "scrolled": false
   },
   "outputs": [
    {
     "data": {
      "text/html": [
       "<div>\n",
       "<style scoped>\n",
       "    .dataframe tbody tr th:only-of-type {\n",
       "        vertical-align: middle;\n",
       "    }\n",
       "\n",
       "    .dataframe tbody tr th {\n",
       "        vertical-align: top;\n",
       "    }\n",
       "\n",
       "    .dataframe thead th {\n",
       "        text-align: right;\n",
       "    }\n",
       "</style>\n",
       "<table border=\"1\" class=\"dataframe\">\n",
       "  <thead>\n",
       "    <tr style=\"text-align: right;\">\n",
       "      <th></th>\n",
       "      <th>fromUser.gv</th>\n",
       "      <th>fromUser.id</th>\n",
       "      <th>fromUser.removed</th>\n",
       "      <th>fromUser.staff</th>\n",
       "      <th>fromUser.username</th>\n",
       "      <th>fromUser.v</th>\n",
       "      <th>id</th>\n",
       "      <th>issues</th>\n",
       "      <th>mentions</th>\n",
       "      <th>readBy</th>\n",
       "      <th>sent</th>\n",
       "      <th>text</th>\n",
       "      <th>unread</th>\n",
       "      <th>urls</th>\n",
       "      <th>v</th>\n",
       "    </tr>\n",
       "  </thead>\n",
       "  <tbody>\n",
       "    <tr>\n",
       "      <th>0</th>\n",
       "      <td>0</td>\n",
       "      <td>546fd99cdb8155e6700d6ec8</td>\n",
       "      <td>0</td>\n",
       "      <td>0</td>\n",
       "      <td>sircharleswatson</td>\n",
       "      <td>1.0</td>\n",
       "      <td>54a4804fb2b2de4b786502bf</td>\n",
       "      <td>[]</td>\n",
       "      <td>[]</td>\n",
       "      <td>22</td>\n",
       "      <td>2014-12-31 23:01:35.647000+00:00</td>\n",
       "      <td>no legumes either</td>\n",
       "      <td>False</td>\n",
       "      <td>[]</td>\n",
       "      <td>1</td>\n",
       "    </tr>\n",
       "    <tr>\n",
       "      <th>3</th>\n",
       "      <td>0</td>\n",
       "      <td>546fd99cdb8155e6700d6ec8</td>\n",
       "      <td>0</td>\n",
       "      <td>0</td>\n",
       "      <td>sircharleswatson</td>\n",
       "      <td>1.0</td>\n",
       "      <td>54a480b89597baaa7dceceb2</td>\n",
       "      <td>[]</td>\n",
       "      <td>[{'userIds': [], 'userId': '54a47e0cdb8155e670...</td>\n",
       "      <td>22</td>\n",
       "      <td>2014-12-31 23:03:20.182000+00:00</td>\n",
       "      <td>@janetwalters008 It is. but it works. some peo...</td>\n",
       "      <td>False</td>\n",
       "      <td>[]</td>\n",
       "      <td>1</td>\n",
       "    </tr>\n",
       "    <tr>\n",
       "      <th>4</th>\n",
       "      <td>0</td>\n",
       "      <td>54a44bbbdb8155e6700e47de</td>\n",
       "      <td>0</td>\n",
       "      <td>0</td>\n",
       "      <td>phgilliam</td>\n",
       "      <td>1.0</td>\n",
       "      <td>54a480ca9597baaa7dceceb5</td>\n",
       "      <td>[]</td>\n",
       "      <td>[]</td>\n",
       "      <td>22</td>\n",
       "      <td>2014-12-31 23:03:38.388000+00:00</td>\n",
       "      <td>They guy that came up with the idea is kind of...</td>\n",
       "      <td>False</td>\n",
       "      <td>[]</td>\n",
       "      <td>1</td>\n",
       "    </tr>\n",
       "  </tbody>\n",
       "</table>\n",
       "</div>"
      ],
      "text/plain": [
       "   fromUser.gv               fromUser.id  fromUser.removed  fromUser.staff  \\\n",
       "0            0  546fd99cdb8155e6700d6ec8                 0               0   \n",
       "3            0  546fd99cdb8155e6700d6ec8                 0               0   \n",
       "4            0  54a44bbbdb8155e6700e47de                 0               0   \n",
       "\n",
       "  fromUser.username  fromUser.v                        id issues  \\\n",
       "0  sircharleswatson         1.0  54a4804fb2b2de4b786502bf     []   \n",
       "3  sircharleswatson         1.0  54a480b89597baaa7dceceb2     []   \n",
       "4         phgilliam         1.0  54a480ca9597baaa7dceceb5     []   \n",
       "\n",
       "                                            mentions  readBy  \\\n",
       "0                                                 []      22   \n",
       "3  [{'userIds': [], 'userId': '54a47e0cdb8155e670...      22   \n",
       "4                                                 []      22   \n",
       "\n",
       "                              sent  \\\n",
       "0 2014-12-31 23:01:35.647000+00:00   \n",
       "3 2014-12-31 23:03:20.182000+00:00   \n",
       "4 2014-12-31 23:03:38.388000+00:00   \n",
       "\n",
       "                                                text  unread urls  v  \n",
       "0                                  no legumes either   False   []  1  \n",
       "3  @janetwalters008 It is. but it works. some peo...   False   []  1  \n",
       "4  They guy that came up with the idea is kind of...   False   []  1  "
      ]
     },
     "execution_count": 92,
     "metadata": {},
     "output_type": "execute_result"
    }
   ],
   "source": [
    "clean_freecodecamp_casual.head(3)"
   ]
  },
  {
   "cell_type": "markdown",
   "id": "5909a378",
   "metadata": {},
   "source": [
    "**Note: Look into that for my model: LDA and Latent Dirichlet Allocation**"
   ]
  },
  {
   "cell_type": "markdown",
   "id": "5e22aaaf",
   "metadata": {},
   "source": [
    "### Deal columns which doesn't have a big value\n",
    "\n",
    "In this case we think about the id column, we can delete them because they will not help in the analysis.\n",
    "\n"
   ]
  },
  {
   "cell_type": "code",
   "execution_count": 93,
   "id": "955391d7",
   "metadata": {},
   "outputs": [],
   "source": [
    "#Delteing id columns\n",
    "clean_freecodecamp_casual = clean_freecodecamp_casual.drop(columns=['id', 'fromUser.id' ])"
   ]
  },
  {
   "cell_type": "code",
   "execution_count": 94,
   "id": "b98f0bc5",
   "metadata": {},
   "outputs": [
    {
     "data": {
      "text/html": [
       "<div>\n",
       "<style scoped>\n",
       "    .dataframe tbody tr th:only-of-type {\n",
       "        vertical-align: middle;\n",
       "    }\n",
       "\n",
       "    .dataframe tbody tr th {\n",
       "        vertical-align: top;\n",
       "    }\n",
       "\n",
       "    .dataframe thead th {\n",
       "        text-align: right;\n",
       "    }\n",
       "</style>\n",
       "<table border=\"1\" class=\"dataframe\">\n",
       "  <thead>\n",
       "    <tr style=\"text-align: right;\">\n",
       "      <th></th>\n",
       "      <th>fromUser.gv</th>\n",
       "      <th>fromUser.removed</th>\n",
       "      <th>fromUser.staff</th>\n",
       "      <th>fromUser.username</th>\n",
       "      <th>fromUser.v</th>\n",
       "      <th>issues</th>\n",
       "      <th>mentions</th>\n",
       "      <th>readBy</th>\n",
       "      <th>sent</th>\n",
       "      <th>text</th>\n",
       "      <th>unread</th>\n",
       "      <th>urls</th>\n",
       "      <th>v</th>\n",
       "    </tr>\n",
       "  </thead>\n",
       "  <tbody>\n",
       "    <tr>\n",
       "      <th>0</th>\n",
       "      <td>0</td>\n",
       "      <td>0</td>\n",
       "      <td>0</td>\n",
       "      <td>sircharleswatson</td>\n",
       "      <td>1.0</td>\n",
       "      <td>[]</td>\n",
       "      <td>[]</td>\n",
       "      <td>22</td>\n",
       "      <td>2014-12-31 23:01:35.647000+00:00</td>\n",
       "      <td>no legumes either</td>\n",
       "      <td>False</td>\n",
       "      <td>[]</td>\n",
       "      <td>1</td>\n",
       "    </tr>\n",
       "    <tr>\n",
       "      <th>3</th>\n",
       "      <td>0</td>\n",
       "      <td>0</td>\n",
       "      <td>0</td>\n",
       "      <td>sircharleswatson</td>\n",
       "      <td>1.0</td>\n",
       "      <td>[]</td>\n",
       "      <td>[{'userIds': [], 'userId': '54a47e0cdb8155e670...</td>\n",
       "      <td>22</td>\n",
       "      <td>2014-12-31 23:03:20.182000+00:00</td>\n",
       "      <td>@janetwalters008 It is. but it works. some peo...</td>\n",
       "      <td>False</td>\n",
       "      <td>[]</td>\n",
       "      <td>1</td>\n",
       "    </tr>\n",
       "    <tr>\n",
       "      <th>4</th>\n",
       "      <td>0</td>\n",
       "      <td>0</td>\n",
       "      <td>0</td>\n",
       "      <td>phgilliam</td>\n",
       "      <td>1.0</td>\n",
       "      <td>[]</td>\n",
       "      <td>[]</td>\n",
       "      <td>22</td>\n",
       "      <td>2014-12-31 23:03:38.388000+00:00</td>\n",
       "      <td>They guy that came up with the idea is kind of...</td>\n",
       "      <td>False</td>\n",
       "      <td>[]</td>\n",
       "      <td>1</td>\n",
       "    </tr>\n",
       "  </tbody>\n",
       "</table>\n",
       "</div>"
      ],
      "text/plain": [
       "   fromUser.gv  fromUser.removed  fromUser.staff fromUser.username  \\\n",
       "0            0                 0               0  sircharleswatson   \n",
       "3            0                 0               0  sircharleswatson   \n",
       "4            0                 0               0         phgilliam   \n",
       "\n",
       "   fromUser.v issues                                           mentions  \\\n",
       "0         1.0     []                                                 []   \n",
       "3         1.0     []  [{'userIds': [], 'userId': '54a47e0cdb8155e670...   \n",
       "4         1.0     []                                                 []   \n",
       "\n",
       "   readBy                             sent  \\\n",
       "0      22 2014-12-31 23:01:35.647000+00:00   \n",
       "3      22 2014-12-31 23:03:20.182000+00:00   \n",
       "4      22 2014-12-31 23:03:38.388000+00:00   \n",
       "\n",
       "                                                text  unread urls  v  \n",
       "0                                  no legumes either   False   []  1  \n",
       "3  @janetwalters008 It is. but it works. some peo...   False   []  1  \n",
       "4  They guy that came up with the idea is kind of...   False   []  1  "
      ]
     },
     "execution_count": 94,
     "metadata": {},
     "output_type": "execute_result"
    }
   ],
   "source": [
    "clean_freecodecamp_casual.head(3)"
   ]
  },
  {
   "cell_type": "markdown",
   "id": "42346610",
   "metadata": {},
   "source": [
    " ------\n",
    "\n",
    "Now I have a cleaned dataset, I'm going to save it in a new file as it's ready for preprocessing & analysis.\n",
    "\n",
    "### Save the dataset"
   ]
  },
  {
   "cell_type": "code",
   "execution_count": 95,
   "id": "cda12f41",
   "metadata": {},
   "outputs": [],
   "source": [
    "#Save the main dataset\n",
    "clean_freecodecamp_casual.to_csv('clean_freecodecamp_casual.csv', index=False)"
   ]
  },
  {
   "cell_type": "markdown",
   "id": "bd856fab",
   "metadata": {},
   "source": [
    "-----\n",
    "\n",
    "# Conclusion\n",
    "\n",
    "In conclusion, having carried out the initial introduction and cleaning of our dataset, we found that the numerical data generally present an inequitable distribution, with dominant categories and less frequent categories. This observation underlines the need to take these imbalances into account in our subsequent analyses.\n",
    "\n",
    "On the other hand, we have sufficient textual data to continue our analysis based on natural language processing (NLP). Since we haven't identified a clear target column, we're going to turn to unsupervised learning to explore the structures and patterns inherent in conversations.\n",
    "\n",
    "However, we have encountered difficulties in understanding the meaning of some column names, despite our online research. We therefore recommend that those responsible for collecting these data choose more explicit column names to facilitate understanding and interpretation of the dataset, as well as its distribution.\n",
    "\n",
    "In summary, we have observed an inequitable distribution of numerical data, but we have a sufficient quantity of textual data for our NLP analysis. We will opt for unsupervised learning given the lack of a clear target column. We also recommend clarifying the column names for a better understanding of the dataset and its distribution.\n",
    "\n",
    "------\n",
    "\n",
    "# Next Step\n",
    "- ### Preprocessing the data"
   ]
  },
  {
   "cell_type": "markdown",
   "id": "f42a8ef2",
   "metadata": {},
   "source": []
  },
  {
   "cell_type": "code",
   "execution_count": null,
   "id": "1e6cef7a",
   "metadata": {},
   "outputs": [],
   "source": [
    "clean_freecodecamp_casual['editedAt'].plot(grid=True)\n",
    "plt.xlabel('Magnitude')\n",
    "plt.ylabel('Date')\n",
    "plt.title('Daily Trend for editedAt column')\n",
    "plt.show()"
   ]
  },
  {
   "cell_type": "code",
   "execution_count": null,
   "id": "65dbc7a4",
   "metadata": {},
   "outputs": [],
   "source": [
    "####count word\n",
    "from sklearn.feature_extraction.text import CountVectorizer\n",
    "\n",
    "# cd['html'] = clean_freecodecamp_casual['html'].copy()\n",
    "\n",
    "cdi = pd.DataFrame({\"text\": clean_freecodecamp_casual['text'].copy(), \"fromUser.gv\": clean_freecodecamp_casual['fromUser.gv'].copy(),})\n",
    "\n",
    "\n",
    "cdi = cdi.dropna()\n",
    "\n",
    "cdi.isna().sum()"
   ]
  },
  {
   "cell_type": "code",
   "execution_count": null,
   "id": "351b34b0",
   "metadata": {},
   "outputs": [],
   "source": [
    "cdi['fromUser.gv'] = np.where(cdi['fromUser.gv'] == 3.0, 0, 1)"
   ]
  },
  {
   "cell_type": "code",
   "execution_count": null,
   "id": "f1d0c634",
   "metadata": {
    "scrolled": true
   },
   "outputs": [],
   "source": [
    "# cdi['tet'] = cdi['text'].str.split(' ')\n",
    "cdi.head()"
   ]
  },
  {
   "cell_type": "code",
   "execution_count": null,
   "id": "9656d3fd",
   "metadata": {},
   "outputs": [],
   "source": [
    "X = cdi['text']\n",
    "y = cdi['fromUser.gv']"
   ]
  },
  {
   "cell_type": "code",
   "execution_count": null,
   "id": "bb2fe9c1",
   "metadata": {},
   "outputs": [],
   "source": [
    "cdi['fromUser.gv'].value_counts()#.plot(kind='bar', figsize=(15, 5), legend=False)\n",
    "# plt.show()"
   ]
  },
  {
   "cell_type": "code",
   "execution_count": null,
   "id": "c4e27721",
   "metadata": {},
   "outputs": [],
   "source": [
    "# splitting our data into train and test sets\n",
    "from sklearn.model_selection import train_test_split\n",
    "\n",
    "X_train, X_test, y_train, y_test = train_test_split(X, y, test_size=0.99, random_state=42)"
   ]
  },
  {
   "cell_type": "code",
   "execution_count": null,
   "id": "ceffb539",
   "metadata": {},
   "outputs": [],
   "source": [
    "X_train.shape"
   ]
  },
  {
   "cell_type": "code",
   "execution_count": null,
   "id": "a96d6fd9",
   "metadata": {},
   "outputs": [],
   "source": [
    "from sklearn.feature_extraction.text import CountVectorizer\n",
    "\n",
    "# 1. Instantiate \n",
    "bagofwords = CountVectorizer(stop_words=\"english\")\n",
    "\n",
    "# 2. Fit \n",
    "bagofwords.fit(X_train)\n",
    "\n",
    "# 3. Transform\n",
    "small_transformed = bagofwords.transform(X_train)\n",
    "small_transformed"
   ]
  },
  {
   "cell_type": "code",
   "execution_count": null,
   "id": "a00df73f",
   "metadata": {},
   "outputs": [],
   "source": [
    "# how much memory does our sparse matrix take up?\n",
    "(small_transformed.data.nbytes + small_transformed.indptr.nbytes + small_transformed.indices.nbytes)*8/1024/1024"
   ]
  },
  {
   "cell_type": "code",
   "execution_count": null,
   "id": "b639c8b9",
   "metadata": {},
   "outputs": [],
   "source": [
    "len(bagofwords.get_feature_names())"
   ]
  },
  {
   "cell_type": "code",
   "execution_count": null,
   "id": "6f58576e",
   "metadata": {},
   "outputs": [],
   "source": [
    "small_transformed.toarray().sum(axis=0)"
   ]
  },
  {
   "cell_type": "code",
   "execution_count": null,
   "id": "87b26a2c",
   "metadata": {},
   "outputs": [],
   "source": [
    "word_counts = pd.DataFrame(\n",
    "    {\"counts\": small_transformed.toarray().sum(axis=0)},\n",
    "    index=bagofwords.get_feature_names()\n",
    ").sort_values(\"counts\", ascending=False)\n",
    "\n",
    "word_counts.head(25).plot(kind=\"bar\", figsize=(15, 5), legend=False)\n",
    "plt.title(\"Top 20 most frequently occurring words\")\n",
    "plt.ylabel(\"Count\")\n",
    "plt.xticks(rotation=45)\n",
    "plt.show()"
   ]
  },
  {
   "cell_type": "code",
   "execution_count": null,
   "id": "7fb716cd",
   "metadata": {},
   "outputs": [],
   "source": [
    "small_transformed_test = bagofwords.transform(X_test)"
   ]
  },
  {
   "cell_type": "code",
   "execution_count": null,
   "id": "99eda1e8",
   "metadata": {},
   "outputs": [],
   "source": [
    "# Fitting a model\n",
    "logreg = LogisticRegression(C = 0.1)\n",
    "logreg.fit(small_transformed, y_train)\n",
    "\n",
    "# Training and test score\n",
    "print(f\"Train score: {logreg.score(small_transformed, y_train)}\")\n",
    "print(f\"Test score: {logreg.score(small_transformed_test, y_test)}\")"
   ]
  },
  {
   "cell_type": "markdown",
   "id": "c5b58ee3",
   "metadata": {},
   "source": [
    "<div id=\"container\" style=\"position:relative;\">\n",
    "<div style=\"position:relative; float:right\"><img style=\"height:25px\"\"width: 50px\" src =\"https://drive.google.com/uc?export=view&id=14VoXUJftgptWtdNhtNYVm6cjVmEWpki1\" />\n",
    "</div>\n",
    "</div>"
   ]
  }
 ],
 "metadata": {
  "kernelspec": {
   "display_name": "Python 3 (ipykernel)",
   "language": "python",
   "name": "python3"
  },
  "language_info": {
   "codemirror_mode": {
    "name": "ipython",
    "version": 3
   },
   "file_extension": ".py",
   "mimetype": "text/x-python",
   "name": "python",
   "nbconvert_exporter": "python",
   "pygments_lexer": "ipython3",
   "version": "3.9.13"
  }
 },
 "nbformat": 4,
 "nbformat_minor": 5
}
